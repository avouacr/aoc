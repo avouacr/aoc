{
 "cells": [
  {
   "cell_type": "code",
   "execution_count": 193,
   "metadata": {},
   "outputs": [],
   "source": [
    "import itertools\n",
    "\n",
    "import numpy as np \n",
    "\n",
    "from scipy.optimize import fsolve, leastsq\n",
    "from z3 import Solver, Real\n",
    "\n",
    "from solution import *"
   ]
  },
  {
   "cell_type": "code",
   "execution_count": 182,
   "metadata": {},
   "outputs": [],
   "source": [
    "hailstones = parse_input('puzzle.txt')"
   ]
  },
  {
   "cell_type": "code",
   "execution_count": 194,
   "metadata": {},
   "outputs": [],
   "source": [
    "def solve_system(hailstones):\n",
    "    s = Solver()\n",
    "\n",
    "    x = [Real(f'x_{i}') for i in range(6)]\n",
    "    n = [Real(f'n_{i}') for i in range(len(hailstones))]\n",
    "\n",
    "    for i, (position, velocity) in enumerate(hailstones):\n",
    "        s.add(x[0] + n[i] * x[3] == position[0] + n[i] * velocity[0])\n",
    "        s.add(x[1] + n[i] * x[4] == position[1] + n[i] * velocity[1])\n",
    "        s.add(x[2] + n[i] * x[5] == position[2] + n[i] * velocity[2])\n",
    "\n",
    "    s.check()\n",
    "    results = [int(s.model().eval(var).as_decimal(10)) for var in x + n]\n",
    "    return sum(results[:3])"
   ]
  },
  {
   "cell_type": "code",
   "execution_count": null,
   "metadata": {},
   "outputs": [],
   "source": []
  }
 ],
 "metadata": {
  "kernelspec": {
   "display_name": "base",
   "language": "python",
   "name": "python3"
  },
  "language_info": {
   "codemirror_mode": {
    "name": "ipython",
    "version": 3
   },
   "file_extension": ".py",
   "mimetype": "text/x-python",
   "name": "python",
   "nbconvert_exporter": "python",
   "pygments_lexer": "ipython3",
   "version": "3.10.13"
  }
 },
 "nbformat": 4,
 "nbformat_minor": 2
}
