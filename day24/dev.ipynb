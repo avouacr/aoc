{
 "cells": [
  {
   "cell_type": "code",
   "execution_count": 1,
   "metadata": {},
   "outputs": [],
   "source": [
    "import itertools"
   ]
  },
  {
   "cell_type": "code",
   "execution_count": 2,
   "metadata": {},
   "outputs": [],
   "source": [
    "def parse_input(file):\n",
    "\n",
    "    with open(file) as file_in:\n",
    "        data = file_in.read().splitlines()\n",
    "\n",
    "    data_parsed = []\n",
    "    for row in data:\n",
    "        position, velocity = row.split(' @ ')\n",
    "        position = [int(pos) for pos in position.split(', ')]\n",
    "        velocity = [int(vel) for vel in velocity.split(', ')]\n",
    "        data_parsed.append((tuple(position), tuple(velocity)))\n",
    "\n",
    "    return data_parsed"
   ]
  },
  {
   "cell_type": "code",
   "execution_count": 3,
   "metadata": {},
   "outputs": [],
   "source": [
    "def compute_equation_line(hailstone):\n",
    "    p1, (dx, dy, dz) = hailstone\n",
    "    p2 = (p1[0] + dx, p1[1] + dy, p1[1] + dz)\n",
    "    slope = (p2[1] - p1[1]) / (p2[0] - p1[0]) if p2[0] - p1[0] != 0 else float('inf')\n",
    "    intercept = p1[1] - slope * p1[0]\n",
    "    return slope, intercept"
   ]
  },
  {
   "cell_type": "code",
   "execution_count": 4,
   "metadata": {},
   "outputs": [],
   "source": [
    "def find_intersection(line1, line2):\n",
    "    m1, c1 = line1\n",
    "    m2, c2 = line2\n",
    "\n",
    "    # Check if lines are parallel\n",
    "    if m1 == m2:\n",
    "        return None\n",
    "\n",
    "    # Calculate intersection point\n",
    "    x = (c2 - c1) / (m1 - m2)\n",
    "    y = m1 * x + c1\n",
    "    return (x, y)"
   ]
  },
  {
   "cell_type": "code",
   "execution_count": 18,
   "metadata": {},
   "outputs": [],
   "source": [
    "def is_forward(point, hailstone):\n",
    "    x, y = point\n",
    "    hail, velocity = hailstone\n",
    "    x_is_forward = x > hail[0] if velocity[0] > 0 else x < hail[0]\n",
    "    y_is_forward = y > hail[1] if velocity[1] > 0 else y < hail[1]\n",
    "    return x_is_forward and y_is_forward"
   ]
  },
  {
   "cell_type": "code",
   "execution_count": 5,
   "metadata": {},
   "outputs": [],
   "source": [
    "def is_inside_test_area(intersection, min_test, max_test):\n",
    "    x_inside = min_test <= intersection[0] <= max_test\n",
    "    y_inside = min_test <= intersection[1] <= max_test\n",
    "    return x_inside and y_inside"
   ]
  },
  {
   "cell_type": "code",
   "execution_count": 25,
   "metadata": {},
   "outputs": [],
   "source": [
    "def count_valid_crossings(hailstones, test_area):\n",
    "    min_test_area, max_test_area = test_area\n",
    "\n",
    "    n_valid_crossings = 0\n",
    "    for hail1, hail2 in itertools.combinations(hailstones, 2):\n",
    "        line1, line2 = compute_equation_line(hail1), compute_equation_line(hail2)\n",
    "        intersection = find_intersection(line1, line2)\n",
    "        if intersection is not None:\n",
    "            is_forward_crossing = is_forward(intersection, hail1) and is_forward(intersection, hail2)\n",
    "            is_inside_test = is_inside_test_area(intersection, min_test_area, max_test_area)\n",
    "            if is_forward_crossing and is_inside_test:\n",
    "                n_valid_crossings += 1\n",
    "\n",
    "    return n_valid_crossings"
   ]
  },
  {
   "cell_type": "code",
   "execution_count": 26,
   "metadata": {},
   "outputs": [],
   "source": [
    "def main1(file, test_area):\n",
    "    hailstones = parse_input(file)\n",
    "    return count_valid_crossings(hailstones, test_area)"
   ]
  },
  {
   "cell_type": "code",
   "execution_count": 27,
   "metadata": {},
   "outputs": [],
   "source": [
    "assert main1('calibration.txt', (7, 27)) == 2"
   ]
  },
  {
   "cell_type": "code",
   "execution_count": 28,
   "metadata": {},
   "outputs": [
    {
     "data": {
      "text/plain": [
       "15558"
      ]
     },
     "execution_count": 28,
     "metadata": {},
     "output_type": "execute_result"
    }
   ],
   "source": [
    "main1('puzzle.txt', (200000000000000, 400000000000000))"
   ]
  },
  {
   "cell_type": "code",
   "execution_count": null,
   "metadata": {},
   "outputs": [],
   "source": []
  }
 ],
 "metadata": {
  "kernelspec": {
   "display_name": "base",
   "language": "python",
   "name": "python3"
  },
  "language_info": {
   "codemirror_mode": {
    "name": "ipython",
    "version": 3
   },
   "file_extension": ".py",
   "mimetype": "text/x-python",
   "name": "python",
   "nbconvert_exporter": "python",
   "pygments_lexer": "ipython3",
   "version": "3.10.13"
  }
 },
 "nbformat": 4,
 "nbformat_minor": 2
}
