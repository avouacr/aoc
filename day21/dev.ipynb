{
 "cells": [
  {
   "cell_type": "code",
   "execution_count": 3,
   "metadata": {},
   "outputs": [],
   "source": [
    "import numpy as np\n",
    "\n",
    "from solution import *"
   ]
  },
  {
   "cell_type": "code",
   "execution_count": 4,
   "metadata": {},
   "outputs": [],
   "source": [
    "file = 'calibration.txt'\n",
    "grid, start, pos_hash = parse_grid(file)"
   ]
  },
  {
   "cell_type": "code",
   "execution_count": 6,
   "metadata": {},
   "outputs": [
    {
     "data": {
      "text/plain": [
       "81"
      ]
     },
     "execution_count": 6,
     "metadata": {},
     "output_type": "execute_result"
    }
   ],
   "source": [
    "def count_reachable_positions(grid, start, pos_hash, n_steps):\n",
    "    n_rows, n_cols = grid.shape\n",
    "    dp = np.zeros((n_rows, n_cols, n_steps + 1), dtype=int)\n",
    "    dp[start[0], start[1], 0] = 1\n",
    "\n",
    "    for step in range(1, n_steps + 1):\n",
    "        for x in range(n_rows):\n",
    "            for y in range(n_cols):\n",
    "                if (x % n_rows, y % n_cols) not in pos_hash:\n",
    "                    # Wrap around if the move goes outside the tile\n",
    "                    dp[x, y, step] = (\n",
    "                        int(dp[(x - 1) % n_rows, y, step - 1] > 0) or\n",
    "                        int(dp[(x + 1) % n_rows, y, step - 1] > 0) or\n",
    "                        int(dp[x, (y - 1) % n_cols, step - 1] > 0) or\n",
    "                        int(dp[x, (y + 1) % n_cols, step - 1] > 0)\n",
    "                    )\n",
    "\n",
    "    n_reachable = np.sum(dp[:, :, n_steps] > 0)\n",
    "    return n_reachable\n",
    "\n",
    "# Example Usage\n",
    "count_reachable_positions(grid, start, pos_hash, n_steps=50)\n"
   ]
  },
  {
   "cell_type": "code",
   "execution_count": null,
   "metadata": {},
   "outputs": [],
   "source": []
  }
 ],
 "metadata": {
  "kernelspec": {
   "display_name": "base",
   "language": "python",
   "name": "python3"
  },
  "language_info": {
   "codemirror_mode": {
    "name": "ipython",
    "version": 3
   },
   "file_extension": ".py",
   "mimetype": "text/x-python",
   "name": "python",
   "nbconvert_exporter": "python",
   "pygments_lexer": "ipython3",
   "version": "3.10.13"
  }
 },
 "nbformat": 4,
 "nbformat_minor": 2
}
