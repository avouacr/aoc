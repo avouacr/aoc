{
 "cells": [
  {
   "cell_type": "code",
   "execution_count": 61,
   "metadata": {},
   "outputs": [],
   "source": [
    "from collections import deque\n",
    "\n",
    "import numpy as np"
   ]
  },
  {
   "cell_type": "code",
   "execution_count": 62,
   "metadata": {},
   "outputs": [],
   "source": [
    "def parse_grid(file):\n",
    "    with open(file, 'r') as file_in:\n",
    "        lines = [line.strip() for line in file_in.readlines()]\n",
    "        grid = np.array([list(line) for line in lines])\n",
    "\n",
    "    # Get starting position\n",
    "    x_start, y_start = np.where(grid == 'S')\n",
    "    x_start, y_start = x_start[0], y_start[0]\n",
    "\n",
    "    # Get hash positions\n",
    "    pos_hash = np.where(grid == '#')\n",
    "    pos_hash = set([(x, y) for x, y in zip(pos_hash[0], pos_hash[1])])\n",
    "\n",
    "    return grid, (x_start, y_start), pos_hash"
   ]
  },
  {
   "cell_type": "code",
   "execution_count": 63,
   "metadata": {},
   "outputs": [],
   "source": [
    "def get_possible_next(current, grid, pos_hash):\n",
    "    n_rows, n_cols = grid.shape\n",
    "    (x, y), n_steps = current\n",
    "    next_n_steps = n_steps + 1\n",
    "    possible_next = []\n",
    "    if x > 0:\n",
    "        possible_next.append(((x - 1, y), next_n_steps))\n",
    "    if y > 0:\n",
    "        possible_next.append(((x, y - 1), next_n_steps))\n",
    "    if x < n_rows - 1:\n",
    "        possible_next.append(((x + 1, y), next_n_steps))\n",
    "    if y < n_cols - 1:\n",
    "        possible_next.append(((x, y + 1), next_n_steps))\n",
    "    possible_next = [pos for pos in possible_next if pos[0] not in pos_hash]\n",
    "    return possible_next"
   ]
  },
  {
   "cell_type": "code",
   "execution_count": 64,
   "metadata": {},
   "outputs": [],
   "source": [
    "def bfs(grid, start, n_steps):\n",
    "   start = (start, 0)\n",
    "   frontier = deque([start])\n",
    "   reached = set()\n",
    "   reached.add(start)\n",
    "\n",
    "   while frontier:\n",
    "      current = frontier.popleft()\n",
    "      if current[1] >= n_steps:\n",
    "         continue\n",
    "      for next in get_possible_next(current, grid, pos_hash):\n",
    "         if next[0] not in reached:\n",
    "            frontier.append(next)\n",
    "            reached.add(next)\n",
    "\n",
    "   n_reachable = len([node for node in reached if node[1] == n_steps])\n",
    "   return n_reachable"
   ]
  },
  {
   "cell_type": "code",
   "execution_count": 68,
   "metadata": {},
   "outputs": [],
   "source": [
    "def count_reachable_positions(grid, start, pos_hash, n_steps):\n",
    "    n_rows, n_cols = grid.shape\n",
    "    dp = np.zeros((n_rows, n_cols, n_steps + 1), dtype=int)\n",
    "    dp[start[0], start[1], 0] = 1\n",
    "\n",
    "    for step in range(1, n_steps + 1):\n",
    "        for x in range(n_rows):\n",
    "            for y in range(n_cols):\n",
    "                if (x, y) not in pos_hash:\n",
    "                    dp[x, y, step] = (\n",
    "                        int(dp[x - 1, y, step - 1] > 0 if x > 0 else 0) or\n",
    "                        int(dp[x + 1, y, step - 1] > 0 if x < n_rows - 1 else 0) or\n",
    "                        int(dp[x, y - 1, step - 1] > 0 if y > 0 else 0) or\n",
    "                        int(dp[x, y + 1, step - 1] > 0 if y < n_cols - 1 else 0)\n",
    "                    )\n",
    "\n",
    "    n_reachable = np.sum(dp[:, :, n_steps] > 0)\n",
    "    return n_reachable"
   ]
  },
  {
   "cell_type": "code",
   "execution_count": 74,
   "metadata": {},
   "outputs": [
    {
     "data": {
      "text/plain": [
       "3642"
      ]
     },
     "execution_count": 74,
     "metadata": {},
     "output_type": "execute_result"
    }
   ],
   "source": [
    "file = 'puzzle.txt'\n",
    "grid, start, pos_hash = parse_grid(file)\n",
    "count_reachable_positions(grid, start, pos_hash, n_steps=64)"
   ]
  },
  {
   "cell_type": "code",
   "execution_count": null,
   "metadata": {},
   "outputs": [],
   "source": []
  }
 ],
 "metadata": {
  "kernelspec": {
   "display_name": "base",
   "language": "python",
   "name": "python3"
  },
  "language_info": {
   "codemirror_mode": {
    "name": "ipython",
    "version": 3
   },
   "file_extension": ".py",
   "mimetype": "text/x-python",
   "name": "python",
   "nbconvert_exporter": "python",
   "pygments_lexer": "ipython3",
   "version": "3.10.13"
  }
 },
 "nbformat": 4,
 "nbformat_minor": 2
}
