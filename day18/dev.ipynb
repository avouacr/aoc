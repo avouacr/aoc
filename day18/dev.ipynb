{
 "cells": [
  {
   "cell_type": "code",
   "execution_count": 1,
   "metadata": {},
   "outputs": [],
   "source": [
    "def parse_hexa(hexa_input):\n",
    "    digit_to_dir = {'0': 'R', '1': 'D', '2': 'L', '3': 'U'}\n",
    "    direction = digit_to_dir[hexa_input[-1]]\n",
    "    n_steps = int(hexa_input[1:-1], 16)\n",
    "    return direction, n_steps\n",
    "\n",
    "\n",
    "def parse_input(file, part):\n",
    "    with open(file, 'r') as file_in:\n",
    "        steps = file_in.read().splitlines()\n",
    "\n",
    "    steps = [row.split(' ') for row in steps]\n",
    "    if part == 1:\n",
    "        steps = [(direction, int(n_steps)) for direction, n_steps, __ in steps]\n",
    "    elif part == 2:\n",
    "        steps = [hexa.replace('(', '').replace(')', '') for __, __, hexa in steps]\n",
    "        steps = [parse_hexa(hexa) for hexa in steps]\n",
    "\n",
    "    return steps"
   ]
  },
  {
   "cell_type": "code",
   "execution_count": 2,
   "metadata": {},
   "outputs": [],
   "source": [
    "def build_dig(steps):\n",
    "    \n",
    "    dir_to_array = {\n",
    "    'U': (-1, 0),\n",
    "    'D': (1, 0),\n",
    "    'R': (0, 1),\n",
    "    'L': (0, -1)\n",
    "    }    \n",
    "\n",
    "    dig = set()\n",
    "    x, y = 0, 0\n",
    "\n",
    "    for direction, n_steps in steps:\n",
    "        for n in range(n_steps):\n",
    "            x += dir_to_array[direction][0]\n",
    "            y += dir_to_array[direction][1]\n",
    "            dig.add((x, y))\n",
    "\n",
    "    # Start on (0, 0)\n",
    "    min_x = min(coords[0] for coords in dig)\n",
    "    min_y = min(coords[1] for coords in dig)\n",
    "    dig = set([(x - min_x, y - min_y) for x, y in dig])\n",
    "\n",
    "    return dig"
   ]
  },
  {
   "cell_type": "code",
   "execution_count": 3,
   "metadata": {},
   "outputs": [],
   "source": [
    "def if_corner_get_direction(x, y, dig):\n",
    "    direction = ''\n",
    "    if (x-1, y) in dig:\n",
    "        direction = 'U'\n",
    "    elif (x+1, y) in dig:\n",
    "        direction = 'D'\n",
    "    \n",
    "    if ((x, y-1) in dig or (x, y+1) in dig) and direction:\n",
    "        return True, direction\n",
    "    return False, ''"
   ]
  },
  {
   "cell_type": "code",
   "execution_count": 16,
   "metadata": {},
   "outputs": [],
   "source": [
    "def count_lava(dig):\n",
    "\n",
    "    n_rows = max(coords[0] for coords in dig) + 1\n",
    "    n_cols = max(coords[1] for coords in dig) + 1\n",
    "\n",
    "    lava = 0\n",
    "    fill = set()\n",
    "    for x in range(n_rows):\n",
    "        inside = False\n",
    "        n_successive_dig = 0\n",
    "        n_corners_seen = 0\n",
    "        last_corner_direction = ''\n",
    "        for y in range(n_cols):\n",
    "            if (x, y) in dig:\n",
    "                lava += 1\n",
    "                n_successive_dig += 1\n",
    "\n",
    "                is_corner, corner_direction = if_corner_get_direction(x, y, dig)\n",
    "                if is_corner:\n",
    "                    # Case of corners\n",
    "                    if n_corners_seen == 0:\n",
    "                        # First corner, do nothing\n",
    "                        last_corner_direction = corner_direction\n",
    "                        n_corners_seen += 1\n",
    "                    elif n_corners_seen == 1:\n",
    "                        # Second corner : if different direction than last one, switch `inside`\n",
    "                        if last_corner_direction != corner_direction:\n",
    "                            inside = not inside\n",
    "                        n_corners_seen = 0\n",
    "                else:\n",
    "                    # Normal border : get in or get out\n",
    "                    if n_successive_dig == 1:\n",
    "                        inside = not inside\n",
    "\n",
    "            else:\n",
    "                if inside:\n",
    "                    fill.add((x, y))\n",
    "                    lava += 1\n",
    "                n_successive_dig = 0\n",
    "\n",
    "    return lava"
   ]
  },
  {
   "cell_type": "code",
   "execution_count": 17,
   "metadata": {},
   "outputs": [],
   "source": [
    "def main(file, part):\n",
    "    steps = parse_input(file, part)\n",
    "    dig = build_dig(steps)\n",
    "    return count_lava(dig)"
   ]
  },
  {
   "cell_type": "code",
   "execution_count": 18,
   "metadata": {},
   "outputs": [],
   "source": [
    "assert main('calibration.txt', part=1) == 62"
   ]
  },
  {
   "cell_type": "code",
   "execution_count": 19,
   "metadata": {},
   "outputs": [
    {
     "data": {
      "text/plain": [
       "40131"
      ]
     },
     "execution_count": 19,
     "metadata": {},
     "output_type": "execute_result"
    }
   ],
   "source": [
    "main('puzzle.txt', part=1)"
   ]
  },
  {
   "cell_type": "code",
   "execution_count": null,
   "metadata": {},
   "outputs": [],
   "source": []
  },
  {
   "cell_type": "code",
   "execution_count": null,
   "metadata": {},
   "outputs": [],
   "source": []
  },
  {
   "cell_type": "code",
   "execution_count": null,
   "metadata": {},
   "outputs": [],
   "source": []
  },
  {
   "cell_type": "code",
   "execution_count": null,
   "metadata": {},
   "outputs": [],
   "source": []
  },
  {
   "cell_type": "code",
   "execution_count": null,
   "metadata": {},
   "outputs": [],
   "source": []
  },
  {
   "cell_type": "code",
   "execution_count": null,
   "metadata": {},
   "outputs": [],
   "source": []
  },
  {
   "cell_type": "code",
   "execution_count": 111,
   "metadata": {},
   "outputs": [],
   "source": [
    "steps = parse_input('puzzle.txt')\n",
    "dig = build_dig(steps)\n",
    "n_rows = max(coords[0] for coords in dig) + 1\n",
    "n_cols = max(coords[1] for coords in dig) + 1\n",
    "\n",
    "grid = np.full((n_rows, n_cols), fill_value='.')\n",
    "for x, y in dig:\n",
    "    grid[x, y] = '#'\n",
    "\n",
    "np.savetxt('test.txt', grid, fmt=\"%s\")"
   ]
  },
  {
   "cell_type": "code",
   "execution_count": null,
   "metadata": {},
   "outputs": [],
   "source": [
    "def debug(file):\n",
    "    steps = parse_input(file)\n",
    "    dig = build_dig(steps)\n",
    "\n",
    "    n_rows = max(coords[0] for coords in dig) + 1\n",
    "    n_cols = max(coords[1] for coords in dig) + 1\n",
    "\n",
    "    lava = 0\n",
    "    fill = set()\n",
    "    for x in range(n_rows):\n",
    "        inside = False\n",
    "        n_successive_dig = 0\n",
    "        n_corners_seen = 0\n",
    "        last_corner_direction = ''\n",
    "        for y in range(n_cols):\n",
    "            if (x, y) in dig:\n",
    "                lava += 1\n",
    "                n_successive_dig += 1\n",
    "\n",
    "                # Case of corners\n",
    "                is_corner, corner_direction = if_corner_get_direction(x, y, dig)\n",
    "                if is_corner:\n",
    "                    if n_corners_seen == 0:\n",
    "                        last_corner_direction = corner_direction\n",
    "                        n_corners_seen += 1\n",
    "                    elif n_corners_seen == 1:\n",
    "                        if last_corner_direction != corner_direction:\n",
    "                            inside = not inside\n",
    "                        n_corners_seen = 0\n",
    "                else:\n",
    "                    # Normal border : get in or get out\n",
    "                    if n_successive_dig == 1:\n",
    "                        inside = not inside\n",
    "\n",
    "            else:\n",
    "                if inside:\n",
    "                    fill.add((x, y))\n",
    "                    lava += 1\n",
    "                n_successive_dig = 0\n",
    "\n",
    "    grid = np.full((n_rows, n_cols), fill_value='.')\n",
    "    for x, y in dig:\n",
    "        grid[x, y] = '#'\n",
    "    for x, y in fill:\n",
    "        grid[x, y] = 'O'\n",
    "\n",
    "    np.savetxt('test.txt', grid, fmt=\"%s\")\n",
    "\n",
    "debug('puzzle.txt')"
   ]
  }
 ],
 "metadata": {
  "kernelspec": {
   "display_name": "base",
   "language": "python",
   "name": "python3"
  },
  "language_info": {
   "codemirror_mode": {
    "name": "ipython",
    "version": 3
   },
   "file_extension": ".py",
   "mimetype": "text/x-python",
   "name": "python",
   "nbconvert_exporter": "python",
   "pygments_lexer": "ipython3",
   "version": "3.10.13"
  }
 },
 "nbformat": 4,
 "nbformat_minor": 2
}
