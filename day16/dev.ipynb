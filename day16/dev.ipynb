{
 "cells": [
  {
   "cell_type": "code",
   "execution_count": 32,
   "metadata": {},
   "outputs": [],
   "source": [
    "from functools import cache\n",
    "\n",
    "import numpy as np"
   ]
  },
  {
   "cell_type": "code",
   "execution_count": 20,
   "metadata": {},
   "outputs": [],
   "source": [
    "def parse_input(file):\n",
    "\n",
    "    with open(file, 'r') as file_in:\n",
    "        rows = file_in.read().splitlines()\n",
    "\n",
    "    grid = np.array([list(row) for row in rows])\n",
    "    return grid"
   ]
  },
  {
   "cell_type": "code",
   "execution_count": 21,
   "metadata": {},
   "outputs": [],
   "source": [
    "def get_row(grid, x_start, y_start, direction):\n",
    "\n",
    "    n_rows, n_cols = grid.shape\n",
    "\n",
    "    if direction == 'E':\n",
    "        row = grid[x_start, (y_start+1):]\n",
    "    elif direction == 'W':\n",
    "        row = grid[x_start, ::-1][(n_cols - y_start):]\n",
    "    elif direction == 'S':\n",
    "        row = grid[:, y_start][(x_start+1):]\n",
    "    elif direction == 'N':\n",
    "        row = grid[:, y_start][::-1][(n_rows - x_start):]\n",
    "\n",
    "    return row"
   ]
  },
  {
   "cell_type": "code",
   "execution_count": 22,
   "metadata": {},
   "outputs": [],
   "source": [
    "def get_mirror_mapping():\n",
    "    mapping = {\n",
    "        '/': {'E': 'N', 'W': 'S', 'S': 'W', 'N': 'E'},\n",
    "        '\\\\': {'E': 'S', 'W': 'N', 'S': 'E', 'N': 'W'}\n",
    "    }\n",
    "    return mapping"
   ]
  },
  {
   "cell_type": "code",
   "execution_count": 66,
   "metadata": {},
   "outputs": [],
   "source": [
    "@cache\n",
    "def process_row(row, x_start, y_start, direction):\n",
    "    to_process = []\n",
    "    energized = []\n",
    "\n",
    "    if len(row) > 0:\n",
    "        i = 0\n",
    "        while i < len(row):\n",
    "\n",
    "            if direction == 'E':\n",
    "                pos_i = (x_start, y_start + i + 1)\n",
    "            elif direction == 'W':\n",
    "                pos_i = (x_start, y_start - i - 1)\n",
    "            elif direction == 'S':\n",
    "                pos_i = (x_start + i + 1, y_start)\n",
    "            elif direction == 'N':\n",
    "                pos_i = (x_start - i - 1, y_start)\n",
    "\n",
    "            energized.append(pos_i)\n",
    "\n",
    "            if len(row) == 1 and row[0] == '.':\n",
    "                break\n",
    "\n",
    "            if row[i] == '|' and direction in ['E', 'W']:\n",
    "                to_process.extend([(pos_i, 'N'), (pos_i, 'S')])\n",
    "                break\n",
    "            elif row[i] == '-' and direction in ['S', 'N']:\n",
    "                to_process.extend([(pos_i, 'E'), (pos_i, 'W')])\n",
    "                break\n",
    "            elif row[i] in ['/', '\\\\']:\n",
    "                where_to = get_mirror_mapping()[row[i]][direction]\n",
    "                to_process.extend([(pos_i, where_to)])\n",
    "                break\n",
    "            i += 1\n",
    "\n",
    "    return to_process, energized"
   ]
  },
  {
   "cell_type": "code",
   "execution_count": 67,
   "metadata": {},
   "outputs": [],
   "source": [
    "def propagate(grid, start_task):\n",
    "    tasks_done = set()\n",
    "    queue = [start_task]\n",
    "    store_energized = set()\n",
    "\n",
    "    while queue:\n",
    "        (x_start, y_start), direction = queue[0]\n",
    "        row = get_row(grid, x_start, y_start, direction)\n",
    "        new_tasks, energized = process_row(tuple(row), x_start, y_start, direction)\n",
    "        store_energized.update(energized)\n",
    "        queue.extend([task for task in new_tasks if task not in tasks_done])\n",
    "        tasks_done.add(queue.pop(0))\n",
    "\n",
    "    return store_energized"
   ]
  },
  {
   "cell_type": "code",
   "execution_count": 68,
   "metadata": {},
   "outputs": [],
   "source": [
    "def plot_energy(grid, coords_energized):\n",
    "    grid_to_plot = np.full(grid.shape, '.')\n",
    "    for x, y in coords_energized:\n",
    "        grid_to_plot[x, y] = '#'\n",
    "    return grid_to_plot"
   ]
  },
  {
   "cell_type": "code",
   "execution_count": 69,
   "metadata": {},
   "outputs": [],
   "source": [
    "def main1(file):\n",
    "    grid = parse_input(file)\n",
    "    tiles_energized = propagate(grid, start_task=((0, -1), 'E'))\n",
    "    return len(tiles_energized)"
   ]
  },
  {
   "cell_type": "code",
   "execution_count": 70,
   "metadata": {},
   "outputs": [],
   "source": [
    "def get_possible_starts(grid):\n",
    "    n_rows, n_cols = grid.shape\n",
    "\n",
    "    north_face = [((-1, i), 'S') for i in range(n_cols)]\n",
    "    south_face = [((n_rows, i), 'N') for i in range(n_cols)]\n",
    "    west_face = [((i, -1), 'E') for i in range(n_rows)]\n",
    "    east_face = [((i, n_cols), 'W') for i in range(n_rows)]\n",
    "    possible_starts = north_face + south_face + west_face + east_face\n",
    "\n",
    "    return possible_starts"
   ]
  },
  {
   "cell_type": "code",
   "execution_count": 71,
   "metadata": {},
   "outputs": [],
   "source": [
    "def main2(file):\n",
    "    grid = parse_input(file)\n",
    "\n",
    "    max_energy = 0\n",
    "    for start in get_possible_starts(grid):\n",
    "        n_energized = len(propagate(grid, start))\n",
    "        max_energy = max(max_energy, n_energized)\n",
    "\n",
    "    return max_energy"
   ]
  },
  {
   "cell_type": "code",
   "execution_count": 72,
   "metadata": {},
   "outputs": [],
   "source": [
    "assert main1('calibration.txt') == 46"
   ]
  },
  {
   "cell_type": "code",
   "execution_count": 73,
   "metadata": {},
   "outputs": [
    {
     "data": {
      "text/plain": [
       "8901"
      ]
     },
     "execution_count": 73,
     "metadata": {},
     "output_type": "execute_result"
    }
   ],
   "source": [
    "main1('puzzle.txt')"
   ]
  },
  {
   "cell_type": "code",
   "execution_count": 74,
   "metadata": {},
   "outputs": [],
   "source": [
    "assert main2('calibration.txt') == 51"
   ]
  },
  {
   "cell_type": "code",
   "execution_count": 75,
   "metadata": {},
   "outputs": [
    {
     "data": {
      "text/plain": [
       "9064"
      ]
     },
     "execution_count": 75,
     "metadata": {},
     "output_type": "execute_result"
    }
   ],
   "source": [
    "main2('puzzle.txt')"
   ]
  },
  {
   "cell_type": "code",
   "execution_count": null,
   "metadata": {},
   "outputs": [],
   "source": []
  }
 ],
 "metadata": {
  "kernelspec": {
   "display_name": "base",
   "language": "python",
   "name": "python3"
  },
  "language_info": {
   "codemirror_mode": {
    "name": "ipython",
    "version": 3
   },
   "file_extension": ".py",
   "mimetype": "text/x-python",
   "name": "python",
   "nbconvert_exporter": "python",
   "pygments_lexer": "ipython3",
   "version": "3.10.13"
  }
 },
 "nbformat": 4,
 "nbformat_minor": 2
}
