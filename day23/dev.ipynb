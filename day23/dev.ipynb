{
 "cells": [
  {
   "cell_type": "code",
   "execution_count": 11,
   "metadata": {},
   "outputs": [],
   "source": [
    "from collections import deque\n",
    "\n",
    "import numpy as np\n",
    "import networkx as nx"
   ]
  },
  {
   "cell_type": "code",
   "execution_count": 12,
   "metadata": {},
   "outputs": [],
   "source": [
    "def parse_grid(file, part):\n",
    "    with open(file, 'r') as file_in:\n",
    "        lines = [line.strip() for line in file_in.readlines()]\n",
    "        grid_array = np.array([list(line) for line in lines])\n",
    "\n",
    "    if part == 2:\n",
    "        grid_array[np.isin(grid_array, ['<', '>', 'v', '^'])] = '.'\n",
    "\n",
    "    return grid_array"
   ]
  },
  {
   "cell_type": "code",
   "execution_count": 13,
   "metadata": {},
   "outputs": [],
   "source": [
    "def is_valid_neighbour(candidate, visited, grid):\n",
    "    x, y = candidate\n",
    "    not_forest = (grid[x, y] != '#')\n",
    "    not_visited = candidate not in visited\n",
    "    return not_forest and not_visited"
   ]
  },
  {
   "cell_type": "code",
   "execution_count": 14,
   "metadata": {},
   "outputs": [],
   "source": [
    "def get_candidates(current, grid, directions, visited):\n",
    "    n_rows, n_cols = grid.shape\n",
    "    x, y = current\n",
    "    candidates = []\n",
    "    if grid[x, y] == '.':\n",
    "        if x > 0:\n",
    "            candidates.append((x + directions['U'][0], y + directions['U'][1]))  # Going up\n",
    "        if x < n_rows - 1:\n",
    "            candidates.append((x + directions['D'][0], y + directions['D'][1]))  # Going down\n",
    "        if y > 0:\n",
    "            candidates.append((x + directions['L'][0], y + directions['L'][1]))  # Going left\n",
    "        if y < n_cols - 1:\n",
    "            candidates.append((x + directions['R'][0], y + directions['R'][1]))  # Going right\n",
    "\n",
    "    candidates = [cand for cand in candidates if is_valid_neighbour(cand, visited, grid)]\n",
    "    return candidates"
   ]
  },
  {
   "cell_type": "code",
   "execution_count": 19,
   "metadata": {},
   "outputs": [],
   "source": [
    "def get_longest_path(grid):\n",
    "\n",
    "    directions = {'U': (-1, 0), 'D': (1, 0), 'L': (0, -1), 'R': (0, 1)}\n",
    "    n_rows, n_cols = grid.shape\n",
    "\n",
    "    valid_paths = []\n",
    "    start = ((0, 1), set())\n",
    "    queue = deque([start])\n",
    "    while queue:\n",
    "        current, visited = queue.popleft()\n",
    "        if current == (n_rows - 1, n_cols - 2):\n",
    "            valid_paths.append(visited)\n",
    "        this_node_visited = visited.copy()\n",
    "        this_node_visited.add(current)\n",
    "        candidates = get_candidates(current, grid, directions, this_node_visited)\n",
    "        for can in candidates:\n",
    "            queue.append((can, this_node_visited))\n",
    "\n",
    "    return max([len(path) for path in valid_paths])"
   ]
  },
  {
   "cell_type": "code",
   "execution_count": 20,
   "metadata": {},
   "outputs": [],
   "source": [
    "def main(file, part):\n",
    "    grid = parse_grid(file, part)\n",
    "    return get_longest_path(grid)"
   ]
  },
  {
   "cell_type": "code",
   "execution_count": 23,
   "metadata": {},
   "outputs": [
    {
     "data": {
      "text/plain": [
       "154"
      ]
     },
     "execution_count": 23,
     "metadata": {},
     "output_type": "execute_result"
    }
   ],
   "source": [
    "main('calibration.txt', part=2)"
   ]
  },
  {
   "cell_type": "code",
   "execution_count": null,
   "metadata": {},
   "outputs": [],
   "source": []
  }
 ],
 "metadata": {
  "kernelspec": {
   "display_name": "base",
   "language": "python",
   "name": "python3"
  },
  "language_info": {
   "codemirror_mode": {
    "name": "ipython",
    "version": 3
   },
   "file_extension": ".py",
   "mimetype": "text/x-python",
   "name": "python",
   "nbconvert_exporter": "python",
   "pygments_lexer": "ipython3",
   "version": "3.10.13"
  }
 },
 "nbformat": 4,
 "nbformat_minor": 2
}
