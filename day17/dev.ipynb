{
 "cells": [
  {
   "cell_type": "code",
   "execution_count": 65,
   "metadata": {},
   "outputs": [],
   "source": [
    "import itertools\n",
    "from heapq import heappush, heappop\n",
    "import json\n",
    "\n",
    "import numpy as np"
   ]
  },
  {
   "cell_type": "code",
   "execution_count": 66,
   "metadata": {},
   "outputs": [],
   "source": [
    "def parse_input(file):\n",
    "\n",
    "    with open(file, 'r') as file_in:\n",
    "        rows = file_in.read().splitlines()\n",
    "\n",
    "    rows = [[int(x) for x in r] for r in rows]\n",
    "\n",
    "    return np.array(rows)"
   ]
  },
  {
   "cell_type": "code",
   "execution_count": 67,
   "metadata": {},
   "outputs": [],
   "source": [
    "def get_neighbours(grid, n):\n",
    "    x, y, from_dir, n_last_turn = n\n",
    "    n_rows, n_cols = grid.shape\n",
    "    neighbours = []\n",
    "\n",
    "    if n == (0, 0, None, None):\n",
    "        neighbours.extend([(0, 1, 'W', 1), (1, 0, 'N', 1)])\n",
    "\n",
    "    # When coming from North, can't move North\n",
    "    if from_dir == 'N':\n",
    "        if y > 0:  # Move West\n",
    "            neighbours.append((x, y - 1, 'E', 1))\n",
    "        if y < n_cols - 1:  # Move East\n",
    "            neighbours.append((x, y + 1, 'W', 1))\n",
    "        if (x < n_rows - 1) and (n_last_turn < 3):  # Move South\n",
    "            neighbours.append((x + 1, y, 'N', n_last_turn+1))\n",
    "\n",
    "    # When coming from West, can't move West\n",
    "    elif from_dir == 'W':\n",
    "        if x > 0:  # Move North\n",
    "            neighbours.append((x - 1, y, 'S', 1))\n",
    "        if x < n_rows - 1:  # Move South\n",
    "            neighbours.append((x + 1, y, 'N', 1))\n",
    "        if (y < n_cols - 1) and (n_last_turn < 3):  # Move East\n",
    "            neighbours.append((x, y + 1, 'W', n_last_turn+1))\n",
    "\n",
    "    # When coming from South, can't move South\n",
    "    elif from_dir == 'S':\n",
    "        if y > 0:  # Move West\n",
    "            neighbours.append((x, y - 1, 'E', 1))\n",
    "        if y < n_cols - 1:  # Move East\n",
    "            neighbours.append((x, y + 1, 'W', 1))\n",
    "        if x > 0 and (n_last_turn < 3):  # Move North\n",
    "            neighbours.append((x - 1, y, 'S', n_last_turn+1))\n",
    "\n",
    "    # When coming from East, can't move East\n",
    "    elif from_dir == 'E':\n",
    "        if x > 0:  # Move North\n",
    "            neighbours.append((x - 1, y, 'S', 1))\n",
    "        if x < n_rows - 1:  # Move South\n",
    "            neighbours.append((x + 1, y, 'N', 1))\n",
    "        if y > 0 and (n_last_turn < 3):  # Move West\n",
    "            neighbours.append((x, y - 1, 'E', n_last_turn+1))\n",
    "\n",
    "    return neighbours"
   ]
  },
  {
   "cell_type": "code",
   "execution_count": 68,
   "metadata": {},
   "outputs": [],
   "source": [
    "def dijkstra(grid):\n",
    "    d = {}\n",
    "    s_deb = (0, 0, None, None)\n",
    "    d[s_deb] = 0\n",
    "    P = set()\n",
    "\n",
    "    previous = {}\n",
    "\n",
    "    while not all(key in P for key in d):\n",
    "        a = min({k: d[k] for k in d if k not in P}, key=d.get)\n",
    "        P.add(a)\n",
    "        for b in get_neighbours(grid, a):\n",
    "            if b not in d:\n",
    "                d[b] = float('inf')\n",
    "            w_a_b = grid[b[0], b[1]]\n",
    "            if d[b] > d[a] + w_a_b:\n",
    "                d[b] = d[a] + w_a_b\n",
    "                previous[b] = a\n",
    "\n",
    "    min_heat_loss = min([v for k, v in d.items() if (k[0] == grid.shape[0] - 1) and k[1] == grid.shape[1] - 1])\n",
    "\n",
    "    return min_heat_loss"
   ]
  },
  {
   "cell_type": "code",
   "execution_count": 84,
   "metadata": {},
   "outputs": [
    {
     "data": {
      "text/plain": [
       "970"
      ]
     },
     "execution_count": 84,
     "metadata": {},
     "output_type": "execute_result"
    }
   ],
   "source": [
    "file = 'puzzle.txt'\n",
    "grid = parse_input(file)\n",
    "\n",
    "priority_queue = []\n",
    "s_deb = (0, 0, None, None)\n",
    "heappush(priority_queue, (0, s_deb))\n",
    "\n",
    "cost_so_far = {}\n",
    "cost_so_far[s_deb] = 0\n",
    "\n",
    "came_from = {}\n",
    "came_from[s_deb] = None\n",
    "\n",
    "while priority_queue:\n",
    "    current_node = heappop(priority_queue)[1]\n",
    "    for next_node in get_neighbours(grid, current_node):\n",
    "        new_cost = cost_so_far[current_node] + grid[next_node[0], next_node[1]]\n",
    "        if next_node not in cost_so_far or new_cost < cost_so_far[next_node]:\n",
    "            cost_so_far[next_node] = new_cost\n",
    "            heappush(priority_queue, (new_cost, next_node))\n",
    "            came_from[next_node] = current_node\n",
    "\n",
    "min_heat_loss = min([v for k, v in cost_so_far.items() if (k[0] == grid.shape[0] - 1) and k[1] == grid.shape[1] - 1])\n",
    "min_heat_loss"
   ]
  },
  {
   "cell_type": "code",
   "execution_count": 70,
   "metadata": {},
   "outputs": [],
   "source": [
    "def get_path(grid, came_from, n_end):\n",
    "    path = []\n",
    "    previous = n_end\n",
    "    while previous != s_deb:\n",
    "        path.append(previous)\n",
    "        previous = came_from[previous]\n",
    "    path.append(s_deb)\n",
    "    path = list(reversed(path))\n",
    "    return path\n",
    "\n",
    "\n",
    "def dict_to_file(d, file):\n",
    "    d = {str(k): str(v) for k, v in d.items()}\n",
    "    with open('test.json', 'w') as file:\n",
    "        json.dump(d, file, ensure_ascii=False, indent=4)\n",
    "\n",
    "\n",
    "def plot_path(grid, path, file):\n",
    "    grid_plot = grid.astype(str)\n",
    "    for x, y, _, _ in path:\n",
    "        grid_plot[x, y] = \"#\"\n",
    "    np.savetxt(file, grid_plot, fmt=\"%s\")"
   ]
  },
  {
   "cell_type": "code",
   "execution_count": null,
   "metadata": {},
   "outputs": [],
   "source": []
  },
  {
   "cell_type": "code",
   "execution_count": null,
   "metadata": {},
   "outputs": [],
   "source": []
  }
 ],
 "metadata": {
  "kernelspec": {
   "display_name": "base",
   "language": "python",
   "name": "python3"
  },
  "language_info": {
   "codemirror_mode": {
    "name": "ipython",
    "version": 3
   },
   "file_extension": ".py",
   "mimetype": "text/x-python",
   "name": "python",
   "nbconvert_exporter": "python",
   "pygments_lexer": "ipython3",
   "version": "3.10.13"
  }
 },
 "nbformat": 4,
 "nbformat_minor": 2
}
