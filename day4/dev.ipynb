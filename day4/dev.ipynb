{
 "cells": [
  {
   "cell_type": "code",
   "execution_count": 66,
   "metadata": {},
   "outputs": [],
   "source": [
    "def compute_points(card):\n",
    "    # Splitting the data row into two parts\n",
    "    parts = card.split(' | ')\n",
    "\n",
    "    # Parsing the two lists of numbers\n",
    "    list1 = [int(num) for num in parts[0].split(' ') if num.isdigit()]\n",
    "    list2 = [int(num) for num in parts[1].split(' ') if num.isdigit()]\n",
    "\n",
    "    # Counting how many numbers from list2 are in list1\n",
    "    common = set(list1) & set(list2)\n",
    "    if len(common) == 1:\n",
    "        points = 1\n",
    "    elif len(common) > 1:\n",
    "        points = 2**(len(common)-1)\n",
    "    else:\n",
    "        points = 0\n",
    "\n",
    "    return points"
   ]
  },
  {
   "cell_type": "code",
   "execution_count": 67,
   "metadata": {},
   "outputs": [],
   "source": [
    "def main1(file):\n",
    "\n",
    "    with open(file, 'r') as file:\n",
    "        lines = file.read().splitlines()\n",
    "\n",
    "    sum_points = 0\n",
    "    for card in lines:\n",
    "        sum_points += compute_points(card)\n",
    "\n",
    "    return sum_points"
   ]
  },
  {
   "cell_type": "code",
   "execution_count": 68,
   "metadata": {},
   "outputs": [
    {
     "data": {
      "text/plain": [
       "13"
      ]
     },
     "execution_count": 68,
     "metadata": {},
     "output_type": "execute_result"
    }
   ],
   "source": [
    "main1(\"calibration1.txt\")"
   ]
  },
  {
   "cell_type": "code",
   "execution_count": 69,
   "metadata": {},
   "outputs": [
    {
     "data": {
      "text/plain": [
       "15268"
      ]
     },
     "execution_count": 69,
     "metadata": {},
     "output_type": "execute_result"
    }
   ],
   "source": [
    "main1(\"puzzle.txt\")"
   ]
  },
  {
   "cell_type": "code",
   "execution_count": null,
   "metadata": {},
   "outputs": [],
   "source": []
  }
 ],
 "metadata": {
  "kernelspec": {
   "display_name": "base",
   "language": "python",
   "name": "python3"
  },
  "language_info": {
   "codemirror_mode": {
    "name": "ipython",
    "version": 3
   },
   "file_extension": ".py",
   "mimetype": "text/x-python",
   "name": "python",
   "nbconvert_exporter": "python",
   "pygments_lexer": "ipython3",
   "version": "3.10.13"
  }
 },
 "nbformat": 4,
 "nbformat_minor": 2
}
