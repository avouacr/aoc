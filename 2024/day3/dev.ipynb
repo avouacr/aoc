{
 "cells": [
  {
   "cell_type": "code",
   "execution_count": 1,
   "metadata": {},
   "outputs": [],
   "source": [
    "import re"
   ]
  },
  {
   "cell_type": "code",
   "execution_count": 2,
   "metadata": {},
   "outputs": [],
   "source": [
    "def parse_input(file):\n",
    "    return open(file).read()"
   ]
  },
  {
   "cell_type": "code",
   "execution_count": 7,
   "metadata": {},
   "outputs": [],
   "source": [
    "def part1(file):\n",
    "    string = parse_input(file)\n",
    "    pattern = r\"mul\\((\\d{1,3}),(\\d{1,3})\\)\"\n",
    "    matches = re.findall(pattern, string)\n",
    "\n",
    "    total = 0\n",
    "    for n1, n2 in matches:\n",
    "        total += int(n1) * int(n2)\n",
    "\n",
    "    return total"
   ]
  },
  {
   "cell_type": "code",
   "execution_count": 12,
   "metadata": {},
   "outputs": [],
   "source": [
    "def part2(file):\n",
    "    string = parse_input(file)\n",
    "\n",
    "    # Find positions of valid do() and don't()\n",
    "    matches = {match.start(): True for match in re.finditer(r\"do\\(\\)\", string)}\n",
    "    matches.update({match.start(): False for match in re.finditer(r\"don't\\(\\)\", string)})\n",
    "    matches = dict(sorted(matches.items()))\n",
    "\n",
    "    # Compute coordinates that are after do()\n",
    "    admissible_pos = set()\n",
    "    keep = True\n",
    "    for pos in range(len(string)):\n",
    "        if pos in matches:\n",
    "            if matches[pos]:\n",
    "                keep = True\n",
    "            else:\n",
    "                keep = False\n",
    "        if keep:\n",
    "            admissible_pos.add(pos)\n",
    "\n",
    "    # Compute coordinates of valid mul()\n",
    "    pattern = r\"mul\\((\\d{1,3}),(\\d{1,3})\\)\"\n",
    "    matches = [(match.start(), (match.group(1), match.group(2))) for match in re.finditer(pattern, string)]\n",
    "\n",
    "    # Add to total if valid mul() is in a do() section\n",
    "    total = 0\n",
    "    for pos, (n1, n2) in matches:\n",
    "        if pos in admissible_pos:\n",
    "            total += int(n1) * int(n2)\n",
    "\n",
    "    return(total)"
   ]
  },
  {
   "cell_type": "code",
   "execution_count": 13,
   "metadata": {},
   "outputs": [
    {
     "data": {
      "text/plain": [
       "True"
      ]
     },
     "execution_count": 13,
     "metadata": {},
     "output_type": "execute_result"
    }
   ],
   "source": [
    "part1(\"example1.txt\") == 161"
   ]
  },
  {
   "cell_type": "code",
   "execution_count": 14,
   "metadata": {},
   "outputs": [
    {
     "data": {
      "text/plain": [
       "168539636"
      ]
     },
     "execution_count": 14,
     "metadata": {},
     "output_type": "execute_result"
    }
   ],
   "source": [
    "part1(\"input.txt\")"
   ]
  },
  {
   "cell_type": "code",
   "execution_count": 15,
   "metadata": {},
   "outputs": [
    {
     "data": {
      "text/plain": [
       "True"
      ]
     },
     "execution_count": 15,
     "metadata": {},
     "output_type": "execute_result"
    }
   ],
   "source": [
    "part2(\"example2.txt\") == 48"
   ]
  },
  {
   "cell_type": "code",
   "execution_count": 16,
   "metadata": {},
   "outputs": [
    {
     "data": {
      "text/plain": [
       "97529391"
      ]
     },
     "execution_count": 16,
     "metadata": {},
     "output_type": "execute_result"
    }
   ],
   "source": [
    "part2(\"input.txt\")"
   ]
  },
  {
   "cell_type": "code",
   "execution_count": null,
   "metadata": {},
   "outputs": [],
   "source": []
  }
 ],
 "metadata": {
  "kernelspec": {
   "display_name": "base",
   "language": "python",
   "name": "python3"
  },
  "language_info": {
   "codemirror_mode": {
    "name": "ipython",
    "version": 3
   },
   "file_extension": ".py",
   "mimetype": "text/x-python",
   "name": "python",
   "nbconvert_exporter": "python",
   "pygments_lexer": "ipython3",
   "version": "3.12.7"
  }
 },
 "nbformat": 4,
 "nbformat_minor": 2
}
