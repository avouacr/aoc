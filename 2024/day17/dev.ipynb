{
 "cells": [
  {
   "cell_type": "code",
   "execution_count": 75,
   "metadata": {},
   "outputs": [],
   "source": [
    "from tqdm import tqdm\n",
    "\n",
    "from numpy.random import randint"
   ]
  },
  {
   "cell_type": "code",
   "execution_count": 3,
   "metadata": {},
   "outputs": [],
   "source": [
    "def parse_input(file):\n",
    "    with open(file) as file_in:\n",
    "        input_str = file_in.read()\n",
    "\n",
    "    registers, program = input_str.split('\\n\\n')\n",
    "    registers = [rule.split(': ') for rule in registers.splitlines()]\n",
    "    registers = {id.split(' ')[1]: int(init_value) for id, init_value in registers}\n",
    "    program = program.split(': ')[1][:-1].split(',')\n",
    "    program = tuple([int(n) for n in program])\n",
    "\n",
    "    return program, registers"
   ]
  },
  {
   "cell_type": "code",
   "execution_count": 4,
   "metadata": {},
   "outputs": [],
   "source": [
    "def compute_combo_operand(operand, registers):\n",
    "    if 0 <= operand <= 3:\n",
    "        return operand\n",
    "    elif operand == 4:\n",
    "        return registers['A']\n",
    "    elif operand == 5:\n",
    "        return registers['B']\n",
    "    elif operand == 6:\n",
    "        return registers['C']\n",
    "    else:\n",
    "        raise ValueError(f'Operand {operand} is invalid')"
   ]
  },
  {
   "cell_type": "code",
   "execution_count": 5,
   "metadata": {},
   "outputs": [],
   "source": [
    "def run_program(program, registers):\n",
    "    ip = 0\n",
    "    output = []\n",
    "    while ip < len(program):\n",
    "        opcode, operand = program[ip], program[ip+1]\n",
    "        if opcode == 0:\n",
    "            # adv\n",
    "            registers['A'] = int(registers['A'] / 2**compute_combo_operand(operand, registers))\n",
    "        elif opcode == 1:\n",
    "            # bxl\n",
    "            registers['B'] = registers['B'] ^ operand\n",
    "        elif opcode == 2:\n",
    "            # bst\n",
    "            registers['B'] = compute_combo_operand(operand, registers) % 8\n",
    "        elif opcode == 3:\n",
    "            # jnz\n",
    "            if registers['A'] != 0:\n",
    "                ip = operand\n",
    "                continue\n",
    "        elif opcode == 4:\n",
    "            # bxc\n",
    "            registers['B'] = registers['B'] ^ registers['C']\n",
    "        elif opcode == 5:\n",
    "            # out\n",
    "            out = compute_combo_operand(operand, registers) % 8\n",
    "            output.append(out)\n",
    "        elif opcode == 6:\n",
    "            # bdv\n",
    "            registers['B'] = int(registers['A'] / 2**compute_combo_operand(operand, registers))\n",
    "        elif opcode == 7:\n",
    "            # bdv\n",
    "            registers['C'] = int(registers['A'] / 2**compute_combo_operand(operand, registers))\n",
    "        ip += 2\n",
    "\n",
    "        output_str = ','.join(map(str, output))\n",
    "\n",
    "    return output_str"
   ]
  },
  {
   "cell_type": "code",
   "execution_count": 6,
   "metadata": {},
   "outputs": [],
   "source": [
    "def main1(file):\n",
    "    program, registers = parse_input(file)\n",
    "    output = run_program(program, registers)\n",
    "    return output"
   ]
  },
  {
   "cell_type": "code",
   "execution_count": 7,
   "metadata": {},
   "outputs": [],
   "source": [
    "assert main1('example1.txt') == '4,6,3,5,6,3,5,2,1,0'"
   ]
  },
  {
   "cell_type": "code",
   "execution_count": 8,
   "metadata": {},
   "outputs": [
    {
     "data": {
      "text/plain": [
       "'6,0,6,3,0,2,3,1,6'"
      ]
     },
     "execution_count": 8,
     "metadata": {},
     "output_type": "execute_result"
    }
   ],
   "source": [
    "main1('input.txt')"
   ]
  },
  {
   "cell_type": "code",
   "execution_count": 9,
   "metadata": {},
   "outputs": [],
   "source": [
    "def main2(file):\n",
    "    program, registers = parse_input(file)\n",
    "    program_str = ','.join(map(str, program))\n",
    "    for i in range(int(1e9)):\n",
    "        registers_tmp = registers.copy()\n",
    "        registers_tmp['A'] = i\n",
    "        if run_program(program, registers_tmp) == program_str:\n",
    "            return i"
   ]
  },
  {
   "cell_type": "code",
   "execution_count": 10,
   "metadata": {},
   "outputs": [],
   "source": [
    "assert main2('example2.txt') == 117440"
   ]
  },
  {
   "cell_type": "code",
   "execution_count": 92,
   "metadata": {},
   "outputs": [
    {
     "name": "stdout",
     "output_type": "stream",
     "text": [
      "0,6,7,2,7,6,6,3,1,6,1,6,5,7,5,6,6\n",
      "3,1,2,1,1,6,6,1,2,7,7,4,6,6,3,0,7\n",
      "1,6,2,1,4,0,3,0,7,5,6,6,3,6,5,2,5\n",
      "6,6,4,5,6,5,5,5,3,6,1,5,1,6,2,0\n",
      "243673655133184 6,6,4,5,6,5,5,5,3,6,1,5,1,6,2,0\n",
      "1,3,6,1,7,2,6,7,2,7,4,5,2,7,5,1,6\n",
      "1,2,1,7,5,6,1,3,4,2,0,6,7,2,2,2,7\n",
      "2,5,2,1,2,5,5,3,7,0,6,6,7,1,6,5,5\n",
      "0,6,6,0,4,6,6,2,0,5,2,5,1,6,2,6\n",
      "124878724135661 0,6,6,0,4,6,6,2,0,5,2,5,1,6,2,6\n",
      "7,3,1,6,4,5,3,0,3,6,7,1,6,1,0,5\n",
      "101920204744485 7,3,1,6,4,5,3,0,3,6,7,1,6,1,0,5\n",
      "6,1,6,1,1,2,1,3,0,5,1,1,4,1,6,1,7\n"
     ]
    }
   ],
   "source": [
    "file = 'input.txt'\n",
    "program, registers = parse_input(file)\n",
    "\n",
    "inf = int(1e14)\n",
    "sup = int(1e15)\n",
    "\n",
    "samples = randint(inf, sup, 10)\n",
    "\n",
    "for na in samples:\n",
    "    res = run_program(program, registers={'A': na, \"B\": 0, 'C': 0})\n",
    "    print(res)\n",
    "    if len(res.split(',')) == 16:\n",
    "        print(na, res)"
   ]
  },
  {
   "cell_type": "code",
   "execution_count": 50,
   "metadata": {},
   "outputs": [],
   "source": [
    "def get_out(na):\n",
    "    return int(i / (2**((i % 8) ^ 3))) % 8"
   ]
  },
  {
   "cell_type": "code",
   "execution_count": null,
   "metadata": {},
   "outputs": [
    {
     "data": {
      "text/plain": [
       "array([3, 6, 5, 5, 3])"
      ]
     },
     "execution_count": 76,
     "metadata": {},
     "output_type": "execute_result"
    }
   ],
   "source": []
  },
  {
   "cell_type": "code",
   "execution_count": null,
   "metadata": {},
   "outputs": [],
   "source": []
  }
 ],
 "metadata": {
  "kernelspec": {
   "display_name": "base",
   "language": "python",
   "name": "python3"
  },
  "language_info": {
   "codemirror_mode": {
    "name": "ipython",
    "version": 3
   },
   "file_extension": ".py",
   "mimetype": "text/x-python",
   "name": "python",
   "nbconvert_exporter": "python",
   "pygments_lexer": "ipython3",
   "version": "3.12.7"
  }
 },
 "nbformat": 4,
 "nbformat_minor": 2
}
