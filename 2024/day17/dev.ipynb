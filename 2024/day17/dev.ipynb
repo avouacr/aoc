{
 "cells": [
  {
   "cell_type": "code",
   "execution_count": 91,
   "metadata": {},
   "outputs": [],
   "source": [
    "from tqdm import tqdm\n",
    "\n",
    "from random import randint"
   ]
  },
  {
   "cell_type": "code",
   "execution_count": 2,
   "metadata": {},
   "outputs": [],
   "source": [
    "def parse_input(file):\n",
    "    with open(file) as file_in:\n",
    "        input_str = file_in.read()\n",
    "\n",
    "    registers, program = input_str.split('\\n\\n')\n",
    "    registers = [rule.split(': ') for rule in registers.splitlines()]\n",
    "    registers = {id.split(' ')[1]: int(init_value) for id, init_value in registers}\n",
    "    program = program.split(': ')[1][:-1].split(',')\n",
    "    program = tuple([int(n) for n in program])\n",
    "\n",
    "    return program, registers"
   ]
  },
  {
   "cell_type": "code",
   "execution_count": 3,
   "metadata": {},
   "outputs": [],
   "source": [
    "def compute_combo_operand(operand, registers):\n",
    "    if 0 <= operand <= 3:\n",
    "        return operand\n",
    "    elif operand == 4:\n",
    "        return registers['A']\n",
    "    elif operand == 5:\n",
    "        return registers['B']\n",
    "    elif operand == 6:\n",
    "        return registers['C']\n",
    "    else:\n",
    "        raise ValueError(f'Operand {operand} is invalid')"
   ]
  },
  {
   "cell_type": "code",
   "execution_count": 4,
   "metadata": {},
   "outputs": [],
   "source": [
    "def run_program(program, registers):\n",
    "    ip = 0\n",
    "    output = []\n",
    "    while ip < len(program):\n",
    "        opcode, operand = program[ip], program[ip+1]\n",
    "        if opcode == 0:\n",
    "            # adv\n",
    "            registers['A'] = int(registers['A'] / 2**compute_combo_operand(operand, registers))\n",
    "        elif opcode == 1:\n",
    "            # bxl\n",
    "            registers['B'] = registers['B'] ^ operand\n",
    "        elif opcode == 2:\n",
    "            # bst\n",
    "            registers['B'] = compute_combo_operand(operand, registers) % 8\n",
    "        elif opcode == 3:\n",
    "            # jnz\n",
    "            if registers['A'] != 0:\n",
    "                ip = operand\n",
    "                continue\n",
    "        elif opcode == 4:\n",
    "            # bxc\n",
    "            registers['B'] = registers['B'] ^ registers['C']\n",
    "        elif opcode == 5:\n",
    "            # out\n",
    "            out = compute_combo_operand(operand, registers) % 8\n",
    "            output.append(out)\n",
    "        elif opcode == 6:\n",
    "            # bdv\n",
    "            registers['B'] = int(registers['A'] / 2**compute_combo_operand(operand, registers))\n",
    "        elif opcode == 7:\n",
    "            # bdv\n",
    "            registers['C'] = int(registers['A'] / 2**compute_combo_operand(operand, registers))\n",
    "        ip += 2\n",
    "\n",
    "        output_str = ','.join(map(str, output))\n",
    "\n",
    "    return output_str"
   ]
  },
  {
   "cell_type": "code",
   "execution_count": 5,
   "metadata": {},
   "outputs": [],
   "source": [
    "def main1(file):\n",
    "    program, registers = parse_input(file)\n",
    "    output = run_program(program, registers)\n",
    "    return output"
   ]
  },
  {
   "cell_type": "code",
   "execution_count": 6,
   "metadata": {},
   "outputs": [],
   "source": [
    "assert main1('example1.txt') == '4,6,3,5,6,3,5,2,1,0'"
   ]
  },
  {
   "cell_type": "code",
   "execution_count": 7,
   "metadata": {},
   "outputs": [
    {
     "data": {
      "text/plain": [
       "'6,0,6,3,0,2,3,1,6'"
      ]
     },
     "execution_count": 7,
     "metadata": {},
     "output_type": "execute_result"
    }
   ],
   "source": [
    "main1('input.txt')"
   ]
  },
  {
   "cell_type": "code",
   "execution_count": 8,
   "metadata": {},
   "outputs": [],
   "source": [
    "def main2(file):\n",
    "    program, registers = parse_input(file)\n",
    "    program_str = ','.join(map(str, program))\n",
    "    for i in range(int(1e9)):\n",
    "        registers_tmp = registers.copy()\n",
    "        registers_tmp['A'] = i\n",
    "        if run_program(program, registers_tmp) == program_str:\n",
    "            return i"
   ]
  },
  {
   "cell_type": "code",
   "execution_count": 84,
   "metadata": {},
   "outputs": [],
   "source": [
    "def reverse_engineer_na_exp2():\n",
    "    program, __ = parse_input('example2.txt')\n",
    "    program_rev = program[::-1]\n",
    "\n",
    "    n_steps = len(program)\n",
    "\n",
    "    sup = int(8**n_steps)\n",
    "    inf = int(8**(n_steps-1))\n",
    "\n",
    "    na_bin = []\n",
    "    for i in range(n_steps):\n",
    "        na_bin.append(f'{program_rev[i]:03b}')\n",
    "\n",
    "    return int(''.join(na_bin), 2) * 8"
   ]
  },
  {
   "cell_type": "code",
   "execution_count": 85,
   "metadata": {},
   "outputs": [],
   "source": [
    "assert reverse_engineer_na_exp2() == 117440"
   ]
  },
  {
   "cell_type": "code",
   "execution_count": 98,
   "metadata": {},
   "outputs": [
    {
     "name": "stdout",
     "output_type": "stream",
     "text": [
      "0 17311843489162 8655921744581 11111011111010111010010010000001010110001010\n",
      "1 2163980436145 540995109036 11111011111010111010010010000001010110001\n",
      "2 270497554518 8453048578 11111011111010111010010010000001010110\n",
      "3 33812194314 16906097157 11111011111010111010010010000001010\n",
      "4 4226524289 1056631072 11111011111010111010010010000001\n",
      "5 528315536 66039442 11111011111010111010010010000\n",
      "6 66039442 33019721 11111011111010111010010010\n",
      "7 8254930 4127465 11111011111010111010010\n",
      "8 1031866 515933 11111011111010111010\n",
      "9 128983 8061 11111011111010111\n",
      "10 16122 8061 11111011111010\n",
      "11 2015 125 11111011111\n",
      "12 251 251 11111011\n",
      "13 31 1 11111\n",
      "14 3 3 11\n",
      "15 0 0 0\n"
     ]
    }
   ],
   "source": [
    "program, __ = parse_input('input.txt')\n",
    "program_rev = program[::-1]\n",
    "\n",
    "n_steps = len(program) - 1\n",
    "\n",
    "sup = int(8**n_steps)\n",
    "inf = int(8**(n_steps-1))\n",
    "\n",
    "na = randint(inf, sup)\n",
    "for i in range(n_steps+1):\n",
    "    if i >= 1:\n",
    "        na = int(na / 8)\n",
    "    out = int(na / 2**((na % 8) ^ 3))\n",
    "    print(i, na, out, f'{na:b}')"
   ]
  },
  {
   "cell_type": "code",
   "execution_count": null,
   "metadata": {},
   "outputs": [],
   "source": []
  }
 ],
 "metadata": {
  "kernelspec": {
   "display_name": "base",
   "language": "python",
   "name": "python3"
  },
  "language_info": {
   "codemirror_mode": {
    "name": "ipython",
    "version": 3
   },
   "file_extension": ".py",
   "mimetype": "text/x-python",
   "name": "python",
   "nbconvert_exporter": "python",
   "pygments_lexer": "ipython3",
   "version": "3.12.7"
  }
 },
 "nbformat": 4,
 "nbformat_minor": 2
}
