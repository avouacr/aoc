{
 "cells": [
  {
   "cell_type": "code",
   "execution_count": 1,
   "metadata": {},
   "outputs": [],
   "source": [
    "from collections import defaultdict, deque"
   ]
  },
  {
   "cell_type": "code",
   "execution_count": 2,
   "metadata": {},
   "outputs": [],
   "source": [
    "def parse_input(file):\n",
    "    with open(file) as file_in:\n",
    "        wires, gates = file_in.read().split('\\n\\n')\n",
    "\n",
    "    wires_starting_with_z = set()\n",
    "\n",
    "    wire_dict = {}\n",
    "    for row in wires.splitlines():\n",
    "        wire, value = row.split(': ')\n",
    "        wire_dict[wire] = int(value)\n",
    "        if wire.startswith('z'):\n",
    "            wires_starting_with_z.add(wire)\n",
    "    \n",
    "    gates_parsed = []\n",
    "    for row in gates.splitlines():\n",
    "        rule, out = row.split(' -> ')\n",
    "        in1, op, in2 = rule.split(' ')\n",
    "        gates_parsed.append((in1, op, in2, out))\n",
    "        if in1.startswith('z'):\n",
    "            wires_starting_with_z.add(in1)\n",
    "        if in2.startswith('z'):\n",
    "            wires_starting_with_z.add(in2)\n",
    "        if out.startswith('z'):\n",
    "            wires_starting_with_z.add(out)\n",
    "\n",
    "    return wire_dict, gates_parsed, wires_starting_with_z"
   ]
  },
  {
   "cell_type": "code",
   "execution_count": 3,
   "metadata": {},
   "outputs": [],
   "source": [
    "def get_possible_gates(gates, wires):\n",
    "    return [gates[i] for i, gate in enumerate(gates)\n",
    "            if gate[0] in wires and gate[2] in wires]"
   ]
  },
  {
   "cell_type": "code",
   "execution_count": 4,
   "metadata": {},
   "outputs": [],
   "source": [
    "def compute_output(in1, in2, op):\n",
    "    if op == 'AND':\n",
    "        return in1 & in2\n",
    "    elif op == 'OR':\n",
    "        return in1 | in2\n",
    "    elif op == 'XOR':\n",
    "        return in1 ^ in2"
   ]
  },
  {
   "cell_type": "code",
   "execution_count": 5,
   "metadata": {},
   "outputs": [],
   "source": [
    "def run_until_all_z_done(wires, gates, wires_starting_with_z):\n",
    "    while len(wires_starting_with_z & set(wires)) != len(wires_starting_with_z):\n",
    "        for in1, op, in2, out in gates:\n",
    "            if in1 in wires and in2 in wires:\n",
    "                wires[out] = compute_output(wires[in1], wires[in2], op)\n",
    "    return wires"
   ]
  },
  {
   "cell_type": "code",
   "execution_count": 6,
   "metadata": {},
   "outputs": [],
   "source": [
    "def compute_final_number(wires):\n",
    "    wires_order = sorted([w for w in wires if w.startswith('z')], reverse=True)\n",
    "    wires_values = [str(wires[w]) for w in wires_order]\n",
    "    result_bin = ''.join(wires_values)\n",
    "    return int(result_bin, 2)"
   ]
  },
  {
   "cell_type": "code",
   "execution_count": 7,
   "metadata": {},
   "outputs": [],
   "source": [
    "def main1(file):\n",
    "    wires, gates, wires_starting_with_z = parse_input(file)\n",
    "    wires = run_until_all_z_done(wires, gates, wires_starting_with_z)\n",
    "    return compute_final_number(wires)"
   ]
  },
  {
   "cell_type": "code",
   "execution_count": 8,
   "metadata": {},
   "outputs": [],
   "source": [
    "assert main1('example1.txt') == 4\n",
    "assert main1('example2.txt') == 2024"
   ]
  },
  {
   "cell_type": "code",
   "execution_count": 9,
   "metadata": {},
   "outputs": [
    {
     "data": {
      "text/plain": [
       "36902370467952"
      ]
     },
     "execution_count": 9,
     "metadata": {},
     "output_type": "execute_result"
    }
   ],
   "source": [
    "main1('input.txt')"
   ]
  },
  {
   "cell_type": "code",
   "execution_count": null,
   "metadata": {},
   "outputs": [],
   "source": []
  }
 ],
 "metadata": {
  "kernelspec": {
   "display_name": "base",
   "language": "python",
   "name": "python3"
  },
  "language_info": {
   "codemirror_mode": {
    "name": "ipython",
    "version": 3
   },
   "file_extension": ".py",
   "mimetype": "text/x-python",
   "name": "python",
   "nbconvert_exporter": "python",
   "pygments_lexer": "ipython3",
   "version": "3.12.7"
  }
 },
 "nbformat": 4,
 "nbformat_minor": 2
}
