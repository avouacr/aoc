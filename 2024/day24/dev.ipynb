{
 "cells": [
  {
   "cell_type": "code",
   "execution_count": 4,
   "metadata": {},
   "outputs": [],
   "source": [
    "from collections import defaultdict, deque\n",
    "from itertools import combinations\n",
    "\n",
    "from tqdm import tqdm\n",
    "import networkx as nx\n",
    "import matplotlib.pyplot as plt"
   ]
  },
  {
   "cell_type": "code",
   "execution_count": 5,
   "metadata": {},
   "outputs": [],
   "source": [
    "def parse_input(file):\n",
    "    with open(file) as file_in:\n",
    "        wires, gates = file_in.read().split('\\n\\n')\n",
    "\n",
    "    wires_starting_with_z = set()\n",
    "\n",
    "    wire_dict = {}\n",
    "    for row in wires.splitlines():\n",
    "        wire, value = row.split(': ')\n",
    "        wire_dict[wire] = int(value)\n",
    "    \n",
    "    gates_dict = {}\n",
    "    for row in gates.splitlines():\n",
    "        rule, out = row.split(' -> ')\n",
    "        in1, op, in2 = rule.split(' ')\n",
    "        gates_dict[out] = (in1, op, in2)\n",
    "        if out.startswith('z'):\n",
    "            wires_starting_with_z.add(out)\n",
    "\n",
    "    return wire_dict, gates_dict, wires_starting_with_z"
   ]
  },
  {
   "cell_type": "code",
   "execution_count": 6,
   "metadata": {},
   "outputs": [],
   "source": [
    "def compute_output(in1, in2, op):\n",
    "    if op == 'AND':\n",
    "        return in1 & in2\n",
    "    elif op == 'OR':\n",
    "        return in1 | in2\n",
    "    elif op == 'XOR':\n",
    "        return in1 ^ in2"
   ]
  },
  {
   "cell_type": "code",
   "execution_count": 7,
   "metadata": {},
   "outputs": [],
   "source": [
    "def run_until_all_z_done(wires, gates, wires_starting_with_z):\n",
    "    while len(wires_starting_with_z & set(wires)) != len(wires_starting_with_z):\n",
    "        for out, (in1, op, in2) in gates.items():\n",
    "            if in1 in wires and in2 in wires:\n",
    "                wires[out] = compute_output(wires[in1], wires[in2], op)\n",
    "    return wires"
   ]
  },
  {
   "cell_type": "code",
   "execution_count": 8,
   "metadata": {},
   "outputs": [],
   "source": [
    "def get_wires_group_as_bin(wires, group):\n",
    "    wires_order = sorted([w for w in wires if w.startswith(group)], reverse=True)\n",
    "    wires_values = [str(wires[w]) for w in wires_order]\n",
    "    result_bin = ''.join(wires_values)\n",
    "    return result_bin"
   ]
  },
  {
   "cell_type": "code",
   "execution_count": 9,
   "metadata": {},
   "outputs": [],
   "source": [
    "def compute_final_number(wires):\n",
    "    result_bin = get_wires_group_as_bin(wires, 'z')\n",
    "    return int(result_bin, 2)"
   ]
  },
  {
   "cell_type": "code",
   "execution_count": 10,
   "metadata": {},
   "outputs": [],
   "source": [
    "def main1(file):\n",
    "    wires, gates, wires_starting_with_z = parse_input(file)\n",
    "    wires = run_until_all_z_done(wires, gates, wires_starting_with_z)\n",
    "    return compute_final_number(wires)"
   ]
  },
  {
   "cell_type": "code",
   "execution_count": 11,
   "metadata": {},
   "outputs": [],
   "source": [
    "def check_addition_works(wires):\n",
    "    bin_x = get_wires_group_as_bin(wires, 'x')\n",
    "    bin_y = get_wires_group_as_bin(wires, 'y')\n",
    "    bin_z = get_wires_group_as_bin(wires, 'z')\n",
    "    \n",
    "    return int(bin_x, 2) + int(bin_y, 2) == int(bin_z, 2)"
   ]
  },
  {
   "cell_type": "code",
   "execution_count": 12,
   "metadata": {},
   "outputs": [],
   "source": [
    "assert main1('example1.txt') == 4\n",
    "assert main1('example2.txt') == 2024"
   ]
  },
  {
   "cell_type": "code",
   "execution_count": 13,
   "metadata": {},
   "outputs": [
    {
     "data": {
      "text/plain": [
       "36902370467952"
      ]
     },
     "execution_count": 13,
     "metadata": {},
     "output_type": "execute_result"
    }
   ],
   "source": [
    "main1('input.txt')"
   ]
  },
  {
   "cell_type": "code",
   "execution_count": 13,
   "metadata": {},
   "outputs": [],
   "source": [
    "def get_sequence_operations(out, gates):\n",
    "    if out not in gates:\n",
    "        # Base out: the output is an input node (xnn or ynn)\n",
    "        return out\n",
    "\n",
    "    input1, operation, input2 = gates[out]\n",
    "    # Recursively substitute inputs\n",
    "    expr1 = get_sequence_operations(input1, gates)\n",
    "    expr2 = get_sequence_operations(input2, gates)\n",
    "    # Construct the expression\n",
    "    return f\"({expr1} {operation} {expr2})\""
   ]
  },
  {
   "cell_type": "code",
   "execution_count": null,
   "metadata": {},
   "outputs": [],
   "source": []
  },
  {
   "cell_type": "code",
   "execution_count": 48,
   "metadata": {},
   "outputs": [
    {
     "name": "stdout",
     "output_type": "stream",
     "text": [
      "(x00 XOR y00)\n",
      "((x00 AND y00) XOR (y01 XOR x01))\n",
      "((x02 XOR y02) XOR (((x00 AND y00) AND (y01 XOR x01)) OR (y01 AND x01)))\n",
      "((((((x00 AND y00) AND (y01 XOR x01)) OR (y01 AND x01)) AND (x02 XOR y02)) OR (y02 AND x02)) XOR (y03 XOR x03))\n",
      "((y04 XOR x04) XOR ((x03 AND y03) OR ((y03 XOR x03) AND (((((x00 AND y00) AND (y01 XOR x01)) OR (y01 AND x01)) AND (x02 XOR y02)) OR (y02 AND x02)))))\n",
      "(((x04 AND y04) OR ((y04 XOR x04) AND ((x03 AND y03) OR ((y03 XOR x03) AND (((((x00 AND y00) AND (y01 XOR x01)) OR (y01 AND x01)) AND (x02 XOR y02)) OR (y02 AND x02)))))) XOR (y05 XOR x05))\n",
      "((((y05 XOR x05) AND ((x04 AND y04) OR ((y04 XOR x04) AND ((x03 AND y03) OR ((y03 XOR x03) AND (((((x00 AND y00) AND (y01 XOR x01)) OR (y01 AND x01)) AND (x02 XOR y02)) OR (y02 AND x02))))))) OR (x05 AND y05)) XOR (y06 XOR x06))\n",
      "((((y06 XOR x06) AND (((y05 XOR x05) AND ((x04 AND y04) OR ((y04 XOR x04) AND ((x03 AND y03) OR ((y03 XOR x03) AND (((((x00 AND y00) AND (y01 XOR x01)) OR (y01 AND x01)) AND (x02 XOR y02)) OR (y02 AND x02))))))) OR (x05 AND y05))) OR (y06 AND x06)) XOR (y07 XOR x07))\n",
      "((x08 XOR y08) XOR ((x07 AND y07) OR ((y07 XOR x07) AND (((y06 XOR x06) AND (((y05 XOR x05) AND ((x04 AND y04) OR ((y04 XOR x04) AND ((x03 AND y03) OR ((y03 XOR x03) AND (((((x00 AND y00) AND (y01 XOR x01)) OR (y01 AND x01)) AND (x02 XOR y02)) OR (y02 AND x02))))))) OR (x05 AND y05))) OR (y06 AND x06)))))\n",
      "(((((x07 AND y07) OR ((y07 XOR x07) AND (((y06 XOR x06) AND (((y05 XOR x05) AND ((x04 AND y04) OR ((y04 XOR x04) AND ((x03 AND y03) OR ((y03 XOR x03) AND (((((x00 AND y00) AND (y01 XOR x01)) OR (y01 AND x01)) AND (x02 XOR y02)) OR (y02 AND x02))))))) OR (x05 AND y05))) OR (y06 AND x06)))) AND (x08 XOR y08)) OR (y08 AND x08)) XOR (y09 XOR x09))\n",
      "(((x09 AND y09) OR (((((x07 AND y07) OR ((y07 XOR x07) AND (((y06 XOR x06) AND (((y05 XOR x05) AND ((x04 AND y04) OR ((y04 XOR x04) AND ((x03 AND y03) OR ((y03 XOR x03) AND (((((x00 AND y00) AND (y01 XOR x01)) OR (y01 AND x01)) AND (x02 XOR y02)) OR (y02 AND x02))))))) OR (x05 AND y05))) OR (y06 AND x06)))) AND (x08 XOR y08)) OR (y08 AND x08)) AND (y09 XOR x09))) AND (y10 XOR x10))\n",
      "((((y10 XOR x10) XOR ((x09 AND y09) OR (((((x07 AND y07) OR ((y07 XOR x07) AND (((y06 XOR x06) AND (((y05 XOR x05) AND ((x04 AND y04) OR ((y04 XOR x04) AND ((x03 AND y03) OR ((y03 XOR x03) AND (((((x00 AND y00) AND (y01 XOR x01)) OR (y01 AND x01)) AND (x02 XOR y02)) OR (y02 AND x02))))))) OR (x05 AND y05))) OR (y06 AND x06)))) AND (x08 XOR y08)) OR (y08 AND x08)) AND (y09 XOR x09)))) OR (x10 AND y10)) XOR (y11 XOR x11))\n",
      "(((y11 AND x11) OR ((y11 XOR x11) AND (((y10 XOR x10) XOR ((x09 AND y09) OR (((((x07 AND y07) OR ((y07 XOR x07) AND (((y06 XOR x06) AND (((y05 XOR x05) AND ((x04 AND y04) OR ((y04 XOR x04) AND ((x03 AND y03) OR ((y03 XOR x03) AND (((((x00 AND y00) AND (y01 XOR x01)) OR (y01 AND x01)) AND (x02 XOR y02)) OR (y02 AND x02))))))) OR (x05 AND y05))) OR (y06 AND x06)))) AND (x08 XOR y08)) OR (y08 AND x08)) AND (y09 XOR x09)))) OR (x10 AND y10)))) XOR (x12 XOR y12))\n",
      "(((x12 AND y12) OR ((x12 XOR y12) AND ((y11 AND x11) OR ((y11 XOR x11) AND (((y10 XOR x10) XOR ((x09 AND y09) OR (((((x07 AND y07) OR ((y07 XOR x07) AND (((y06 XOR x06) AND (((y05 XOR x05) AND ((x04 AND y04) OR ((y04 XOR x04) AND ((x03 AND y03) OR ((y03 XOR x03) AND (((((x00 AND y00) AND (y01 XOR x01)) OR (y01 AND x01)) AND (x02 XOR y02)) OR (y02 AND x02))))))) OR (x05 AND y05))) OR (y06 AND x06)))) AND (x08 XOR y08)) OR (y08 AND x08)) AND (y09 XOR x09)))) OR (x10 AND y10)))))) XOR (y13 XOR x13))\n",
      "(((((y13 XOR x13) AND ((x12 AND y12) OR ((x12 XOR y12) AND ((y11 AND x11) OR ((y11 XOR x11) AND (((y10 XOR x10) XOR ((x09 AND y09) OR (((((x07 AND y07) OR ((y07 XOR x07) AND (((y06 XOR x06) AND (((y05 XOR x05) AND ((x04 AND y04) OR ((y04 XOR x04) AND ((x03 AND y03) OR ((y03 XOR x03) AND (((((x00 AND y00) AND (y01 XOR x01)) OR (y01 AND x01)) AND (x02 XOR y02)) OR (y02 AND x02))))))) OR (x05 AND y05))) OR (y06 AND x06)))) AND (x08 XOR y08)) OR (y08 AND x08)) AND (y09 XOR x09)))) OR (x10 AND y10))))))) OR (x13 AND y13)) AND (x14 XOR y14)) OR (x14 AND y14))\n",
      "(((((y13 XOR x13) AND ((x12 AND y12) OR ((x12 XOR y12) AND ((y11 AND x11) OR ((y11 XOR x11) AND (((y10 XOR x10) XOR ((x09 AND y09) OR (((((x07 AND y07) OR ((y07 XOR x07) AND (((y06 XOR x06) AND (((y05 XOR x05) AND ((x04 AND y04) OR ((y04 XOR x04) AND ((x03 AND y03) OR ((y03 XOR x03) AND (((((x00 AND y00) AND (y01 XOR x01)) OR (y01 AND x01)) AND (x02 XOR y02)) OR (y02 AND x02))))))) OR (x05 AND y05))) OR (y06 AND x06)))) AND (x08 XOR y08)) OR (y08 AND x08)) AND (y09 XOR x09)))) OR (x10 AND y10))))))) OR (x13 AND y13)) XOR (x14 XOR y14)) XOR (y15 XOR x15))\n",
      "(((((((y13 XOR x13) AND ((x12 AND y12) OR ((x12 XOR y12) AND ((y11 AND x11) OR ((y11 XOR x11) AND (((y10 XOR x10) XOR ((x09 AND y09) OR (((((x07 AND y07) OR ((y07 XOR x07) AND (((y06 XOR x06) AND (((y05 XOR x05) AND ((x04 AND y04) OR ((y04 XOR x04) AND ((x03 AND y03) OR ((y03 XOR x03) AND (((((x00 AND y00) AND (y01 XOR x01)) OR (y01 AND x01)) AND (x02 XOR y02)) OR (y02 AND x02))))))) OR (x05 AND y05))) OR (y06 AND x06)))) AND (x08 XOR y08)) OR (y08 AND x08)) AND (y09 XOR x09)))) OR (x10 AND y10))))))) OR (x13 AND y13)) XOR (x14 XOR y14)) AND (y15 XOR x15)) OR (y15 AND x15)) XOR (y16 XOR x16))\n",
      "(((x16 AND y16) OR (((((((y13 XOR x13) AND ((x12 AND y12) OR ((x12 XOR y12) AND ((y11 AND x11) OR ((y11 XOR x11) AND (((y10 XOR x10) XOR ((x09 AND y09) OR (((((x07 AND y07) OR ((y07 XOR x07) AND (((y06 XOR x06) AND (((y05 XOR x05) AND ((x04 AND y04) OR ((y04 XOR x04) AND ((x03 AND y03) OR ((y03 XOR x03) AND (((((x00 AND y00) AND (y01 XOR x01)) OR (y01 AND x01)) AND (x02 XOR y02)) OR (y02 AND x02))))))) OR (x05 AND y05))) OR (y06 AND x06)))) AND (x08 XOR y08)) OR (y08 AND x08)) AND (y09 XOR x09)))) OR (x10 AND y10))))))) OR (x13 AND y13)) XOR (x14 XOR y14)) AND (y15 XOR x15)) OR (y15 AND x15)) AND (y16 XOR x16))) XOR (x17 XOR y17))\n",
      "(((((x16 AND y16) OR (((((((y13 XOR x13) AND ((x12 AND y12) OR ((x12 XOR y12) AND ((y11 AND x11) OR ((y11 XOR x11) AND (((y10 XOR x10) XOR ((x09 AND y09) OR (((((x07 AND y07) OR ((y07 XOR x07) AND (((y06 XOR x06) AND (((y05 XOR x05) AND ((x04 AND y04) OR ((y04 XOR x04) AND ((x03 AND y03) OR ((y03 XOR x03) AND (((((x00 AND y00) AND (y01 XOR x01)) OR (y01 AND x01)) AND (x02 XOR y02)) OR (y02 AND x02))))))) OR (x05 AND y05))) OR (y06 AND x06)))) AND (x08 XOR y08)) OR (y08 AND x08)) AND (y09 XOR x09)))) OR (x10 AND y10))))))) OR (x13 AND y13)) XOR (x14 XOR y14)) AND (y15 XOR x15)) OR (y15 AND x15)) AND (y16 XOR x16))) AND (x17 XOR y17)) OR (x17 AND y17)) XOR (x18 XOR y18))\n",
      "((y19 XOR x19) XOR ((x18 AND y18) OR ((x18 XOR y18) AND ((((x16 AND y16) OR (((((((y13 XOR x13) AND ((x12 AND y12) OR ((x12 XOR y12) AND ((y11 AND x11) OR ((y11 XOR x11) AND (((y10 XOR x10) XOR ((x09 AND y09) OR (((((x07 AND y07) OR ((y07 XOR x07) AND (((y06 XOR x06) AND (((y05 XOR x05) AND ((x04 AND y04) OR ((y04 XOR x04) AND ((x03 AND y03) OR ((y03 XOR x03) AND (((((x00 AND y00) AND (y01 XOR x01)) OR (y01 AND x01)) AND (x02 XOR y02)) OR (y02 AND x02))))))) OR (x05 AND y05))) OR (y06 AND x06)))) AND (x08 XOR y08)) OR (y08 AND x08)) AND (y09 XOR x09)))) OR (x10 AND y10))))))) OR (x13 AND y13)) XOR (x14 XOR y14)) AND (y15 XOR x15)) OR (y15 AND x15)) AND (y16 XOR x16))) AND (x17 XOR y17)) OR (x17 AND y17)))))\n",
      "(((x19 AND y19) OR (((x18 AND y18) OR ((x18 XOR y18) AND ((((x16 AND y16) OR (((((((y13 XOR x13) AND ((x12 AND y12) OR ((x12 XOR y12) AND ((y11 AND x11) OR ((y11 XOR x11) AND (((y10 XOR x10) XOR ((x09 AND y09) OR (((((x07 AND y07) OR ((y07 XOR x07) AND (((y06 XOR x06) AND (((y05 XOR x05) AND ((x04 AND y04) OR ((y04 XOR x04) AND ((x03 AND y03) OR ((y03 XOR x03) AND (((((x00 AND y00) AND (y01 XOR x01)) OR (y01 AND x01)) AND (x02 XOR y02)) OR (y02 AND x02))))))) OR (x05 AND y05))) OR (y06 AND x06)))) AND (x08 XOR y08)) OR (y08 AND x08)) AND (y09 XOR x09)))) OR (x10 AND y10))))))) OR (x13 AND y13)) XOR (x14 XOR y14)) AND (y15 XOR x15)) OR (y15 AND x15)) AND (y16 XOR x16))) AND (x17 XOR y17)) OR (x17 AND y17)))) AND (y19 XOR x19))) XOR (x20 XOR y20))\n",
      "(((y20 AND x20) OR (((x19 AND y19) OR (((x18 AND y18) OR ((x18 XOR y18) AND ((((x16 AND y16) OR (((((((y13 XOR x13) AND ((x12 AND y12) OR ((x12 XOR y12) AND ((y11 AND x11) OR ((y11 XOR x11) AND (((y10 XOR x10) XOR ((x09 AND y09) OR (((((x07 AND y07) OR ((y07 XOR x07) AND (((y06 XOR x06) AND (((y05 XOR x05) AND ((x04 AND y04) OR ((y04 XOR x04) AND ((x03 AND y03) OR ((y03 XOR x03) AND (((((x00 AND y00) AND (y01 XOR x01)) OR (y01 AND x01)) AND (x02 XOR y02)) OR (y02 AND x02))))))) OR (x05 AND y05))) OR (y06 AND x06)))) AND (x08 XOR y08)) OR (y08 AND x08)) AND (y09 XOR x09)))) OR (x10 AND y10))))))) OR (x13 AND y13)) XOR (x14 XOR y14)) AND (y15 XOR x15)) OR (y15 AND x15)) AND (y16 XOR x16))) AND (x17 XOR y17)) OR (x17 AND y17)))) AND (y19 XOR x19))) AND (x20 XOR y20))) XOR (x21 XOR y21))\n",
      "(((y21 AND x21) OR ((x21 XOR y21) AND ((y20 AND x20) OR (((x19 AND y19) OR (((x18 AND y18) OR ((x18 XOR y18) AND ((((x16 AND y16) OR (((((((y13 XOR x13) AND ((x12 AND y12) OR ((x12 XOR y12) AND ((y11 AND x11) OR ((y11 XOR x11) AND (((y10 XOR x10) XOR ((x09 AND y09) OR (((((x07 AND y07) OR ((y07 XOR x07) AND (((y06 XOR x06) AND (((y05 XOR x05) AND ((x04 AND y04) OR ((y04 XOR x04) AND ((x03 AND y03) OR ((y03 XOR x03) AND (((((x00 AND y00) AND (y01 XOR x01)) OR (y01 AND x01)) AND (x02 XOR y02)) OR (y02 AND x02))))))) OR (x05 AND y05))) OR (y06 AND x06)))) AND (x08 XOR y08)) OR (y08 AND x08)) AND (y09 XOR x09)))) OR (x10 AND y10))))))) OR (x13 AND y13)) XOR (x14 XOR y14)) AND (y15 XOR x15)) OR (y15 AND x15)) AND (y16 XOR x16))) AND (x17 XOR y17)) OR (x17 AND y17)))) AND (y19 XOR x19))) AND (x20 XOR y20))))) XOR (y22 XOR x22))\n",
      "((((y22 XOR x22) AND ((y21 AND x21) OR ((x21 XOR y21) AND ((y20 AND x20) OR (((x19 AND y19) OR (((x18 AND y18) OR ((x18 XOR y18) AND ((((x16 AND y16) OR (((((((y13 XOR x13) AND ((x12 AND y12) OR ((x12 XOR y12) AND ((y11 AND x11) OR ((y11 XOR x11) AND (((y10 XOR x10) XOR ((x09 AND y09) OR (((((x07 AND y07) OR ((y07 XOR x07) AND (((y06 XOR x06) AND (((y05 XOR x05) AND ((x04 AND y04) OR ((y04 XOR x04) AND ((x03 AND y03) OR ((y03 XOR x03) AND (((((x00 AND y00) AND (y01 XOR x01)) OR (y01 AND x01)) AND (x02 XOR y02)) OR (y02 AND x02))))))) OR (x05 AND y05))) OR (y06 AND x06)))) AND (x08 XOR y08)) OR (y08 AND x08)) AND (y09 XOR x09)))) OR (x10 AND y10))))))) OR (x13 AND y13)) XOR (x14 XOR y14)) AND (y15 XOR x15)) OR (y15 AND x15)) AND (y16 XOR x16))) AND (x17 XOR y17)) OR (x17 AND y17)))) AND (y19 XOR x19))) AND (x20 XOR y20)))))) OR (y22 AND x22)) XOR (x23 XOR y23))\n",
      "((y24 XOR x24) XOR (((x23 XOR y23) AND (((y22 XOR x22) AND ((y21 AND x21) OR ((x21 XOR y21) AND ((y20 AND x20) OR (((x19 AND y19) OR (((x18 AND y18) OR ((x18 XOR y18) AND ((((x16 AND y16) OR (((((((y13 XOR x13) AND ((x12 AND y12) OR ((x12 XOR y12) AND ((y11 AND x11) OR ((y11 XOR x11) AND (((y10 XOR x10) XOR ((x09 AND y09) OR (((((x07 AND y07) OR ((y07 XOR x07) AND (((y06 XOR x06) AND (((y05 XOR x05) AND ((x04 AND y04) OR ((y04 XOR x04) AND ((x03 AND y03) OR ((y03 XOR x03) AND (((((x00 AND y00) AND (y01 XOR x01)) OR (y01 AND x01)) AND (x02 XOR y02)) OR (y02 AND x02))))))) OR (x05 AND y05))) OR (y06 AND x06)))) AND (x08 XOR y08)) OR (y08 AND x08)) AND (y09 XOR x09)))) OR (x10 AND y10))))))) OR (x13 AND y13)) XOR (x14 XOR y14)) AND (y15 XOR x15)) OR (y15 AND x15)) AND (y16 XOR x16))) AND (x17 XOR y17)) OR (x17 AND y17)))) AND (y19 XOR x19))) AND (x20 XOR y20)))))) OR (y22 AND x22))) OR (y23 AND x23)))\n",
      "((x25 AND y25) XOR ((x24 AND y24) OR ((y24 XOR x24) AND (((x23 XOR y23) AND (((y22 XOR x22) AND ((y21 AND x21) OR ((x21 XOR y21) AND ((y20 AND x20) OR (((x19 AND y19) OR (((x18 AND y18) OR ((x18 XOR y18) AND ((((x16 AND y16) OR (((((((y13 XOR x13) AND ((x12 AND y12) OR ((x12 XOR y12) AND ((y11 AND x11) OR ((y11 XOR x11) AND (((y10 XOR x10) XOR ((x09 AND y09) OR (((((x07 AND y07) OR ((y07 XOR x07) AND (((y06 XOR x06) AND (((y05 XOR x05) AND ((x04 AND y04) OR ((y04 XOR x04) AND ((x03 AND y03) OR ((y03 XOR x03) AND (((((x00 AND y00) AND (y01 XOR x01)) OR (y01 AND x01)) AND (x02 XOR y02)) OR (y02 AND x02))))))) OR (x05 AND y05))) OR (y06 AND x06)))) AND (x08 XOR y08)) OR (y08 AND x08)) AND (y09 XOR x09)))) OR (x10 AND y10))))))) OR (x13 AND y13)) XOR (x14 XOR y14)) AND (y15 XOR x15)) OR (y15 AND x15)) AND (y16 XOR x16))) AND (x17 XOR y17)) OR (x17 AND y17)))) AND (y19 XOR x19))) AND (x20 XOR y20)))))) OR (y22 AND x22))) OR (y23 AND x23)))))\n",
      "((((x25 AND y25) AND ((x24 AND y24) OR ((y24 XOR x24) AND (((x23 XOR y23) AND (((y22 XOR x22) AND ((y21 AND x21) OR ((x21 XOR y21) AND ((y20 AND x20) OR (((x19 AND y19) OR (((x18 AND y18) OR ((x18 XOR y18) AND ((((x16 AND y16) OR (((((((y13 XOR x13) AND ((x12 AND y12) OR ((x12 XOR y12) AND ((y11 AND x11) OR ((y11 XOR x11) AND (((y10 XOR x10) XOR ((x09 AND y09) OR (((((x07 AND y07) OR ((y07 XOR x07) AND (((y06 XOR x06) AND (((y05 XOR x05) AND ((x04 AND y04) OR ((y04 XOR x04) AND ((x03 AND y03) OR ((y03 XOR x03) AND (((((x00 AND y00) AND (y01 XOR x01)) OR (y01 AND x01)) AND (x02 XOR y02)) OR (y02 AND x02))))))) OR (x05 AND y05))) OR (y06 AND x06)))) AND (x08 XOR y08)) OR (y08 AND x08)) AND (y09 XOR x09)))) OR (x10 AND y10))))))) OR (x13 AND y13)) XOR (x14 XOR y14)) AND (y15 XOR x15)) OR (y15 AND x15)) AND (y16 XOR x16))) AND (x17 XOR y17)) OR (x17 AND y17)))) AND (y19 XOR x19))) AND (x20 XOR y20)))))) OR (y22 AND x22))) OR (y23 AND x23))))) OR (x25 XOR y25)) XOR (x26 XOR y26))\n",
      "((((x26 XOR y26) AND (((x25 AND y25) AND ((x24 AND y24) OR ((y24 XOR x24) AND (((x23 XOR y23) AND (((y22 XOR x22) AND ((y21 AND x21) OR ((x21 XOR y21) AND ((y20 AND x20) OR (((x19 AND y19) OR (((x18 AND y18) OR ((x18 XOR y18) AND ((((x16 AND y16) OR (((((((y13 XOR x13) AND ((x12 AND y12) OR ((x12 XOR y12) AND ((y11 AND x11) OR ((y11 XOR x11) AND (((y10 XOR x10) XOR ((x09 AND y09) OR (((((x07 AND y07) OR ((y07 XOR x07) AND (((y06 XOR x06) AND (((y05 XOR x05) AND ((x04 AND y04) OR ((y04 XOR x04) AND ((x03 AND y03) OR ((y03 XOR x03) AND (((((x00 AND y00) AND (y01 XOR x01)) OR (y01 AND x01)) AND (x02 XOR y02)) OR (y02 AND x02))))))) OR (x05 AND y05))) OR (y06 AND x06)))) AND (x08 XOR y08)) OR (y08 AND x08)) AND (y09 XOR x09)))) OR (x10 AND y10))))))) OR (x13 AND y13)) XOR (x14 XOR y14)) AND (y15 XOR x15)) OR (y15 AND x15)) AND (y16 XOR x16))) AND (x17 XOR y17)) OR (x17 AND y17)))) AND (y19 XOR x19))) AND (x20 XOR y20)))))) OR (y22 AND x22))) OR (y23 AND x23))))) OR (x25 XOR y25))) OR (x26 AND y26)) XOR (x27 XOR y27))\n",
      "((((x27 XOR y27) AND (((x26 XOR y26) AND (((x25 AND y25) AND ((x24 AND y24) OR ((y24 XOR x24) AND (((x23 XOR y23) AND (((y22 XOR x22) AND ((y21 AND x21) OR ((x21 XOR y21) AND ((y20 AND x20) OR (((x19 AND y19) OR (((x18 AND y18) OR ((x18 XOR y18) AND ((((x16 AND y16) OR (((((((y13 XOR x13) AND ((x12 AND y12) OR ((x12 XOR y12) AND ((y11 AND x11) OR ((y11 XOR x11) AND (((y10 XOR x10) XOR ((x09 AND y09) OR (((((x07 AND y07) OR ((y07 XOR x07) AND (((y06 XOR x06) AND (((y05 XOR x05) AND ((x04 AND y04) OR ((y04 XOR x04) AND ((x03 AND y03) OR ((y03 XOR x03) AND (((((x00 AND y00) AND (y01 XOR x01)) OR (y01 AND x01)) AND (x02 XOR y02)) OR (y02 AND x02))))))) OR (x05 AND y05))) OR (y06 AND x06)))) AND (x08 XOR y08)) OR (y08 AND x08)) AND (y09 XOR x09)))) OR (x10 AND y10))))))) OR (x13 AND y13)) XOR (x14 XOR y14)) AND (y15 XOR x15)) OR (y15 AND x15)) AND (y16 XOR x16))) AND (x17 XOR y17)) OR (x17 AND y17)))) AND (y19 XOR x19))) AND (x20 XOR y20)))))) OR (y22 AND x22))) OR (y23 AND x23))))) OR (x25 XOR y25))) OR (x26 AND y26))) OR (y27 AND x27)) XOR (y28 XOR x28))\n",
      "((x29 XOR y29) XOR ((y28 AND x28) OR ((((x27 XOR y27) AND (((x26 XOR y26) AND (((x25 AND y25) AND ((x24 AND y24) OR ((y24 XOR x24) AND (((x23 XOR y23) AND (((y22 XOR x22) AND ((y21 AND x21) OR ((x21 XOR y21) AND ((y20 AND x20) OR (((x19 AND y19) OR (((x18 AND y18) OR ((x18 XOR y18) AND ((((x16 AND y16) OR (((((((y13 XOR x13) AND ((x12 AND y12) OR ((x12 XOR y12) AND ((y11 AND x11) OR ((y11 XOR x11) AND (((y10 XOR x10) XOR ((x09 AND y09) OR (((((x07 AND y07) OR ((y07 XOR x07) AND (((y06 XOR x06) AND (((y05 XOR x05) AND ((x04 AND y04) OR ((y04 XOR x04) AND ((x03 AND y03) OR ((y03 XOR x03) AND (((((x00 AND y00) AND (y01 XOR x01)) OR (y01 AND x01)) AND (x02 XOR y02)) OR (y02 AND x02))))))) OR (x05 AND y05))) OR (y06 AND x06)))) AND (x08 XOR y08)) OR (y08 AND x08)) AND (y09 XOR x09)))) OR (x10 AND y10))))))) OR (x13 AND y13)) XOR (x14 XOR y14)) AND (y15 XOR x15)) OR (y15 AND x15)) AND (y16 XOR x16))) AND (x17 XOR y17)) OR (x17 AND y17)))) AND (y19 XOR x19))) AND (x20 XOR y20)))))) OR (y22 AND x22))) OR (y23 AND x23))))) OR (x25 XOR y25))) OR (x26 AND y26))) OR (y27 AND x27)) AND (y28 XOR x28))))\n",
      "((y30 XOR x30) XOR ((y29 AND x29) OR ((x29 XOR y29) AND ((y28 AND x28) OR ((((x27 XOR y27) AND (((x26 XOR y26) AND (((x25 AND y25) AND ((x24 AND y24) OR ((y24 XOR x24) AND (((x23 XOR y23) AND (((y22 XOR x22) AND ((y21 AND x21) OR ((x21 XOR y21) AND ((y20 AND x20) OR (((x19 AND y19) OR (((x18 AND y18) OR ((x18 XOR y18) AND ((((x16 AND y16) OR (((((((y13 XOR x13) AND ((x12 AND y12) OR ((x12 XOR y12) AND ((y11 AND x11) OR ((y11 XOR x11) AND (((y10 XOR x10) XOR ((x09 AND y09) OR (((((x07 AND y07) OR ((y07 XOR x07) AND (((y06 XOR x06) AND (((y05 XOR x05) AND ((x04 AND y04) OR ((y04 XOR x04) AND ((x03 AND y03) OR ((y03 XOR x03) AND (((((x00 AND y00) AND (y01 XOR x01)) OR (y01 AND x01)) AND (x02 XOR y02)) OR (y02 AND x02))))))) OR (x05 AND y05))) OR (y06 AND x06)))) AND (x08 XOR y08)) OR (y08 AND x08)) AND (y09 XOR x09)))) OR (x10 AND y10))))))) OR (x13 AND y13)) XOR (x14 XOR y14)) AND (y15 XOR x15)) OR (y15 AND x15)) AND (y16 XOR x16))) AND (x17 XOR y17)) OR (x17 AND y17)))) AND (y19 XOR x19))) AND (x20 XOR y20)))))) OR (y22 AND x22))) OR (y23 AND x23))))) OR (x25 XOR y25))) OR (x26 AND y26))) OR (y27 AND x27)) AND (y28 XOR x28))))))\n",
      "((x31 XOR y31) XOR ((((y29 AND x29) OR ((x29 XOR y29) AND ((y28 AND x28) OR ((((x27 XOR y27) AND (((x26 XOR y26) AND (((x25 AND y25) AND ((x24 AND y24) OR ((y24 XOR x24) AND (((x23 XOR y23) AND (((y22 XOR x22) AND ((y21 AND x21) OR ((x21 XOR y21) AND ((y20 AND x20) OR (((x19 AND y19) OR (((x18 AND y18) OR ((x18 XOR y18) AND ((((x16 AND y16) OR (((((((y13 XOR x13) AND ((x12 AND y12) OR ((x12 XOR y12) AND ((y11 AND x11) OR ((y11 XOR x11) AND (((y10 XOR x10) XOR ((x09 AND y09) OR (((((x07 AND y07) OR ((y07 XOR x07) AND (((y06 XOR x06) AND (((y05 XOR x05) AND ((x04 AND y04) OR ((y04 XOR x04) AND ((x03 AND y03) OR ((y03 XOR x03) AND (((((x00 AND y00) AND (y01 XOR x01)) OR (y01 AND x01)) AND (x02 XOR y02)) OR (y02 AND x02))))))) OR (x05 AND y05))) OR (y06 AND x06)))) AND (x08 XOR y08)) OR (y08 AND x08)) AND (y09 XOR x09)))) OR (x10 AND y10))))))) OR (x13 AND y13)) XOR (x14 XOR y14)) AND (y15 XOR x15)) OR (y15 AND x15)) AND (y16 XOR x16))) AND (x17 XOR y17)) OR (x17 AND y17)))) AND (y19 XOR x19))) AND (x20 XOR y20)))))) OR (y22 AND x22))) OR (y23 AND x23))))) OR (x25 XOR y25))) OR (x26 AND y26))) OR (y27 AND x27)) AND (y28 XOR x28))))) AND (y30 XOR x30)) OR (y30 AND x30)))\n",
      "((y32 XOR x32) XOR ((((((y29 AND x29) OR ((x29 XOR y29) AND ((y28 AND x28) OR ((((x27 XOR y27) AND (((x26 XOR y26) AND (((x25 AND y25) AND ((x24 AND y24) OR ((y24 XOR x24) AND (((x23 XOR y23) AND (((y22 XOR x22) AND ((y21 AND x21) OR ((x21 XOR y21) AND ((y20 AND x20) OR (((x19 AND y19) OR (((x18 AND y18) OR ((x18 XOR y18) AND ((((x16 AND y16) OR (((((((y13 XOR x13) AND ((x12 AND y12) OR ((x12 XOR y12) AND ((y11 AND x11) OR ((y11 XOR x11) AND (((y10 XOR x10) XOR ((x09 AND y09) OR (((((x07 AND y07) OR ((y07 XOR x07) AND (((y06 XOR x06) AND (((y05 XOR x05) AND ((x04 AND y04) OR ((y04 XOR x04) AND ((x03 AND y03) OR ((y03 XOR x03) AND (((((x00 AND y00) AND (y01 XOR x01)) OR (y01 AND x01)) AND (x02 XOR y02)) OR (y02 AND x02))))))) OR (x05 AND y05))) OR (y06 AND x06)))) AND (x08 XOR y08)) OR (y08 AND x08)) AND (y09 XOR x09)))) OR (x10 AND y10))))))) OR (x13 AND y13)) XOR (x14 XOR y14)) AND (y15 XOR x15)) OR (y15 AND x15)) AND (y16 XOR x16))) AND (x17 XOR y17)) OR (x17 AND y17)))) AND (y19 XOR x19))) AND (x20 XOR y20)))))) OR (y22 AND x22))) OR (y23 AND x23))))) OR (x25 XOR y25))) OR (x26 AND y26))) OR (y27 AND x27)) AND (y28 XOR x28))))) AND (y30 XOR x30)) OR (y30 AND x30)) AND (x31 XOR y31)) OR (x31 AND y31)))\n",
      "(((y32 AND x32) OR (((((((y29 AND x29) OR ((x29 XOR y29) AND ((y28 AND x28) OR ((((x27 XOR y27) AND (((x26 XOR y26) AND (((x25 AND y25) AND ((x24 AND y24) OR ((y24 XOR x24) AND (((x23 XOR y23) AND (((y22 XOR x22) AND ((y21 AND x21) OR ((x21 XOR y21) AND ((y20 AND x20) OR (((x19 AND y19) OR (((x18 AND y18) OR ((x18 XOR y18) AND ((((x16 AND y16) OR (((((((y13 XOR x13) AND ((x12 AND y12) OR ((x12 XOR y12) AND ((y11 AND x11) OR ((y11 XOR x11) AND (((y10 XOR x10) XOR ((x09 AND y09) OR (((((x07 AND y07) OR ((y07 XOR x07) AND (((y06 XOR x06) AND (((y05 XOR x05) AND ((x04 AND y04) OR ((y04 XOR x04) AND ((x03 AND y03) OR ((y03 XOR x03) AND (((((x00 AND y00) AND (y01 XOR x01)) OR (y01 AND x01)) AND (x02 XOR y02)) OR (y02 AND x02))))))) OR (x05 AND y05))) OR (y06 AND x06)))) AND (x08 XOR y08)) OR (y08 AND x08)) AND (y09 XOR x09)))) OR (x10 AND y10))))))) OR (x13 AND y13)) XOR (x14 XOR y14)) AND (y15 XOR x15)) OR (y15 AND x15)) AND (y16 XOR x16))) AND (x17 XOR y17)) OR (x17 AND y17)))) AND (y19 XOR x19))) AND (x20 XOR y20)))))) OR (y22 AND x22))) OR (y23 AND x23))))) OR (x25 XOR y25))) OR (x26 AND y26))) OR (y27 AND x27)) AND (y28 XOR x28))))) AND (y30 XOR x30)) OR (y30 AND x30)) AND (x31 XOR y31)) OR (x31 AND y31)) AND (y32 XOR x32))) XOR (x33 XOR y33))\n",
      "(y34 AND x34)\n",
      "((x35 XOR y35) XOR (((((x33 XOR y33) AND ((y32 AND x32) OR (((((((y29 AND x29) OR ((x29 XOR y29) AND ((y28 AND x28) OR ((((x27 XOR y27) AND (((x26 XOR y26) AND (((x25 AND y25) AND ((x24 AND y24) OR ((y24 XOR x24) AND (((x23 XOR y23) AND (((y22 XOR x22) AND ((y21 AND x21) OR ((x21 XOR y21) AND ((y20 AND x20) OR (((x19 AND y19) OR (((x18 AND y18) OR ((x18 XOR y18) AND ((((x16 AND y16) OR (((((((y13 XOR x13) AND ((x12 AND y12) OR ((x12 XOR y12) AND ((y11 AND x11) OR ((y11 XOR x11) AND (((y10 XOR x10) XOR ((x09 AND y09) OR (((((x07 AND y07) OR ((y07 XOR x07) AND (((y06 XOR x06) AND (((y05 XOR x05) AND ((x04 AND y04) OR ((y04 XOR x04) AND ((x03 AND y03) OR ((y03 XOR x03) AND (((((x00 AND y00) AND (y01 XOR x01)) OR (y01 AND x01)) AND (x02 XOR y02)) OR (y02 AND x02))))))) OR (x05 AND y05))) OR (y06 AND x06)))) AND (x08 XOR y08)) OR (y08 AND x08)) AND (y09 XOR x09)))) OR (x10 AND y10))))))) OR (x13 AND y13)) XOR (x14 XOR y14)) AND (y15 XOR x15)) OR (y15 AND x15)) AND (y16 XOR x16))) AND (x17 XOR y17)) OR (x17 AND y17)))) AND (y19 XOR x19))) AND (x20 XOR y20)))))) OR (y22 AND x22))) OR (y23 AND x23))))) OR (x25 XOR y25))) OR (x26 AND y26))) OR (y27 AND x27)) AND (y28 XOR x28))))) AND (y30 XOR x30)) OR (y30 AND x30)) AND (x31 XOR y31)) OR (x31 AND y31)) AND (y32 XOR x32)))) OR (x33 AND y33)) AND (y34 XOR x34)) OR ((y34 XOR x34) XOR (((x33 XOR y33) AND ((y32 AND x32) OR (((((((y29 AND x29) OR ((x29 XOR y29) AND ((y28 AND x28) OR ((((x27 XOR y27) AND (((x26 XOR y26) AND (((x25 AND y25) AND ((x24 AND y24) OR ((y24 XOR x24) AND (((x23 XOR y23) AND (((y22 XOR x22) AND ((y21 AND x21) OR ((x21 XOR y21) AND ((y20 AND x20) OR (((x19 AND y19) OR (((x18 AND y18) OR ((x18 XOR y18) AND ((((x16 AND y16) OR (((((((y13 XOR x13) AND ((x12 AND y12) OR ((x12 XOR y12) AND ((y11 AND x11) OR ((y11 XOR x11) AND (((y10 XOR x10) XOR ((x09 AND y09) OR (((((x07 AND y07) OR ((y07 XOR x07) AND (((y06 XOR x06) AND (((y05 XOR x05) AND ((x04 AND y04) OR ((y04 XOR x04) AND ((x03 AND y03) OR ((y03 XOR x03) AND (((((x00 AND y00) AND (y01 XOR x01)) OR (y01 AND x01)) AND (x02 XOR y02)) OR (y02 AND x02))))))) OR (x05 AND y05))) OR (y06 AND x06)))) AND (x08 XOR y08)) OR (y08 AND x08)) AND (y09 XOR x09)))) OR (x10 AND y10))))))) OR (x13 AND y13)) XOR (x14 XOR y14)) AND (y15 XOR x15)) OR (y15 AND x15)) AND (y16 XOR x16))) AND (x17 XOR y17)) OR (x17 AND y17)))) AND (y19 XOR x19))) AND (x20 XOR y20)))))) OR (y22 AND x22))) OR (y23 AND x23))))) OR (x25 XOR y25))) OR (x26 AND y26))) OR (y27 AND x27)) AND (y28 XOR x28))))) AND (y30 XOR x30)) OR (y30 AND x30)) AND (x31 XOR y31)) OR (x31 AND y31)) AND (y32 XOR x32)))) OR (x33 AND y33)))))\n",
      "((x36 XOR y36) XOR (((x35 XOR y35) AND (((((x33 XOR y33) AND ((y32 AND x32) OR (((((((y29 AND x29) OR ((x29 XOR y29) AND ((y28 AND x28) OR ((((x27 XOR y27) AND (((x26 XOR y26) AND (((x25 AND y25) AND ((x24 AND y24) OR ((y24 XOR x24) AND (((x23 XOR y23) AND (((y22 XOR x22) AND ((y21 AND x21) OR ((x21 XOR y21) AND ((y20 AND x20) OR (((x19 AND y19) OR (((x18 AND y18) OR ((x18 XOR y18) AND ((((x16 AND y16) OR (((((((y13 XOR x13) AND ((x12 AND y12) OR ((x12 XOR y12) AND ((y11 AND x11) OR ((y11 XOR x11) AND (((y10 XOR x10) XOR ((x09 AND y09) OR (((((x07 AND y07) OR ((y07 XOR x07) AND (((y06 XOR x06) AND (((y05 XOR x05) AND ((x04 AND y04) OR ((y04 XOR x04) AND ((x03 AND y03) OR ((y03 XOR x03) AND (((((x00 AND y00) AND (y01 XOR x01)) OR (y01 AND x01)) AND (x02 XOR y02)) OR (y02 AND x02))))))) OR (x05 AND y05))) OR (y06 AND x06)))) AND (x08 XOR y08)) OR (y08 AND x08)) AND (y09 XOR x09)))) OR (x10 AND y10))))))) OR (x13 AND y13)) XOR (x14 XOR y14)) AND (y15 XOR x15)) OR (y15 AND x15)) AND (y16 XOR x16))) AND (x17 XOR y17)) OR (x17 AND y17)))) AND (y19 XOR x19))) AND (x20 XOR y20)))))) OR (y22 AND x22))) OR (y23 AND x23))))) OR (x25 XOR y25))) OR (x26 AND y26))) OR (y27 AND x27)) AND (y28 XOR x28))))) AND (y30 XOR x30)) OR (y30 AND x30)) AND (x31 XOR y31)) OR (x31 AND y31)) AND (y32 XOR x32)))) OR (x33 AND y33)) AND (y34 XOR x34)) OR ((y34 XOR x34) XOR (((x33 XOR y33) AND ((y32 AND x32) OR (((((((y29 AND x29) OR ((x29 XOR y29) AND ((y28 AND x28) OR ((((x27 XOR y27) AND (((x26 XOR y26) AND (((x25 AND y25) AND ((x24 AND y24) OR ((y24 XOR x24) AND (((x23 XOR y23) AND (((y22 XOR x22) AND ((y21 AND x21) OR ((x21 XOR y21) AND ((y20 AND x20) OR (((x19 AND y19) OR (((x18 AND y18) OR ((x18 XOR y18) AND ((((x16 AND y16) OR (((((((y13 XOR x13) AND ((x12 AND y12) OR ((x12 XOR y12) AND ((y11 AND x11) OR ((y11 XOR x11) AND (((y10 XOR x10) XOR ((x09 AND y09) OR (((((x07 AND y07) OR ((y07 XOR x07) AND (((y06 XOR x06) AND (((y05 XOR x05) AND ((x04 AND y04) OR ((y04 XOR x04) AND ((x03 AND y03) OR ((y03 XOR x03) AND (((((x00 AND y00) AND (y01 XOR x01)) OR (y01 AND x01)) AND (x02 XOR y02)) OR (y02 AND x02))))))) OR (x05 AND y05))) OR (y06 AND x06)))) AND (x08 XOR y08)) OR (y08 AND x08)) AND (y09 XOR x09)))) OR (x10 AND y10))))))) OR (x13 AND y13)) XOR (x14 XOR y14)) AND (y15 XOR x15)) OR (y15 AND x15)) AND (y16 XOR x16))) AND (x17 XOR y17)) OR (x17 AND y17)))) AND (y19 XOR x19))) AND (x20 XOR y20)))))) OR (y22 AND x22))) OR (y23 AND x23))))) OR (x25 XOR y25))) OR (x26 AND y26))) OR (y27 AND x27)) AND (y28 XOR x28))))) AND (y30 XOR x30)) OR (y30 AND x30)) AND (x31 XOR y31)) OR (x31 AND y31)) AND (y32 XOR x32)))) OR (x33 AND y33))))) OR (y35 AND x35)))\n",
      "((((((x35 XOR y35) AND (((((x33 XOR y33) AND ((y32 AND x32) OR (((((((y29 AND x29) OR ((x29 XOR y29) AND ((y28 AND x28) OR ((((x27 XOR y27) AND (((x26 XOR y26) AND (((x25 AND y25) AND ((x24 AND y24) OR ((y24 XOR x24) AND (((x23 XOR y23) AND (((y22 XOR x22) AND ((y21 AND x21) OR ((x21 XOR y21) AND ((y20 AND x20) OR (((x19 AND y19) OR (((x18 AND y18) OR ((x18 XOR y18) AND ((((x16 AND y16) OR (((((((y13 XOR x13) AND ((x12 AND y12) OR ((x12 XOR y12) AND ((y11 AND x11) OR ((y11 XOR x11) AND (((y10 XOR x10) XOR ((x09 AND y09) OR (((((x07 AND y07) OR ((y07 XOR x07) AND (((y06 XOR x06) AND (((y05 XOR x05) AND ((x04 AND y04) OR ((y04 XOR x04) AND ((x03 AND y03) OR ((y03 XOR x03) AND (((((x00 AND y00) AND (y01 XOR x01)) OR (y01 AND x01)) AND (x02 XOR y02)) OR (y02 AND x02))))))) OR (x05 AND y05))) OR (y06 AND x06)))) AND (x08 XOR y08)) OR (y08 AND x08)) AND (y09 XOR x09)))) OR (x10 AND y10))))))) OR (x13 AND y13)) XOR (x14 XOR y14)) AND (y15 XOR x15)) OR (y15 AND x15)) AND (y16 XOR x16))) AND (x17 XOR y17)) OR (x17 AND y17)))) AND (y19 XOR x19))) AND (x20 XOR y20)))))) OR (y22 AND x22))) OR (y23 AND x23))))) OR (x25 XOR y25))) OR (x26 AND y26))) OR (y27 AND x27)) AND (y28 XOR x28))))) AND (y30 XOR x30)) OR (y30 AND x30)) AND (x31 XOR y31)) OR (x31 AND y31)) AND (y32 XOR x32)))) OR (x33 AND y33)) AND (y34 XOR x34)) OR ((y34 XOR x34) XOR (((x33 XOR y33) AND ((y32 AND x32) OR (((((((y29 AND x29) OR ((x29 XOR y29) AND ((y28 AND x28) OR ((((x27 XOR y27) AND (((x26 XOR y26) AND (((x25 AND y25) AND ((x24 AND y24) OR ((y24 XOR x24) AND (((x23 XOR y23) AND (((y22 XOR x22) AND ((y21 AND x21) OR ((x21 XOR y21) AND ((y20 AND x20) OR (((x19 AND y19) OR (((x18 AND y18) OR ((x18 XOR y18) AND ((((x16 AND y16) OR (((((((y13 XOR x13) AND ((x12 AND y12) OR ((x12 XOR y12) AND ((y11 AND x11) OR ((y11 XOR x11) AND (((y10 XOR x10) XOR ((x09 AND y09) OR (((((x07 AND y07) OR ((y07 XOR x07) AND (((y06 XOR x06) AND (((y05 XOR x05) AND ((x04 AND y04) OR ((y04 XOR x04) AND ((x03 AND y03) OR ((y03 XOR x03) AND (((((x00 AND y00) AND (y01 XOR x01)) OR (y01 AND x01)) AND (x02 XOR y02)) OR (y02 AND x02))))))) OR (x05 AND y05))) OR (y06 AND x06)))) AND (x08 XOR y08)) OR (y08 AND x08)) AND (y09 XOR x09)))) OR (x10 AND y10))))))) OR (x13 AND y13)) XOR (x14 XOR y14)) AND (y15 XOR x15)) OR (y15 AND x15)) AND (y16 XOR x16))) AND (x17 XOR y17)) OR (x17 AND y17)))) AND (y19 XOR x19))) AND (x20 XOR y20)))))) OR (y22 AND x22))) OR (y23 AND x23))))) OR (x25 XOR y25))) OR (x26 AND y26))) OR (y27 AND x27)) AND (y28 XOR x28))))) AND (y30 XOR x30)) OR (y30 AND x30)) AND (x31 XOR y31)) OR (x31 AND y31)) AND (y32 XOR x32)))) OR (x33 AND y33))))) OR (y35 AND x35)) AND (x36 XOR y36)) OR (x36 AND y36)) XOR (x37 XOR y37))\n",
      "((((((((x35 XOR y35) AND (((((x33 XOR y33) AND ((y32 AND x32) OR (((((((y29 AND x29) OR ((x29 XOR y29) AND ((y28 AND x28) OR ((((x27 XOR y27) AND (((x26 XOR y26) AND (((x25 AND y25) AND ((x24 AND y24) OR ((y24 XOR x24) AND (((x23 XOR y23) AND (((y22 XOR x22) AND ((y21 AND x21) OR ((x21 XOR y21) AND ((y20 AND x20) OR (((x19 AND y19) OR (((x18 AND y18) OR ((x18 XOR y18) AND ((((x16 AND y16) OR (((((((y13 XOR x13) AND ((x12 AND y12) OR ((x12 XOR y12) AND ((y11 AND x11) OR ((y11 XOR x11) AND (((y10 XOR x10) XOR ((x09 AND y09) OR (((((x07 AND y07) OR ((y07 XOR x07) AND (((y06 XOR x06) AND (((y05 XOR x05) AND ((x04 AND y04) OR ((y04 XOR x04) AND ((x03 AND y03) OR ((y03 XOR x03) AND (((((x00 AND y00) AND (y01 XOR x01)) OR (y01 AND x01)) AND (x02 XOR y02)) OR (y02 AND x02))))))) OR (x05 AND y05))) OR (y06 AND x06)))) AND (x08 XOR y08)) OR (y08 AND x08)) AND (y09 XOR x09)))) OR (x10 AND y10))))))) OR (x13 AND y13)) XOR (x14 XOR y14)) AND (y15 XOR x15)) OR (y15 AND x15)) AND (y16 XOR x16))) AND (x17 XOR y17)) OR (x17 AND y17)))) AND (y19 XOR x19))) AND (x20 XOR y20)))))) OR (y22 AND x22))) OR (y23 AND x23))))) OR (x25 XOR y25))) OR (x26 AND y26))) OR (y27 AND x27)) AND (y28 XOR x28))))) AND (y30 XOR x30)) OR (y30 AND x30)) AND (x31 XOR y31)) OR (x31 AND y31)) AND (y32 XOR x32)))) OR (x33 AND y33)) AND (y34 XOR x34)) OR ((y34 XOR x34) XOR (((x33 XOR y33) AND ((y32 AND x32) OR (((((((y29 AND x29) OR ((x29 XOR y29) AND ((y28 AND x28) OR ((((x27 XOR y27) AND (((x26 XOR y26) AND (((x25 AND y25) AND ((x24 AND y24) OR ((y24 XOR x24) AND (((x23 XOR y23) AND (((y22 XOR x22) AND ((y21 AND x21) OR ((x21 XOR y21) AND ((y20 AND x20) OR (((x19 AND y19) OR (((x18 AND y18) OR ((x18 XOR y18) AND ((((x16 AND y16) OR (((((((y13 XOR x13) AND ((x12 AND y12) OR ((x12 XOR y12) AND ((y11 AND x11) OR ((y11 XOR x11) AND (((y10 XOR x10) XOR ((x09 AND y09) OR (((((x07 AND y07) OR ((y07 XOR x07) AND (((y06 XOR x06) AND (((y05 XOR x05) AND ((x04 AND y04) OR ((y04 XOR x04) AND ((x03 AND y03) OR ((y03 XOR x03) AND (((((x00 AND y00) AND (y01 XOR x01)) OR (y01 AND x01)) AND (x02 XOR y02)) OR (y02 AND x02))))))) OR (x05 AND y05))) OR (y06 AND x06)))) AND (x08 XOR y08)) OR (y08 AND x08)) AND (y09 XOR x09)))) OR (x10 AND y10))))))) OR (x13 AND y13)) XOR (x14 XOR y14)) AND (y15 XOR x15)) OR (y15 AND x15)) AND (y16 XOR x16))) AND (x17 XOR y17)) OR (x17 AND y17)))) AND (y19 XOR x19))) AND (x20 XOR y20)))))) OR (y22 AND x22))) OR (y23 AND x23))))) OR (x25 XOR y25))) OR (x26 AND y26))) OR (y27 AND x27)) AND (y28 XOR x28))))) AND (y30 XOR x30)) OR (y30 AND x30)) AND (x31 XOR y31)) OR (x31 AND y31)) AND (y32 XOR x32)))) OR (x33 AND y33))))) OR (y35 AND x35)) AND (x36 XOR y36)) OR (x36 AND y36)) AND (x37 XOR y37)) OR (x37 AND y37)) XOR (x38 XOR y38))\n",
      "((y39 XOR x39) XOR ((y38 AND x38) OR ((((((((x35 XOR y35) AND (((((x33 XOR y33) AND ((y32 AND x32) OR (((((((y29 AND x29) OR ((x29 XOR y29) AND ((y28 AND x28) OR ((((x27 XOR y27) AND (((x26 XOR y26) AND (((x25 AND y25) AND ((x24 AND y24) OR ((y24 XOR x24) AND (((x23 XOR y23) AND (((y22 XOR x22) AND ((y21 AND x21) OR ((x21 XOR y21) AND ((y20 AND x20) OR (((x19 AND y19) OR (((x18 AND y18) OR ((x18 XOR y18) AND ((((x16 AND y16) OR (((((((y13 XOR x13) AND ((x12 AND y12) OR ((x12 XOR y12) AND ((y11 AND x11) OR ((y11 XOR x11) AND (((y10 XOR x10) XOR ((x09 AND y09) OR (((((x07 AND y07) OR ((y07 XOR x07) AND (((y06 XOR x06) AND (((y05 XOR x05) AND ((x04 AND y04) OR ((y04 XOR x04) AND ((x03 AND y03) OR ((y03 XOR x03) AND (((((x00 AND y00) AND (y01 XOR x01)) OR (y01 AND x01)) AND (x02 XOR y02)) OR (y02 AND x02))))))) OR (x05 AND y05))) OR (y06 AND x06)))) AND (x08 XOR y08)) OR (y08 AND x08)) AND (y09 XOR x09)))) OR (x10 AND y10))))))) OR (x13 AND y13)) XOR (x14 XOR y14)) AND (y15 XOR x15)) OR (y15 AND x15)) AND (y16 XOR x16))) AND (x17 XOR y17)) OR (x17 AND y17)))) AND (y19 XOR x19))) AND (x20 XOR y20)))))) OR (y22 AND x22))) OR (y23 AND x23))))) OR (x25 XOR y25))) OR (x26 AND y26))) OR (y27 AND x27)) AND (y28 XOR x28))))) AND (y30 XOR x30)) OR (y30 AND x30)) AND (x31 XOR y31)) OR (x31 AND y31)) AND (y32 XOR x32)))) OR (x33 AND y33)) AND (y34 XOR x34)) OR ((y34 XOR x34) XOR (((x33 XOR y33) AND ((y32 AND x32) OR (((((((y29 AND x29) OR ((x29 XOR y29) AND ((y28 AND x28) OR ((((x27 XOR y27) AND (((x26 XOR y26) AND (((x25 AND y25) AND ((x24 AND y24) OR ((y24 XOR x24) AND (((x23 XOR y23) AND (((y22 XOR x22) AND ((y21 AND x21) OR ((x21 XOR y21) AND ((y20 AND x20) OR (((x19 AND y19) OR (((x18 AND y18) OR ((x18 XOR y18) AND ((((x16 AND y16) OR (((((((y13 XOR x13) AND ((x12 AND y12) OR ((x12 XOR y12) AND ((y11 AND x11) OR ((y11 XOR x11) AND (((y10 XOR x10) XOR ((x09 AND y09) OR (((((x07 AND y07) OR ((y07 XOR x07) AND (((y06 XOR x06) AND (((y05 XOR x05) AND ((x04 AND y04) OR ((y04 XOR x04) AND ((x03 AND y03) OR ((y03 XOR x03) AND (((((x00 AND y00) AND (y01 XOR x01)) OR (y01 AND x01)) AND (x02 XOR y02)) OR (y02 AND x02))))))) OR (x05 AND y05))) OR (y06 AND x06)))) AND (x08 XOR y08)) OR (y08 AND x08)) AND (y09 XOR x09)))) OR (x10 AND y10))))))) OR (x13 AND y13)) XOR (x14 XOR y14)) AND (y15 XOR x15)) OR (y15 AND x15)) AND (y16 XOR x16))) AND (x17 XOR y17)) OR (x17 AND y17)))) AND (y19 XOR x19))) AND (x20 XOR y20)))))) OR (y22 AND x22))) OR (y23 AND x23))))) OR (x25 XOR y25))) OR (x26 AND y26))) OR (y27 AND x27)) AND (y28 XOR x28))))) AND (y30 XOR x30)) OR (y30 AND x30)) AND (x31 XOR y31)) OR (x31 AND y31)) AND (y32 XOR x32)))) OR (x33 AND y33))))) OR (y35 AND x35)) AND (x36 XOR y36)) OR (x36 AND y36)) AND (x37 XOR y37)) OR (x37 AND y37)) AND (x38 XOR y38))))\n",
      "(((((y38 AND x38) OR ((((((((x35 XOR y35) AND (((((x33 XOR y33) AND ((y32 AND x32) OR (((((((y29 AND x29) OR ((x29 XOR y29) AND ((y28 AND x28) OR ((((x27 XOR y27) AND (((x26 XOR y26) AND (((x25 AND y25) AND ((x24 AND y24) OR ((y24 XOR x24) AND (((x23 XOR y23) AND (((y22 XOR x22) AND ((y21 AND x21) OR ((x21 XOR y21) AND ((y20 AND x20) OR (((x19 AND y19) OR (((x18 AND y18) OR ((x18 XOR y18) AND ((((x16 AND y16) OR (((((((y13 XOR x13) AND ((x12 AND y12) OR ((x12 XOR y12) AND ((y11 AND x11) OR ((y11 XOR x11) AND (((y10 XOR x10) XOR ((x09 AND y09) OR (((((x07 AND y07) OR ((y07 XOR x07) AND (((y06 XOR x06) AND (((y05 XOR x05) AND ((x04 AND y04) OR ((y04 XOR x04) AND ((x03 AND y03) OR ((y03 XOR x03) AND (((((x00 AND y00) AND (y01 XOR x01)) OR (y01 AND x01)) AND (x02 XOR y02)) OR (y02 AND x02))))))) OR (x05 AND y05))) OR (y06 AND x06)))) AND (x08 XOR y08)) OR (y08 AND x08)) AND (y09 XOR x09)))) OR (x10 AND y10))))))) OR (x13 AND y13)) XOR (x14 XOR y14)) AND (y15 XOR x15)) OR (y15 AND x15)) AND (y16 XOR x16))) AND (x17 XOR y17)) OR (x17 AND y17)))) AND (y19 XOR x19))) AND (x20 XOR y20)))))) OR (y22 AND x22))) OR (y23 AND x23))))) OR (x25 XOR y25))) OR (x26 AND y26))) OR (y27 AND x27)) AND (y28 XOR x28))))) AND (y30 XOR x30)) OR (y30 AND x30)) AND (x31 XOR y31)) OR (x31 AND y31)) AND (y32 XOR x32)))) OR (x33 AND y33)) AND (y34 XOR x34)) OR ((y34 XOR x34) XOR (((x33 XOR y33) AND ((y32 AND x32) OR (((((((y29 AND x29) OR ((x29 XOR y29) AND ((y28 AND x28) OR ((((x27 XOR y27) AND (((x26 XOR y26) AND (((x25 AND y25) AND ((x24 AND y24) OR ((y24 XOR x24) AND (((x23 XOR y23) AND (((y22 XOR x22) AND ((y21 AND x21) OR ((x21 XOR y21) AND ((y20 AND x20) OR (((x19 AND y19) OR (((x18 AND y18) OR ((x18 XOR y18) AND ((((x16 AND y16) OR (((((((y13 XOR x13) AND ((x12 AND y12) OR ((x12 XOR y12) AND ((y11 AND x11) OR ((y11 XOR x11) AND (((y10 XOR x10) XOR ((x09 AND y09) OR (((((x07 AND y07) OR ((y07 XOR x07) AND (((y06 XOR x06) AND (((y05 XOR x05) AND ((x04 AND y04) OR ((y04 XOR x04) AND ((x03 AND y03) OR ((y03 XOR x03) AND (((((x00 AND y00) AND (y01 XOR x01)) OR (y01 AND x01)) AND (x02 XOR y02)) OR (y02 AND x02))))))) OR (x05 AND y05))) OR (y06 AND x06)))) AND (x08 XOR y08)) OR (y08 AND x08)) AND (y09 XOR x09)))) OR (x10 AND y10))))))) OR (x13 AND y13)) XOR (x14 XOR y14)) AND (y15 XOR x15)) OR (y15 AND x15)) AND (y16 XOR x16))) AND (x17 XOR y17)) OR (x17 AND y17)))) AND (y19 XOR x19))) AND (x20 XOR y20)))))) OR (y22 AND x22))) OR (y23 AND x23))))) OR (x25 XOR y25))) OR (x26 AND y26))) OR (y27 AND x27)) AND (y28 XOR x28))))) AND (y30 XOR x30)) OR (y30 AND x30)) AND (x31 XOR y31)) OR (x31 AND y31)) AND (y32 XOR x32)))) OR (x33 AND y33))))) OR (y35 AND x35)) AND (x36 XOR y36)) OR (x36 AND y36)) AND (x37 XOR y37)) OR (x37 AND y37)) AND (x38 XOR y38))) AND (y39 XOR x39)) OR (x39 AND y39)) XOR (x40 XOR y40))\n",
      "((y41 XOR x41) XOR ((((((y38 AND x38) OR ((((((((x35 XOR y35) AND (((((x33 XOR y33) AND ((y32 AND x32) OR (((((((y29 AND x29) OR ((x29 XOR y29) AND ((y28 AND x28) OR ((((x27 XOR y27) AND (((x26 XOR y26) AND (((x25 AND y25) AND ((x24 AND y24) OR ((y24 XOR x24) AND (((x23 XOR y23) AND (((y22 XOR x22) AND ((y21 AND x21) OR ((x21 XOR y21) AND ((y20 AND x20) OR (((x19 AND y19) OR (((x18 AND y18) OR ((x18 XOR y18) AND ((((x16 AND y16) OR (((((((y13 XOR x13) AND ((x12 AND y12) OR ((x12 XOR y12) AND ((y11 AND x11) OR ((y11 XOR x11) AND (((y10 XOR x10) XOR ((x09 AND y09) OR (((((x07 AND y07) OR ((y07 XOR x07) AND (((y06 XOR x06) AND (((y05 XOR x05) AND ((x04 AND y04) OR ((y04 XOR x04) AND ((x03 AND y03) OR ((y03 XOR x03) AND (((((x00 AND y00) AND (y01 XOR x01)) OR (y01 AND x01)) AND (x02 XOR y02)) OR (y02 AND x02))))))) OR (x05 AND y05))) OR (y06 AND x06)))) AND (x08 XOR y08)) OR (y08 AND x08)) AND (y09 XOR x09)))) OR (x10 AND y10))))))) OR (x13 AND y13)) XOR (x14 XOR y14)) AND (y15 XOR x15)) OR (y15 AND x15)) AND (y16 XOR x16))) AND (x17 XOR y17)) OR (x17 AND y17)))) AND (y19 XOR x19))) AND (x20 XOR y20)))))) OR (y22 AND x22))) OR (y23 AND x23))))) OR (x25 XOR y25))) OR (x26 AND y26))) OR (y27 AND x27)) AND (y28 XOR x28))))) AND (y30 XOR x30)) OR (y30 AND x30)) AND (x31 XOR y31)) OR (x31 AND y31)) AND (y32 XOR x32)))) OR (x33 AND y33)) AND (y34 XOR x34)) OR ((y34 XOR x34) XOR (((x33 XOR y33) AND ((y32 AND x32) OR (((((((y29 AND x29) OR ((x29 XOR y29) AND ((y28 AND x28) OR ((((x27 XOR y27) AND (((x26 XOR y26) AND (((x25 AND y25) AND ((x24 AND y24) OR ((y24 XOR x24) AND (((x23 XOR y23) AND (((y22 XOR x22) AND ((y21 AND x21) OR ((x21 XOR y21) AND ((y20 AND x20) OR (((x19 AND y19) OR (((x18 AND y18) OR ((x18 XOR y18) AND ((((x16 AND y16) OR (((((((y13 XOR x13) AND ((x12 AND y12) OR ((x12 XOR y12) AND ((y11 AND x11) OR ((y11 XOR x11) AND (((y10 XOR x10) XOR ((x09 AND y09) OR (((((x07 AND y07) OR ((y07 XOR x07) AND (((y06 XOR x06) AND (((y05 XOR x05) AND ((x04 AND y04) OR ((y04 XOR x04) AND ((x03 AND y03) OR ((y03 XOR x03) AND (((((x00 AND y00) AND (y01 XOR x01)) OR (y01 AND x01)) AND (x02 XOR y02)) OR (y02 AND x02))))))) OR (x05 AND y05))) OR (y06 AND x06)))) AND (x08 XOR y08)) OR (y08 AND x08)) AND (y09 XOR x09)))) OR (x10 AND y10))))))) OR (x13 AND y13)) XOR (x14 XOR y14)) AND (y15 XOR x15)) OR (y15 AND x15)) AND (y16 XOR x16))) AND (x17 XOR y17)) OR (x17 AND y17)))) AND (y19 XOR x19))) AND (x20 XOR y20)))))) OR (y22 AND x22))) OR (y23 AND x23))))) OR (x25 XOR y25))) OR (x26 AND y26))) OR (y27 AND x27)) AND (y28 XOR x28))))) AND (y30 XOR x30)) OR (y30 AND x30)) AND (x31 XOR y31)) OR (x31 AND y31)) AND (y32 XOR x32)))) OR (x33 AND y33))))) OR (y35 AND x35)) AND (x36 XOR y36)) OR (x36 AND y36)) AND (x37 XOR y37)) OR (x37 AND y37)) AND (x38 XOR y38))) AND (y39 XOR x39)) OR (x39 AND y39)) AND (x40 XOR y40)) OR (x40 AND y40)))\n",
      "((x42 XOR y42) XOR ((((((((y38 AND x38) OR ((((((((x35 XOR y35) AND (((((x33 XOR y33) AND ((y32 AND x32) OR (((((((y29 AND x29) OR ((x29 XOR y29) AND ((y28 AND x28) OR ((((x27 XOR y27) AND (((x26 XOR y26) AND (((x25 AND y25) AND ((x24 AND y24) OR ((y24 XOR x24) AND (((x23 XOR y23) AND (((y22 XOR x22) AND ((y21 AND x21) OR ((x21 XOR y21) AND ((y20 AND x20) OR (((x19 AND y19) OR (((x18 AND y18) OR ((x18 XOR y18) AND ((((x16 AND y16) OR (((((((y13 XOR x13) AND ((x12 AND y12) OR ((x12 XOR y12) AND ((y11 AND x11) OR ((y11 XOR x11) AND (((y10 XOR x10) XOR ((x09 AND y09) OR (((((x07 AND y07) OR ((y07 XOR x07) AND (((y06 XOR x06) AND (((y05 XOR x05) AND ((x04 AND y04) OR ((y04 XOR x04) AND ((x03 AND y03) OR ((y03 XOR x03) AND (((((x00 AND y00) AND (y01 XOR x01)) OR (y01 AND x01)) AND (x02 XOR y02)) OR (y02 AND x02))))))) OR (x05 AND y05))) OR (y06 AND x06)))) AND (x08 XOR y08)) OR (y08 AND x08)) AND (y09 XOR x09)))) OR (x10 AND y10))))))) OR (x13 AND y13)) XOR (x14 XOR y14)) AND (y15 XOR x15)) OR (y15 AND x15)) AND (y16 XOR x16))) AND (x17 XOR y17)) OR (x17 AND y17)))) AND (y19 XOR x19))) AND (x20 XOR y20)))))) OR (y22 AND x22))) OR (y23 AND x23))))) OR (x25 XOR y25))) OR (x26 AND y26))) OR (y27 AND x27)) AND (y28 XOR x28))))) AND (y30 XOR x30)) OR (y30 AND x30)) AND (x31 XOR y31)) OR (x31 AND y31)) AND (y32 XOR x32)))) OR (x33 AND y33)) AND (y34 XOR x34)) OR ((y34 XOR x34) XOR (((x33 XOR y33) AND ((y32 AND x32) OR (((((((y29 AND x29) OR ((x29 XOR y29) AND ((y28 AND x28) OR ((((x27 XOR y27) AND (((x26 XOR y26) AND (((x25 AND y25) AND ((x24 AND y24) OR ((y24 XOR x24) AND (((x23 XOR y23) AND (((y22 XOR x22) AND ((y21 AND x21) OR ((x21 XOR y21) AND ((y20 AND x20) OR (((x19 AND y19) OR (((x18 AND y18) OR ((x18 XOR y18) AND ((((x16 AND y16) OR (((((((y13 XOR x13) AND ((x12 AND y12) OR ((x12 XOR y12) AND ((y11 AND x11) OR ((y11 XOR x11) AND (((y10 XOR x10) XOR ((x09 AND y09) OR (((((x07 AND y07) OR ((y07 XOR x07) AND (((y06 XOR x06) AND (((y05 XOR x05) AND ((x04 AND y04) OR ((y04 XOR x04) AND ((x03 AND y03) OR ((y03 XOR x03) AND (((((x00 AND y00) AND (y01 XOR x01)) OR (y01 AND x01)) AND (x02 XOR y02)) OR (y02 AND x02))))))) OR (x05 AND y05))) OR (y06 AND x06)))) AND (x08 XOR y08)) OR (y08 AND x08)) AND (y09 XOR x09)))) OR (x10 AND y10))))))) OR (x13 AND y13)) XOR (x14 XOR y14)) AND (y15 XOR x15)) OR (y15 AND x15)) AND (y16 XOR x16))) AND (x17 XOR y17)) OR (x17 AND y17)))) AND (y19 XOR x19))) AND (x20 XOR y20)))))) OR (y22 AND x22))) OR (y23 AND x23))))) OR (x25 XOR y25))) OR (x26 AND y26))) OR (y27 AND x27)) AND (y28 XOR x28))))) AND (y30 XOR x30)) OR (y30 AND x30)) AND (x31 XOR y31)) OR (x31 AND y31)) AND (y32 XOR x32)))) OR (x33 AND y33))))) OR (y35 AND x35)) AND (x36 XOR y36)) OR (x36 AND y36)) AND (x37 XOR y37)) OR (x37 AND y37)) AND (x38 XOR y38))) AND (y39 XOR x39)) OR (x39 AND y39)) AND (x40 XOR y40)) OR (x40 AND y40)) AND (y41 XOR x41)) OR (x41 AND y41)))\n",
      "((((x42 XOR y42) AND ((((((((y38 AND x38) OR ((((((((x35 XOR y35) AND (((((x33 XOR y33) AND ((y32 AND x32) OR (((((((y29 AND x29) OR ((x29 XOR y29) AND ((y28 AND x28) OR ((((x27 XOR y27) AND (((x26 XOR y26) AND (((x25 AND y25) AND ((x24 AND y24) OR ((y24 XOR x24) AND (((x23 XOR y23) AND (((y22 XOR x22) AND ((y21 AND x21) OR ((x21 XOR y21) AND ((y20 AND x20) OR (((x19 AND y19) OR (((x18 AND y18) OR ((x18 XOR y18) AND ((((x16 AND y16) OR (((((((y13 XOR x13) AND ((x12 AND y12) OR ((x12 XOR y12) AND ((y11 AND x11) OR ((y11 XOR x11) AND (((y10 XOR x10) XOR ((x09 AND y09) OR (((((x07 AND y07) OR ((y07 XOR x07) AND (((y06 XOR x06) AND (((y05 XOR x05) AND ((x04 AND y04) OR ((y04 XOR x04) AND ((x03 AND y03) OR ((y03 XOR x03) AND (((((x00 AND y00) AND (y01 XOR x01)) OR (y01 AND x01)) AND (x02 XOR y02)) OR (y02 AND x02))))))) OR (x05 AND y05))) OR (y06 AND x06)))) AND (x08 XOR y08)) OR (y08 AND x08)) AND (y09 XOR x09)))) OR (x10 AND y10))))))) OR (x13 AND y13)) XOR (x14 XOR y14)) AND (y15 XOR x15)) OR (y15 AND x15)) AND (y16 XOR x16))) AND (x17 XOR y17)) OR (x17 AND y17)))) AND (y19 XOR x19))) AND (x20 XOR y20)))))) OR (y22 AND x22))) OR (y23 AND x23))))) OR (x25 XOR y25))) OR (x26 AND y26))) OR (y27 AND x27)) AND (y28 XOR x28))))) AND (y30 XOR x30)) OR (y30 AND x30)) AND (x31 XOR y31)) OR (x31 AND y31)) AND (y32 XOR x32)))) OR (x33 AND y33)) AND (y34 XOR x34)) OR ((y34 XOR x34) XOR (((x33 XOR y33) AND ((y32 AND x32) OR (((((((y29 AND x29) OR ((x29 XOR y29) AND ((y28 AND x28) OR ((((x27 XOR y27) AND (((x26 XOR y26) AND (((x25 AND y25) AND ((x24 AND y24) OR ((y24 XOR x24) AND (((x23 XOR y23) AND (((y22 XOR x22) AND ((y21 AND x21) OR ((x21 XOR y21) AND ((y20 AND x20) OR (((x19 AND y19) OR (((x18 AND y18) OR ((x18 XOR y18) AND ((((x16 AND y16) OR (((((((y13 XOR x13) AND ((x12 AND y12) OR ((x12 XOR y12) AND ((y11 AND x11) OR ((y11 XOR x11) AND (((y10 XOR x10) XOR ((x09 AND y09) OR (((((x07 AND y07) OR ((y07 XOR x07) AND (((y06 XOR x06) AND (((y05 XOR x05) AND ((x04 AND y04) OR ((y04 XOR x04) AND ((x03 AND y03) OR ((y03 XOR x03) AND (((((x00 AND y00) AND (y01 XOR x01)) OR (y01 AND x01)) AND (x02 XOR y02)) OR (y02 AND x02))))))) OR (x05 AND y05))) OR (y06 AND x06)))) AND (x08 XOR y08)) OR (y08 AND x08)) AND (y09 XOR x09)))) OR (x10 AND y10))))))) OR (x13 AND y13)) XOR (x14 XOR y14)) AND (y15 XOR x15)) OR (y15 AND x15)) AND (y16 XOR x16))) AND (x17 XOR y17)) OR (x17 AND y17)))) AND (y19 XOR x19))) AND (x20 XOR y20)))))) OR (y22 AND x22))) OR (y23 AND x23))))) OR (x25 XOR y25))) OR (x26 AND y26))) OR (y27 AND x27)) AND (y28 XOR x28))))) AND (y30 XOR x30)) OR (y30 AND x30)) AND (x31 XOR y31)) OR (x31 AND y31)) AND (y32 XOR x32)))) OR (x33 AND y33))))) OR (y35 AND x35)) AND (x36 XOR y36)) OR (x36 AND y36)) AND (x37 XOR y37)) OR (x37 AND y37)) AND (x38 XOR y38))) AND (y39 XOR x39)) OR (x39 AND y39)) AND (x40 XOR y40)) OR (x40 AND y40)) AND (y41 XOR x41)) OR (x41 AND y41))) OR (y42 AND x42)) XOR (x43 XOR y43))\n",
      "((y44 XOR x44) XOR (((x43 XOR y43) AND (((x42 XOR y42) AND ((((((((y38 AND x38) OR ((((((((x35 XOR y35) AND (((((x33 XOR y33) AND ((y32 AND x32) OR (((((((y29 AND x29) OR ((x29 XOR y29) AND ((y28 AND x28) OR ((((x27 XOR y27) AND (((x26 XOR y26) AND (((x25 AND y25) AND ((x24 AND y24) OR ((y24 XOR x24) AND (((x23 XOR y23) AND (((y22 XOR x22) AND ((y21 AND x21) OR ((x21 XOR y21) AND ((y20 AND x20) OR (((x19 AND y19) OR (((x18 AND y18) OR ((x18 XOR y18) AND ((((x16 AND y16) OR (((((((y13 XOR x13) AND ((x12 AND y12) OR ((x12 XOR y12) AND ((y11 AND x11) OR ((y11 XOR x11) AND (((y10 XOR x10) XOR ((x09 AND y09) OR (((((x07 AND y07) OR ((y07 XOR x07) AND (((y06 XOR x06) AND (((y05 XOR x05) AND ((x04 AND y04) OR ((y04 XOR x04) AND ((x03 AND y03) OR ((y03 XOR x03) AND (((((x00 AND y00) AND (y01 XOR x01)) OR (y01 AND x01)) AND (x02 XOR y02)) OR (y02 AND x02))))))) OR (x05 AND y05))) OR (y06 AND x06)))) AND (x08 XOR y08)) OR (y08 AND x08)) AND (y09 XOR x09)))) OR (x10 AND y10))))))) OR (x13 AND y13)) XOR (x14 XOR y14)) AND (y15 XOR x15)) OR (y15 AND x15)) AND (y16 XOR x16))) AND (x17 XOR y17)) OR (x17 AND y17)))) AND (y19 XOR x19))) AND (x20 XOR y20)))))) OR (y22 AND x22))) OR (y23 AND x23))))) OR (x25 XOR y25))) OR (x26 AND y26))) OR (y27 AND x27)) AND (y28 XOR x28))))) AND (y30 XOR x30)) OR (y30 AND x30)) AND (x31 XOR y31)) OR (x31 AND y31)) AND (y32 XOR x32)))) OR (x33 AND y33)) AND (y34 XOR x34)) OR ((y34 XOR x34) XOR (((x33 XOR y33) AND ((y32 AND x32) OR (((((((y29 AND x29) OR ((x29 XOR y29) AND ((y28 AND x28) OR ((((x27 XOR y27) AND (((x26 XOR y26) AND (((x25 AND y25) AND ((x24 AND y24) OR ((y24 XOR x24) AND (((x23 XOR y23) AND (((y22 XOR x22) AND ((y21 AND x21) OR ((x21 XOR y21) AND ((y20 AND x20) OR (((x19 AND y19) OR (((x18 AND y18) OR ((x18 XOR y18) AND ((((x16 AND y16) OR (((((((y13 XOR x13) AND ((x12 AND y12) OR ((x12 XOR y12) AND ((y11 AND x11) OR ((y11 XOR x11) AND (((y10 XOR x10) XOR ((x09 AND y09) OR (((((x07 AND y07) OR ((y07 XOR x07) AND (((y06 XOR x06) AND (((y05 XOR x05) AND ((x04 AND y04) OR ((y04 XOR x04) AND ((x03 AND y03) OR ((y03 XOR x03) AND (((((x00 AND y00) AND (y01 XOR x01)) OR (y01 AND x01)) AND (x02 XOR y02)) OR (y02 AND x02))))))) OR (x05 AND y05))) OR (y06 AND x06)))) AND (x08 XOR y08)) OR (y08 AND x08)) AND (y09 XOR x09)))) OR (x10 AND y10))))))) OR (x13 AND y13)) XOR (x14 XOR y14)) AND (y15 XOR x15)) OR (y15 AND x15)) AND (y16 XOR x16))) AND (x17 XOR y17)) OR (x17 AND y17)))) AND (y19 XOR x19))) AND (x20 XOR y20)))))) OR (y22 AND x22))) OR (y23 AND x23))))) OR (x25 XOR y25))) OR (x26 AND y26))) OR (y27 AND x27)) AND (y28 XOR x28))))) AND (y30 XOR x30)) OR (y30 AND x30)) AND (x31 XOR y31)) OR (x31 AND y31)) AND (y32 XOR x32)))) OR (x33 AND y33))))) OR (y35 AND x35)) AND (x36 XOR y36)) OR (x36 AND y36)) AND (x37 XOR y37)) OR (x37 AND y37)) AND (x38 XOR y38))) AND (y39 XOR x39)) OR (x39 AND y39)) AND (x40 XOR y40)) OR (x40 AND y40)) AND (y41 XOR x41)) OR (x41 AND y41))) OR (y42 AND x42))) OR (y43 AND x43)))\n",
      "(((((x43 XOR y43) AND (((x42 XOR y42) AND ((((((((y38 AND x38) OR ((((((((x35 XOR y35) AND (((((x33 XOR y33) AND ((y32 AND x32) OR (((((((y29 AND x29) OR ((x29 XOR y29) AND ((y28 AND x28) OR ((((x27 XOR y27) AND (((x26 XOR y26) AND (((x25 AND y25) AND ((x24 AND y24) OR ((y24 XOR x24) AND (((x23 XOR y23) AND (((y22 XOR x22) AND ((y21 AND x21) OR ((x21 XOR y21) AND ((y20 AND x20) OR (((x19 AND y19) OR (((x18 AND y18) OR ((x18 XOR y18) AND ((((x16 AND y16) OR (((((((y13 XOR x13) AND ((x12 AND y12) OR ((x12 XOR y12) AND ((y11 AND x11) OR ((y11 XOR x11) AND (((y10 XOR x10) XOR ((x09 AND y09) OR (((((x07 AND y07) OR ((y07 XOR x07) AND (((y06 XOR x06) AND (((y05 XOR x05) AND ((x04 AND y04) OR ((y04 XOR x04) AND ((x03 AND y03) OR ((y03 XOR x03) AND (((((x00 AND y00) AND (y01 XOR x01)) OR (y01 AND x01)) AND (x02 XOR y02)) OR (y02 AND x02))))))) OR (x05 AND y05))) OR (y06 AND x06)))) AND (x08 XOR y08)) OR (y08 AND x08)) AND (y09 XOR x09)))) OR (x10 AND y10))))))) OR (x13 AND y13)) XOR (x14 XOR y14)) AND (y15 XOR x15)) OR (y15 AND x15)) AND (y16 XOR x16))) AND (x17 XOR y17)) OR (x17 AND y17)))) AND (y19 XOR x19))) AND (x20 XOR y20)))))) OR (y22 AND x22))) OR (y23 AND x23))))) OR (x25 XOR y25))) OR (x26 AND y26))) OR (y27 AND x27)) AND (y28 XOR x28))))) AND (y30 XOR x30)) OR (y30 AND x30)) AND (x31 XOR y31)) OR (x31 AND y31)) AND (y32 XOR x32)))) OR (x33 AND y33)) AND (y34 XOR x34)) OR ((y34 XOR x34) XOR (((x33 XOR y33) AND ((y32 AND x32) OR (((((((y29 AND x29) OR ((x29 XOR y29) AND ((y28 AND x28) OR ((((x27 XOR y27) AND (((x26 XOR y26) AND (((x25 AND y25) AND ((x24 AND y24) OR ((y24 XOR x24) AND (((x23 XOR y23) AND (((y22 XOR x22) AND ((y21 AND x21) OR ((x21 XOR y21) AND ((y20 AND x20) OR (((x19 AND y19) OR (((x18 AND y18) OR ((x18 XOR y18) AND ((((x16 AND y16) OR (((((((y13 XOR x13) AND ((x12 AND y12) OR ((x12 XOR y12) AND ((y11 AND x11) OR ((y11 XOR x11) AND (((y10 XOR x10) XOR ((x09 AND y09) OR (((((x07 AND y07) OR ((y07 XOR x07) AND (((y06 XOR x06) AND (((y05 XOR x05) AND ((x04 AND y04) OR ((y04 XOR x04) AND ((x03 AND y03) OR ((y03 XOR x03) AND (((((x00 AND y00) AND (y01 XOR x01)) OR (y01 AND x01)) AND (x02 XOR y02)) OR (y02 AND x02))))))) OR (x05 AND y05))) OR (y06 AND x06)))) AND (x08 XOR y08)) OR (y08 AND x08)) AND (y09 XOR x09)))) OR (x10 AND y10))))))) OR (x13 AND y13)) XOR (x14 XOR y14)) AND (y15 XOR x15)) OR (y15 AND x15)) AND (y16 XOR x16))) AND (x17 XOR y17)) OR (x17 AND y17)))) AND (y19 XOR x19))) AND (x20 XOR y20)))))) OR (y22 AND x22))) OR (y23 AND x23))))) OR (x25 XOR y25))) OR (x26 AND y26))) OR (y27 AND x27)) AND (y28 XOR x28))))) AND (y30 XOR x30)) OR (y30 AND x30)) AND (x31 XOR y31)) OR (x31 AND y31)) AND (y32 XOR x32)))) OR (x33 AND y33))))) OR (y35 AND x35)) AND (x36 XOR y36)) OR (x36 AND y36)) AND (x37 XOR y37)) OR (x37 AND y37)) AND (x38 XOR y38))) AND (y39 XOR x39)) OR (x39 AND y39)) AND (x40 XOR y40)) OR (x40 AND y40)) AND (y41 XOR x41)) OR (x41 AND y41))) OR (y42 AND x42))) OR (y43 AND x43)) AND (y44 XOR x44)) OR (x44 AND y44))\n"
     ]
    }
   ],
   "source": [
    "wires, gates, wires_starting_with_z = parse_input('input.txt')\n",
    "\n",
    "for out in sorted(wires_starting_with_z):\n",
    "    seq2out = get_sequence_operations(out, gates)\n",
    "    print(seq2out)"
   ]
  },
  {
   "cell_type": "code",
   "execution_count": 30,
   "metadata": {},
   "outputs": [
    {
     "ename": "AssertionError",
     "evalue": "10",
     "output_type": "error",
     "traceback": [
      "\u001b[0;31m---------------------------------------------------------------------------\u001b[0m",
      "\u001b[0;31mAssertionError\u001b[0m                            Traceback (most recent call last)",
      "Cell \u001b[0;32mIn[30], line 12\u001b[0m\n\u001b[1;32m     10\u001b[0m     carry \u001b[38;5;241m=\u001b[39m x \u001b[38;5;241m&\u001b[39m y\n\u001b[1;32m     11\u001b[0m \u001b[38;5;28;01melse\u001b[39;00m:\n\u001b[0;32m---> 12\u001b[0m     \u001b[38;5;28;01massert\u001b[39;00m wires[\u001b[38;5;124mf\u001b[39m\u001b[38;5;124m'\u001b[39m\u001b[38;5;124mz\u001b[39m\u001b[38;5;132;01m{\u001b[39;00mi\u001b[38;5;132;01m:\u001b[39;00m\u001b[38;5;124m02d\u001b[39m\u001b[38;5;132;01m}\u001b[39;00m\u001b[38;5;124m'\u001b[39m] \u001b[38;5;241m==\u001b[39m partial_sum \u001b[38;5;241m^\u001b[39m carry, i\n\u001b[1;32m     13\u001b[0m     carry \u001b[38;5;241m=\u001b[39m (carry \u001b[38;5;241m&\u001b[39m partial_sum) \u001b[38;5;241m|\u001b[39m (x \u001b[38;5;241m&\u001b[39m y)\n",
      "\u001b[0;31mAssertionError\u001b[0m: 10"
     ]
    }
   ],
   "source": [
    "wires, gates, wires_starting_with_z = parse_input('input.txt')\n",
    "wires = run_until_all_z_done(wires, gates, wires_starting_with_z)\n",
    "\n",
    "x, y = wires['x00'], wires['y00']\n",
    "for i in range(45):\n",
    "    x, y = wires[f'x{i:02d}'], wires[f'y{i:02d}']\n",
    "    partial_sum = x ^ y\n",
    "    if i == 0:\n",
    "        assert wires[f'z{i:02d}'] == partial_sum\n",
    "        carry = x & y\n",
    "    else:\n",
    "        assert wires[f'z{i:02d}'] == partial_sum ^ carry, i\n",
    "        carry = (carry & partial_sum) | (x & y)"
   ]
  },
  {
   "cell_type": "code",
   "execution_count": null,
   "metadata": {},
   "outputs": [
    {
     "data": {
      "text/plain": [
       "0"
      ]
     },
     "execution_count": 25,
     "metadata": {},
     "output_type": "execute_result"
    }
   ],
   "source": []
  },
  {
   "cell_type": "code",
   "execution_count": 40,
   "metadata": {},
   "outputs": [
    {
     "data": {
      "text/plain": [
       "0"
      ]
     },
     "execution_count": 40,
     "metadata": {},
     "output_type": "execute_result"
    }
   ],
   "source": [
    "z"
   ]
  },
  {
   "cell_type": "code",
   "execution_count": null,
   "metadata": {},
   "outputs": [],
   "source": []
  }
 ],
 "metadata": {
  "kernelspec": {
   "display_name": "base",
   "language": "python",
   "name": "python3"
  },
  "language_info": {
   "codemirror_mode": {
    "name": "ipython",
    "version": 3
   },
   "file_extension": ".py",
   "mimetype": "text/x-python",
   "name": "python",
   "nbconvert_exporter": "python",
   "pygments_lexer": "ipython3",
   "version": "3.12.7"
  }
 },
 "nbformat": 4,
 "nbformat_minor": 2
}
