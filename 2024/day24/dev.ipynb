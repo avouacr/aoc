{
 "cells": [
  {
   "cell_type": "code",
   "execution_count": null,
   "metadata": {},
   "outputs": [],
   "source": []
  },
  {
   "cell_type": "code",
   "execution_count": 12,
   "metadata": {},
   "outputs": [],
   "source": [
    "def parse_input(file):\n",
    "    with open(file) as file_in:\n",
    "        wires, gates = file_in.read().split('\\n\\n')\n",
    "\n",
    "    wire_dict = {}\n",
    "    for row in wires.splitlines():\n",
    "        wire, value = row.split(': ')\n",
    "        wire_dict[wire] = int(value)\n",
    "    \n",
    "    op_name2sign = {'AND': '&', 'OR': '|', 'XOR': '^'}\n",
    "    gates_parsed = []\n",
    "    for row in gates.splitlines():\n",
    "        rule, out = row.split(' -> ')\n",
    "        in1, op, in2 = rule.split(' ')\n",
    "        gates_parsed.append((in1, op_name2sign[op], in2, out))\n",
    "\n",
    "    return wire_dict, gates_parsed"
   ]
  },
  {
   "cell_type": "code",
   "execution_count": 14,
   "metadata": {},
   "outputs": [],
   "source": [
    "wires, gates = parse_input('example1.txt')"
   ]
  },
  {
   "cell_type": "code",
   "execution_count": null,
   "metadata": {},
   "outputs": [],
   "source": []
  }
 ],
 "metadata": {
  "kernelspec": {
   "display_name": "base",
   "language": "python",
   "name": "python3"
  },
  "language_info": {
   "codemirror_mode": {
    "name": "ipython",
    "version": 3
   },
   "file_extension": ".py",
   "mimetype": "text/x-python",
   "name": "python",
   "nbconvert_exporter": "python",
   "pygments_lexer": "ipython3",
   "version": "3.12.7"
  }
 },
 "nbformat": 4,
 "nbformat_minor": 2
}
