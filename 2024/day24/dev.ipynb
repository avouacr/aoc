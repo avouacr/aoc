{
 "cells": [
  {
   "cell_type": "code",
   "execution_count": 3,
   "metadata": {},
   "outputs": [],
   "source": [
    "from collections import defaultdict, deque\n",
    "from itertools import combinations\n",
    "\n",
    "from tqdm import tqdm\n",
    "import networkx as nx\n",
    "import matplotlib.pyplot as plt"
   ]
  },
  {
   "cell_type": "code",
   "execution_count": 4,
   "metadata": {},
   "outputs": [],
   "source": [
    "def parse_input(file):\n",
    "    with open(file) as file_in:\n",
    "        wires, gates = file_in.read().split('\\n\\n')\n",
    "\n",
    "    wires_starting_with_z = set()\n",
    "\n",
    "    wire_dict = {}\n",
    "    for row in wires.splitlines():\n",
    "        wire, value = row.split(': ')\n",
    "        wire_dict[wire] = int(value)\n",
    "    \n",
    "    gates_dict = {}\n",
    "    for row in gates.splitlines():\n",
    "        rule, out = row.split(' -> ')\n",
    "        in1, op, in2 = rule.split(' ')\n",
    "        gates_dict[out] = (in1, op, in2)\n",
    "        if out.startswith('z'):\n",
    "            wires_starting_with_z.add(out)\n",
    "\n",
    "    return wire_dict, gates_dict, wires_starting_with_z"
   ]
  },
  {
   "cell_type": "code",
   "execution_count": 5,
   "metadata": {},
   "outputs": [],
   "source": [
    "def compute_output(in1, in2, op):\n",
    "    if op == 'AND':\n",
    "        return in1 & in2\n",
    "    elif op == 'OR':\n",
    "        return in1 | in2\n",
    "    elif op == 'XOR':\n",
    "        return in1 ^ in2"
   ]
  },
  {
   "cell_type": "code",
   "execution_count": 6,
   "metadata": {},
   "outputs": [],
   "source": [
    "def run_until_all_z_done(wires, gates, wires_starting_with_z):\n",
    "    while len(wires_starting_with_z & set(wires)) != len(wires_starting_with_z):\n",
    "        for out, (in1, op, in2) in gates.items():\n",
    "            if in1 in wires and in2 in wires:\n",
    "                wires[out] = compute_output(wires[in1], wires[in2], op)\n",
    "    return wires"
   ]
  },
  {
   "cell_type": "code",
   "execution_count": 7,
   "metadata": {},
   "outputs": [],
   "source": [
    "def get_wires_group_as_bin(wires, group):\n",
    "    wires_order = sorted([w for w in wires if w.startswith(group)], reverse=True)\n",
    "    wires_values = [str(wires[w]) for w in wires_order]\n",
    "    result_bin = ''.join(wires_values)\n",
    "    return result_bin"
   ]
  },
  {
   "cell_type": "code",
   "execution_count": 8,
   "metadata": {},
   "outputs": [],
   "source": [
    "def compute_final_number(wires):\n",
    "    result_bin = get_wires_group_as_bin(wires, 'z')\n",
    "    return int(result_bin, 2)"
   ]
  },
  {
   "cell_type": "code",
   "execution_count": 29,
   "metadata": {},
   "outputs": [],
   "source": [
    "def main1(file):\n",
    "    wires, gates, wires_starting_with_z = parse_input(file)\n",
    "    wires = run_until_all_z_done(wires, gates, wires_starting_with_z)\n",
    "    return compute_final_number(wires)"
   ]
  },
  {
   "cell_type": "code",
   "execution_count": 30,
   "metadata": {},
   "outputs": [],
   "source": [
    "def main2(file):\n",
    "    # Solution by semi-manual diagnostic\n",
    "    # Ref : https://www.uop.edu.jo/PDF%20File/petra%20university%20Digital_Design_-_A_Comprehensive_Guide_to_Digital_Electronics_and_Computer_System_Architecture-Part18.pdf\n",
    "    wires, gates, wires_starting_with_z = parse_input(file)\n",
    "\n",
    "    pairs_to_swap = [('z10', 'mkk'), ('z14', 'qbw'), ('wjb', 'cvp'), ('z34', 'wcb')]\n",
    "    for x, y in pairs_to_swap:\n",
    "        gates[x], gates[y] = gates[y], gates[x]\n",
    "\n",
    "    for i, out in enumerate(sorted(wires_starting_with_z)):\n",
    "        in1, op, in2 = gates[out]\n",
    "        if out == 'z00':\n",
    "            # First operation is just a partial sum (XOR)\n",
    "            assert op == 'XOR' and set([in1, in2]) == {'x00', 'y00'}, f'Error : z{i:02d}'\n",
    "        elif out == 'z01':\n",
    "            # First operation is a partial sum (XOR) and the first carry (AND)\n",
    "            assert op == 'XOR' and set([gates[in1][1], gates[in2][1]]) == {'AND', 'XOR'}, f'Error : z{i:02d}'\n",
    "        elif out in set([f'z{i:02d}' for i in range(2, 45)]):\n",
    "            # Operations 2 to n-1 consist in a partial sum (XOR) + carry of the last operation (OR)\n",
    "            assert op == 'XOR', f'Error : z{i:02d}'\n",
    "            assert set([gates[in1][1], gates[in2][1]]) == {'OR', 'XOR'}, f'Error : z{i:02d}'\n",
    "        else:\n",
    "            # Last operation is just the output carry of the n-1th addition\n",
    "            assert op == 'OR' and gates[in1][1] == 'AND' and gates[in2][1] == 'AND', f'Error : z{i:02d}'\n",
    "\n",
    "    return ','.join(sorted([x for pair in pairs_to_swap for x in pair]))"
   ]
  },
  {
   "cell_type": "code",
   "execution_count": 31,
   "metadata": {},
   "outputs": [],
   "source": [
    "assert main1('example1.txt') == 4\n",
    "assert main1('example2.txt') == 2024"
   ]
  },
  {
   "cell_type": "code",
   "execution_count": 32,
   "metadata": {},
   "outputs": [
    {
     "data": {
      "text/plain": [
       "36902370467952"
      ]
     },
     "execution_count": 32,
     "metadata": {},
     "output_type": "execute_result"
    }
   ],
   "source": [
    "main1('input.txt')"
   ]
  },
  {
   "cell_type": "code",
   "execution_count": 33,
   "metadata": {},
   "outputs": [
    {
     "data": {
      "text/plain": [
       "'cvp,mkk,qbw,wcb,wjb,z10,z14,z34'"
      ]
     },
     "execution_count": 33,
     "metadata": {},
     "output_type": "execute_result"
    }
   ],
   "source": [
    "main2('input.txt')"
   ]
  },
  {
   "cell_type": "code",
   "execution_count": null,
   "metadata": {},
   "outputs": [],
   "source": []
  }
 ],
 "metadata": {
  "kernelspec": {
   "display_name": "base",
   "language": "python",
   "name": "python3"
  },
  "language_info": {
   "codemirror_mode": {
    "name": "ipython",
    "version": 3
   },
   "file_extension": ".py",
   "mimetype": "text/x-python",
   "name": "python",
   "nbconvert_exporter": "python",
   "pygments_lexer": "ipython3",
   "version": "3.12.7"
  }
 },
 "nbformat": 4,
 "nbformat_minor": 2
}
