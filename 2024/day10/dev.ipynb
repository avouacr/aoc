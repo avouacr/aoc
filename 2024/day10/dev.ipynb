{
 "cells": [
  {
   "cell_type": "code",
   "execution_count": 1,
   "metadata": {},
   "outputs": [],
   "source": [
    "from collections import deque\n",
    "\n",
    "import numpy as np"
   ]
  },
  {
   "cell_type": "code",
   "execution_count": 2,
   "metadata": {},
   "outputs": [],
   "source": [
    "directions = [(-1, 0), (1, 0), (0, -1), (0, 1)]"
   ]
  },
  {
   "cell_type": "code",
   "execution_count": 17,
   "metadata": {},
   "outputs": [],
   "source": [
    "def parse_grid(file):\n",
    "    with open(file) as file_in:\n",
    "        grid_txt = file_in.read()\n",
    "    \n",
    "    grid = np.array([[int(char) if char.isdigit() else -1 for char in line] for line in grid_txt.strip().split(\"\\n\")])\n",
    "    return grid"
   ]
  },
  {
   "cell_type": "code",
   "execution_count": 11,
   "metadata": {},
   "outputs": [],
   "source": [
    "def compute_score_trailhead(grid, x_start, y_start):\n",
    "    queue = deque([(x_start, y_start, [(x_start, y_start)])])\n",
    "\n",
    "    nines_reached_pos = set()\n",
    "    paths = []\n",
    "    while queue:\n",
    "        x_current, y_current, path = queue.popleft()\n",
    "        for dx, dy in directions:\n",
    "            x_candi, y_candi = x_current + dx, y_current + dy\n",
    "            if 0 <= x_candi < grid.shape[0] and 0 <= y_candi < grid.shape[1]:\n",
    "                if grid[x_candi, y_candi] - grid[x_current, y_current] == 1:\n",
    "                    if grid[x_candi, y_candi] == 9:\n",
    "                        # print((x_candi, y_candi))\n",
    "                        if (x_candi, y_candi) not in nines_reached_pos:\n",
    "                            paths.append(path)\n",
    "                            nines_reached_pos.add((x_candi, y_candi))\n",
    "                            # print(path)\n",
    "                            # print(nines_reached_pos)\n",
    "                            # print()\n",
    "                        continue\n",
    "                    else:\n",
    "                        queue.append((x_candi, y_candi, path + [(x_candi, y_candi)]))\n",
    "\n",
    "    return len(paths)"
   ]
  },
  {
   "cell_type": "code",
   "execution_count": 22,
   "metadata": {},
   "outputs": [],
   "source": [
    "def main1(file):\n",
    "    grid = parse_grid(file)\n",
    "    trailheads = np.argwhere(grid == 0)\n",
    "\n",
    "    total_score = 0\n",
    "    for start in trailheads:\n",
    "        start = start.tolist()\n",
    "        total_score += compute_score_trailhead(grid, start[0], start[1])\n",
    "\n",
    "    return total_score"
   ]
  },
  {
   "cell_type": "code",
   "execution_count": 23,
   "metadata": {},
   "outputs": [],
   "source": [
    "assert main1('example1.txt') == 36"
   ]
  },
  {
   "cell_type": "code",
   "execution_count": 25,
   "metadata": {},
   "outputs": [
    {
     "data": {
      "text/plain": [
       "638"
      ]
     },
     "execution_count": 25,
     "metadata": {},
     "output_type": "execute_result"
    }
   ],
   "source": [
    "main1('input.txt')"
   ]
  },
  {
   "cell_type": "code",
   "execution_count": null,
   "metadata": {},
   "outputs": [],
   "source": []
  }
 ],
 "metadata": {
  "kernelspec": {
   "display_name": "base",
   "language": "python",
   "name": "python3"
  },
  "language_info": {
   "codemirror_mode": {
    "name": "ipython",
    "version": 3
   },
   "file_extension": ".py",
   "mimetype": "text/x-python",
   "name": "python",
   "nbconvert_exporter": "python",
   "pygments_lexer": "ipython3",
   "version": "3.12.7"
  }
 },
 "nbformat": 4,
 "nbformat_minor": 2
}
