{
 "cells": [
  {
   "cell_type": "code",
   "execution_count": 1,
   "metadata": {},
   "outputs": [],
   "source": [
    "import re\n",
    "from math import isclose\n",
    "\n",
    "import numpy as np\n",
    "from scipy import linalg"
   ]
  },
  {
   "cell_type": "code",
   "execution_count": 2,
   "metadata": {},
   "outputs": [],
   "source": [
    "def parse_input(file):\n",
    "    with open(file) as file_in:\n",
    "        problems = file_in.read().split('\\n\\n')\n",
    "\n",
    "    parameters = []\n",
    "    for problem in problems:\n",
    "        parameters.append(tuple([int(x) for x in re.findall(r'[\\+=](\\d+)', problem)]))\n",
    "\n",
    "    return parameters"
   ]
  },
  {
   "cell_type": "code",
   "execution_count": 7,
   "metadata": {},
   "outputs": [],
   "source": [
    "def main(file, part):\n",
    "    problems = parse_input(file)\n",
    "\n",
    "    min_tokens = 0\n",
    "    for parameters in problems:\n",
    "        xa, ya, xb, yb, px, py = parameters\n",
    "        if part == 2:\n",
    "            px += 10000000000000\n",
    "            py += 10000000000000\n",
    "        A = np.array([[xa, xb], [ya, yb]])\n",
    "        B = np.array([px, py])\n",
    "        na_opt, nb_opt = linalg.solve(A, B).tolist()\n",
    "        if isclose(na_opt, round(na_opt), rel_tol=1e-14) and isclose(nb_opt, round(nb_opt), rel_tol=1e-14):\n",
    "            min_tokens += na_opt * 3 + nb_opt\n",
    "\n",
    "    return min_tokens"
   ]
  },
  {
   "cell_type": "code",
   "execution_count": 8,
   "metadata": {},
   "outputs": [],
   "source": [
    "assert main('example.txt', part=1) == 480"
   ]
  },
  {
   "cell_type": "code",
   "execution_count": 9,
   "metadata": {},
   "outputs": [
    {
     "data": {
      "text/plain": [
       "28138.0"
      ]
     },
     "execution_count": 9,
     "metadata": {},
     "output_type": "execute_result"
    }
   ],
   "source": [
    "main('input.txt', part=1) "
   ]
  },
  {
   "cell_type": "code",
   "execution_count": 10,
   "metadata": {},
   "outputs": [
    {
     "data": {
      "text/plain": [
       "108394825772874.0"
      ]
     },
     "execution_count": 10,
     "metadata": {},
     "output_type": "execute_result"
    }
   ],
   "source": [
    "main('input.txt', part=2)"
   ]
  },
  {
   "cell_type": "code",
   "execution_count": null,
   "metadata": {},
   "outputs": [],
   "source": []
  }
 ],
 "metadata": {
  "kernelspec": {
   "display_name": "base",
   "language": "python",
   "name": "python3"
  },
  "language_info": {
   "codemirror_mode": {
    "name": "ipython",
    "version": 3
   },
   "file_extension": ".py",
   "mimetype": "text/x-python",
   "name": "python",
   "nbconvert_exporter": "python",
   "pygments_lexer": "ipython3",
   "version": "3.12.7"
  }
 },
 "nbformat": 4,
 "nbformat_minor": 2
}
