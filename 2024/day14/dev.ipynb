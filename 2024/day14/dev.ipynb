{
 "cells": [
  {
   "cell_type": "code",
   "execution_count": 15,
   "metadata": {},
   "outputs": [],
   "source": [
    "import numpy as np\n",
    "from scipy.stats import entropy"
   ]
  },
  {
   "cell_type": "code",
   "execution_count": 2,
   "metadata": {},
   "outputs": [],
   "source": [
    "def parse_input(file):\n",
    "\n",
    "    with open(file) as file_in:\n",
    "        rows = file_in.read().splitlines()\n",
    "\n",
    "    robots_param = []\n",
    "    for row in rows:\n",
    "        pos, velocity = row.split(' ')\n",
    "        pos_y, pos_x = pos.split('=')[1].split(',')\n",
    "        vel_y, vel_x = velocity.split('=')[1].split(',')\n",
    "        robots_param.append([(int(pos_x), int(pos_y)), (int(vel_x), int(vel_y))])\n",
    "\n",
    "    return robots_param"
   ]
  },
  {
   "cell_type": "code",
   "execution_count": 3,
   "metadata": {},
   "outputs": [],
   "source": [
    "def get_new_pos(n_seconds, pos_x, pos_y, vel_x, vel_y, n_rows, n_cols):\n",
    "    new_pos_x = (pos_x + n_seconds * vel_x) % n_rows\n",
    "    new_pos_y = (pos_y + n_seconds * vel_y) % n_cols\n",
    "    return new_pos_x, new_pos_y"
   ]
  },
  {
   "cell_type": "code",
   "execution_count": 4,
   "metadata": {},
   "outputs": [],
   "source": [
    "def count_robots_in_quadrants(pos_robots, n_rows, n_cols):\n",
    "    med_x, med_y = n_rows // 2, n_cols // 2\n",
    "    nw, ne, sw, se = 0, 0, 0, 0\n",
    "    for pos_x, pos_y in pos_robots:\n",
    "        if pos_x < med_x and pos_y < med_y:\n",
    "            nw += 1\n",
    "        elif pos_x < med_x and pos_y > med_y:\n",
    "            ne += 1\n",
    "        elif pos_x > med_x and pos_y < med_y:\n",
    "            sw += 1\n",
    "        elif pos_x > med_x and pos_y > med_y:\n",
    "            se += 1\n",
    "    return nw, ne, sw, se"
   ]
  },
  {
   "cell_type": "code",
   "execution_count": 5,
   "metadata": {},
   "outputs": [],
   "source": [
    "def main1(file, n_rows, n_cols, n_seconds):\n",
    "    robots_param = parse_input(file)\n",
    "\n",
    "    robots_new_pos = []\n",
    "    for robot in robots_param:\n",
    "        (pos_x, pos_y), (vel_x, vel_y) = robot\n",
    "        robots_new_pos.append(get_new_pos(n_seconds, pos_x, pos_y, vel_x, vel_y, n_rows, n_cols))\n",
    "\n",
    "    nw, ne, sw, se = count_robots_in_quadrants(robots_new_pos, n_rows, n_cols)\n",
    "\n",
    "    return nw * ne * sw * se"
   ]
  },
  {
   "cell_type": "code",
   "execution_count": 6,
   "metadata": {},
   "outputs": [],
   "source": [
    "assert main1('example.txt', n_rows=7, n_cols=11, n_seconds=100) == 12"
   ]
  },
  {
   "cell_type": "code",
   "execution_count": 7,
   "metadata": {},
   "outputs": [
    {
     "data": {
      "text/plain": [
       "224357412"
      ]
     },
     "execution_count": 7,
     "metadata": {},
     "output_type": "execute_result"
    }
   ],
   "source": [
    "main1('input.txt', n_rows=103, n_cols=101, n_seconds=100)"
   ]
  },
  {
   "cell_type": "code",
   "execution_count": 11,
   "metadata": {},
   "outputs": [],
   "source": [
    "def plot_robots(robots, n_rows, n_cols, path):\n",
    "    plot = np.full((n_rows, n_cols), '.')\n",
    "    for pos_x, pos_y in robots:\n",
    "        plot[pos_x, pos_y] = 'R'\n",
    "    with open(path, 'w') as file_out:\n",
    "        for row in plot:\n",
    "            file_out.write(\"\".join(row) + \"\\n\")"
   ]
  },
  {
   "cell_type": "code",
   "execution_count": 25,
   "metadata": {},
   "outputs": [],
   "source": [
    "robots_param = parse_input('input.txt')\n",
    "n_rows, n_cols = 103, 101\n",
    "\n",
    "test = []\n",
    "for n_sec in range(10000):\n",
    "    robots_new_pos = []\n",
    "    for robot in robots_param:\n",
    "        (pos_x, pos_y), (vel_x, vel_y) = robot\n",
    "        robots_new_pos.append(get_new_pos(n_sec, pos_x, pos_y, vel_x, vel_y, n_rows, n_cols))\n",
    "    nw, ne, sw, se = count_robots_in_quadrants(robots_new_pos, n_rows, n_cols)\n",
    "    n_total = sum([nw, ne, sw, se])\n",
    "    distrib = [nw / n_total, ne / n_total, sw / n_total, se / n_total]\n",
    "    if entropy(distrib) < 1.35:\n",
    "        plot_robots(robots_new_pos, n_rows, n_cols, path=f'output/{n_sec}.txt')"
   ]
  }
 ],
 "metadata": {
  "kernelspec": {
   "display_name": "base",
   "language": "python",
   "name": "python3"
  },
  "language_info": {
   "codemirror_mode": {
    "name": "ipython",
    "version": 3
   },
   "file_extension": ".py",
   "mimetype": "text/x-python",
   "name": "python",
   "nbconvert_exporter": "python",
   "pygments_lexer": "ipython3",
   "version": "3.12.7"
  }
 },
 "nbformat": 4,
 "nbformat_minor": 2
}
