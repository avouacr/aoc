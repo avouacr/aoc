{
 "cells": [
  {
   "cell_type": "code",
   "execution_count": 53,
   "metadata": {},
   "outputs": [],
   "source": [
    "import numpy as np"
   ]
  },
  {
   "cell_type": "code",
   "execution_count": 54,
   "metadata": {},
   "outputs": [],
   "source": [
    "def parse_input(file):\n",
    "    with open(file) as file_in:\n",
    "        data = file_in.read().split('\\n\\n')\n",
    "\n",
    "    locks = []\n",
    "    keys = []\n",
    "\n",
    "    for grid in data:\n",
    "        grid = grid.splitlines()\n",
    "        grid = np.array([list(row) for row in grid])\n",
    "        if np.all(grid[0] == '#'):\n",
    "            # Lock\n",
    "            locks.append(tuple([np.count_nonzero(col == '#') - 1 for col in grid.T]))\n",
    "        else:\n",
    "            # Key\n",
    "            grid = np.flipud(grid)\n",
    "            keys.append(tuple([np.count_nonzero(col == '#') - 1 for col in grid.T]))\n",
    "\n",
    "    return locks, keys, grid.shape[0]"
   ]
  },
  {
   "cell_type": "code",
   "execution_count": 55,
   "metadata": {},
   "outputs": [],
   "source": [
    "def key_fits_lock(key, lock):\n",
    "    return all([lock[i] + key[i] + 2 <= n_rows for i in range(len(lock))])"
   ]
  },
  {
   "cell_type": "code",
   "execution_count": 56,
   "metadata": {},
   "outputs": [],
   "source": [
    "def main(file):\n",
    "    locks, keys, n_rows = parse_input(file)\n",
    "\n",
    "    n_fit = 0\n",
    "    for lock in locks:\n",
    "        for key in keys:\n",
    "            if key_fits_lock(key, lock):\n",
    "                n_fit += 1\n",
    "\n",
    "    return n_fit"
   ]
  },
  {
   "cell_type": "code",
   "execution_count": 57,
   "metadata": {},
   "outputs": [],
   "source": [
    "assert main('example1.txt') == 3"
   ]
  },
  {
   "cell_type": "code",
   "execution_count": 58,
   "metadata": {},
   "outputs": [
    {
     "data": {
      "text/plain": [
       "3327"
      ]
     },
     "execution_count": 58,
     "metadata": {},
     "output_type": "execute_result"
    }
   ],
   "source": [
    "main('input.txt')"
   ]
  },
  {
   "cell_type": "code",
   "execution_count": null,
   "metadata": {},
   "outputs": [],
   "source": []
  }
 ],
 "metadata": {
  "kernelspec": {
   "display_name": "base",
   "language": "python",
   "name": "python3"
  },
  "language_info": {
   "codemirror_mode": {
    "name": "ipython",
    "version": 3
   },
   "file_extension": ".py",
   "mimetype": "text/x-python",
   "name": "python",
   "nbconvert_exporter": "python",
   "pygments_lexer": "ipython3",
   "version": "3.12.7"
  }
 },
 "nbformat": 4,
 "nbformat_minor": 2
}
