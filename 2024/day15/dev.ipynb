{
 "cells": [
  {
   "cell_type": "code",
   "execution_count": 1,
   "metadata": {},
   "outputs": [],
   "source": [
    "import numpy as np"
   ]
  },
  {
   "cell_type": "code",
   "execution_count": 2,
   "metadata": {},
   "outputs": [],
   "source": [
    "def parse_input(file):\n",
    "    with open(file) as file_in:\n",
    "        input_str = file_in.read()\n",
    "\n",
    "    grid, moves = input_str.split('\\n\\n')\n",
    "    grid = np.array([list(row) for row in grid.splitlines()])\n",
    "    moves = ''.join(moves.splitlines())\n",
    "\n",
    "    return grid, moves"
   ]
  },
  {
   "cell_type": "code",
   "execution_count": 8,
   "metadata": {},
   "outputs": [],
   "source": [
    "def get_new_pos_boxes(x_current, y_current, move, pos_boxes, pos_walls):\n",
    "    nx, ny = moves2directions[move]\n",
    "    x_next, y_next = x_current + nx, y_current + ny\n",
    "\n",
    "    boxes_to_move = set()\n",
    "    while (x_next, y_next) in pos_boxes:\n",
    "        boxes_to_move.add((x_next, y_next))\n",
    "        x_next, y_next = x_next + nx, y_next + ny\n",
    "\n",
    "    if (x_next, y_next) in pos_walls:\n",
    "        return []\n",
    "    else:\n",
    "        pos_boxes = set([(x, y) if (x, y) not in boxes_to_move else (x+nx, y+ny) for x, y in pos_boxes])\n",
    "        return pos_boxes"
   ]
  },
  {
   "cell_type": "code",
   "execution_count": 9,
   "metadata": {},
   "outputs": [],
   "source": [
    "def get_final_boxes_pos(x_start, y_start, moves, pos_boxes, pos_walls):\n",
    "    x_current, y_current = x_start, y_start\n",
    "    for move in moves:\n",
    "        nx, ny = moves2directions[move]\n",
    "        x_next, y_next = x_current + nx, y_current + ny\n",
    "        if (x_next, y_next) in pos_walls:\n",
    "            continue\n",
    "        elif (x_next, y_next) in pos_boxes:\n",
    "            new_pos_boxes = get_new_pos_boxes(x_current, y_current, move, pos_boxes, pos_walls)\n",
    "            if new_pos_boxes:\n",
    "                pos_boxes = new_pos_boxes\n",
    "                x_current, y_current = x_next, y_next\n",
    "        else:\n",
    "            x_current, y_current = x_next, y_next\n",
    "\n",
    "    return pos_boxes"
   ]
  },
  {
   "cell_type": "code",
   "execution_count": 10,
   "metadata": {},
   "outputs": [],
   "source": [
    "moves2directions = {\n",
    "    '^': (-1, 0), \n",
    "    'v': (1, 0), \n",
    "    '<': (0, -1), \n",
    "    '>': (0, 1)\n",
    "}"
   ]
  },
  {
   "cell_type": "code",
   "execution_count": 11,
   "metadata": {},
   "outputs": [],
   "source": [
    "def main1(file):\n",
    "    grid, moves = parse_input(file)\n",
    "    pos_boxes = set([(x, y) for x, y in np.argwhere(grid == 'O').tolist()])\n",
    "    pos_walls = set([(x, y) for x, y in np.argwhere(grid == '#').tolist()])\n",
    "\n",
    "    x_start, y_start = np.argwhere(grid == '@')[0]\n",
    "    final_pos_boxes = get_final_boxes_pos(x_start, y_start, moves, pos_boxes, pos_walls)\n",
    "\n",
    "    sum_gps = 0\n",
    "    for x, y in final_pos_boxes:\n",
    "        sum_gps += 100 * x + y\n",
    "    \n",
    "    return sum_gps"
   ]
  },
  {
   "cell_type": "code",
   "execution_count": 14,
   "metadata": {},
   "outputs": [
    {
     "data": {
      "text/plain": [
       "1448589"
      ]
     },
     "execution_count": 14,
     "metadata": {},
     "output_type": "execute_result"
    }
   ],
   "source": [
    "file = 'input.txt'\n",
    "main1(file)"
   ]
  },
  {
   "cell_type": "code",
   "execution_count": null,
   "metadata": {},
   "outputs": [],
   "source": []
  }
 ],
 "metadata": {
  "kernelspec": {
   "display_name": "base",
   "language": "python",
   "name": "python3"
  },
  "language_info": {
   "codemirror_mode": {
    "name": "ipython",
    "version": 3
   },
   "file_extension": ".py",
   "mimetype": "text/x-python",
   "name": "python",
   "nbconvert_exporter": "python",
   "pygments_lexer": "ipython3",
   "version": "3.12.7"
  }
 },
 "nbformat": 4,
 "nbformat_minor": 2
}
