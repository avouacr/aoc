{
 "cells": [
  {
   "cell_type": "code",
   "execution_count": 92,
   "metadata": {},
   "outputs": [],
   "source": [
    "from collections import deque\n",
    "\n",
    "import numpy as np"
   ]
  },
  {
   "cell_type": "code",
   "execution_count": 93,
   "metadata": {},
   "outputs": [],
   "source": [
    "moves2directions = {\n",
    "    '^': (-1, 0), \n",
    "    'v': (1, 0), \n",
    "    '<': (0, -1), \n",
    "    '>': (0, 1)\n",
    "}"
   ]
  },
  {
   "cell_type": "code",
   "execution_count": 94,
   "metadata": {},
   "outputs": [],
   "source": [
    "def parse_input(file, part):\n",
    "    with open(file) as file_in:\n",
    "        input_str = file_in.read()\n",
    "\n",
    "    if part == 2:\n",
    "        input_str = input_str.replace('#', '##')\n",
    "        input_str = input_str.replace('O', '[]')\n",
    "        input_str = input_str.replace('.', '..')\n",
    "        input_str = input_str.replace('@', '@.')\n",
    "\n",
    "    grid, moves = input_str.split('\\n\\n')\n",
    "    grid = np.array([list(row) for row in grid.splitlines()])\n",
    "    moves = ''.join(moves.splitlines())\n",
    "\n",
    "    return grid, moves"
   ]
  },
  {
   "cell_type": "code",
   "execution_count": 95,
   "metadata": {},
   "outputs": [],
   "source": [
    "def get_new_pos_boxes_p1(x_current, y_current, move, pos_boxes, pos_walls):\n",
    "    nx, ny = moves2directions[move]\n",
    "    x_next, y_next = x_current + nx, y_current + ny\n",
    "\n",
    "    boxes_to_move = set()\n",
    "    while (x_next, y_next) in pos_boxes:\n",
    "        boxes_to_move.add((x_next, y_next))\n",
    "        x_next, y_next = x_next + nx, y_next + ny\n",
    "\n",
    "    if (x_next, y_next) in pos_walls:\n",
    "        return []\n",
    "    else:\n",
    "        pos_boxes = set([(x, y) if (x, y) not in boxes_to_move else (x+nx, y+ny) for x, y in pos_boxes])\n",
    "        return pos_boxes"
   ]
  },
  {
   "cell_type": "code",
   "execution_count": 96,
   "metadata": {},
   "outputs": [],
   "source": [
    "def get_final_boxes_pos(x_start, y_start, moves, pos_boxes, pos_walls):\n",
    "    x_current, y_current = x_start, y_start\n",
    "    for move in moves:\n",
    "        nx, ny = moves2directions[move]\n",
    "        x_next, y_next = x_current + nx, y_current + ny\n",
    "        if (x_next, y_next) in pos_walls:\n",
    "            continue\n",
    "        elif (x_next, y_next) in pos_boxes:\n",
    "            new_pos_boxes = get_new_pos_boxes_p1(x_current, y_current, move, pos_boxes, pos_walls)\n",
    "            if new_pos_boxes:\n",
    "                pos_boxes = new_pos_boxes\n",
    "                x_current, y_current = x_next, y_next\n",
    "        else:\n",
    "            x_current, y_current = x_next, y_next\n",
    "\n",
    "    return pos_boxes"
   ]
  },
  {
   "cell_type": "code",
   "execution_count": 97,
   "metadata": {},
   "outputs": [],
   "source": [
    "def main1(file):\n",
    "    grid, moves = parse_input(file, part=1)\n",
    "    pos_boxes = set([(x, y) for x, y in np.argwhere(grid == 'O').tolist()])\n",
    "    pos_walls = set([(x, y) for x, y in np.argwhere(grid == '#').tolist()])\n",
    "\n",
    "    x_start, y_start = np.argwhere(grid == '@')[0]\n",
    "    final_pos_boxes = get_final_boxes_pos(x_start, y_start, moves, pos_boxes, pos_walls)\n",
    "\n",
    "    sum_gps = 0\n",
    "    for x, y in final_pos_boxes:\n",
    "        sum_gps += 100 * x + y\n",
    "    \n",
    "    return sum_gps"
   ]
  },
  {
   "cell_type": "code",
   "execution_count": 98,
   "metadata": {},
   "outputs": [],
   "source": [
    "def get_parts_box(x_box, y_box, pos_boxes):\n",
    "    pos_part1 = (x_box, y_box)\n",
    "    pos_part2 = (x_box, y_box+1) if pos_boxes[x_box, y_box] == '[' else (x_box, y_box-1)\n",
    "    return [pos_part1, pos_part2]"
   ]
  },
  {
   "cell_type": "code",
   "execution_count": 99,
   "metadata": {},
   "outputs": [],
   "source": [
    "def get_new_pos_boxes_p2(x_current, y_current, move, pos_boxes, pos_walls):\n",
    "    nx, ny = moves2directions[move]\n",
    "    x_next, y_next = x_current + nx, y_current + ny\n",
    "    x_next, y_next = x_next.item(), y_next.item()\n",
    "\n",
    "    if move == '>' or move == '<':\n",
    "        # Horizontal move\n",
    "        boxes_to_move = set()\n",
    "        while (x_next, y_next) in pos_boxes:\n",
    "            boxes_to_move.add((x_next, y_next))\n",
    "            x_next, y_next = x_next, y_next + ny\n",
    "\n",
    "        if (x_next, y_next) in pos_walls:\n",
    "            return []\n",
    "        else:\n",
    "            new_pos_boxes = {}\n",
    "            for x, y in pos_boxes:\n",
    "                if (x, y) in boxes_to_move:\n",
    "                    new_pos_boxes[(x, y + ny)] = pos_boxes[(x, y)]\n",
    "                else:\n",
    "                    new_pos_boxes[(x, y)] = pos_boxes[(x, y)]\n",
    "            return new_pos_boxes\n",
    "    else:\n",
    "        # Vertical move\n",
    "        pos_box_init = get_parts_box(x_next, y_next, pos_boxes)\n",
    "\n",
    "        # Use BFS to get the coordinates of all potentially impacted boxes\n",
    "        pos_impacted_boxes = set(pos_box_init)\n",
    "        queue = deque(pos_box_init)\n",
    "        bfs_visited = set()\n",
    "        while queue:\n",
    "            x_box, y_box = queue.popleft()\n",
    "            x_box_next, y_box_next = x_box + nx, y_box\n",
    "            if (x_box_next, y_box_next) in pos_boxes and (x_box_next, y_box_next) not in bfs_visited:\n",
    "                parts_next_box = get_parts_box(x_box_next, y_box_next, pos_boxes)\n",
    "                pos_impacted_boxes.update(parts_next_box)\n",
    "                bfs_visited.update(parts_next_box)\n",
    "                queue.extend(parts_next_box)\n",
    "\n",
    "        # If all boxes can be moved, move them\n",
    "        pos_final_boxes = set([(x + nx, y) for x, y in pos_impacted_boxes])\n",
    "        if pos_final_boxes.isdisjoint(pos_walls):\n",
    "            new_pos_boxes = {}\n",
    "            for x, y in pos_boxes:\n",
    "                if (x, y) in pos_impacted_boxes:\n",
    "                    new_pos_boxes[(x + nx, y)] = pos_boxes[(x, y)]\n",
    "                else:\n",
    "                    new_pos_boxes[(x, y)] = pos_boxes[(x, y)]\n",
    "            return new_pos_boxes"
   ]
  },
  {
   "cell_type": "code",
   "execution_count": 100,
   "metadata": {},
   "outputs": [],
   "source": [
    "def debug(grid, pos_walls, pos_boxes, x_current, y_current):\n",
    "    plot = np.full_like(grid, '.')\n",
    "    for x, y in pos_walls:\n",
    "        plot[x, y] = '#'\n",
    "    for x, y in pos_boxes:\n",
    "        plot[x, y] = pos_boxes[(x, y)]\n",
    "    plot[x_current, y_current] = '@'\n",
    "    print(plot)\n",
    "    print('\\n\\n')"
   ]
  },
  {
   "cell_type": "code",
   "execution_count": 101,
   "metadata": {},
   "outputs": [],
   "source": [
    "def main2(file):\n",
    "    grid, moves = parse_input(file, part=2)\n",
    "\n",
    "    pos_boxes = [(x, y) for x, y in np.argwhere((grid == '[') | (grid == ']')).tolist()]\n",
    "    pos_boxes = {(x, y): grid[x, y].item() for (x, y) in pos_boxes}\n",
    "    pos_walls = set([(x, y) for x, y in np.argwhere(grid == '#').tolist()])\n",
    "    x_start, y_start = np.argwhere(grid == '@')[0]\n",
    "\n",
    "    x_current, y_current = x_start, y_start\n",
    "\n",
    "    for move in moves:\n",
    "        nx, ny = moves2directions[move]\n",
    "        x_next, y_next = x_current + nx, y_current + ny\n",
    "        if (x_next, y_next) in pos_walls:\n",
    "            continue\n",
    "        elif (x_next, y_next) in pos_boxes:\n",
    "            new_pos_boxes = get_new_pos_boxes_p2(x_current, y_current, move, pos_boxes, pos_walls)\n",
    "            if new_pos_boxes:\n",
    "                pos_boxes = new_pos_boxes\n",
    "                x_current, y_current = x_next, y_next\n",
    "        else:\n",
    "            x_current, y_current = x_next, y_next\n",
    "\n",
    "    sum_gps = 0\n",
    "    for x, y in pos_boxes:\n",
    "        if pos_boxes[(x, y)] == '[':\n",
    "            sum_gps += 100 * x + y\n",
    "\n",
    "    return sum_gps"
   ]
  },
  {
   "cell_type": "code",
   "execution_count": 102,
   "metadata": {},
   "outputs": [],
   "source": [
    "assert main1('example1.txt') == 2028\n",
    "assert main1('example2.txt') == 10092"
   ]
  },
  {
   "cell_type": "code",
   "execution_count": 103,
   "metadata": {},
   "outputs": [
    {
     "data": {
      "text/plain": [
       "1448589"
      ]
     },
     "execution_count": 103,
     "metadata": {},
     "output_type": "execute_result"
    }
   ],
   "source": [
    "main1('input.txt')"
   ]
  },
  {
   "cell_type": "code",
   "execution_count": 77,
   "metadata": {},
   "outputs": [
    {
     "data": {
      "text/plain": [
       "1472235"
      ]
     },
     "execution_count": 77,
     "metadata": {},
     "output_type": "execute_result"
    }
   ],
   "source": [
    "main2('input.txt')"
   ]
  },
  {
   "cell_type": "code",
   "execution_count": null,
   "metadata": {},
   "outputs": [],
   "source": []
  }
 ],
 "metadata": {
  "kernelspec": {
   "display_name": "base",
   "language": "python",
   "name": "python3"
  },
  "language_info": {
   "codemirror_mode": {
    "name": "ipython",
    "version": 3
   },
   "file_extension": ".py",
   "mimetype": "text/x-python",
   "name": "python",
   "nbconvert_exporter": "python",
   "pygments_lexer": "ipython3",
   "version": "3.12.7"
  }
 },
 "nbformat": 4,
 "nbformat_minor": 2
}
