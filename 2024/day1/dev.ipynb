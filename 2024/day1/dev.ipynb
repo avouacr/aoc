{
 "cells": [
  {
   "cell_type": "code",
   "execution_count": 15,
   "metadata": {},
   "outputs": [],
   "source": [
    "import numpy as np"
   ]
  },
  {
   "cell_type": "code",
   "execution_count": 57,
   "metadata": {},
   "outputs": [],
   "source": [
    "def parse(filepath):\n",
    "    column1 = []\n",
    "    column2 = []\n",
    "\n",
    "    with open(filepath, 'r') as file:\n",
    "        for line in file:\n",
    "            # Split each line by whitespace and unpack the values\n",
    "            num1, num2 = map(int, line.split())\n",
    "            column1.append(num1)\n",
    "            column2.append(num2)\n",
    "\n",
    "    return np.array(column1), np.array(column2)"
   ]
  },
  {
   "cell_type": "code",
   "execution_count": 71,
   "metadata": {},
   "outputs": [
    {
     "data": {
      "text/plain": [
       "np.int64(2375403)"
      ]
     },
     "execution_count": 71,
     "metadata": {},
     "output_type": "execute_result"
    }
   ],
   "source": [
    "# Part 1\n",
    "l1, l2 = parse(\"input.txt\")\n",
    "\n",
    "l1 = np.sort(l1)\n",
    "l2 = np.sort(l2)\n",
    "\n",
    "np.sum(np.abs(l1-l2))"
   ]
  },
  {
   "cell_type": "code",
   "execution_count": 72,
   "metadata": {},
   "outputs": [
    {
     "data": {
      "text/plain": [
       "np.int64(23082277)"
      ]
     },
     "execution_count": 72,
     "metadata": {},
     "output_type": "execute_result"
    }
   ],
   "source": [
    "# Part 2\n",
    "l1, l2 = parse(\"input.txt\")\n",
    "\n",
    "unique_values, counts = np.unique(l2, return_counts=True)\n",
    "n_to_counts = dict(zip(unique_values, counts))\n",
    "\n",
    "sim = 0\n",
    "for n in l1:\n",
    "    if n in l2:\n",
    "        sim += n * n_to_counts[n]\n",
    "\n",
    "sim"
   ]
  },
  {
   "cell_type": "code",
   "execution_count": null,
   "metadata": {},
   "outputs": [],
   "source": []
  }
 ],
 "metadata": {
  "kernelspec": {
   "display_name": "base",
   "language": "python",
   "name": "python3"
  },
  "language_info": {
   "codemirror_mode": {
    "name": "ipython",
    "version": 3
   },
   "file_extension": ".py",
   "mimetype": "text/x-python",
   "name": "python",
   "nbconvert_exporter": "python",
   "pygments_lexer": "ipython3",
   "version": "3.12.7"
  }
 },
 "nbformat": 4,
 "nbformat_minor": 2
}
