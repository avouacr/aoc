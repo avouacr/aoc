{
 "cells": [
  {
   "cell_type": "code",
   "execution_count": 45,
   "metadata": {},
   "outputs": [],
   "source": [
    "from itertools import product\n",
    "from functools import cache\n",
    "from tqdm import tqdm"
   ]
  },
  {
   "cell_type": "code",
   "execution_count": 21,
   "metadata": {},
   "outputs": [],
   "source": [
    "signs = ['*', '+']"
   ]
  },
  {
   "cell_type": "code",
   "execution_count": 32,
   "metadata": {},
   "outputs": [],
   "source": [
    "def parse_input(file):\n",
    "    data = []\n",
    "\n",
    "    with open(file, \"r\") as file_in:\n",
    "        for line in file_in:\n",
    "            left, right = line.strip().split(\":\")\n",
    "            data.append((int(left), list(map(int, right.split()))))\n",
    "\n",
    "    return data"
   ]
  },
  {
   "cell_type": "code",
   "execution_count": 46,
   "metadata": {},
   "outputs": [],
   "source": [
    "@cache\n",
    "def compute_operation(x, y, sign):\n",
    "    return eval(f'{x}{sign}{y}')"
   ]
  },
  {
   "cell_type": "code",
   "execution_count": 47,
   "metadata": {},
   "outputs": [],
   "source": [
    "def is_line_valid(target, numbers):\n",
    "    sign_combinations = product(signs, repeat=len(numbers) - 1)\n",
    "\n",
    "    for combi in sign_combinations:\n",
    "        result = numbers[0]\n",
    "        for i, sign in enumerate(combi):\n",
    "            result = compute_operation(result, numbers[i+1], sign)\n",
    "        if result == target:\n",
    "            return True\n",
    "\n",
    "    return False"
   ]
  },
  {
   "cell_type": "code",
   "execution_count": 48,
   "metadata": {},
   "outputs": [],
   "source": [
    "def main1(file):\n",
    "    data = parse_input(file)\n",
    "\n",
    "    result = 0\n",
    "    for target, numbers in data:\n",
    "        if is_line_valid(target, numbers):\n",
    "            result += target\n",
    "\n",
    "    return result"
   ]
  },
  {
   "cell_type": "code",
   "execution_count": 49,
   "metadata": {},
   "outputs": [],
   "source": [
    "assert main1('example1.txt') == 3749"
   ]
  },
  {
   "cell_type": "code",
   "execution_count": 50,
   "metadata": {},
   "outputs": [
    {
     "data": {
      "text/plain": [
       "12839601725877"
      ]
     },
     "execution_count": 50,
     "metadata": {},
     "output_type": "execute_result"
    }
   ],
   "source": [
    "main1('input.txt')"
   ]
  },
  {
   "cell_type": "code",
   "execution_count": null,
   "metadata": {},
   "outputs": [],
   "source": []
  }
 ],
 "metadata": {
  "kernelspec": {
   "display_name": "base",
   "language": "python",
   "name": "python3"
  },
  "language_info": {
   "codemirror_mode": {
    "name": "ipython",
    "version": 3
   },
   "file_extension": ".py",
   "mimetype": "text/x-python",
   "name": "python",
   "nbconvert_exporter": "python",
   "pygments_lexer": "ipython3",
   "version": "3.12.7"
  }
 },
 "nbformat": 4,
 "nbformat_minor": 2
}
