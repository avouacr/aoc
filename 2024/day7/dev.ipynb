{
 "cells": [
  {
   "cell_type": "code",
   "execution_count": 28,
   "metadata": {},
   "outputs": [],
   "source": [
    "from itertools import product\n",
    "from functools import cache\n",
    "from tqdm import tqdm"
   ]
  },
  {
   "cell_type": "code",
   "execution_count": 29,
   "metadata": {},
   "outputs": [],
   "source": [
    "def parse_input(file):\n",
    "    data = []\n",
    "\n",
    "    with open(file, \"r\") as file_in:\n",
    "        for line in file_in:\n",
    "            left, right = line.strip().split(\":\")\n",
    "            data.append((int(left), list(map(str, right.split()))))\n",
    "\n",
    "    return data"
   ]
  },
  {
   "cell_type": "code",
   "execution_count": 30,
   "metadata": {},
   "outputs": [],
   "source": [
    "@cache\n",
    "def compute_operation(x, y, sign):\n",
    "    if sign == \"||\":\n",
    "        return int(str(x) + y)\n",
    "    return eval(f'{x}{sign}{y}')"
   ]
  },
  {
   "cell_type": "code",
   "execution_count": 40,
   "metadata": {},
   "outputs": [],
   "source": [
    "def is_line_valid(target, numbers, signs):\n",
    "    sign_combinations = product(signs, repeat=len(numbers) - 1)\n",
    "\n",
    "    for combi in sign_combinations:\n",
    "        result = numbers[0]\n",
    "        for i, sign in enumerate(combi):\n",
    "            result = compute_operation(result, numbers[i+1], sign)\n",
    "            if result > target:\n",
    "                break\n",
    "        if result == target:\n",
    "            return True\n",
    "\n",
    "    return False"
   ]
  },
  {
   "cell_type": "code",
   "execution_count": 41,
   "metadata": {},
   "outputs": [],
   "source": [
    "def main(file, signs):\n",
    "    data = parse_input(file)\n",
    "\n",
    "    result = 0\n",
    "    for target, numbers in tqdm(data):\n",
    "        if is_line_valid(target, numbers, signs):\n",
    "            result += target\n",
    "\n",
    "    return result"
   ]
  },
  {
   "cell_type": "code",
   "execution_count": 42,
   "metadata": {},
   "outputs": [
    {
     "name": "stderr",
     "output_type": "stream",
     "text": [
      "100%|██████████| 9/9 [00:00<00:00, 65422.42it/s]\n"
     ]
    }
   ],
   "source": [
    "assert main('example1.txt', signs=['*', '+']) == 3749"
   ]
  },
  {
   "cell_type": "code",
   "execution_count": 43,
   "metadata": {},
   "outputs": [
    {
     "name": "stderr",
     "output_type": "stream",
     "text": [
      "  0%|          | 0/850 [00:00<?, ?it/s]"
     ]
    },
    {
     "name": "stderr",
     "output_type": "stream",
     "text": [
      "100%|██████████| 850/850 [00:00<00:00, 1717.15it/s]\n"
     ]
    },
    {
     "data": {
      "text/plain": [
       "12839601725877"
      ]
     },
     "execution_count": 43,
     "metadata": {},
     "output_type": "execute_result"
    }
   ],
   "source": [
    "main('input.txt', signs=['*', '+'])"
   ]
  },
  {
   "cell_type": "code",
   "execution_count": 44,
   "metadata": {},
   "outputs": [
    {
     "name": "stderr",
     "output_type": "stream",
     "text": [
      "100%|██████████| 9/9 [00:00<00:00, 24136.02it/s]\n"
     ]
    }
   ],
   "source": [
    "assert main('example1.txt', signs=['*', '+', '||']) == 11387"
   ]
  },
  {
   "cell_type": "code",
   "execution_count": 45,
   "metadata": {},
   "outputs": [
    {
     "name": "stderr",
     "output_type": "stream",
     "text": [
      "100%|██████████| 850/850 [00:23<00:00, 36.21it/s]\n"
     ]
    },
    {
     "data": {
      "text/plain": [
       "149956401519484"
      ]
     },
     "execution_count": 45,
     "metadata": {},
     "output_type": "execute_result"
    }
   ],
   "source": [
    "main('input.txt', signs=['*', '+', '||'])"
   ]
  },
  {
   "cell_type": "code",
   "execution_count": null,
   "metadata": {},
   "outputs": [],
   "source": []
  }
 ],
 "metadata": {
  "kernelspec": {
   "display_name": "base",
   "language": "python",
   "name": "python3"
  },
  "language_info": {
   "codemirror_mode": {
    "name": "ipython",
    "version": 3
   },
   "file_extension": ".py",
   "mimetype": "text/x-python",
   "name": "python",
   "nbconvert_exporter": "python",
   "pygments_lexer": "ipython3",
   "version": "3.12.7"
  }
 },
 "nbformat": 4,
 "nbformat_minor": 2
}
