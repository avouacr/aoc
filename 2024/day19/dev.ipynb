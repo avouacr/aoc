{
 "cells": [
  {
   "cell_type": "code",
   "execution_count": 21,
   "metadata": {},
   "outputs": [],
   "source": [
    "from collections import deque\n",
    "from functools import cache\n",
    "\n",
    "from tqdm import tqdm"
   ]
  },
  {
   "cell_type": "code",
   "execution_count": 40,
   "metadata": {},
   "outputs": [],
   "source": [
    "def parse_input(file):\n",
    "    with open(file) as file_in:\n",
    "        patterns, designs = file_in.read().split('\\n\\n')\n",
    "\n",
    "    patterns = set(patterns.split(', '))\n",
    "    designs = designs.splitlines()\n",
    "\n",
    "    return patterns, designs"
   ]
  },
  {
   "cell_type": "code",
   "execution_count": 41,
   "metadata": {},
   "outputs": [],
   "source": [
    "@cache\n",
    "def get_patterns_beginning(patterns, design):\n",
    "    return tuple([pat for pat in patterns if design.startswith(pat)])"
   ]
  },
  {
   "cell_type": "code",
   "execution_count": 42,
   "metadata": {},
   "outputs": [],
   "source": [
    "def is_possible(design, patterns):\n",
    "    possible_patterns = tuple([pat for pat in patterns if pat in design])\n",
    "    queue = deque(get_patterns_beginning(possible_patterns, design))\n",
    "    seen = set()\n",
    "\n",
    "    while queue:\n",
    "        pat = queue.popleft()\n",
    "        len_pat = len(pat)\n",
    "        seen.add(pat)\n",
    "\n",
    "        if pat == design:\n",
    "            return True\n",
    "        \n",
    "        candidates = get_patterns_beginning(possible_patterns, design[len_pat:])\n",
    "        if candidates:\n",
    "            queue.extend([pat + cand for cand in candidates if pat + cand not in seen])\n",
    "\n",
    "    return False"
   ]
  },
  {
   "cell_type": "code",
   "execution_count": 43,
   "metadata": {},
   "outputs": [],
   "source": [
    "def main1(file):\n",
    "    patterns, designs = parse_input(file)\n",
    "\n",
    "    n_designs_possible = 0\n",
    "    for design in tqdm(designs):\n",
    "        n_designs_possible += is_possible(design, patterns)\n",
    "\n",
    "    return n_designs_possible"
   ]
  },
  {
   "cell_type": "code",
   "execution_count": null,
   "metadata": {},
   "outputs": [],
   "source": [
    "def count_valid_ways(design, patterns):\n",
    "\n",
    "    @cache\n",
    "    def count_ways(i):\n",
    "        if i == len(design):\n",
    "            return 1\n",
    "\n",
    "        total_ways = 0\n",
    "        for pat in patterns:\n",
    "            if design.startswith(pat, i):\n",
    "                total_ways += count_ways(i + len(pat))\n",
    "        \n",
    "        return total_ways\n",
    "\n",
    "    return count_ways(0)"
   ]
  },
  {
   "cell_type": "code",
   "execution_count": 62,
   "metadata": {},
   "outputs": [],
   "source": [
    "def main2(file):\n",
    "    patterns, designs = parse_input(file)\n",
    "\n",
    "    n_valid_ways = 0\n",
    "    for design in tqdm(designs):\n",
    "        n_valid_ways += count_valid_ways(design, patterns)\n",
    "\n",
    "    return n_valid_ways"
   ]
  },
  {
   "cell_type": "code",
   "execution_count": 63,
   "metadata": {},
   "outputs": [
    {
     "name": "stderr",
     "output_type": "stream",
     "text": [
      "100%|██████████| 8/8 [00:00<00:00, 34556.57it/s]\n"
     ]
    }
   ],
   "source": [
    "assert main1('example1.txt') == 6"
   ]
  },
  {
   "cell_type": "code",
   "execution_count": 55,
   "metadata": {},
   "outputs": [
    {
     "name": "stderr",
     "output_type": "stream",
     "text": [
      "100%|██████████| 400/400 [00:12<00:00, 33.17it/s]\n"
     ]
    },
    {
     "data": {
      "text/plain": [
       "324"
      ]
     },
     "execution_count": 55,
     "metadata": {},
     "output_type": "execute_result"
    }
   ],
   "source": [
    "main1('input.txt')"
   ]
  },
  {
   "cell_type": "code",
   "execution_count": 64,
   "metadata": {},
   "outputs": [
    {
     "name": "stderr",
     "output_type": "stream",
     "text": [
      "100%|██████████| 8/8 [00:00<00:00, 18020.64it/s]\n"
     ]
    }
   ],
   "source": [
    "assert main2('example1.txt') == 16"
   ]
  },
  {
   "cell_type": "code",
   "execution_count": 65,
   "metadata": {},
   "outputs": [
    {
     "name": "stderr",
     "output_type": "stream",
     "text": [
      "100%|██████████| 400/400 [00:01<00:00, 343.68it/s]\n"
     ]
    },
    {
     "data": {
      "text/plain": [
       "575227823167869"
      ]
     },
     "execution_count": 65,
     "metadata": {},
     "output_type": "execute_result"
    }
   ],
   "source": [
    "main2('input.txt')"
   ]
  },
  {
   "cell_type": "code",
   "execution_count": null,
   "metadata": {},
   "outputs": [],
   "source": []
  }
 ],
 "metadata": {
  "kernelspec": {
   "display_name": "base",
   "language": "python",
   "name": "python3"
  },
  "language_info": {
   "codemirror_mode": {
    "name": "ipython",
    "version": 3
   },
   "file_extension": ".py",
   "mimetype": "text/x-python",
   "name": "python",
   "nbconvert_exporter": "python",
   "pygments_lexer": "ipython3",
   "version": "3.12.7"
  }
 },
 "nbformat": 4,
 "nbformat_minor": 2
}
