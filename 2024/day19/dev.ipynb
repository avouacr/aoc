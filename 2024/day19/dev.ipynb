{
 "cells": [
  {
   "cell_type": "code",
   "execution_count": 31,
   "metadata": {},
   "outputs": [],
   "source": [
    "from collections import deque\n",
    "\n",
    "from tqdm import tqdm"
   ]
  },
  {
   "cell_type": "code",
   "execution_count": 32,
   "metadata": {},
   "outputs": [],
   "source": [
    "def parse_input(file):\n",
    "    with open(file) as file_in:\n",
    "        patterns, designs = file_in.read().split('\\n\\n')\n",
    "\n",
    "    patterns = set(patterns.split(', '))\n",
    "    designs = designs.splitlines()\n",
    "\n",
    "    return patterns, designs"
   ]
  },
  {
   "cell_type": "code",
   "execution_count": 34,
   "metadata": {},
   "outputs": [],
   "source": [
    "def get_patterns_beginning(patterns, design):\n",
    "    return [pat for pat in patterns if pat == design[:len(pat)]]"
   ]
  },
  {
   "cell_type": "code",
   "execution_count": 35,
   "metadata": {},
   "outputs": [],
   "source": [
    "def is_possible(design, patterns):\n",
    "    possible_patterns = [pat for pat in patterns if pat in design]\n",
    "    queue = deque(get_patterns_first(possible_patterns, design))\n",
    "    seen = set()\n",
    "\n",
    "    while queue:\n",
    "        pat = queue.popleft()\n",
    "        len_pat = len(pat)\n",
    "        seen.add(pat)\n",
    "\n",
    "        if pat == design:\n",
    "            return True\n",
    "        \n",
    "        candidates = get_patterns_first(possible_patterns, design[len_pat:])\n",
    "        if candidates:\n",
    "            queue.extend([pat + cand for cand in candidates if pat + cand not in seen])\n",
    "\n",
    "    return False"
   ]
  },
  {
   "cell_type": "code",
   "execution_count": 36,
   "metadata": {},
   "outputs": [],
   "source": [
    "def main1(file):\n",
    "    patterns, designs = parse_input(file)\n",
    "\n",
    "    n_designs_possible = 0\n",
    "    for design in tqdm(designs):\n",
    "        n_designs_possible += is_possible(design, patterns)\n",
    "\n",
    "    return n_designs_possible"
   ]
  },
  {
   "cell_type": "code",
   "execution_count": 37,
   "metadata": {},
   "outputs": [
    {
     "name": "stderr",
     "output_type": "stream",
     "text": [
      "100%|██████████| 8/8 [00:00<00:00, 44620.26it/s]\n"
     ]
    }
   ],
   "source": [
    "assert main1('example1.txt') == 6"
   ]
  },
  {
   "cell_type": "code",
   "execution_count": 38,
   "metadata": {},
   "outputs": [
    {
     "name": "stderr",
     "output_type": "stream",
     "text": [
      "100%|██████████| 400/400 [01:01<00:00,  6.48it/s]\n"
     ]
    },
    {
     "data": {
      "text/plain": [
       "324"
      ]
     },
     "execution_count": 38,
     "metadata": {},
     "output_type": "execute_result"
    }
   ],
   "source": [
    "main1('input.txt')"
   ]
  },
  {
   "cell_type": "code",
   "execution_count": null,
   "metadata": {},
   "outputs": [],
   "source": []
  }
 ],
 "metadata": {
  "kernelspec": {
   "display_name": "base",
   "language": "python",
   "name": "python3"
  },
  "language_info": {
   "codemirror_mode": {
    "name": "ipython",
    "version": 3
   },
   "file_extension": ".py",
   "mimetype": "text/x-python",
   "name": "python",
   "nbconvert_exporter": "python",
   "pygments_lexer": "ipython3",
   "version": "3.12.7"
  }
 },
 "nbformat": 4,
 "nbformat_minor": 2
}
