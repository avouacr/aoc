{
 "cells": [
  {
   "cell_type": "code",
   "execution_count": null,
   "metadata": {},
   "outputs": [],
   "source": []
  },
  {
   "cell_type": "code",
   "execution_count": 1,
   "metadata": {},
   "outputs": [],
   "source": [
    "def parse_input(file):\n",
    "    with open(file) as file_in:\n",
    "        numbers = file_in.read().splitlines()\n",
    "\n",
    "    numbers = tuple(map(int, numbers))\n",
    "    return numbers"
   ]
  },
  {
   "cell_type": "code",
   "execution_count": 2,
   "metadata": {},
   "outputs": [],
   "source": [
    "def mix(value, secret):\n",
    "    return value ^ secret"
   ]
  },
  {
   "cell_type": "code",
   "execution_count": 3,
   "metadata": {},
   "outputs": [],
   "source": [
    "def prune(secret):\n",
    "    return secret % 16777216"
   ]
  },
  {
   "cell_type": "code",
   "execution_count": 4,
   "metadata": {},
   "outputs": [],
   "source": [
    "def get_next_secret(secret):\n",
    "    secret = prune(mix(secret * 64, secret))\n",
    "    secret = prune(mix(int(secret / 32), secret))\n",
    "    secret = prune(mix(secret * 2048, secret))\n",
    "    return secret"
   ]
  },
  {
   "cell_type": "code",
   "execution_count": 5,
   "metadata": {},
   "outputs": [],
   "source": [
    "def get_nth_secret(secret, n):\n",
    "    for __ in range(n):\n",
    "        secret = get_next_secret(secret)\n",
    "    return secret"
   ]
  },
  {
   "cell_type": "code",
   "execution_count": 13,
   "metadata": {},
   "outputs": [],
   "source": [
    "def main1(file):\n",
    "    buyers_secrets = parse_input(file)\n",
    "\n",
    "    result = 0\n",
    "    for secret in buyers_secrets:\n",
    "        result += get_nth_secret(secret, n=2000)\n",
    "\n",
    "    return result"
   ]
  },
  {
   "cell_type": "code",
   "execution_count": null,
   "metadata": {},
   "outputs": [],
   "source": []
  }
 ],
 "metadata": {
  "kernelspec": {
   "display_name": "base",
   "language": "python",
   "name": "python3"
  },
  "language_info": {
   "codemirror_mode": {
    "name": "ipython",
    "version": 3
   },
   "file_extension": ".py",
   "mimetype": "text/x-python",
   "name": "python",
   "nbconvert_exporter": "python",
   "pygments_lexer": "ipython3",
   "version": "3.12.7"
  }
 },
 "nbformat": 4,
 "nbformat_minor": 2
}
