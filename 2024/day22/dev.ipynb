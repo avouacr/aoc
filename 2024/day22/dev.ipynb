{
 "cells": [
  {
   "cell_type": "code",
   "execution_count": 2,
   "metadata": {},
   "outputs": [],
   "source": [
    "from collections import defaultdict"
   ]
  },
  {
   "cell_type": "code",
   "execution_count": 3,
   "metadata": {},
   "outputs": [],
   "source": [
    "def parse_input(file):\n",
    "    with open(file) as file_in:\n",
    "        numbers = file_in.read().splitlines()\n",
    "\n",
    "    numbers = tuple(map(int, numbers))\n",
    "    return numbers"
   ]
  },
  {
   "cell_type": "code",
   "execution_count": 4,
   "metadata": {},
   "outputs": [],
   "source": [
    "def mix(value, secret):\n",
    "    return value ^ secret"
   ]
  },
  {
   "cell_type": "code",
   "execution_count": 5,
   "metadata": {},
   "outputs": [],
   "source": [
    "def prune(secret):\n",
    "    return secret % 16777216"
   ]
  },
  {
   "cell_type": "code",
   "execution_count": 6,
   "metadata": {},
   "outputs": [],
   "source": [
    "def get_next_secret(secret):\n",
    "    secret = prune(mix(secret * 64, secret))\n",
    "    secret = prune(mix(int(secret / 32), secret))\n",
    "    secret = prune(mix(secret * 2048, secret))\n",
    "    return secret"
   ]
  },
  {
   "cell_type": "code",
   "execution_count": 7,
   "metadata": {},
   "outputs": [],
   "source": [
    "def get_nth_secret(secret, n):\n",
    "    for __ in range(n):\n",
    "        secret = get_next_secret(secret)\n",
    "    return secret"
   ]
  },
  {
   "cell_type": "code",
   "execution_count": 8,
   "metadata": {},
   "outputs": [],
   "source": [
    "def main1(file):\n",
    "    buyers_secrets = parse_input(file)\n",
    "\n",
    "    result = 0\n",
    "    for secret in buyers_secrets:\n",
    "        result += get_nth_secret(secret, n=2000)\n",
    "\n",
    "    return result"
   ]
  },
  {
   "cell_type": "code",
   "execution_count": 9,
   "metadata": {},
   "outputs": [],
   "source": [
    "def extract_price(secret):\n",
    "    return int(str(secret)[-1])"
   ]
  },
  {
   "cell_type": "code",
   "execution_count": 10,
   "metadata": {},
   "outputs": [],
   "source": [
    "def get_sequence_changes(secret, n):\n",
    "    price = extract_price(secret)\n",
    "    seq = [(price, ' ')]\n",
    "    for i in range(1, n+1):\n",
    "        new_secret = get_next_secret(secret)\n",
    "        new_price = extract_price(new_secret)\n",
    "        seq.append((new_price, new_price - price))\n",
    "        secret = new_secret\n",
    "        price = new_price\n",
    "    return seq"
   ]
  },
  {
   "cell_type": "code",
   "execution_count": 11,
   "metadata": {},
   "outputs": [],
   "source": [
    "def main2(file):\n",
    "    buyers_secrets = parse_input(file)\n",
    "    buyers_sequences = []\n",
    "\n",
    "    for secret in buyers_secrets:\n",
    "        buyers_sequences.append(get_sequence_changes(secret, n=2000))\n",
    "\n",
    "    letter2mint = {'a': -1, 'b': -2, 'c': -3, 'd': -4, 'e': -5, 'f': -6, 'g': -7, 'h': -8, 'i': -9, ' ': None}\n",
    "    mint2letter = {v: k for k, v in letter2mint.items()}\n",
    "\n",
    "    sequences_prices = []\n",
    "    sequences_diff = []\n",
    "    for seq in buyers_sequences:\n",
    "        sequences_prices.append(','.join([str(x[0]) for x in seq]))\n",
    "        sequences_diff.append(','.join([str(x[1]) if x[1] >= 0 else mint2letter[x[1]] for x in seq[1:]]))\n",
    "\n",
    "    patterns_freq = defaultdict(dict)\n",
    "\n",
    "    for i, diff_seq in enumerate(sequences_diff):\n",
    "        for j in range(0, len(diff_seq), 2):\n",
    "            pattern = diff_seq[j:j+7]\n",
    "            if i not in patterns_freq[pattern]:\n",
    "                patterns_freq[pattern][i] = j\n",
    "            else:\n",
    "                continue\n",
    "\n",
    "    patterns_sum = {pattern: 0 for pattern in patterns_freq}\n",
    "    for pattern in patterns_freq:\n",
    "        for seq, idx in patterns_freq[pattern].items():\n",
    "            if idx < len(sequences_prices[seq]) - 7:\n",
    "                patterns_sum[pattern] += int(sequences_prices[seq][idx + 8])\n",
    "\n",
    "    return max(patterns_sum.values())"
   ]
  },
  {
   "cell_type": "code",
   "execution_count": 12,
   "metadata": {},
   "outputs": [],
   "source": [
    "assert main1('example1.txt') == 37327623"
   ]
  },
  {
   "cell_type": "code",
   "execution_count": 13,
   "metadata": {},
   "outputs": [
    {
     "data": {
      "text/plain": [
       "12979353889"
      ]
     },
     "execution_count": 13,
     "metadata": {},
     "output_type": "execute_result"
    }
   ],
   "source": [
    "main1('input.txt')"
   ]
  },
  {
   "cell_type": "code",
   "execution_count": 16,
   "metadata": {},
   "outputs": [],
   "source": [
    "assert main2('example2.txt') == 23"
   ]
  },
  {
   "cell_type": "code",
   "execution_count": 17,
   "metadata": {},
   "outputs": [
    {
     "data": {
      "text/plain": [
       "1449"
      ]
     },
     "execution_count": 17,
     "metadata": {},
     "output_type": "execute_result"
    }
   ],
   "source": [
    "main2('input.txt')"
   ]
  },
  {
   "cell_type": "code",
   "execution_count": null,
   "metadata": {},
   "outputs": [],
   "source": []
  }
 ],
 "metadata": {
  "kernelspec": {
   "display_name": "base",
   "language": "python",
   "name": "python3"
  },
  "language_info": {
   "codemirror_mode": {
    "name": "ipython",
    "version": 3
   },
   "file_extension": ".py",
   "mimetype": "text/x-python",
   "name": "python",
   "nbconvert_exporter": "python",
   "pygments_lexer": "ipython3",
   "version": "3.12.7"
  }
 },
 "nbformat": 4,
 "nbformat_minor": 2
}
