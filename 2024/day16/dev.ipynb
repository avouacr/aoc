{
 "cells": [
  {
   "cell_type": "code",
   "execution_count": 1,
   "metadata": {},
   "outputs": [],
   "source": [
    "from collections import deque\n",
    "\n",
    "import numpy as np\n",
    "import matplotlib.pyplot as plt\n",
    "from matplotlib.animation import FuncAnimation\n",
    "\n",
    "np.set_printoptions(threshold=np.inf)"
   ]
  },
  {
   "cell_type": "code",
   "execution_count": 31,
   "metadata": {},
   "outputs": [],
   "source": [
    "directions = {(-1, 0): 'N', (1, 0): 'S', (0, -1): 'W', (0, 1): 'E'}\n",
    "directions_reversed = {'N': (1, 0), 'S': (-1, 0), 'W': (0, 1), 'E': (0, -1)}\n",
    "opposite_directions = {('N', 'S'), ('S', 'N'), ('E', 'W'), ('W', 'E')}"
   ]
  },
  {
   "cell_type": "code",
   "execution_count": 3,
   "metadata": {},
   "outputs": [],
   "source": [
    "def parse_input(file):\n",
    "    with open(file) as file_in:\n",
    "        grid = file_in.read().splitlines()\n",
    "\n",
    "    grid = np.array([list(row) for row in grid])\n",
    "\n",
    "    S_coords = tuple(np.argwhere(grid == 'S')[0].tolist())\n",
    "    E_coords = tuple(np.argwhere(grid == 'E')[0].tolist())\n",
    "    dot_coords = set([(x.item(), y.item()) for x, y in np.argwhere(grid == '.')])\n",
    "    wall_coords = set([(x.item(), y.item()) for x, y in np.argwhere(grid == '#')])\n",
    "\n",
    "    return S_coords, E_coords, wall_coords"
   ]
  },
  {
   "cell_type": "code",
   "execution_count": 4,
   "metadata": {},
   "outputs": [],
   "source": [
    "def get_best_states(S_coords, E_coords, wall_coords):\n",
    "    start = (S_coords, 'E', 0)\n",
    "    queue = deque([start])\n",
    "    scores = []\n",
    "    best_states = {}\n",
    "    min_score = float('inf')\n",
    "\n",
    "    while queue:\n",
    "        (x_current, y_current), dir_current, score = queue.popleft()\n",
    "\n",
    "        # Stop exploring paths with scores exceeding the minimum score\n",
    "        if score > min_score:\n",
    "            continue\n",
    "\n",
    "        # End condition\n",
    "        if (x_current, y_current) == E_coords:\n",
    "            min_score = min(min_score, score + 1)\n",
    "            continue\n",
    "\n",
    "        for (dx, dy), dir_next in directions.items():\n",
    "            x_next, y_next = x_current + dx, y_current + dy \n",
    "\n",
    "            if (x_next, y_next) in wall_coords:\n",
    "                continue\n",
    "\n",
    "            new_score = score + 1 if dir_next == dir_current else score + 1001\n",
    "\n",
    "            state = ((x_next, y_next), dir_next)\n",
    "            if state not in best_states or new_score < best_states[state]:\n",
    "                best_states[state] = new_score\n",
    "                queue.append(((x_next, y_next), dir_next, new_score))\n",
    "\n",
    "    return best_states"
   ]
  },
  {
   "cell_type": "code",
   "execution_count": 5,
   "metadata": {},
   "outputs": [],
   "source": [
    "def main1(file):\n",
    "    S_coords, E_coords, wall_coords = parse_input(file)\n",
    "    best_states = get_best_states(S_coords, E_coords, wall_coords)\n",
    "    end_scores= [best_states[((x, y), dir)] for (x, y), dir in best_states if (x, y) == E_coords]\n",
    "    return min(end_scores)"
   ]
  },
  {
   "cell_type": "code",
   "execution_count": 6,
   "metadata": {},
   "outputs": [],
   "source": [
    "assert main1('example1.txt') == 7036\n",
    "assert main1('example2.txt') == 11048"
   ]
  },
  {
   "cell_type": "code",
   "execution_count": 7,
   "metadata": {},
   "outputs": [
    {
     "data": {
      "text/plain": [
       "102460"
      ]
     },
     "execution_count": 7,
     "metadata": {},
     "output_type": "execute_result"
    }
   ],
   "source": [
    "main1('input.txt')"
   ]
  },
  {
   "cell_type": "code",
   "execution_count": 37,
   "metadata": {},
   "outputs": [],
   "source": [
    "def main2(file):\n",
    "    S_coords, E_coords, wall_coords = parse_input(file)\n",
    "    best_states = get_best_states(S_coords, E_coords, wall_coords)\n",
    "\n",
    "    # Get end state with minimal score\n",
    "    end_scores = {((x, y), dir): score for ((x, y), dir), score in best_states.items() if (x, y) == E_coords}\n",
    "    end_state_min_score = min(end_scores, key=end_scores.get)\n",
    "\n",
    "    # Reversed BFS from end to start to get all nodes that are on an optimal path\n",
    "    tiles_best_paths = set()\n",
    "    visited = set()\n",
    "    queue = deque([end_state_min_score])\n",
    "    while queue:\n",
    "        (x_current, y_current), dir_current = queue.popleft()\n",
    "        tiles_best_paths.add((x_current, y_current))\n",
    "        dx, dy = directions_reversed[dir_current]\n",
    "        x_next, y_next = x_current + dx, y_current + dy\n",
    "        candidates = []\n",
    "        for (x, y), dir in best_states:\n",
    "            if (x, y) == (x_next, y_next) and ((x, y), dir) not in visited:\n",
    "                diff_score = best_states[((x_current, y_current), dir_current)] - best_states[((x, y), dir)]\n",
    "                if diff_score == 1 or diff_score == 1001:\n",
    "                    candidates.append(((x, y), dir))\n",
    "        queue.extend(candidates)\n",
    "        visited.update(candidates)\n",
    "    tiles_best_paths.add((x_next, y_next))\n",
    "\n",
    "    return len(tiles_best_paths)"
   ]
  },
  {
   "cell_type": "code",
   "execution_count": 41,
   "metadata": {},
   "outputs": [
    {
     "data": {
      "text/plain": [
       "527"
      ]
     },
     "execution_count": 41,
     "metadata": {},
     "output_type": "execute_result"
    }
   ],
   "source": [
    "main2('input.txt') "
   ]
  },
  {
   "cell_type": "code",
   "execution_count": null,
   "metadata": {},
   "outputs": [],
   "source": []
  }
 ],
 "metadata": {
  "kernelspec": {
   "display_name": "base",
   "language": "python",
   "name": "python3"
  },
  "language_info": {
   "codemirror_mode": {
    "name": "ipython",
    "version": 3
   },
   "file_extension": ".py",
   "mimetype": "text/x-python",
   "name": "python",
   "nbconvert_exporter": "python",
   "pygments_lexer": "ipython3",
   "version": "3.12.7"
  }
 },
 "nbformat": 4,
 "nbformat_minor": 2
}
