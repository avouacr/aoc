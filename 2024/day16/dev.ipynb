{
 "cells": [
  {
   "cell_type": "code",
   "execution_count": 1,
   "metadata": {},
   "outputs": [],
   "source": [
    "from collections import deque\n",
    "\n",
    "import numpy as np\n",
    "import matplotlib.pyplot as plt\n",
    "from matplotlib.animation import FuncAnimation\n",
    "\n",
    "np.set_printoptions(threshold=np.inf)"
   ]
  },
  {
   "cell_type": "code",
   "execution_count": 2,
   "metadata": {},
   "outputs": [],
   "source": [
    "directions = {(-1, 0): 'N', (1, 0): 'S', (0, -1): 'W', (0, 1): 'E'}"
   ]
  },
  {
   "cell_type": "code",
   "execution_count": 3,
   "metadata": {},
   "outputs": [],
   "source": [
    "def parse_input(file):\n",
    "    with open(file) as file_in:\n",
    "        grid = file_in.read().splitlines()\n",
    "\n",
    "    grid = np.array([list(row) for row in grid])\n",
    "\n",
    "    S_coords = tuple(np.argwhere(grid == 'S')[0].tolist())\n",
    "    E_coords = tuple(np.argwhere(grid == 'E')[0].tolist())\n",
    "    dot_coords = set([(x.item(), y.item()) for x, y in np.argwhere(grid == '.')])\n",
    "    wall_coords = set([(x.item(), y.item()) for x, y in np.argwhere(grid == '#')])\n",
    "\n",
    "    return S_coords, E_coords, wall_coords"
   ]
  },
  {
   "cell_type": "code",
   "execution_count": 9,
   "metadata": {},
   "outputs": [],
   "source": [
    "def get_min_score(S_coords, E_coords, wall_coords):\n",
    "    start = (S_coords, 'E', 0)\n",
    "    queue = deque([start])\n",
    "    scores = []\n",
    "    best_state = {}\n",
    "\n",
    "    while queue:\n",
    "        (x_current, y_current), dir_current, score = queue.popleft()\n",
    "        for dx, dy in directions:\n",
    "            x_next, y_next = x_current + dx, y_current + dy \n",
    "\n",
    "            if (x_next, y_next) == E_coords:\n",
    "                # If reaches E\n",
    "                scores.append(score + 1)\n",
    "                continue\n",
    "\n",
    "            if (x_next, y_next) not in wall_coords:\n",
    "                # If not visited yet\n",
    "                dir_next = directions[(dx, dy)]\n",
    "                if dir_next == dir_current:\n",
    "                    new_score = score + 1\n",
    "                else:\n",
    "                    new_score = score + 1001\n",
    "\n",
    "                # Keep state to enable tiles to be revisited if the path's score is better\n",
    "                state = ((x_next, y_next), dir_next)\n",
    "                if state not in best_state or new_score < best_state[state]:\n",
    "                    best_state[state] = new_score\n",
    "                    queue.append(((x_next, y_next), dir_next, new_score))\n",
    "\n",
    "    return min(scores)"
   ]
  },
  {
   "cell_type": "code",
   "execution_count": 10,
   "metadata": {},
   "outputs": [],
   "source": [
    "def main1(file):\n",
    "    S_coords, E_coords, wall_coords = parse_input(file)\n",
    "    min_score = get_min_score(S_coords, E_coords, wall_coords)\n",
    "    return min_score"
   ]
  },
  {
   "cell_type": "code",
   "execution_count": 11,
   "metadata": {},
   "outputs": [],
   "source": [
    "assert main1('example1.txt') == 7036\n",
    "assert main1('example2.txt') == 11048"
   ]
  },
  {
   "cell_type": "code",
   "execution_count": 12,
   "metadata": {},
   "outputs": [
    {
     "data": {
      "text/plain": [
       "102460"
      ]
     },
     "execution_count": 12,
     "metadata": {},
     "output_type": "execute_result"
    }
   ],
   "source": [
    "main1('input.txt')"
   ]
  },
  {
   "cell_type": "code",
   "execution_count": null,
   "metadata": {},
   "outputs": [],
   "source": []
  }
 ],
 "metadata": {
  "kernelspec": {
   "display_name": "base",
   "language": "python",
   "name": "python3"
  },
  "language_info": {
   "codemirror_mode": {
    "name": "ipython",
    "version": 3
   },
   "file_extension": ".py",
   "mimetype": "text/x-python",
   "name": "python",
   "nbconvert_exporter": "python",
   "pygments_lexer": "ipython3",
   "version": "3.12.7"
  }
 },
 "nbformat": 4,
 "nbformat_minor": 2
}
