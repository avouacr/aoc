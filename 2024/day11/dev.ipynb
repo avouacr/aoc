{
 "cells": [
  {
   "cell_type": "code",
   "execution_count": 1,
   "metadata": {},
   "outputs": [],
   "source": [
    "from functools import cache\n",
    "from collections import defaultdict"
   ]
  },
  {
   "cell_type": "code",
   "execution_count": 2,
   "metadata": {},
   "outputs": [],
   "source": [
    "def main(file, n_blink):\n",
    "    with open(file) as file_in:\n",
    "        stones_raw = file_in.read()[:-1]\n",
    "    stones = {n: 1 for n in map(int, stones_raw.split())}\n",
    "\n",
    "    for __ in range(n_blink):\n",
    "        new_stones = defaultdict(int)\n",
    "        for stone, count in stones.items():\n",
    "            stone_str = str(stone)\n",
    "            if stone == 0:\n",
    "                new_stones[1] += count\n",
    "            elif len(stone_str) % 2 == 0:\n",
    "                lh, rh = stone_str[:len(stone_str)//2], stone_str[len(stone_str)//2:]\n",
    "                new_stones[int(lh)] += count\n",
    "                new_stones[int(rh)] += count\n",
    "            else:\n",
    "                new_stones[stone * 2024] += count\n",
    "        stones = new_stones\n",
    "\n",
    "    return sum(stones.values())"
   ]
  },
  {
   "cell_type": "code",
   "execution_count": 3,
   "metadata": {},
   "outputs": [],
   "source": [
    "assert main('example1.txt', n_blink=25) == 55312"
   ]
  },
  {
   "cell_type": "code",
   "execution_count": 4,
   "metadata": {},
   "outputs": [
    {
     "data": {
      "text/plain": [
       "229043"
      ]
     },
     "execution_count": 4,
     "metadata": {},
     "output_type": "execute_result"
    }
   ],
   "source": [
    "main('input.txt', n_blink=25)"
   ]
  },
  {
   "cell_type": "code",
   "execution_count": 5,
   "metadata": {},
   "outputs": [
    {
     "data": {
      "text/plain": [
       "272673043446478"
      ]
     },
     "execution_count": 5,
     "metadata": {},
     "output_type": "execute_result"
    }
   ],
   "source": [
    "main('input.txt', n_blink=75)"
   ]
  },
  {
   "cell_type": "code",
   "execution_count": null,
   "metadata": {},
   "outputs": [],
   "source": []
  }
 ],
 "metadata": {
  "kernelspec": {
   "display_name": "base",
   "language": "python",
   "name": "python3"
  },
  "language_info": {
   "codemirror_mode": {
    "name": "ipython",
    "version": 3
   },
   "file_extension": ".py",
   "mimetype": "text/x-python",
   "name": "python",
   "nbconvert_exporter": "python",
   "pygments_lexer": "ipython3",
   "version": "3.12.7"
  }
 },
 "nbformat": 4,
 "nbformat_minor": 2
}
