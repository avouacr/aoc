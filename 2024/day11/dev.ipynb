{
 "cells": [
  {
   "cell_type": "code",
   "execution_count": 8,
   "metadata": {},
   "outputs": [],
   "source": [
    "from functools import cache"
   ]
  },
  {
   "cell_type": "code",
   "execution_count": 9,
   "metadata": {},
   "outputs": [],
   "source": [
    "@cache\n",
    "def change_stone(stone):\n",
    "    if stone == '0':\n",
    "        return '1'\n",
    "    elif len(stone) % 2 == 0:\n",
    "        if set(stone) == {'0'}:\n",
    "            return stone\n",
    "        lh, rh = stone[:len(stone)//2], stone[len(stone)//2:]\n",
    "        lh = str(int(lh))\n",
    "        rh = str(int(rh))\n",
    "        return [lh, rh]\n",
    "    else:\n",
    "        return str(int(stone) * 2024)"
   ]
  },
  {
   "cell_type": "code",
   "execution_count": 10,
   "metadata": {},
   "outputs": [],
   "source": [
    "def blink(stones):\n",
    "    new_stones = []\n",
    "    for stone in stones:\n",
    "        new = change_stone(stone)\n",
    "        if isinstance(new, list):\n",
    "            new_stones.extend(new)\n",
    "        else:\n",
    "            new_stones.append(new)\n",
    "\n",
    "    return new_stones"
   ]
  },
  {
   "cell_type": "code",
   "execution_count": 11,
   "metadata": {},
   "outputs": [],
   "source": [
    "def main1(file, n_blink):\n",
    "    with open(file) as file_in:\n",
    "        stones_str = file_in.read()[:-1]\n",
    "\n",
    "    stones = stones_str.split(' ')\n",
    "    for i in range(n_blink):\n",
    "        print(i)\n",
    "        stones = blink(stones)\n",
    "\n",
    "    return len(stones)"
   ]
  },
  {
   "cell_type": "code",
   "execution_count": null,
   "metadata": {},
   "outputs": [
    {
     "name": "stdout",
     "output_type": "stream",
     "text": [
      "0\n",
      "1\n",
      "2\n",
      "3\n",
      "4\n",
      "5\n",
      "6\n",
      "7\n",
      "8\n",
      "9\n",
      "10\n",
      "11\n",
      "12\n",
      "13\n",
      "14\n",
      "15\n",
      "16\n",
      "17\n",
      "18\n",
      "19\n",
      "20\n",
      "21\n",
      "22\n",
      "23\n",
      "24\n",
      "25\n",
      "26\n",
      "27\n",
      "28\n",
      "29\n",
      "30\n",
      "31\n",
      "32\n",
      "33\n",
      "34\n",
      "35\n",
      "36\n",
      "37\n",
      "38\n",
      "39\n",
      "40\n",
      "41\n",
      "42\n",
      "43\n",
      "44\n",
      "45\n",
      "46\n"
     ]
    }
   ],
   "source": [
    "main1('input.txt', n_blink=75)"
   ]
  },
  {
   "cell_type": "code",
   "execution_count": null,
   "metadata": {},
   "outputs": [],
   "source": []
  }
 ],
 "metadata": {
  "kernelspec": {
   "display_name": "base",
   "language": "python",
   "name": "python3"
  },
  "language_info": {
   "codemirror_mode": {
    "name": "ipython",
    "version": 3
   },
   "file_extension": ".py",
   "mimetype": "text/x-python",
   "name": "python",
   "nbconvert_exporter": "python",
   "pygments_lexer": "ipython3",
   "version": "3.12.7"
  }
 },
 "nbformat": 4,
 "nbformat_minor": 2
}
