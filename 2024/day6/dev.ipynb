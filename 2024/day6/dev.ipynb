{
 "cells": [
  {
   "cell_type": "code",
   "execution_count": 18,
   "metadata": {},
   "outputs": [],
   "source": [
    "import numpy as np\n",
    "from tqdm import tqdm"
   ]
  },
  {
   "cell_type": "code",
   "execution_count": 2,
   "metadata": {},
   "outputs": [],
   "source": [
    "dir_steps = {'U': np.array((-1, 0)), 'D': np.array((1, 0)), 'L': np.array((0, -1)), 'R': np.array((0, 1))}\n",
    "dir_seq = {'U' : 'R', 'R': 'D', 'D': 'L', 'L': 'U'}"
   ]
  },
  {
   "cell_type": "code",
   "execution_count": 3,
   "metadata": {},
   "outputs": [],
   "source": [
    "def parse_input(file):\n",
    "    with open(file, \"r\") as file_in:\n",
    "        grid = np.array([list(line.strip()) for line in file_in])\n",
    "\n",
    "    start = np.argwhere(grid == '^')[0]\n",
    "    blocks = set([tuple(row.tolist()) for row in np.argwhere(grid == '#')])\n",
    "\n",
    "    return grid, start, blocks"
   ]
  },
  {
   "cell_type": "code",
   "execution_count": 4,
   "metadata": {},
   "outputs": [],
   "source": [
    "def is_border_end(pos, grid):\n",
    "    is_dot = (grid[pos[0], pos[1]] == '.')\n",
    "    is_end = (pos[0] == 0 or \n",
    "              pos[0] == grid.shape[0]-1 or \n",
    "              pos[1] == 0 or\n",
    "              pos[1] == grid.shape[1]-1\n",
    "              )\n",
    "    return (is_dot and is_end)"
   ]
  },
  {
   "cell_type": "code",
   "execution_count": 5,
   "metadata": {},
   "outputs": [],
   "source": [
    "def pos_to_tuple(pos):\n",
    "    return tuple(pos.tolist())"
   ]
  },
  {
   "cell_type": "code",
   "execution_count": 6,
   "metadata": {},
   "outputs": [],
   "source": [
    "def get_visited_pos(start, dir_start, grid, blocks):\n",
    "    dir_current = dir_start\n",
    "    pos = start\n",
    "\n",
    "    visited = set()\n",
    "    visited.add(pos_to_tuple(pos))\n",
    "\n",
    "    while not is_border_end(pos, grid):\n",
    "        next_pos = pos + dir_steps[dir_current]\n",
    "        if pos_to_tuple(next_pos) not in blocks:\n",
    "            pos = next_pos\n",
    "            visited.add(pos_to_tuple(pos))\n",
    "        else:\n",
    "            dir_current = dir_seq[dir_current]\n",
    "\n",
    "    return visited"
   ]
  },
  {
   "cell_type": "code",
   "execution_count": 7,
   "metadata": {},
   "outputs": [],
   "source": [
    "def main1(file):\n",
    "    grid, start, blocks = parse_input(file)\n",
    "    visited = get_visited_pos(start=start, dir_start='U', grid=grid, blocks=blocks)\n",
    "\n",
    "    return len(visited)"
   ]
  },
  {
   "cell_type": "code",
   "execution_count": null,
   "metadata": {},
   "outputs": [],
   "source": [
    "def makes_loop(start, dir_start, grid, blocks):\n",
    "    dir_current = dir_start\n",
    "    pos = start\n",
    "\n",
    "    visited = set()\n",
    "    visited.add((pos_to_tuple(pos), dir_current))\n",
    "\n",
    "    while not is_border_end(pos, grid):\n",
    "        next_pos = pos + dir_steps[dir_current]\n",
    "        if (pos_to_tuple(next_pos), dir_current) in visited:\n",
    "            return True\n",
    "        elif pos_to_tuple(next_pos) not in blocks:\n",
    "            pos = next_pos\n",
    "            visited.add((pos_to_tuple(pos), dir_current))\n",
    "        else:\n",
    "            dir_current = dir_seq[dir_current]\n",
    "\n",
    "    return False"
   ]
  },
  {
   "cell_type": "code",
   "execution_count": null,
   "metadata": {},
   "outputs": [],
   "source": [
    "def main2(file):\n",
    "    grid, start, blocks = parse_input(file)\n",
    "    guard_path = get_visited_pos(start=start, dir_start='U', grid=grid, blocks=blocks)\n",
    "\n",
    "    result = 0\n",
    "    for pos in tqdm(guard_path):\n",
    "        blocks_plus_new = blocks | {pos}\n",
    "        if makes_loop(start=start, dir_start='U', grid=grid, blocks=blocks_plus_new):\n",
    "            result += 1\n",
    "\n",
    "    return result"
   ]
  },
  {
   "cell_type": "code",
   "execution_count": 8,
   "metadata": {},
   "outputs": [],
   "source": [
    "assert main1(\"example1.txt\") == 41"
   ]
  },
  {
   "cell_type": "code",
   "execution_count": 9,
   "metadata": {},
   "outputs": [
    {
     "data": {
      "text/plain": [
       "4711"
      ]
     },
     "execution_count": 9,
     "metadata": {},
     "output_type": "execute_result"
    }
   ],
   "source": [
    "main1(\"input.txt\")"
   ]
  },
  {
   "cell_type": "code",
   "execution_count": 20,
   "metadata": {},
   "outputs": [
    {
     "name": "stderr",
     "output_type": "stream",
     "text": [
      "100%|██████████| 41/41 [00:00<00:00, 6949.54it/s]\n"
     ]
    }
   ],
   "source": [
    "assert main2(\"example1.txt\") == 6"
   ]
  },
  {
   "cell_type": "code",
   "execution_count": 21,
   "metadata": {},
   "outputs": [
    {
     "name": "stderr",
     "output_type": "stream",
     "text": [
      "100%|██████████| 4711/4711 [01:06<00:00, 71.00it/s]\n"
     ]
    },
    {
     "data": {
      "text/plain": [
       "1562"
      ]
     },
     "execution_count": 21,
     "metadata": {},
     "output_type": "execute_result"
    }
   ],
   "source": [
    "main2(\"input.txt\")"
   ]
  },
  {
   "cell_type": "code",
   "execution_count": null,
   "metadata": {},
   "outputs": [],
   "source": []
  }
 ],
 "metadata": {
  "kernelspec": {
   "display_name": "base",
   "language": "python",
   "name": "python3"
  },
  "language_info": {
   "codemirror_mode": {
    "name": "ipython",
    "version": 3
   },
   "file_extension": ".py",
   "mimetype": "text/x-python",
   "name": "python",
   "nbconvert_exporter": "python",
   "pygments_lexer": "ipython3",
   "version": "3.12.7"
  }
 },
 "nbformat": 4,
 "nbformat_minor": 2
}
