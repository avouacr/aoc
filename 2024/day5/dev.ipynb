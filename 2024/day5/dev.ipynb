{
 "cells": [
  {
   "cell_type": "code",
   "execution_count": 8,
   "metadata": {},
   "outputs": [],
   "source": [
    "import networkx as nx"
   ]
  },
  {
   "cell_type": "code",
   "execution_count": 9,
   "metadata": {},
   "outputs": [],
   "source": [
    "def parse_input(file):\n",
    "    rules = []\n",
    "    updates = []\n",
    "\n",
    "    with open(file, \"r\") as file:\n",
    "        for line in file:\n",
    "            if \"|\" in line:\n",
    "                rules.append(tuple(map(int, line.strip().split(\"|\"))))\n",
    "            elif \",\" in line:\n",
    "                updates.append(list(map(int, line.strip().split(\",\"))))\n",
    "\n",
    "    return rules, updates"
   ]
  },
  {
   "cell_type": "code",
   "execution_count": 10,
   "metadata": {},
   "outputs": [],
   "source": [
    "def rules_to_dict(rules):\n",
    "    is_before = dict()\n",
    "    is_after = dict()\n",
    "\n",
    "    for k, v in rules:\n",
    "        if k not in is_after:\n",
    "            is_after[k] = set()\n",
    "        is_after[k].add(v)\n",
    "\n",
    "    for v, k in rules:\n",
    "        if k not in is_before:\n",
    "            is_before[k] = set()\n",
    "        is_before[k].add(v)\n",
    "\n",
    "    return is_before, is_after"
   ]
  },
  {
   "cell_type": "code",
   "execution_count": 11,
   "metadata": {},
   "outputs": [],
   "source": [
    "def is_update_right_order(update, is_before, is_after):\n",
    "    for i, page in enumerate(update):\n",
    "        if i < len(update)-1:\n",
    "            page_next = update[i+1]\n",
    "            if (page in is_before and page_next in is_before[page]) or (page_next in is_after and page_next in is_after[page_next]):\n",
    "                return False\n",
    "\n",
    "    return True"
   ]
  },
  {
   "cell_type": "code",
   "execution_count": 12,
   "metadata": {},
   "outputs": [],
   "source": [
    "def part1(file):\n",
    "    rules, updates = parse_input(file)\n",
    "    is_before, is_after = rules_to_dict(rules)\n",
    "\n",
    "    result = 0\n",
    "    for update in updates:\n",
    "        if is_update_right_order(update, is_before, is_after):\n",
    "            result += update[len(update) // 2]\n",
    "\n",
    "    return result"
   ]
  },
  {
   "cell_type": "code",
   "execution_count": 20,
   "metadata": {},
   "outputs": [],
   "source": [
    "def part2(file):\n",
    "    rules, updates = parse_input(file)\n",
    "    is_before, is_after = rules_to_dict(rules)\n",
    "    rules_dag = nx.DiGraph(rules)\n",
    "\n",
    "    result = 0\n",
    "    for update in updates:\n",
    "        if not is_update_right_order(update, is_before, is_after):\n",
    "            update_sorted = list(nx.topological_sort(rules_dag.subgraph(update)))\n",
    "            result += update_sorted[len(update_sorted) // 2]\n",
    "\n",
    "    return result"
   ]
  },
  {
   "cell_type": "code",
   "execution_count": 19,
   "metadata": {},
   "outputs": [],
   "source": [
    "assert part1(\"example1.txt\") == 143"
   ]
  },
  {
   "cell_type": "code",
   "execution_count": 14,
   "metadata": {},
   "outputs": [
    {
     "data": {
      "text/plain": [
       "5108"
      ]
     },
     "execution_count": 14,
     "metadata": {},
     "output_type": "execute_result"
    }
   ],
   "source": [
    "part1(\"input.txt\")"
   ]
  },
  {
   "cell_type": "code",
   "execution_count": 22,
   "metadata": {},
   "outputs": [],
   "source": [
    "assert part2(\"example1.txt\") == 123"
   ]
  },
  {
   "cell_type": "code",
   "execution_count": 24,
   "metadata": {},
   "outputs": [
    {
     "data": {
      "text/plain": [
       "7380"
      ]
     },
     "execution_count": 24,
     "metadata": {},
     "output_type": "execute_result"
    }
   ],
   "source": [
    "part2(\"input.txt\")"
   ]
  },
  {
   "cell_type": "code",
   "execution_count": 26,
   "metadata": {},
   "outputs": [],
   "source": [
    "rules, updates = parse_input(\"example1.txt\")\n",
    "is_before, is_after = rules_to_dict(rules)"
   ]
  },
  {
   "cell_type": "code",
   "execution_count": 28,
   "metadata": {},
   "outputs": [
    {
     "data": {
      "text/plain": [
       "{53: {47, 61, 75, 97},\n",
       " 13: {29, 47, 53, 61, 75, 97},\n",
       " 61: {47, 75, 97},\n",
       " 47: {75, 97},\n",
       " 29: {47, 53, 61, 75, 97},\n",
       " 75: {97}}"
      ]
     },
     "execution_count": 28,
     "metadata": {},
     "output_type": "execute_result"
    }
   ],
   "source": [
    "is_before"
   ]
  },
  {
   "cell_type": "code",
   "execution_count": null,
   "metadata": {},
   "outputs": [],
   "source": []
  }
 ],
 "metadata": {
  "kernelspec": {
   "display_name": "base",
   "language": "python",
   "name": "python3"
  },
  "language_info": {
   "codemirror_mode": {
    "name": "ipython",
    "version": 3
   },
   "file_extension": ".py",
   "mimetype": "text/x-python",
   "name": "python",
   "nbconvert_exporter": "python",
   "pygments_lexer": "ipython3",
   "version": "3.12.7"
  }
 },
 "nbformat": 4,
 "nbformat_minor": 2
}
