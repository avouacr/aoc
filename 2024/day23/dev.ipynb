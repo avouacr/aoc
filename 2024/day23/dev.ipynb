{
 "cells": [
  {
   "cell_type": "code",
   "execution_count": 2,
   "metadata": {},
   "outputs": [],
   "source": [
    "import networkx as nx"
   ]
  },
  {
   "cell_type": "code",
   "execution_count": 3,
   "metadata": {},
   "outputs": [],
   "source": [
    "def parse_input(file):\n",
    "    with open(file) as file_in:\n",
    "        edges = file_in.read().splitlines()\n",
    "\n",
    "    edges = [(v.split('-')[0], v.split('-')[1]) for v in edges]\n",
    "    return edges"
   ]
  },
  {
   "cell_type": "code",
   "execution_count": 4,
   "metadata": {},
   "outputs": [],
   "source": [
    "def main1(file):\n",
    "    G = nx.Graph(parse_input(file))\n",
    "\n",
    "    triangles_with_t_start = set()\n",
    "    for clique in nx.enumerate_all_cliques(G):\n",
    "        if len(clique) == 3:\n",
    "            for node in clique:\n",
    "                if node.startswith('t'):\n",
    "                    triangles_with_t_start.add(tuple(clique))\n",
    "\n",
    "    return len(triangles_with_t_start)"
   ]
  },
  {
   "cell_type": "code",
   "execution_count": 5,
   "metadata": {},
   "outputs": [],
   "source": [
    "def main2(file):\n",
    "    G = nx.Graph(parse_input(file))\n",
    "    *_, max_clique = nx.enumerate_all_cliques(G)\n",
    "    return ','.join(sorted(max_clique))"
   ]
  },
  {
   "cell_type": "code",
   "execution_count": 6,
   "metadata": {},
   "outputs": [],
   "source": [
    "assert main1('example1.txt') == 7"
   ]
  },
  {
   "cell_type": "code",
   "execution_count": 7,
   "metadata": {},
   "outputs": [
    {
     "data": {
      "text/plain": [
       "1348"
      ]
     },
     "execution_count": 7,
     "metadata": {},
     "output_type": "execute_result"
    }
   ],
   "source": [
    "main1('input.txt')"
   ]
  },
  {
   "cell_type": "code",
   "execution_count": 8,
   "metadata": {},
   "outputs": [],
   "source": [
    "assert main2('example1.txt') == 'co,de,ka,ta'"
   ]
  },
  {
   "cell_type": "code",
   "execution_count": 9,
   "metadata": {},
   "outputs": [
    {
     "name": "stdout",
     "output_type": "stream",
     "text": [
      "am,bv,ea,gh,is,iy,ml,nj,nl,no,om,tj,yv\n"
     ]
    }
   ],
   "source": [
    "print(main2('input.txt'))"
   ]
  },
  {
   "cell_type": "code",
   "execution_count": null,
   "metadata": {},
   "outputs": [],
   "source": []
  }
 ],
 "metadata": {
  "kernelspec": {
   "display_name": "base",
   "language": "python",
   "name": "python3"
  },
  "language_info": {
   "codemirror_mode": {
    "name": "ipython",
    "version": 3
   },
   "file_extension": ".py",
   "mimetype": "text/x-python",
   "name": "python",
   "nbconvert_exporter": "python",
   "pygments_lexer": "ipython3",
   "version": "3.12.7"
  }
 },
 "nbformat": 4,
 "nbformat_minor": 2
}
