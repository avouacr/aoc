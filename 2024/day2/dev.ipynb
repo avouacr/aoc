{
 "cells": [
  {
   "cell_type": "code",
   "execution_count": 1,
   "metadata": {},
   "outputs": [],
   "source": [
    "import numpy as np"
   ]
  },
  {
   "cell_type": "code",
   "execution_count": 2,
   "metadata": {},
   "outputs": [],
   "source": [
    "def parse_input(file):\n",
    "    data = []\n",
    "    with open(file, \"r\") as file_in:\n",
    "        for line in file_in:\n",
    "            data.append(list(map(int, line.split())))\n",
    "\n",
    "    return data"
   ]
  },
  {
   "cell_type": "code",
   "execution_count": 3,
   "metadata": {},
   "outputs": [],
   "source": [
    "def check_valid_row(arr):\n",
    "    incr_or_decr = np.all(arr > 0) | np.all(arr < 0)\n",
    "    arr_abs = np.abs(arr)\n",
    "    diff_between_1_and_3 = np.all((arr_abs >= 1) & (arr_abs <= 3))\n",
    "    return incr_or_decr and diff_between_1_and_3"
   ]
  },
  {
   "cell_type": "code",
   "execution_count": 4,
   "metadata": {},
   "outputs": [],
   "source": [
    "def part1(file):\n",
    "\n",
    "    data = parse_input(file)\n",
    "\n",
    "    n_safe = 0\n",
    "    for row in data:\n",
    "        diff = np.diff(row)\n",
    "        if check_valid_row(diff):\n",
    "            n_safe += 1\n",
    "\n",
    "    return n_safe"
   ]
  },
  {
   "cell_type": "code",
   "execution_count": 19,
   "metadata": {},
   "outputs": [],
   "source": [
    "def part2(file):\n",
    "\n",
    "    data = parse_input(file)\n",
    "\n",
    "    n_safe = 0\n",
    "    for row in data:\n",
    "        diff = np.diff(row)\n",
    "        if check_valid_row(diff):\n",
    "            n_safe += 1\n",
    "        else:\n",
    "            # print(row)\n",
    "            for i in range(len(row)):\n",
    "                sub_row = np.delete(row, i)\n",
    "                sub_diff = np.diff(sub_row)\n",
    "                # print(sub_row, sub_diff, check_valid_row(sub_diff))\n",
    "                if check_valid_row(sub_diff):\n",
    "                    n_safe += 1\n",
    "                    break\n",
    "\n",
    "    return n_safe"
   ]
  },
  {
   "cell_type": "code",
   "execution_count": 5,
   "metadata": {},
   "outputs": [
    {
     "data": {
      "text/plain": [
       "True"
      ]
     },
     "execution_count": 5,
     "metadata": {},
     "output_type": "execute_result"
    }
   ],
   "source": [
    "part1(\"example.txt\") == 2"
   ]
  },
  {
   "cell_type": "code",
   "execution_count": 6,
   "metadata": {},
   "outputs": [
    {
     "data": {
      "text/plain": [
       "371"
      ]
     },
     "execution_count": 6,
     "metadata": {},
     "output_type": "execute_result"
    }
   ],
   "source": [
    "part1(\"input.txt\")"
   ]
  },
  {
   "cell_type": "code",
   "execution_count": 20,
   "metadata": {},
   "outputs": [
    {
     "data": {
      "text/plain": [
       "True"
      ]
     },
     "execution_count": 20,
     "metadata": {},
     "output_type": "execute_result"
    }
   ],
   "source": [
    "part2(\"example.txt\") == 4"
   ]
  },
  {
   "cell_type": "code",
   "execution_count": 21,
   "metadata": {},
   "outputs": [
    {
     "data": {
      "text/plain": [
       "426"
      ]
     },
     "execution_count": 21,
     "metadata": {},
     "output_type": "execute_result"
    }
   ],
   "source": [
    "part2(\"input.txt\")"
   ]
  },
  {
   "cell_type": "code",
   "execution_count": null,
   "metadata": {},
   "outputs": [],
   "source": []
  }
 ],
 "metadata": {
  "kernelspec": {
   "display_name": "base",
   "language": "python",
   "name": "python3"
  },
  "language_info": {
   "codemirror_mode": {
    "name": "ipython",
    "version": 3
   },
   "file_extension": ".py",
   "mimetype": "text/x-python",
   "name": "python",
   "nbconvert_exporter": "python",
   "pygments_lexer": "ipython3",
   "version": "3.12.7"
  }
 },
 "nbformat": 4,
 "nbformat_minor": 2
}
