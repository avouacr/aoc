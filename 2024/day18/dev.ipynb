{
 "cells": [
  {
   "cell_type": "code",
   "execution_count": null,
   "id": "7e315f6c",
   "metadata": {},
   "outputs": [],
   "source": [
    "from collections import deque\n",
    "\n",
    "from tqdm import tqdm"
   ]
  },
  {
   "cell_type": "code",
   "execution_count": null,
   "id": "60eb7a82",
   "metadata": {},
   "outputs": [],
   "source": [
    "directions = [(-1, 0), (1, 0), (0, -1), (0, 1)]"
   ]
  },
  {
   "cell_type": "code",
   "execution_count": null,
   "id": "410f554d",
   "metadata": {},
   "outputs": [],
   "source": [
    "def parse_input(file):\n",
    "\n",
    "    with open(file) as file_in:\n",
    "        coords = file_in.read().splitlines()\n",
    "    \n",
    "    coords = [row.split(',') for row in coords]\n",
    "    coords = [(int(y), int(x)) for x, y in coords]\n",
    "    max_x = max((x[0] for x in coords))\n",
    "    max_y = max((x[1] for x in coords))\n",
    "\n",
    "    return coords, (max_x, max_y)"
   ]
  },
  {
   "cell_type": "code",
   "execution_count": null,
   "id": "3983f41a",
   "metadata": {},
   "outputs": [],
   "source": [
    "def get_best_states(S_coords, E_coords, bytes_coords):\n",
    "    queue = deque([(S_coords, 0)])\n",
    "    best_states = {}\n",
    "    min_n_steps = float('inf')\n",
    "\n",
    "    while queue:\n",
    "        (x_current, y_current), n_steps = queue.popleft()\n",
    "\n",
    "        if n_steps > min_n_steps:\n",
    "            continue\n",
    "\n",
    "        if (x_current, y_current) == E_coords:\n",
    "            min_n_steps = min(min_n_steps, n_steps + 1)\n",
    "            continue\n",
    "\n",
    "        for dx, dy in directions:\n",
    "            x_next, y_next = x_current + dx, y_current + dy\n",
    "            if (0 <= x_next <= E_coords[0] and 0 <= y_next <= E_coords[1]\n",
    "                and (x_next, y_next) not in bytes_coords):\n",
    "\n",
    "                if (x_next, y_next) not in best_states or n_steps + 1 < best_states[(x_next, y_next)]:\n",
    "                    best_states[(x_next, y_next)] = n_steps + 1\n",
    "                    queue.append(((x_next, y_next), n_steps + 1))\n",
    "\n",
    "    return best_states"
   ]
  },
  {
   "cell_type": "code",
   "execution_count": null,
   "id": "d652f075",
   "metadata": {},
   "outputs": [],
   "source": [
    "def main1(file, n_bytes):\n",
    "    bytes_coords, (max_x, max_y) = parse_input(file)\n",
    "    bytes_coords = bytes_coords[:n_bytes]\n",
    "    S_coords = (0, 0)\n",
    "    E_coords = (max_x, max_y)\n",
    "    \n",
    "    best_states = get_best_states(S_coords, E_coords, bytes_coords)\n",
    "    n_steps_valid_paths = [best_states[(x, y)] for (x, y) in best_states if (x, y) == E_coords]\n",
    "\n",
    "    return min(n_steps_valid_paths)"
   ]
  },
  {
   "cell_type": "code",
   "execution_count": null,
   "id": "fe8bcd22",
   "metadata": {},
   "outputs": [],
   "source": [
    "def main2(file, n_byte_start):\n",
    "    bytes_coords, (max_x, max_y) = parse_input(file)\n",
    "    S_coords = (0, 0)\n",
    "    E_coords = (max_x, max_y)\n",
    "    \n",
    "    n_bytes_total = len(bytes_coords)\n",
    "    for i in tqdm(range(n_byte_start, n_bytes_total)):\n",
    "        best_states = get_best_states(S_coords, E_coords, bytes_coords[:i])\n",
    "        if E_coords not in best_states:\n",
    "            return ','.join([str(x) for x in bytes_coords[i-1]])[::-1]"
   ]
  },
  {
   "cell_type": "code",
   "execution_count": null,
   "id": "3a955dd6",
   "metadata": {},
   "outputs": [],
   "source": [
    "assert main1('example1.txt', n_bytes=12) == 22"
   ]
  },
  {
   "cell_type": "code",
   "execution_count": null,
   "id": "1a2bacdc",
   "metadata": {},
   "outputs": [],
   "source": [
    "main1('input.txt', n_bytes=1024)"
   ]
  },
  {
   "cell_type": "code",
   "execution_count": null,
   "id": "b6bec542",
   "metadata": {},
   "outputs": [],
   "source": [
    "main2('example1.txt', n_byte_start=12)"
   ]
  },
  {
   "cell_type": "code",
   "execution_count": null,
   "id": "07409ff9",
   "metadata": {},
   "outputs": [],
   "source": [
    "main2('input.txt', n_byte_start=1024)"
   ]
  },
  {
   "cell_type": "code",
   "execution_count": null,
   "id": "b2d18336",
   "metadata": {},
   "outputs": [],
   "source": []
  }
 ],
 "metadata": {
  "kernelspec": {
   "display_name": "base",
   "language": "python",
   "name": "python3"
  },
  "language_info": {
   "codemirror_mode": {
    "name": "ipython",
    "version": 3
   },
   "file_extension": ".py",
   "mimetype": "text/x-python",
   "name": "python",
   "nbconvert_exporter": "python",
   "pygments_lexer": "ipython3",
   "version": "3.12.7"
  }
 },
 "nbformat": 4,
 "nbformat_minor": 5
}
