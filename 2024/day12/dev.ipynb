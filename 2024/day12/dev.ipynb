{
 "cells": [
  {
   "cell_type": "code",
   "execution_count": 1,
   "metadata": {},
   "outputs": [],
   "source": [
    "from collections import deque, defaultdict\n",
    "\n",
    "import numpy as np"
   ]
  },
  {
   "cell_type": "code",
   "execution_count": 2,
   "metadata": {},
   "outputs": [],
   "source": [
    "directions = [(-1, 0), (1, 0), (0, -1), (0, 1)]"
   ]
  },
  {
   "cell_type": "code",
   "execution_count": 3,
   "metadata": {},
   "outputs": [],
   "source": [
    "def get_region_plant_start(grid, plant, start):\n",
    "\n",
    "    assert grid[start] == plant\n",
    "\n",
    "    n_rows, n_cols = grid.shape\n",
    "\n",
    "    visited = set()\n",
    "    n_connexions = 0\n",
    "    queue = deque([start])\n",
    "\n",
    "    while queue:\n",
    "        x_current, y_current = queue.popleft()\n",
    "        if (x_current, y_current) in visited:\n",
    "            continue\n",
    "        visited.add((x_current, y_current))\n",
    "\n",
    "        for dx, dy in directions:\n",
    "            x_next, y_next = x_current + dx, y_current + dy\n",
    "            if 0 <= x_next < n_rows and 0 <= y_next < n_cols and (x_next, y_next) not in visited:\n",
    "                if grid[x_next, y_next] == plant:\n",
    "                    queue.append((x_next, y_next))\n",
    "                    n_connexions += 1\n",
    "\n",
    "    return visited, n_connexions"
   ]
  },
  {
   "cell_type": "code",
   "execution_count": 4,
   "metadata": {},
   "outputs": [],
   "source": [
    "def get_all_regions_one_plant(grid, plant):\n",
    "    plant_pos = set([tuple(pos.tolist()) for pos in np.argwhere(grid == plant)])\n",
    "    plant_regions = []\n",
    "\n",
    "    while plant_pos:\n",
    "        start = plant_pos.pop()\n",
    "        region, n_connexions = get_region_plant_start(grid, plant, start)\n",
    "        plant_regions.append((str(plant), n_connexions, region))\n",
    "        plant_pos = plant_pos.difference(region)\n",
    "\n",
    "    return plant_regions"
   ]
  },
  {
   "cell_type": "code",
   "execution_count": 5,
   "metadata": {},
   "outputs": [],
   "source": [
    "def get_all_regions(grid):\n",
    "    regions = []\n",
    "    for plant in np.unique(grid):\n",
    "        regions.extend(get_all_regions_one_plant(grid, plant))\n",
    "    return regions"
   ]
  },
  {
   "cell_type": "code",
   "execution_count": 6,
   "metadata": {},
   "outputs": [],
   "source": [
    "def compute_total_cost_p1(grid):\n",
    "    total_cost = 0\n",
    "    for plant, n_connexions, coords in get_all_regions(grid):\n",
    "        n_plots = len(coords)\n",
    "        area = n_plots\n",
    "        perimeter = 4 * n_plots - 2 * n_connexions\n",
    "        total_cost += area * perimeter\n",
    "    return total_cost"
   ]
  },
  {
   "cell_type": "code",
   "execution_count": 7,
   "metadata": {},
   "outputs": [],
   "source": [
    "def cound_sides_region(grid, plant, coords):\n",
    "    n_rows, n_cols = grid.shape\n",
    "\n",
    "    x_sides = set()\n",
    "    y_sides = set()\n",
    "\n",
    "    for x_current, y_current in coords:\n",
    "        for dx, dy in directions:\n",
    "            x_next, y_next = x_current + dx, y_current + dy\n",
    "            if 0 <= x_next < n_rows and 0 <= y_next < n_cols:\n",
    "                if grid[x_next, y_next] != plant:\n",
    "                    if dx > 0:\n",
    "                        x_sides.add(x_current + 1)\n",
    "                    elif dx < 0:\n",
    "                        x_sides.add(x_current)\n",
    "                    if dy > 0:\n",
    "                        y_sides.add(y_current + 1)\n",
    "                    elif dy < 0:\n",
    "                        y_sides.add(y_current)\n",
    "            elif x_next < 0:\n",
    "                print('min_x', x_current, y_current, f'dx={x_current}')\n",
    "                x_sides.add(x_current)\n",
    "            elif x_next >= n_rows:\n",
    "                print('max_x', x_current, y_current, f'dx={x_current+1}')\n",
    "                x_sides.add(x_current + 1)\n",
    "            elif y_next < 0:\n",
    "                print('min_y', x_current, y_current, f'dy={y_current}')\n",
    "                y_sides.add(y_current)\n",
    "            elif y_next >= n_cols:\n",
    "                print('max_y', x_current, y_current, f'dy={y_current+1}')\n",
    "                y_sides.add(y_current + 1)\n",
    "\n",
    "    n_sides = len(x_sides) + len(y_sides)\n",
    "\n",
    "    return n_sides"
   ]
  },
  {
   "cell_type": "code",
   "execution_count": 8,
   "metadata": {},
   "outputs": [],
   "source": [
    "def compute_total_cost_p2(grid):\n",
    "    total_cost = 0\n",
    "    for plant, n_connexions, coords in get_all_regions(grid):\n",
    "        area = len(coords)\n",
    "        n_sides = cound_sides_region(grid, plant, coords)\n",
    "        total_cost += area * n_sides\n",
    "    return total_cost"
   ]
  },
  {
   "cell_type": "code",
   "execution_count": 9,
   "metadata": {},
   "outputs": [],
   "source": [
    "def main1(file):\n",
    "    with open(file) as file_in:\n",
    "        grid_str = file_in.read()\n",
    "    grid = np.array([list(row) for row in grid_str.splitlines()])\n",
    "    total_cost = compute_total_cost_p1(grid)\n",
    "    return total_cost"
   ]
  },
  {
   "cell_type": "code",
   "execution_count": 10,
   "metadata": {},
   "outputs": [
    {
     "data": {
      "text/plain": [
       "1431440"
      ]
     },
     "execution_count": 10,
     "metadata": {},
     "output_type": "execute_result"
    }
   ],
   "source": [
    "main1('input.txt')"
   ]
  },
  {
   "cell_type": "code",
   "execution_count": 11,
   "metadata": {},
   "outputs": [],
   "source": [
    "grid_str = '''EEEEE\n",
    "EXXXX\n",
    "EEEEE\n",
    "EXXXX\n",
    "EEEEE\n",
    "'''\n",
    "\n",
    "grid = np.array([list(row) for row in grid_str.splitlines()])\n",
    "n_rows, n_cols = grid.shape\n",
    "\n",
    "regions = get_all_regions(grid)\n",
    "plant, n_connexions, coords = regions[0]\n",
    "\n",
    "x_values, y_values = zip(*coords)\n",
    "x_min, x_max = min(x_values) - 1, max(x_values) + 1\n",
    "y_min, y_max = min(y_values) - 1, max(y_values) + 1\n",
    "bounding_box = np.full((x_max - x_min + 1, y_max - y_min + 1), '.', dtype=str)\n",
    "for x, y in coords:\n",
    "    bounding_box[x - x_min, y - y_min] = plant\n",
    "\n",
    "coords_dots = np.argwhere(bounding_box == '.')\n",
    "start_dot = tuple(coords_dots[0].tolist())\n",
    "visited_dots = set()\n",
    "corners = 0\n",
    "\n",
    "queue = deque([start_dot])\n",
    "while queue:\n",
    "    x_current, y_current = queue.popleft()\n",
    "    if (x_current, y_current) in visited_dots:\n",
    "        continue\n",
    "    visited_dots.add((x_current, y_current))\n",
    "    for dx, dy in directions:\n",
    "        x_next, y_next = x_current + dx, y_current + dy\n",
    "        if 0 <= x_next < bounding_box.shape[0] and 0 <= y_next < bounding_box.shape[1] and (x_next, y_next) not in visited_dots:\n",
    "            if bounding_box[x_next, y_next] == '.':\n",
    "                queue.append((x_next, y_next))"
   ]
  },
  {
   "cell_type": "code",
   "execution_count": 12,
   "metadata": {},
   "outputs": [
    {
     "data": {
      "text/plain": [
       "array([['.', '.', '.', '.', '.', '.', '.'],\n",
       "       ['.', 'E', 'E', 'E', 'E', 'E', '.'],\n",
       "       ['.', 'E', '.', '.', '.', '.', '.'],\n",
       "       ['.', 'E', 'E', 'E', 'E', 'E', '.'],\n",
       "       ['.', 'E', '.', '.', '.', '.', '.'],\n",
       "       ['.', 'E', 'E', 'E', 'E', 'E', '.'],\n",
       "       ['.', '.', '.', '.', '.', '.', '.']], dtype='<U1')"
      ]
     },
     "execution_count": 12,
     "metadata": {},
     "output_type": "execute_result"
    }
   ],
   "source": [
    "bounding_box"
   ]
  },
  {
   "cell_type": "code",
   "execution_count": null,
   "metadata": {},
   "outputs": [],
   "source": []
  }
 ],
 "metadata": {
  "kernelspec": {
   "display_name": "base",
   "language": "python",
   "name": "python3"
  },
  "language_info": {
   "codemirror_mode": {
    "name": "ipython",
    "version": 3
   },
   "file_extension": ".py",
   "mimetype": "text/x-python",
   "name": "python",
   "nbconvert_exporter": "python",
   "pygments_lexer": "ipython3",
   "version": "3.12.7"
  }
 },
 "nbformat": 4,
 "nbformat_minor": 2
}
