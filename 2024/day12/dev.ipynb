{
 "cells": [
  {
   "cell_type": "code",
   "execution_count": 1,
   "metadata": {},
   "outputs": [],
   "source": [
    "from collections import deque, defaultdict\n",
    "\n",
    "import numpy as np"
   ]
  },
  {
   "cell_type": "code",
   "execution_count": 2,
   "metadata": {},
   "outputs": [],
   "source": [
    "directions = [(-1, 0), (1, 0), (0, -1), (0, 1)]"
   ]
  },
  {
   "cell_type": "code",
   "execution_count": 3,
   "metadata": {},
   "outputs": [],
   "source": [
    "def parse_input(file):\n",
    "\n",
    "    with open(file) as file_in:\n",
    "        grid_str = file_in.read()\n",
    "    grid = np.array([list(row) for row in grid_str.splitlines()])\n",
    "    grid = np.pad(grid, pad_width=1, mode='constant', constant_values='.')\n",
    "\n",
    "    return grid"
   ]
  },
  {
   "cell_type": "code",
   "execution_count": 4,
   "metadata": {},
   "outputs": [],
   "source": [
    "def get_region_plant_start(grid, plant, start):\n",
    "\n",
    "    assert grid[start] == plant\n",
    "\n",
    "    n_rows, n_cols = grid.shape\n",
    "\n",
    "    visited = set()\n",
    "    n_connexions = 0\n",
    "    queue = deque([start])\n",
    "\n",
    "    while queue:\n",
    "        x_current, y_current = queue.popleft()\n",
    "        if (x_current, y_current) in visited:\n",
    "            continue\n",
    "        visited.add((x_current, y_current))\n",
    "\n",
    "        for dx, dy in directions:\n",
    "            x_next, y_next = x_current + dx, y_current + dy\n",
    "            if 0 <= x_next < n_rows and 0 <= y_next < n_cols and (x_next, y_next) not in visited:\n",
    "                if grid[x_next, y_next] == plant:\n",
    "                    queue.append((x_next, y_next))\n",
    "                    n_connexions += 1\n",
    "\n",
    "    return visited, n_connexions"
   ]
  },
  {
   "cell_type": "code",
   "execution_count": 5,
   "metadata": {},
   "outputs": [],
   "source": [
    "def get_all_regions_one_plant(grid, plant):\n",
    "    plant_pos = set([tuple(pos.tolist()) for pos in np.argwhere(grid == plant)])\n",
    "    plant_regions = []\n",
    "\n",
    "    while plant_pos:\n",
    "        start = plant_pos.pop()\n",
    "        region, n_connexions = get_region_plant_start(grid, plant, start)\n",
    "        plant_regions.append((str(plant), n_connexions, region))\n",
    "        plant_pos = plant_pos.difference(region)\n",
    "\n",
    "    return plant_regions"
   ]
  },
  {
   "cell_type": "code",
   "execution_count": 6,
   "metadata": {},
   "outputs": [],
   "source": [
    "def get_all_regions(grid):\n",
    "    regions = []\n",
    "    for plant in np.unique(grid):\n",
    "        if plant != '.':\n",
    "            regions.extend(get_all_regions_one_plant(grid, plant))\n",
    "    return regions"
   ]
  },
  {
   "cell_type": "code",
   "execution_count": 24,
   "metadata": {},
   "outputs": [],
   "source": [
    "def cound_sides_region(coords):\n",
    "\n",
    "    n_corners = 0\n",
    "\n",
    "    for x, y in coords:\n",
    "\n",
    "        # Count exterior corners\n",
    "        n_corners += (x-1, y) not in coords and (x, y-1) not in coords  # NW\n",
    "        n_corners += (x-1, y) not in coords and (x, y+1) not in coords  # NE\n",
    "        n_corners += (x+1, y) not in coords and (x, y+1) not in coords  # SE\n",
    "        n_corners += (x+1, y) not in coords and (x, y-1) not in coords  # SW           \n",
    "\n",
    "        # Count interior corners\n",
    "        n_corners += (x+1, y) in coords and (x, y+1) in coords and (x+1, y+1) not in coords  # SE\n",
    "        n_corners += (x-1, y) in coords and (x, y+1) in coords and (x-1, y+1) not in coords  # NE\n",
    "        n_corners += (x+1, y) in coords and (x, y-1) in coords and (x+1, y-1) not in coords  # SW\n",
    "        n_corners += (x-1, y) in coords and (x, y-1) in coords and (x-1, y-1) not in coords  # NW\n",
    "            \n",
    "    return n_corners"
   ]
  },
  {
   "cell_type": "code",
   "execution_count": 25,
   "metadata": {},
   "outputs": [],
   "source": [
    "def compute_total_cost(grid, part):\n",
    "    total_cost = 0\n",
    "    for plant, n_connexions, coords in get_all_regions(grid):\n",
    "        area = len(coords)\n",
    "        if part == 1:\n",
    "            factor = 4 * area - 2 * n_connexions  # perimeter\n",
    "        elif part == 2:\n",
    "            factor = cound_sides_region(coords)\n",
    "        total_cost += area * factor\n",
    "    return total_cost"
   ]
  },
  {
   "cell_type": "code",
   "execution_count": 26,
   "metadata": {},
   "outputs": [],
   "source": [
    "def main(file, part):\n",
    "    grid = parse_input(file)\n",
    "    total_cost = compute_total_cost(grid, part)\n",
    "    return total_cost"
   ]
  },
  {
   "cell_type": "code",
   "execution_count": 27,
   "metadata": {},
   "outputs": [],
   "source": [
    "assert main('example1.txt', part=1) == 140\n",
    "assert main('example2.txt', part=1) == 772\n",
    "assert main('example3.txt', part=1) == 1930"
   ]
  },
  {
   "cell_type": "code",
   "execution_count": 28,
   "metadata": {},
   "outputs": [
    {
     "data": {
      "text/plain": [
       "1431440"
      ]
     },
     "execution_count": 28,
     "metadata": {},
     "output_type": "execute_result"
    }
   ],
   "source": [
    "main('input.txt', part=1)"
   ]
  },
  {
   "cell_type": "code",
   "execution_count": 33,
   "metadata": {},
   "outputs": [],
   "source": [
    "assert main('example1.txt', part=2) == 80\n",
    "assert main('example2.txt', part=2) == 436\n",
    "assert main('example4.txt', part=2) == 236"
   ]
  },
  {
   "cell_type": "code",
   "execution_count": 34,
   "metadata": {},
   "outputs": [
    {
     "data": {
      "text/plain": [
       "869070"
      ]
     },
     "execution_count": 34,
     "metadata": {},
     "output_type": "execute_result"
    }
   ],
   "source": [
    "main('input.txt', part=2)"
   ]
  },
  {
   "cell_type": "code",
   "execution_count": null,
   "metadata": {},
   "outputs": [],
   "source": []
  }
 ],
 "metadata": {
  "kernelspec": {
   "display_name": "base",
   "language": "python",
   "name": "python3"
  },
  "language_info": {
   "codemirror_mode": {
    "name": "ipython",
    "version": 3
   },
   "file_extension": ".py",
   "mimetype": "text/x-python",
   "name": "python",
   "nbconvert_exporter": "python",
   "pygments_lexer": "ipython3",
   "version": "3.12.7"
  }
 },
 "nbformat": 4,
 "nbformat_minor": 2
}
