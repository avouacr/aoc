{
 "cells": [
  {
   "cell_type": "code",
   "execution_count": 51,
   "metadata": {},
   "outputs": [],
   "source": [
    "from collections import deque, defaultdict\n",
    "\n",
    "import numpy as np"
   ]
  },
  {
   "cell_type": "code",
   "execution_count": 52,
   "metadata": {},
   "outputs": [],
   "source": [
    "directions = [(-1, 0), (1, 0), (0, -1), (0, 1)]"
   ]
  },
  {
   "cell_type": "code",
   "execution_count": 53,
   "metadata": {},
   "outputs": [],
   "source": [
    "def get_region_plant_start(grid, plant, start):\n",
    "\n",
    "    assert grid[start] == plant\n",
    "\n",
    "    n_rows, n_cols = grid.shape\n",
    "\n",
    "    visited = set()\n",
    "    n_connexions = 0\n",
    "    queue = deque([start])\n",
    "\n",
    "    while queue:\n",
    "        x_current, y_current = queue.popleft()\n",
    "        if (x_current, y_current) in visited:\n",
    "            continue\n",
    "        visited.add((x_current, y_current))\n",
    "\n",
    "        for dx, dy in directions:\n",
    "            x_next, y_next = x_current + dx, y_current + dy\n",
    "            if 0 <= x_next < n_rows and 0 <= y_next < n_cols and (x_next, y_next) not in visited:\n",
    "                if grid[x_next, y_next] == plant:\n",
    "                    queue.append((x_next, y_next))\n",
    "                    n_connexions += 1\n",
    "\n",
    "    return visited, n_connexions"
   ]
  },
  {
   "cell_type": "code",
   "execution_count": 68,
   "metadata": {},
   "outputs": [],
   "source": [
    "def get_all_regions_one_plant(grid, plant):\n",
    "    plant_pos = set([tuple(pos.tolist()) for pos in np.argwhere(grid == plant)])\n",
    "    plant_regions = []\n",
    "\n",
    "    while plant_pos:\n",
    "        start = plant_pos.pop()\n",
    "        region, n_connexions = get_region_plant_start(grid, plant, start)\n",
    "        plant_regions.append((str(plant), n_connexions, region))\n",
    "        plant_pos = plant_pos.difference(region)\n",
    "\n",
    "    return plant_regions"
   ]
  },
  {
   "cell_type": "code",
   "execution_count": 69,
   "metadata": {},
   "outputs": [],
   "source": [
    "def get_all_regions(grid):\n",
    "    regions = []\n",
    "    for plant in np.unique(grid):\n",
    "        regions.extend(get_all_regions_one_plant(grid, plant))\n",
    "    return regions"
   ]
  },
  {
   "cell_type": "code",
   "execution_count": 85,
   "metadata": {},
   "outputs": [],
   "source": [
    "def compute_total_cost(all_regions):\n",
    "    total_cost = 0\n",
    "    for region in all_regions:\n",
    "        n_plots = len(region[2])\n",
    "        n_connexions = region[1]\n",
    "        area = n_plots\n",
    "        perimeter = 4 * n_plots - 2 * n_connexions\n",
    "        total_cost += area * perimeter\n",
    "        # print(region[0], area, perimeter)\n",
    "    return total_cost"
   ]
  },
  {
   "cell_type": "code",
   "execution_count": 89,
   "metadata": {},
   "outputs": [],
   "source": [
    "def main(file):\n",
    "    with open(file) as file_in:\n",
    "        grid_str = file_in.read()\n",
    "    grid = np.array([list(row) for row in grid_str.splitlines()])\n",
    "\n",
    "    regions = get_all_regions(grid)\n",
    "    total_cost = compute_total_cost(regions)\n",
    "    return total_cost"
   ]
  },
  {
   "cell_type": "code",
   "execution_count": 91,
   "metadata": {},
   "outputs": [
    {
     "data": {
      "text/plain": [
       "1431440"
      ]
     },
     "execution_count": 91,
     "metadata": {},
     "output_type": "execute_result"
    }
   ],
   "source": [
    "main('input.txt')"
   ]
  },
  {
   "cell_type": "code",
   "execution_count": null,
   "metadata": {},
   "outputs": [],
   "source": []
  }
 ],
 "metadata": {
  "kernelspec": {
   "display_name": "base",
   "language": "python",
   "name": "python3"
  },
  "language_info": {
   "codemirror_mode": {
    "name": "ipython",
    "version": 3
   },
   "file_extension": ".py",
   "mimetype": "text/x-python",
   "name": "python",
   "nbconvert_exporter": "python",
   "pygments_lexer": "ipython3",
   "version": "3.12.7"
  }
 },
 "nbformat": 4,
 "nbformat_minor": 2
}
