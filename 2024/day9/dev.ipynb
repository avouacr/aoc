{
 "cells": [
  {
   "cell_type": "code",
   "execution_count": 1,
   "metadata": {},
   "outputs": [],
   "source": [
    "def parse_input(file):\n",
    "    with open(file, \"r\") as file_in:\n",
    "        disk_map = file_in.read().rstrip('\\n')\n",
    "\n",
    "    return disk_map"
   ]
  },
  {
   "cell_type": "code",
   "execution_count": 2,
   "metadata": {},
   "outputs": [],
   "source": [
    "def main1(file):\n",
    "    disk_map = parse_input(file)\n",
    "    \n",
    "    busy = []\n",
    "    free = []\n",
    "\n",
    "    id = 0\n",
    "    pos = 0\n",
    "    for i, digit in enumerate(disk_map):\n",
    "        digit = int(digit)\n",
    "        if i % 2 == 0:\n",
    "            busy.extend([(id, pos + n) for n in range(digit)])\n",
    "            id += 1\n",
    "            pos += digit\n",
    "        else:\n",
    "            free.extend([pos + n for n in range(digit)])\n",
    "            pos += digit\n",
    "\n",
    "    busy = busy[::-1]\n",
    "\n",
    "    while free[0] < len(busy):\n",
    "        # print(busy)\n",
    "        # print(free)\n",
    "        id, pos = busy.pop(0)\n",
    "        first_pos_empty = free.pop(0)\n",
    "        # print((id, pos))\n",
    "        # print()\n",
    "        busy.append((id, first_pos_empty))\n",
    "\n",
    "    return sum(x[0] * x[1] for x in busy)"
   ]
  },
  {
   "cell_type": "code",
   "execution_count": 3,
   "metadata": {},
   "outputs": [],
   "source": [
    "def debug(free, busy):\n",
    "    dict_plot = {}\n",
    "    for pos, n_dots in free.items():\n",
    "        for n in range(n_dots):\n",
    "            dict_plot[pos + n] = '.'\n",
    "    for id in busy:\n",
    "        for pos in busy[id]:\n",
    "            dict_plot[pos] = id\n",
    "    result = [dict_plot[pos] for pos in sorted(dict_plot.keys())]\n",
    "    print(result)"
   ]
  },
  {
   "cell_type": "code",
   "execution_count": 8,
   "metadata": {},
   "outputs": [],
   "source": [
    "def main2(file):\n",
    "    disk_map = parse_input(file)\n",
    "\n",
    "    busy = {}\n",
    "    free = {}\n",
    "\n",
    "    id = 0\n",
    "    pos = 0\n",
    "    for i, digit in enumerate(disk_map):\n",
    "        digit = int(digit)\n",
    "        if digit == 0:\n",
    "            continue\n",
    "        elif i % 2 == 0:\n",
    "            busy[id] = [pos + n for n in range(digit)]\n",
    "            id += 1\n",
    "            pos += digit\n",
    "        else:\n",
    "            free[pos] = digit\n",
    "            pos += digit\n",
    "\n",
    "    for id in list(busy.keys())[::-1]:\n",
    "        block = busy[id]\n",
    "        block_len = len(block)\n",
    "        admissible_free_pos = [pos for pos in sorted(free.keys()) if pos < min(block)]\n",
    "        for free_pos in admissible_free_pos:\n",
    "            if block_len <= free[free_pos]:\n",
    "                busy[id] = [free_pos + n for n in range(block_len)]\n",
    "                len_free = free.pop(free_pos)\n",
    "                if len_free - block_len > 0:\n",
    "                    free[free_pos + block_len] = len_free - block_len\n",
    "                break\n",
    "\n",
    "    checksum = 0\n",
    "    for id in busy:\n",
    "        for pos in busy[id]:\n",
    "            checksum += id * pos\n",
    "\n",
    "    return checksum"
   ]
  },
  {
   "cell_type": "code",
   "execution_count": 9,
   "metadata": {},
   "outputs": [],
   "source": [
    "assert main1(\"example2.txt\") == 1928"
   ]
  },
  {
   "cell_type": "code",
   "execution_count": 10,
   "metadata": {},
   "outputs": [
    {
     "data": {
      "text/plain": [
       "6384282079460"
      ]
     },
     "execution_count": 10,
     "metadata": {},
     "output_type": "execute_result"
    }
   ],
   "source": [
    "main1(\"input.txt\")"
   ]
  },
  {
   "cell_type": "code",
   "execution_count": 11,
   "metadata": {},
   "outputs": [],
   "source": [
    "assert main2(\"example2.txt\") == 2858"
   ]
  },
  {
   "cell_type": "code",
   "execution_count": 12,
   "metadata": {},
   "outputs": [
    {
     "data": {
      "text/plain": [
       "6408966547049"
      ]
     },
     "execution_count": 12,
     "metadata": {},
     "output_type": "execute_result"
    }
   ],
   "source": [
    "main2(\"input.txt\")"
   ]
  },
  {
   "cell_type": "code",
   "execution_count": null,
   "metadata": {},
   "outputs": [],
   "source": []
  }
 ],
 "metadata": {
  "kernelspec": {
   "display_name": "base",
   "language": "python",
   "name": "python3"
  },
  "language_info": {
   "codemirror_mode": {
    "name": "ipython",
    "version": 3
   },
   "file_extension": ".py",
   "mimetype": "text/x-python",
   "name": "python",
   "nbconvert_exporter": "python",
   "pygments_lexer": "ipython3",
   "version": "3.12.7"
  }
 },
 "nbformat": 4,
 "nbformat_minor": 2
}
