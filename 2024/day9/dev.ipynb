{
 "cells": [
  {
   "cell_type": "code",
   "execution_count": 1,
   "metadata": {},
   "outputs": [],
   "source": [
    "def parse_input(file):\n",
    "    with open(file, \"r\") as file_in:\n",
    "        disk_map = file_in.read().rstrip('\\n')\n",
    "\n",
    "    return disk_map"
   ]
  },
  {
   "cell_type": "code",
   "execution_count": null,
   "metadata": {},
   "outputs": [],
   "source": []
  },
  {
   "cell_type": "code",
   "execution_count": 66,
   "metadata": {},
   "outputs": [],
   "source": [
    "busy = []\n",
    "free = []\n",
    "\n",
    "id = 0\n",
    "pos = 0\n",
    "for i, digit in enumerate(disk_map):\n",
    "    digit = int(digit)\n",
    "    if i % 2 == 0:\n",
    "        busy.extend([(id, pos + n) for n in range(digit)])\n",
    "        id += 1\n",
    "        pos += digit\n",
    "    else:\n",
    "        free.extend([pos + n for n in range(digit)])\n",
    "        pos += digit\n",
    "\n",
    "busy = busy[::-1]\n",
    "\n",
    "while free[0] < len(busy):\n",
    "    # print(busy)\n",
    "    # print(free)\n",
    "    id, pos = busy.pop(0)\n",
    "    first_pos_empty = free.pop(0)\n",
    "    # print((id, pos))\n",
    "    # print()\n",
    "    busy.append((id, first_pos_empty))"
   ]
  },
  {
   "cell_type": "code",
   "execution_count": 67,
   "metadata": {},
   "outputs": [
    {
     "data": {
      "text/plain": [
       "6384282079460"
      ]
     },
     "execution_count": 67,
     "metadata": {},
     "output_type": "execute_result"
    }
   ],
   "source": [
    "sum(x[0] * x[1] for x in busy)"
   ]
  },
  {
   "cell_type": "code",
   "execution_count": null,
   "metadata": {},
   "outputs": [],
   "source": []
  }
 ],
 "metadata": {
  "kernelspec": {
   "display_name": "base",
   "language": "python",
   "name": "python3"
  },
  "language_info": {
   "codemirror_mode": {
    "name": "ipython",
    "version": 3
   },
   "file_extension": ".py",
   "mimetype": "text/x-python",
   "name": "python",
   "nbconvert_exporter": "python",
   "pygments_lexer": "ipython3",
   "version": "3.12.7"
  }
 },
 "nbformat": 4,
 "nbformat_minor": 2
}
