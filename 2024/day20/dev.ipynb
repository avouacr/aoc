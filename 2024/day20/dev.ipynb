{
 "cells": [
  {
   "cell_type": "code",
   "execution_count": 1,
   "metadata": {},
   "outputs": [],
   "source": [
    "from collections import deque\n",
    "\n",
    "import numpy as np"
   ]
  },
  {
   "cell_type": "code",
   "execution_count": 2,
   "metadata": {},
   "outputs": [],
   "source": [
    "def parse_input(file):\n",
    "    with open(file) as file_in:\n",
    "        grid = file_in.read().splitlines()\n",
    "\n",
    "    grid = np.array([list(row) for row in grid])\n",
    "\n",
    "    S_coords = tuple(np.argwhere(grid == 'S')[0].tolist())\n",
    "    E_coords = tuple(np.argwhere(grid == 'E')[0].tolist())\n",
    "    wall_coords = set([(x.item(), y.item()) for x, y in np.argwhere(grid == '#')])\n",
    "\n",
    "    return S_coords, E_coords, wall_coords"
   ]
  },
  {
   "cell_type": "code",
   "execution_count": 3,
   "metadata": {},
   "outputs": [],
   "source": [
    "def get_best_states(S_coords, E_coords, wall_coords):\n",
    "    queue = deque([(S_coords, 0)])\n",
    "    best_states = {S_coords: 0}\n",
    "    min_score = float('inf')\n",
    "\n",
    "    while queue:\n",
    "        (x_current, y_current), score = queue.popleft()\n",
    "\n",
    "        if score > min_score:\n",
    "            continue\n",
    "\n",
    "        if (x_current, y_current) == E_coords:\n",
    "            min_score = min(min_score, score + 1)\n",
    "            continue\n",
    "\n",
    "        for dx, dy in directions:\n",
    "            x_next, y_next = x_current + dx, y_current + dy \n",
    "\n",
    "            if (x_next, y_next) in wall_coords:\n",
    "                continue\n",
    "\n",
    "            state = (x_next, y_next)\n",
    "            if state not in best_states or score + 1 < best_states[state]:\n",
    "                best_states[state] = score + 1\n",
    "                queue.append((state, score + 1))\n",
    "\n",
    "    return best_states"
   ]
  },
  {
   "cell_type": "code",
   "execution_count": 4,
   "metadata": {},
   "outputs": [],
   "source": [
    "def compute_cheats(best_states, wall_coords):\n",
    "    cheats = {}\n",
    "\n",
    "    for x0, y0 in best_states:\n",
    "        for dx1, dy1 in directions:\n",
    "            # First move\n",
    "            x1, y1 = x0 + dx1, y0 + dy1\n",
    "            if (x1, y1) in wall_coords:\n",
    "                for dx2, dy2 in directions:\n",
    "                    # Second move\n",
    "                    x2, y2 = x1 + dx2, y1 + dy2\n",
    "                    if (x2, y2) in best_states:\n",
    "                        gain = best_states[(x2, y2)] - best_states[(x0, y0)] - 2\n",
    "                        if gain > 0:\n",
    "                            cheats[((x0, y0), (x2, y2))] = gain\n",
    "\n",
    "    return cheats"
   ]
  },
  {
   "cell_type": "code",
   "execution_count": 9,
   "metadata": {},
   "outputs": [],
   "source": [
    "def main1(file):\n",
    "    S_coords, E_coords, wall_coords = parse_input(file)\n",
    "    best_states = get_best_states(S_coords, E_coords, wall_coords)\n",
    "    cheats = compute_cheats(best_states, wall_coords)\n",
    "\n",
    "    return len([gain for gain in cheats.values() if gain >= 100])"
   ]
  },
  {
   "cell_type": "code",
   "execution_count": 10,
   "metadata": {},
   "outputs": [],
   "source": [
    "directions = [(-1, 0), (1, 0), (0, -1), (0, 1)]"
   ]
  },
  {
   "cell_type": "code",
   "execution_count": 12,
   "metadata": {},
   "outputs": [
    {
     "data": {
      "text/plain": [
       "1363"
      ]
     },
     "execution_count": 12,
     "metadata": {},
     "output_type": "execute_result"
    }
   ],
   "source": [
    "main1('input.txt')"
   ]
  },
  {
   "cell_type": "code",
   "execution_count": null,
   "metadata": {},
   "outputs": [],
   "source": []
  }
 ],
 "metadata": {
  "kernelspec": {
   "display_name": "base",
   "language": "python",
   "name": "python3"
  },
  "language_info": {
   "codemirror_mode": {
    "name": "ipython",
    "version": 3
   },
   "file_extension": ".py",
   "mimetype": "text/x-python",
   "name": "python",
   "nbconvert_exporter": "python",
   "pygments_lexer": "ipython3",
   "version": "3.12.7"
  }
 },
 "nbformat": 4,
 "nbformat_minor": 2
}
