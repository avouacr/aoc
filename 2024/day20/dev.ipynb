{
 "cells": [
  {
   "cell_type": "code",
   "execution_count": 1,
   "metadata": {},
   "outputs": [],
   "source": [
    "from collections import deque\n",
    "from functools import cache\n",
    "\n",
    "import numpy as np\n",
    "from tqdm import tqdm\n",
    "from scipy.spatial.distance import cdist"
   ]
  },
  {
   "cell_type": "code",
   "execution_count": 2,
   "metadata": {},
   "outputs": [],
   "source": [
    "def parse_input(file):\n",
    "    with open(file) as file_in:\n",
    "        grid = file_in.read().splitlines()\n",
    "\n",
    "    grid = np.array([list(row) for row in grid])\n",
    "    n_rows, n_cols = grid.shape\n",
    "\n",
    "    S_coords = tuple(np.argwhere(grid == 'S')[0].tolist())\n",
    "    E_coords = tuple(np.argwhere(grid == 'E')[0].tolist())\n",
    "    wall_coords = set([(x.item(), y.item()) for x, y in np.argwhere(grid == '#')])\n",
    "\n",
    "    return S_coords, E_coords, wall_coords, n_rows, n_cols"
   ]
  },
  {
   "cell_type": "code",
   "execution_count": 3,
   "metadata": {},
   "outputs": [],
   "source": [
    "def get_best_states(S_coords, E_coords, wall_coords):\n",
    "    queue = deque([(S_coords, 0)])\n",
    "    best_states = {S_coords: 0}\n",
    "    min_score = float('inf')\n",
    "\n",
    "    while queue:\n",
    "        (x_current, y_current), score = queue.popleft()\n",
    "\n",
    "        if score > min_score:\n",
    "            continue\n",
    "\n",
    "        if (x_current, y_current) == E_coords:\n",
    "            min_score = min(min_score, score + 1)\n",
    "            continue\n",
    "\n",
    "        for dx, dy in directions:\n",
    "            x_next, y_next = x_current + dx, y_current + dy \n",
    "\n",
    "            if (x_next, y_next) in wall_coords:\n",
    "                continue\n",
    "\n",
    "            state = (x_next, y_next)\n",
    "            if state not in best_states or score + 1 < best_states[state]:\n",
    "                best_states[state] = score + 1\n",
    "                queue.append((state, score + 1))\n",
    "\n",
    "    return best_states"
   ]
  },
  {
   "cell_type": "code",
   "execution_count": 4,
   "metadata": {},
   "outputs": [],
   "source": [
    "def manhattan(x1, y1, x2, y2):\n",
    "    return abs(x2 - x1) + abs(y2 - y1)"
   ]
  },
  {
   "cell_type": "code",
   "execution_count": 9,
   "metadata": {},
   "outputs": [],
   "source": [
    "def compute_cheats(best_states, n_steps_max, n_rows, n_cols):\n",
    "    cheats = {}\n",
    "\n",
    "    for x0, y0 in tqdm(best_states):\n",
    "        for x, y in best_states:\n",
    "            if x - x0 <= n_steps_max and y - y0 <= n_steps_max:\n",
    "                n_steps_current = best_states[(x, y)] - best_states[(x0, y0)]\n",
    "                if n_steps_current > 0:\n",
    "                    n_steps_cheat = manhattan(x0, y0, x, y)\n",
    "                    if n_steps_cheat <= n_steps_max and n_steps_cheat < n_steps_current:\n",
    "                        cheats[((x0, y0), (x, y))] = n_steps_current - n_steps_cheat\n",
    "\n",
    "    return cheats"
   ]
  },
  {
   "cell_type": "code",
   "execution_count": 16,
   "metadata": {},
   "outputs": [],
   "source": [
    "def main(file, n_steps_max):\n",
    "    S_coords, E_coords, wall_coords, n_rows, n_cols = parse_input(file)\n",
    "    best_states = get_best_states(S_coords, E_coords, wall_coords)\n",
    "    cheats = compute_cheats(best_states, n_steps_max, n_rows, n_cols)\n",
    "\n",
    "    return len([gain for gain in cheats.values() if gain >= 100])"
   ]
  },
  {
   "cell_type": "code",
   "execution_count": 11,
   "metadata": {},
   "outputs": [],
   "source": [
    "directions = [(-1, 0), (1, 0), (0, -1), (0, 1)]"
   ]
  },
  {
   "cell_type": "code",
   "execution_count": 13,
   "metadata": {},
   "outputs": [
    {
     "name": "stderr",
     "output_type": "stream",
     "text": [
      "100%|██████████| 9465/9465 [00:12<00:00, 761.13it/s] \n"
     ]
    },
    {
     "data": {
      "text/plain": [
       "1363"
      ]
     },
     "execution_count": 13,
     "metadata": {},
     "output_type": "execute_result"
    }
   ],
   "source": [
    "main('input.txt', n_steps_max=2)"
   ]
  },
  {
   "cell_type": "code",
   "execution_count": 15,
   "metadata": {},
   "outputs": [
    {
     "name": "stderr",
     "output_type": "stream",
     "text": [
      "100%|██████████| 9465/9465 [00:18<00:00, 513.78it/s] \n"
     ]
    },
    {
     "data": {
      "text/plain": [
       "1007186"
      ]
     },
     "execution_count": 15,
     "metadata": {},
     "output_type": "execute_result"
    }
   ],
   "source": [
    "main('input.txt', n_steps_max=20)"
   ]
  },
  {
   "cell_type": "code",
   "execution_count": null,
   "metadata": {},
   "outputs": [],
   "source": []
  }
 ],
 "metadata": {
  "kernelspec": {
   "display_name": "base",
   "language": "python",
   "name": "python3"
  },
  "language_info": {
   "codemirror_mode": {
    "name": "ipython",
    "version": 3
   },
   "file_extension": ".py",
   "mimetype": "text/x-python",
   "name": "python",
   "nbconvert_exporter": "python",
   "pygments_lexer": "ipython3",
   "version": "3.12.7"
  }
 },
 "nbformat": 4,
 "nbformat_minor": 2
}
