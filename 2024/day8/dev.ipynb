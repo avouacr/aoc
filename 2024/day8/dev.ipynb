{
 "cells": [
  {
   "cell_type": "code",
   "execution_count": 1,
   "metadata": {},
   "outputs": [],
   "source": [
    "import numpy as np\n",
    "from itertools import combinations"
   ]
  },
  {
   "cell_type": "code",
   "execution_count": 2,
   "metadata": {},
   "outputs": [],
   "source": [
    "def parse_input(file):\n",
    "    with open(file, \"r\") as file_in:\n",
    "        grid = np.array([list(line.strip()) for line in file_in])\n",
    "\n",
    "    return grid"
   ]
  },
  {
   "cell_type": "code",
   "execution_count": 3,
   "metadata": {},
   "outputs": [],
   "source": [
    "def point_is_in_grid(p, grid):\n",
    "    x, y = p\n",
    "    nrows, ncols = grid.shape\n",
    "    return 0 <= x < nrows and 0 <= y < ncols"
   ]
  },
  {
   "cell_type": "code",
   "execution_count": 4,
   "metadata": {},
   "outputs": [],
   "source": [
    "def compute_valid_antinodes_part1(p1, p2, grid):\n",
    "    diff = p1 - p2\n",
    "    candidates = (p1 + diff, p2 - diff)\n",
    "    valid_antinodes = set()\n",
    "    for antinode in candidates:\n",
    "        if point_is_in_grid(antinode, grid):\n",
    "            valid_antinodes.add(tuple(antinode.tolist()))\n",
    "    return valid_antinodes"
   ]
  },
  {
   "cell_type": "code",
   "execution_count": 5,
   "metadata": {},
   "outputs": [],
   "source": [
    "def compute_valid_antinodes_part2(p1, p2, grid):\n",
    "    diff = p1 - p2\n",
    "    \n",
    "    return valid_antinodes"
   ]
  },
  {
   "cell_type": "code",
   "execution_count": 6,
   "metadata": {},
   "outputs": [],
   "source": [
    "def compute_antinodes_group_antennas(coords, grid, part):\n",
    "    all_pairs = list(combinations(coords, 2))\n",
    "    all_valid_antinodes = set()\n",
    "    for p1, p2 in all_pairs:\n",
    "        if part == '1':\n",
    "            f_compute_antinodes = compute_valid_antinodes_part1\n",
    "        elif part == '2':\n",
    "            f_compute_antinodes = compute_valid_antinodes_part2\n",
    "        all_valid_antinodes.update(f_compute_antinodes(p1, p2, grid))\n",
    "    return all_valid_antinodes"
   ]
  },
  {
   "cell_type": "code",
   "execution_count": 7,
   "metadata": {},
   "outputs": [],
   "source": [
    "def main(file, part):\n",
    "    grid = parse_input(file)\n",
    "    coords_all_antennas = {value: np.argwhere(grid == value) \n",
    "                           for value in np.unique(grid) if value != '.'}\n",
    "    valid_antinodes = set()\n",
    "    for antenna_group in coords_all_antennas:\n",
    "        antenna_group_coords = coords_all_antennas[antenna_group]\n",
    "        valid_antinodes.update(compute_antinodes_group_antennas(antenna_group_coords, \n",
    "                                                                grid,\n",
    "                                                                part=part)\n",
    "                               )\n",
    "\n",
    "    return len(valid_antinodes)"
   ]
  },
  {
   "cell_type": "code",
   "execution_count": 8,
   "metadata": {},
   "outputs": [],
   "source": [
    "assert main('example.txt', part=\"1\") == 14"
   ]
  },
  {
   "cell_type": "code",
   "execution_count": 9,
   "metadata": {},
   "outputs": [
    {
     "data": {
      "text/plain": [
       "376"
      ]
     },
     "execution_count": 9,
     "metadata": {},
     "output_type": "execute_result"
    }
   ],
   "source": [
    "main('input.txt', part=\"1\")"
   ]
  },
  {
   "cell_type": "code",
   "execution_count": null,
   "metadata": {},
   "outputs": [],
   "source": []
  }
 ],
 "metadata": {
  "kernelspec": {
   "display_name": "base",
   "language": "python",
   "name": "python3"
  },
  "language_info": {
   "codemirror_mode": {
    "name": "ipython",
    "version": 3
   },
   "file_extension": ".py",
   "mimetype": "text/x-python",
   "name": "python",
   "nbconvert_exporter": "python",
   "pygments_lexer": "ipython3",
   "version": "3.12.7"
  }
 },
 "nbformat": 4,
 "nbformat_minor": 2
}
