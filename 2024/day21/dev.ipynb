{
 "cells": [
  {
   "cell_type": "code",
   "execution_count": 63,
   "metadata": {},
   "outputs": [],
   "source": [
    "from itertools import product\n",
    "from functools import cache\n",
    "\n",
    "import numpy as np"
   ]
  },
  {
   "cell_type": "code",
   "execution_count": 64,
   "metadata": {},
   "outputs": [],
   "source": [
    "move2dir = {(-1, 0): '^', (1, 0): 'v', (0, -1): '<', (0, 1): '>'}"
   ]
  },
  {
   "cell_type": "code",
   "execution_count": 65,
   "metadata": {},
   "outputs": [],
   "source": [
    "def parse_input(file):\n",
    "    with open(file) as file_in:\n",
    "        codes = file_in.read().splitlines()\n",
    "    return codes\n",
    "\n",
    "\n",
    "def get_keys2coords(grid):\n",
    "    keys = set([key.item() for key in np.unique(grid) if key != 'Z'])\n",
    "    keys2coords = {key: tuple(np.argwhere(grid == key)[0].tolist()) \n",
    "                        for key in keys}\n",
    "    return keys2coords\n",
    "\n",
    "\n",
    "def path2dirs(path):\n",
    "    dirs = []\n",
    "    for i in range(len(path)-1):\n",
    "        x, y = path[i]\n",
    "        x_next, y_next = path[i+1]\n",
    "        diff = (x_next-x, y_next-y)\n",
    "        dirs.append(move2dir[diff])\n",
    "    return ''.join(dirs) + 'A'\n",
    "\n",
    "\n",
    "def get_min_paths(grid, start, end, keys2coords):\n",
    "    start = keys2coords[start]\n",
    "    end = keys2coords[end]\n",
    "    n_rows, n_cols = grid.shape\n",
    "\n",
    "    # Standard BFS but we'll keep track of the paths for each node\n",
    "    queue = deque([[start]])\n",
    "    paths = []\n",
    "\n",
    "    while queue:\n",
    "        path = queue.popleft()\n",
    "        x_current,y_current = path[-1]\n",
    "\n",
    "        if (x_current,y_current) == end:\n",
    "            paths.append(path)\n",
    "\n",
    "        for nx, ny in move2dir.keys():\n",
    "            x_next, y_next = x_current + nx, y_current + ny\n",
    "            if 0 <= x_next < n_rows and 0 <= y_next < n_cols and grid[x_next, y_next] != 'Z':\n",
    "                if (x_next, y_next) not in path:\n",
    "                    queue.append(path + [(x_next, y_next)])\n",
    "\n",
    "    min_length = min(len(p) for p in paths)\n",
    "    min_paths = [p for p in paths if len(p) == min_length]\n",
    "    min_paths_as_dirs = [path2dirs(p) for p in min_paths]\n",
    "\n",
    "    return min_paths_as_dirs\n",
    "\n",
    "\n",
    "def get_all_minpaths(keypad_str):\n",
    "    grid = np.array([list(row) for row in keypad_str.splitlines()])\n",
    "    keys2coords = get_keys2coords(grid)\n",
    "\n",
    "    all_minpaths = {key: {} for key in keys2coords}\n",
    "    for x in keys2coords:\n",
    "        for y in keys2coords:\n",
    "            all_minpaths[x][y] = get_min_paths(grid, x, y, keys2coords)\n",
    "\n",
    "    return all_minpaths\n",
    "\n",
    "def get_all_minpaths_keypads():\n",
    "    all_minpaths_num = get_all_minpaths('789\\n456\\n123\\nZ0A')\n",
    "    all_minpaths_dir = get_all_minpaths('Z^A\\n<v>')\n",
    "\n",
    "    return all_minpaths_num, all_minpaths_dir\n",
    "\n",
    "\n",
    "def get_next_sequences(current_seq, minpaths):\n",
    "    current_seq = 'A' + current_seq\n",
    "    possibilities = [minpaths[src][dst] for src, dst in zip(current_seq, current_seq[1:])]\n",
    "    possibilites = [''.join(seq) for seq in product(*possibilities)]\n",
    "    return possibilites\n",
    "\n",
    "\n",
    "def get_minpaths_dir_lengths(minpaths_dir):\n",
    "    all_minpaths_dir_lengths = {key: {} for key in minpaths_dir}\n",
    "    for key1 in minpaths_dir:\n",
    "        for key2 in minpaths_dir[key1]:\n",
    "            all_minpaths_dir_lengths[key1][key2] = min([len(seq) for seq in minpaths_dir[key1][key2]])\n",
    "    return all_minpaths_dir_lengths\n",
    "\n",
    "\n",
    "@cache\n",
    "def compute_min_length(key1, key2, depth):\n",
    "    if depth == 1:\n",
    "        return minpaths_dir_lengths[key1][key2]\n",
    "\n",
    "    min_length = float('inf')\n",
    "    for seq in minpaths_dir[key1][key2]:\n",
    "        current_length = 0\n",
    "        for src, dst in zip('A' + seq, seq):\n",
    "            current_length += compute_min_length(src, dst, depth-1)\n",
    "        min_length = min(min_length, current_length)\n",
    "\n",
    "    return min_length\n",
    "\n",
    "\n",
    "def main(file, n_intermediary_robots):\n",
    "    codes = parse_input(file)\n",
    "\n",
    "    total_complexity = 0\n",
    "\n",
    "    for code in codes:\n",
    "        current_sequences = get_next_sequences(code, minpaths_num)\n",
    "        min_len_code = float('inf')\n",
    "        for seq in current_sequences:\n",
    "            seq_len = 0\n",
    "            for key1, key2 in zip('A' + seq, seq):\n",
    "                seq_len += compute_min_length(key1, key2, depth=n_intermediary_robots)\n",
    "            min_len_code = min(min_len_code, seq_len)\n",
    "        code_num_part = int(''.join(char for char in list(code.lstrip(\"0\")) if char.isnumeric()))\n",
    "        total_complexity += min_len_code * code_num_part\n",
    "\n",
    "    return total_complexity"
   ]
  },
  {
   "cell_type": "code",
   "execution_count": 66,
   "metadata": {},
   "outputs": [],
   "source": [
    "minpaths_num, minpaths_dir = get_all_minpaths_keypads()\n",
    "minpaths_dir_lengths = get_minpaths_dir_lengths(minpaths_dir)"
   ]
  },
  {
   "cell_type": "code",
   "execution_count": 67,
   "metadata": {},
   "outputs": [],
   "source": [
    "assert main('example1.txt', n_intermediary_robots=2) == 126384"
   ]
  },
  {
   "cell_type": "code",
   "execution_count": 68,
   "metadata": {},
   "outputs": [
    {
     "data": {
      "text/plain": [
       "162740"
      ]
     },
     "execution_count": 68,
     "metadata": {},
     "output_type": "execute_result"
    }
   ],
   "source": [
    "main('input.txt', n_intermediary_robots=2)"
   ]
  },
  {
   "cell_type": "code",
   "execution_count": 69,
   "metadata": {},
   "outputs": [
    {
     "data": {
      "text/plain": [
       "203640915832208"
      ]
     },
     "execution_count": 69,
     "metadata": {},
     "output_type": "execute_result"
    }
   ],
   "source": [
    "main('input.txt', n_intermediary_robots=25)"
   ]
  },
  {
   "cell_type": "code",
   "execution_count": null,
   "metadata": {},
   "outputs": [],
   "source": []
  }
 ],
 "metadata": {
  "kernelspec": {
   "display_name": "base",
   "language": "python",
   "name": "python3"
  },
  "language_info": {
   "codemirror_mode": {
    "name": "ipython",
    "version": 3
   },
   "file_extension": ".py",
   "mimetype": "text/x-python",
   "name": "python",
   "nbconvert_exporter": "python",
   "pygments_lexer": "ipython3",
   "version": "3.12.7"
  }
 },
 "nbformat": 4,
 "nbformat_minor": 2
}
