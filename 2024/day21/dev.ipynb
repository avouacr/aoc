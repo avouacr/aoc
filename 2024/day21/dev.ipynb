{
 "cells": [
  {
   "cell_type": "code",
   "execution_count": 1,
   "metadata": {},
   "outputs": [],
   "source": [
    "from functools import cache\n",
    "\n",
    "import numpy as np\n",
    "import networkx as nx\n",
    "from tqdm import tqdm"
   ]
  },
  {
   "cell_type": "code",
   "execution_count": 2,
   "metadata": {},
   "outputs": [],
   "source": [
    "def parse_input(file):\n",
    "    with open(file) as file_in:\n",
    "        codes = file_in.read().splitlines()\n",
    "    return codes"
   ]
  },
  {
   "cell_type": "code",
   "execution_count": 3,
   "metadata": {},
   "outputs": [],
   "source": [
    "def keypad_to_graph(keypad_str):\n",
    "    grid = np.array([list(row) for row in keypad_str.splitlines()])\n",
    "    rows, cols = grid.shape\n",
    "    G = nx.Graph()\n",
    "    coords_to_nodes = {}\n",
    "\n",
    "    for r in range(rows):\n",
    "        for c in range(cols):\n",
    "            coord = (r, c)\n",
    "            node = grid[r, c]\n",
    "\n",
    "            if node == 'Z':  # Ignore specific nodes\n",
    "                continue\n",
    "\n",
    "            coords_to_nodes[coord] = node.item()\n",
    "\n",
    "            # Add edges to neighbors\n",
    "            for dr, dc in move2dir:\n",
    "                nr, nc = r + dr, c + dc\n",
    "                if 0 <= nr < rows and 0 <= nc < cols:\n",
    "                    neighbor_coord = (nr, nc)\n",
    "                    neighbor_node = grid[nr, nc]\n",
    "                    if neighbor_node != 'Z':  # Ignore specific neighbors\n",
    "                        G.add_edge(coord, neighbor_coord)\n",
    "\n",
    "    nodes_to_coords = {v: k for k, v in coords_to_nodes.items()}\n",
    "\n",
    "    return G, coords_to_nodes, nodes_to_coords"
   ]
  },
  {
   "cell_type": "code",
   "execution_count": 4,
   "metadata": {},
   "outputs": [],
   "source": [
    "@cache\n",
    "def compute_all_shortest_paths(G, source, target):\n",
    "    return list(nx.all_shortest_paths(G, source, target))"
   ]
  },
  {
   "cell_type": "code",
   "execution_count": 5,
   "metadata": {},
   "outputs": [],
   "source": [
    "def all_shortest_paths_to_directions(code, G, nodes2coords, move2dir):\n",
    "    all_paths = [[(nodes2coords[code[0]], False)]]  # Start with the initial node\n",
    "    directions_list = []  # Final list of directions\n",
    "\n",
    "    for i in range(len(code) - 1):\n",
    "        current_coords, next_coords = nodes2coords[code[i]], nodes2coords[code[i + 1]]\n",
    "\n",
    "        # Skip if the coordinates are the same\n",
    "        if current_coords == next_coords:\n",
    "            for path in all_paths:\n",
    "                path.append((current_coords, True))\n",
    "            continue\n",
    "\n",
    "        # Get all shortest paths between the current and next coordinates\n",
    "        segment_paths = compute_all_shortest_paths(G, current_coords, next_coords)\n",
    "\n",
    "        # Build all combinations of current paths with the new segment paths\n",
    "        new_paths = []\n",
    "        for existing_path in all_paths:\n",
    "            for segment in segment_paths:\n",
    "                # Append segment nodes and actions\n",
    "                new_segment = [((x, y), (x, y) == segment[-1]) for (x, y) in segment[1:]]\n",
    "                new_paths.append(existing_path + new_segment)\n",
    "        all_paths = new_paths  # Update paths with the expanded ones\n",
    "\n",
    "    # Convert paths to directions\n",
    "    for sp in all_paths:\n",
    "        directions = []\n",
    "        for i in range(1, len(sp)):\n",
    "            (x_current, y_current), action_current = sp[i]\n",
    "            (x_prev, y_prev), __ = sp[i - 1]\n",
    "            move = (x_current - x_prev, y_current - y_prev)\n",
    "            if move != (0, 0):  # Add direction for movement\n",
    "                directions.append(move2dir[move])\n",
    "            if action_current:  # Add 'A' for actions\n",
    "                directions.append('A')\n",
    "        directions_list.append(''.join(directions))\n",
    "\n",
    "    return directions_list"
   ]
  },
  {
   "cell_type": "code",
   "execution_count": 6,
   "metadata": {},
   "outputs": [],
   "source": [
    "def one_shortest_path_to_directions(code, G, nodes2coords, move2dir):\n",
    "    directions = []  # Final string of directions\n",
    "\n",
    "    for i in range(len(code) - 1):\n",
    "        current_coords, next_coords = nodes2coords[code[i]], nodes2coords[code[i + 1]]\n",
    "\n",
    "        # Skip if the coordinates are the same\n",
    "        if current_coords == next_coords:\n",
    "            directions.append('A')  # Action at the same node\n",
    "            continue\n",
    "\n",
    "        # Compute the shortest path for the current pair of coordinates\n",
    "        sp = nx.shortest_path(G, source=current_coords, target=next_coords)\n",
    "\n",
    "        # Convert the path to directions\n",
    "        for j in range(1, len(sp)):\n",
    "            x_prev, y_prev = sp[j - 1]\n",
    "            x_current, y_current = sp[j]\n",
    "            move = (x_current - x_prev, y_current - y_prev)\n",
    "            directions.append(move2dir[move])\n",
    "\n",
    "        # Add action 'A' at the end of the segment\n",
    "        directions.append('A')\n",
    "\n",
    "    return ''.join(directions)"
   ]
  },
  {
   "cell_type": "code",
   "execution_count": 7,
   "metadata": {},
   "outputs": [],
   "source": [
    "def main(file, n_intermediary_robots):\n",
    "    codes = parse_input(file)\n",
    "\n",
    "    total_complexity = 0\n",
    "    for code in codes:\n",
    "        code_up = 'A' + code\n",
    "        dirs = all_shortest_paths_to_directions(code_up, G_num_keypad, num2coords, move2dir)\n",
    "\n",
    "        for __ in range(n_intermediary_robots):\n",
    "            dirs = ['A' + dir for dir in dirs]\n",
    "            dirs_new = []\n",
    "            min_len_dirs = min(len(d) for d in dirs)\n",
    "            for dir in dirs:\n",
    "                if len(dir) == min_len_dirs:\n",
    "                    dirs_new.extend(all_shortest_paths_to_directions(dir, G_dir_keypad, dir2coords, move2dir))\n",
    "                dirs = dirs_new\n",
    "\n",
    "        dirs = ['A' + dir for dir in dirs]\n",
    "        dirs_final = []\n",
    "        min_len_dirs = min(len(d) for d in dirs)\n",
    "        for dir in dirs:\n",
    "            if len(dir) == min_len_dirs:\n",
    "                dirs_final.append(one_shortest_path_to_directions(dir, G_dir_keypad, dir2coords, move2dir))\n",
    "\n",
    "        len_shortest_seq = min(len(d) for d in dirs_final)\n",
    "        code_numeric_part = int(''.join(char for char in list(code.lstrip(\"0\")) if char.isnumeric()))\n",
    "        total_complexity += len_shortest_seq * code_numeric_part\n",
    "\n",
    "    return total_complexity"
   ]
  },
  {
   "cell_type": "code",
   "execution_count": 8,
   "metadata": {},
   "outputs": [],
   "source": [
    "move2dir = {(-1, 0): '^', (1, 0): 'v', (0, -1): '<', (0, 1): '>'}\n",
    "G_num_keypad, coords2num, num2coords = keypad_to_graph('789\\n456\\n123\\nZ0A')\n",
    "G_dir_keypad, coords2dir, dir2coords = keypad_to_graph('Z^A\\n<v>')\n",
    "\n",
    "precomputed_all_sp_num = dict(nx.all_pairs_shortest_path(G_num_keypad))\n",
    "precomputed_all_sp_dir = dict(nx.all_pairs_shortest_path(G_dir_keypad))"
   ]
  },
  {
   "cell_type": "code",
   "execution_count": 9,
   "metadata": {},
   "outputs": [],
   "source": [
    "assert main('example1.txt', n_intermediary_robots=1) == 126384"
   ]
  },
  {
   "cell_type": "code",
   "execution_count": 39,
   "metadata": {},
   "outputs": [
    {
     "data": {
      "text/plain": [
       "162740"
      ]
     },
     "execution_count": 39,
     "metadata": {},
     "output_type": "execute_result"
    }
   ],
   "source": [
    "main('input.txt', n_intermediary_robots=1)"
   ]
  },
  {
   "cell_type": "code",
   "execution_count": null,
   "metadata": {},
   "outputs": [
    {
     "name": "stderr",
     "output_type": "stream",
     "text": [
      "Exception ignored in: <bound method IPythonKernel._clean_thread_parent_frames of <ipykernel.ipkernel.IPythonKernel object at 0x7f2464474290>>\n",
      "Traceback (most recent call last):\n",
      "  File \"/opt/conda/lib/python3.12/site-packages/ipykernel/ipkernel.py\", line 775, in _clean_thread_parent_frames\n",
      "    def _clean_thread_parent_frames(\n",
      "\n",
      "KeyboardInterrupt: \n"
     ]
    }
   ],
   "source": [
    "main('input.txt', n_intermediary_robots=25)"
   ]
  },
  {
   "cell_type": "code",
   "execution_count": null,
   "metadata": {},
   "outputs": [],
   "source": []
  },
  {
   "cell_type": "code",
   "execution_count": null,
   "metadata": {},
   "outputs": [],
   "source": []
  }
 ],
 "metadata": {
  "kernelspec": {
   "display_name": "base",
   "language": "python",
   "name": "python3"
  },
  "language_info": {
   "codemirror_mode": {
    "name": "ipython",
    "version": 3
   },
   "file_extension": ".py",
   "mimetype": "text/x-python",
   "name": "python",
   "nbconvert_exporter": "python",
   "pygments_lexer": "ipython3",
   "version": "3.12.7"
  }
 },
 "nbformat": 4,
 "nbformat_minor": 2
}
