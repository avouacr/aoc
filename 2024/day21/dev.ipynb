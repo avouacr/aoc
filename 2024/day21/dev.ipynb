{
 "cells": [
  {
   "cell_type": "code",
   "execution_count": 1,
   "metadata": {},
   "outputs": [],
   "source": [
    "import numpy as np\n",
    "import networkx as nx"
   ]
  },
  {
   "cell_type": "code",
   "execution_count": 42,
   "metadata": {},
   "outputs": [],
   "source": [
    "def parse_input(file):\n",
    "    with open(file) as file_in:\n",
    "        codes = file_in.read().splitlines()\n",
    "    return codes"
   ]
  },
  {
   "cell_type": "code",
   "execution_count": 107,
   "metadata": {},
   "outputs": [],
   "source": [
    "def keypad_to_graph(keypad_str):\n",
    "    grid = np.array([list(row) for row in keypad_str.splitlines()])\n",
    "    rows, cols = grid.shape\n",
    "    G = nx.Graph()\n",
    "    coords_to_nodes = {}\n",
    "\n",
    "    for r in range(rows):\n",
    "        for c in range(cols):\n",
    "            coord = (r, c)\n",
    "            node = grid[r, c]\n",
    "\n",
    "            if node == 'Z':  # Ignore specific nodes\n",
    "                continue\n",
    "\n",
    "            coords_to_nodes[coord] = node.item()\n",
    "\n",
    "            # Add edges to neighbors\n",
    "            for dr, dc in dir2move:\n",
    "                nr, nc = r + dr, c + dc\n",
    "                if 0 <= nr < rows and 0 <= nc < cols:\n",
    "                    neighbor_coord = (nr, nc)\n",
    "                    neighbor_node = grid[nr, nc]\n",
    "                    if neighbor_node != 'Z':  # Ignore specific neighbors\n",
    "                        G.add_edge(coord, neighbor_coord)\n",
    "\n",
    "    nodes_to_coords = {v: k for k, v in coords_to_nodes.items()}\n",
    "\n",
    "    return G, coords_to_nodes, nodes_to_coords"
   ]
  },
  {
   "cell_type": "code",
   "execution_count": 111,
   "metadata": {},
   "outputs": [],
   "source": [
    "def get_one_shortest_path(code, G, nodes2coords):\n",
    "    one_shortest_path = [nodes2coords[code[0]]]\n",
    "    for i in range(len(code)-1):\n",
    "        one_shortest_path.extend(nx.shortest_path(G, \n",
    "                                                  source=nodes2coords[code[i]], \n",
    "                                                  target=nodes2coords[code[i+1]])[1:])\n",
    "    \n",
    "    return one_shortest_path"
   ]
  },
  {
   "cell_type": "code",
   "execution_count": 112,
   "metadata": {},
   "outputs": [],
   "source": [
    "dir2move = {(-1, 0): '^', (1, 0): 'v', (0, -1): '<', (0, 1): '>'}\n",
    "G_num_keypad, coords2num, num2coords = keypad_to_graph('789\\n456\\n123\\nZ0A')\n",
    "G_dir_keypad, coords2dir, dir2coords = keypad_to_graph('Z^A\\n<v>')"
   ]
  },
  {
   "cell_type": "code",
   "execution_count": 113,
   "metadata": {},
   "outputs": [
    {
     "name": "stdout",
     "output_type": "stream",
     "text": [
      "A029A A0258963A\n",
      "A980A A3698520A\n",
      "A179A A321478963A\n",
      "A456A A3654563A\n",
      "A379A A369878963A\n"
     ]
    }
   ],
   "source": [
    "file = 'example1.txt'\n",
    "codes = parse_input(file)\n",
    "\n",
    "for code in codes:\n",
    "    code = 'A' + code\n",
    "    shortest_path = get_one_shortest_path(code, G_num_keypad, num2coords)\n",
    "    sequence_nums = ''.join([coords2num[(x, y)] for x, y in shortest_path])\n",
    "    print(code, sequence_nums)"
   ]
  },
  {
   "cell_type": "code",
   "execution_count": null,
   "metadata": {},
   "outputs": [],
   "source": [
    "def min_n_press(code, G):\n",
    "    one_shortest_path = []\n",
    "    for i in range(len(code)-1):\n",
    "        one_shortest_path.extend(nx.shortest_path(G, source=code[i], target=code[i+1])[1:])\n",
    "    print(one_shortest_path)\n",
    "    return len(one_shortest_path) + len(code) - 1"
   ]
  }
 ],
 "metadata": {
  "kernelspec": {
   "display_name": "base",
   "language": "python",
   "name": "python3"
  },
  "language_info": {
   "codemirror_mode": {
    "name": "ipython",
    "version": 3
   },
   "file_extension": ".py",
   "mimetype": "text/x-python",
   "name": "python",
   "nbconvert_exporter": "python",
   "pygments_lexer": "ipython3",
   "version": "3.12.7"
  }
 },
 "nbformat": 4,
 "nbformat_minor": 2
}
