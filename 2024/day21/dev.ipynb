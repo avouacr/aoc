{
 "cells": [
  {
   "cell_type": "code",
   "execution_count": 1,
   "metadata": {},
   "outputs": [],
   "source": [
    "import numpy as np\n",
    "import networkx as nx"
   ]
  },
  {
   "cell_type": "code",
   "execution_count": 42,
   "metadata": {},
   "outputs": [],
   "source": [
    "def parse_input(file):\n",
    "    with open(file) as file_in:\n",
    "        codes = file_in.read().splitlines()\n",
    "    return codes"
   ]
  },
  {
   "cell_type": "code",
   "execution_count": 139,
   "metadata": {},
   "outputs": [],
   "source": [
    "def keypad_to_graph(keypad_str):\n",
    "    grid = np.array([list(row) for row in keypad_str.splitlines()])\n",
    "    rows, cols = grid.shape\n",
    "    G = nx.Graph()\n",
    "    coords_to_nodes = {}\n",
    "\n",
    "    for r in range(rows):\n",
    "        for c in range(cols):\n",
    "            coord = (r, c)\n",
    "            node = grid[r, c]\n",
    "\n",
    "            if node == 'Z':  # Ignore specific nodes\n",
    "                continue\n",
    "\n",
    "            coords_to_nodes[coord] = node.item()\n",
    "\n",
    "            # Add edges to neighbors\n",
    "            for dr, dc in dir2move:\n",
    "                nr, nc = r + dr, c + dc\n",
    "                if 0 <= nr < rows and 0 <= nc < cols:\n",
    "                    neighbor_coord = (nr, nc)\n",
    "                    neighbor_node = grid[nr, nc]\n",
    "                    if neighbor_node != 'Z':  # Ignore specific neighbors\n",
    "                        G.add_edge(coord, neighbor_coord)\n",
    "\n",
    "    nodes_to_coords = {v: k for k, v in coords_to_nodes.items()}\n",
    "\n",
    "    return G, coords_to_nodes, nodes_to_coords"
   ]
  },
  {
   "cell_type": "code",
   "execution_count": null,
   "metadata": {},
   "outputs": [],
   "source": [
    "def get_one_shortest_path(code, G, nodes2coords):\n",
    "    one_shortest_path = [(nodes2coords[code[0]], False)]\n",
    "    for i in range(len(code)-1):\n",
    "        sp = nx.shortest_path(G, source=nodes2coords[code[i]], target=nodes2coords[code[i+1]])[1:]\n",
    "        sp_with_action = [((x, y), True) if (x, y) == sp[-1] else ((x, y), False)\n",
    "                          for (x, y) in sp]\n",
    "        one_shortest_path.extend(sp_with_action)  \n",
    "    return one_shortest_path"
   ]
  },
  {
   "cell_type": "code",
   "execution_count": 161,
   "metadata": {},
   "outputs": [],
   "source": [
    "def shortest_path_to_directions(sp, move2dir):\n",
    "    directions = []\n",
    "    for i in range(1, len(sp)):\n",
    "        (x_current, y_current), action_current = sp[i]\n",
    "        (x_prev, y_prev), __ = sp[i-1]\n",
    "        move = (x_current - x_prev, y_current - y_prev)\n",
    "        directions.append(move2dir[move])\n",
    "        if action_current:\n",
    "            directions.append('A')\n",
    "    return directions"
   ]
  },
  {
   "cell_type": "code",
   "execution_count": 163,
   "metadata": {},
   "outputs": [
    {
     "data": {
      "text/plain": [
       "['<', 'A', '^', 'A', '^', '^', '>', 'A', 'v', 'v', 'v', 'A']"
      ]
     },
     "execution_count": 163,
     "metadata": {},
     "output_type": "execute_result"
    }
   ],
   "source": [
    "file = 'example1.txt'\n",
    "codes = parse_input(file)\n",
    "\n",
    "code = codes[0] \n",
    "code = 'A' + code\n",
    "sp = get_one_shortest_path(code, G_num_keypad, num2coords)\n",
    "shortest_path_to_directions(sp, move2dir)"
   ]
  },
  {
   "cell_type": "code",
   "execution_count": 155,
   "metadata": {},
   "outputs": [],
   "source": [
    "move2dir = {(-1, 0): '^', (1, 0): 'v', (0, -1): '<', (0, 1): '>'}\n",
    "G_num_keypad, coords2num, num2coords = keypad_to_graph('789\\n456\\n123\\nZ0A')\n",
    "G_dir_keypad, coords2dir, dir2coords = keypad_to_graph('Z^A\\n<v>')"
   ]
  },
  {
   "cell_type": "code",
   "execution_count": 156,
   "metadata": {},
   "outputs": [
    {
     "name": "stdout",
     "output_type": "stream",
     "text": [
      "[(3, 1)]\n",
      "[(2, 1)]\n",
      "[(1, 1), (0, 1), (0, 2)]\n",
      "[(1, 2), (2, 2), (3, 2)]\n",
      "[(3, 2)]\n"
     ]
    }
   ],
   "source": [
    "file = 'example1.txt'\n",
    "codes = parse_input(file)\n",
    "\n",
    "code = codes[0] \n",
    "code = 'A' + code\n",
    "shortest_path = get_one_shortest_path(code, G_num_keypad, num2coords)\n",
    "print(shortest_path)"
   ]
  },
  {
   "cell_type": "code",
   "execution_count": 138,
   "metadata": {},
   "outputs": [
    {
     "data": {
      "text/plain": [
       "'A029A'"
      ]
     },
     "execution_count": 138,
     "metadata": {},
     "output_type": "execute_result"
    }
   ],
   "source": [
    "code"
   ]
  },
  {
   "cell_type": "code",
   "execution_count": null,
   "metadata": {},
   "outputs": [],
   "source": [
    "def min_n_press(code, G):\n",
    "    one_shortest_path = []\n",
    "    for i in range(len(code)-1):\n",
    "        one_shortest_path.extend(nx.shortest_path(G, source=code[i], target=code[i+1])[1:])\n",
    "    print(one_shortest_path)\n",
    "    return len(one_shortest_path) + len(code) - 1"
   ]
  }
 ],
 "metadata": {
  "kernelspec": {
   "display_name": "base",
   "language": "python",
   "name": "python3"
  },
  "language_info": {
   "codemirror_mode": {
    "name": "ipython",
    "version": 3
   },
   "file_extension": ".py",
   "mimetype": "text/x-python",
   "name": "python",
   "nbconvert_exporter": "python",
   "pygments_lexer": "ipython3",
   "version": "3.12.7"
  }
 },
 "nbformat": 4,
 "nbformat_minor": 2
}
