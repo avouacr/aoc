{
 "cells": [
  {
   "cell_type": "code",
   "execution_count": 95,
   "metadata": {},
   "outputs": [],
   "source": [
    "from collections import deque\n",
    "\n",
    "import numpy as np"
   ]
  },
  {
   "cell_type": "code",
   "execution_count": 96,
   "metadata": {},
   "outputs": [],
   "source": [
    "move2dir = {(-1, 0): '^', (1, 0): 'v', (0, -1): '<', (0, 1): '>'}"
   ]
  },
  {
   "cell_type": "code",
   "execution_count": 98,
   "metadata": {},
   "outputs": [],
   "source": [
    "def get_keys2coords(grid):\n",
    "    keys = set([key.item() for key in np.unique(grid) if key != 'Z'])\n",
    "    keys2coords = {key: tuple(np.argwhere(grid == key)[0].tolist()) \n",
    "                        for key in keys}\n",
    "    return keys2coords\n",
    "\n",
    "\n",
    "def path2dirs(path):\n",
    "    dirs = []\n",
    "    for i in range(len(path)-1):\n",
    "        x, y = path[i]\n",
    "        x_next, y_next = path[i+1]\n",
    "        diff = (x_next-x, y_next-y)\n",
    "        dirs.append(move2dir[diff])\n",
    "    return ''.join(dirs)\n",
    "\n",
    "\n",
    "def get_min_paths(grid, start, end, keys2coords):\n",
    "    start = keys2coords[start]\n",
    "    end = keys2coords[end]\n",
    "    n_rows, n_cols = grid.shape\n",
    "\n",
    "    # Standard BFS but we'll keep track of the paths for each node\n",
    "    queue = deque([[start]])\n",
    "    paths = []\n",
    "\n",
    "    while queue:\n",
    "        path = queue.popleft()\n",
    "        x_current,y_current = path[-1]\n",
    "\n",
    "        if (x_current,y_current) == end:\n",
    "            paths.append(path)\n",
    "\n",
    "        for nx, ny in move2dir.keys():\n",
    "            x_next, y_next = x_current + nx, y_current + ny\n",
    "            if 0 <= x_next < n_rows and 0 <= y_next < n_cols and grid[x_next, y_next] != 'Z':\n",
    "                if (x_next, y_next) not in path:\n",
    "                    queue.append(path + [(x_next, y_next)])\n",
    "\n",
    "    min_length = min(len(p) for p in paths)\n",
    "    min_paths = [p for p in paths if len(p) == min_length]\n",
    "    min_paths_as_dirs = [path2dirs(p) for p in min_paths]\n",
    "\n",
    "    return min_paths_as_dirs\n",
    "\n",
    "\n",
    "def get_all_minpaths(keypad_str):\n",
    "    grid = np.array([list(row) for row in keypad_str.splitlines()])\n",
    "    keys2coords = get_keys2coords(grid)\n",
    "\n",
    "    all_minpaths = {key: {} for key in keys2coords}\n",
    "    for x in keys2coords:\n",
    "        for y in keys2coords:\n",
    "            all_minpaths[x][y] = get_min_paths(grid, x, y, keys2coords)\n",
    "\n",
    "    return all_minpaths\n",
    "\n",
    "def get_all_minpaths_keypads():\n",
    "    all_minpaths_num = get_all_minpaths('789\\n456\\n123\\nZ0A')\n",
    "    all_minpaths_dir = get_all_minpaths('Z^A\\n<v>')\n",
    "    return all_minpaths_num, all_minpaths_dir"
   ]
  },
  {
   "cell_type": "code",
   "execution_count": 101,
   "metadata": {},
   "outputs": [],
   "source": [
    "minpaths_num, minpaths_dir = get_all_minpaths_keypads()"
   ]
  },
  {
   "cell_type": "code",
   "execution_count": null,
   "metadata": {},
   "outputs": [],
   "source": []
  }
 ],
 "metadata": {
  "kernelspec": {
   "display_name": "base",
   "language": "python",
   "name": "python3"
  },
  "language_info": {
   "codemirror_mode": {
    "name": "ipython",
    "version": 3
   },
   "file_extension": ".py",
   "mimetype": "text/x-python",
   "name": "python",
   "nbconvert_exporter": "python",
   "pygments_lexer": "ipython3",
   "version": "3.12.7"
  }
 },
 "nbformat": 4,
 "nbformat_minor": 2
}
