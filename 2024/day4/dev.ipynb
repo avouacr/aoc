{
 "cells": [
  {
   "cell_type": "code",
   "execution_count": 1,
   "metadata": {},
   "outputs": [],
   "source": [
    "import numpy as np"
   ]
  },
  {
   "cell_type": "code",
   "execution_count": 12,
   "metadata": {},
   "outputs": [],
   "source": [
    "def parse_input(file):\n",
    "    with open(file) as file:\n",
    "        data = file.read().splitlines()\n",
    " \n",
    "    data = np.array([list(row) for row in data])\n",
    "    return data"
   ]
  },
  {
   "cell_type": "code",
   "execution_count": 17,
   "metadata": {},
   "outputs": [],
   "source": [
    "def part1(file):\n",
    "    data = parse_input(file)\n",
    "\n",
    "    # Get all rows, columns, diagonals in left-to-right\n",
    "    rows = [row for row in data]\n",
    "    cols = [col for col in data.T]\n",
    "    main_diagonals = [data.diagonal(offset) for offset in range(-data.shape[0] + 1, data.shape[1])]\n",
    "    anti_diagonals = [np.fliplr(data).diagonal(offset) for offset in range(-data.shape[0] + 1, data.shape[1])]\n",
    "    arrays_to_check = rows + cols + main_diagonals + anti_diagonals\n",
    "    str_to_check_lr = [\"\".join(array) for array in arrays_to_check]\n",
    "\n",
    "    # Add right-to-left for each\n",
    "    str_to_check_all = []\n",
    "    for string in str_to_check_lr:\n",
    "        str_to_check_all.append(string)\n",
    "        str_to_check_all.append(string[::-1])\n",
    "\n",
    "    # Count 'XMAS' in each string\n",
    "    count_xmas = 0\n",
    "    for string in str_to_check_all:\n",
    "        count_xmas += string.count(\"XMAS\")\n",
    "\n",
    "    return count_xmas"
   ]
  },
  {
   "cell_type": "code",
   "execution_count": null,
   "metadata": {},
   "outputs": [],
   "source": [
    "def is_mas_x(sub_matrix):\n",
    "    # Test for presence of a valid MAS-X in a 3 x 3 matrix\n",
    "    diag_str = \"\".join(np.diagonal(sub_matrix))\n",
    "    mas_in_diag = (diag_str == 'MAS' or diag_str[::-1] == 'MAS')\n",
    "    anti_diag_str = \"\".join(np.fliplr(sub_matrix).diagonal())\n",
    "    mas_in_anti_diag = (anti_diag_str == 'MAS' or anti_diag_str[::-1] == 'MAS')\n",
    "    return mas_in_diag and mas_in_anti_diag"
   ]
  },
  {
   "cell_type": "code",
   "execution_count": null,
   "metadata": {},
   "outputs": [],
   "source": [
    "def part2(file):\n",
    "    data = parse_input(file)\n",
    "\n",
    "    # Scan the input matrix by squares of 3 x 3 for valid MAS-X\n",
    "    count = 0\n",
    "    for i in range(0, data.shape[0] - 2):\n",
    "        for j in range(0, data.shape[1] - 2):\n",
    "            sub_matrix = data[i:i+3, j:j+3]\n",
    "            if is_mas_x(sub_matrix): \n",
    "                count += 1\n",
    "\n",
    "    return count"
   ]
  },
  {
   "cell_type": "code",
   "execution_count": 18,
   "metadata": {},
   "outputs": [],
   "source": [
    "assert part1(\"example1.txt\") == 18"
   ]
  },
  {
   "cell_type": "code",
   "execution_count": 52,
   "metadata": {},
   "outputs": [
    {
     "data": {
      "text/plain": [
       "2646"
      ]
     },
     "execution_count": 52,
     "metadata": {},
     "output_type": "execute_result"
    }
   ],
   "source": [
    "part1(\"input.txt\")"
   ]
  },
  {
   "cell_type": "code",
   "execution_count": 50,
   "metadata": {},
   "outputs": [],
   "source": [
    "assert part2(\"example1.txt\") == 9"
   ]
  },
  {
   "cell_type": "code",
   "execution_count": 51,
   "metadata": {},
   "outputs": [
    {
     "data": {
      "text/plain": [
       "2000"
      ]
     },
     "execution_count": 51,
     "metadata": {},
     "output_type": "execute_result"
    }
   ],
   "source": [
    "part2(\"input.txt\")"
   ]
  },
  {
   "cell_type": "code",
   "execution_count": null,
   "metadata": {},
   "outputs": [],
   "source": []
  }
 ],
 "metadata": {
  "kernelspec": {
   "display_name": "base",
   "language": "python",
   "name": "python3"
  },
  "language_info": {
   "codemirror_mode": {
    "name": "ipython",
    "version": 3
   },
   "file_extension": ".py",
   "mimetype": "text/x-python",
   "name": "python",
   "nbconvert_exporter": "python",
   "pygments_lexer": "ipython3",
   "version": "3.12.7"
  }
 },
 "nbformat": 4,
 "nbformat_minor": 2
}
