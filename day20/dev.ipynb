{
 "cells": [
  {
   "cell_type": "code",
   "execution_count": null,
   "metadata": {},
   "outputs": [],
   "source": [
    "import re\n",
    "from collections import deque"
   ]
  },
  {
   "cell_type": "code",
   "execution_count": null,
   "metadata": {},
   "outputs": [],
   "source": [
    "def parse_input(file):\n",
    "\n",
    "    with open(file) as file_in:\n",
    "        data = file_in.read().splitlines()\n",
    "\n",
    "    network = {}\n",
    "\n",
    "    # Build network\n",
    "    dst_modules_history = set()\n",
    "    for relation in data:\n",
    "        dst_modules = tuple(relation.split('-> ')[1].split(', '))\n",
    "        if len(dst_modules) == 1:\n",
    "            dst_modules = tuple([dst_modules[0]])\n",
    "        for module in dst_modules:\n",
    "            dst_modules_history.add(dst_modules[0])\n",
    "\n",
    "        if 'broadcaster' in relation:\n",
    "            network['broadcaster'] = Broadcaster(name='broadcaster', dst_modules=dst_modules)\n",
    "        elif re.search(r'%(\\w+)', relation):\n",
    "            flip_flop = re.search(r'%(\\w+)', relation).group(1)\n",
    "            network[flip_flop] = FlipFlop(name=flip_flop, dst_modules=dst_modules)\n",
    "        elif re.search(r'&(\\w+)', relation):\n",
    "            conjunction = re.search(r'&(\\w+)', relation).group(1)\n",
    "            network[conjunction] = Conjunction(name=conjunction, dst_modules=dst_modules)\n",
    "\n",
    "    # Add input modules for conjunction type modules\n",
    "    for module in network:\n",
    "        for dst in network[module].dst_modules:\n",
    "            if dst in network and network[dst].nature == 'conjunction':\n",
    "                network[dst].input_signals[module] = 'low'\n",
    "\n",
    "    # Add test modules to the network\n",
    "    for module in dst_modules_history:\n",
    "        if module not in network:\n",
    "            network[module] = Test(name=module)\n",
    "\n",
    "    return network"
   ]
  },
  {
   "cell_type": "code",
   "execution_count": null,
   "metadata": {},
   "outputs": [],
   "source": [
    "class Broadcaster:\n",
    "    def __init__(self, name, dst_modules):\n",
    "        self.name = name\n",
    "        self.nature = 'broadcaster'\n",
    "        self.dst_modules = dst_modules\n",
    "\n",
    "    def send_pulse(self, input_signal, module_name_previous, network):\n",
    "        next_modules = [(self.name, input_signal, network[module]) for module in self.dst_modules]\n",
    "        return next_modules\n",
    "\n",
    "\n",
    "class FlipFlop:\n",
    "    def __init__(self, name, dst_modules):\n",
    "        self.name = name\n",
    "        self.nature = 'flip_flop'\n",
    "        self.dst_modules = dst_modules\n",
    "        self.is_on = False\n",
    "\n",
    "    def send_pulse(self, input_signal, module_name_previous, network):\n",
    "        # If input signal is low, witch state and output signal\n",
    "        if input_signal == 'low':\n",
    "            self.is_on = not self.is_on\n",
    "            if self.is_on:\n",
    "                signal_out = 'high'\n",
    "            else:\n",
    "                signal_out = 'low'\n",
    "\n",
    "        # If input signal is high, do nothing\n",
    "        else:\n",
    "            return []\n",
    "\n",
    "        next_modules = [(self.name, signal_out, network[module]) for module in self.dst_modules]\n",
    "        return next_modules\n",
    "\n",
    "\n",
    "class Conjunction:\n",
    "    def __init__(self, name, dst_modules):\n",
    "        self.name = name\n",
    "        self.nature = 'conjunction'\n",
    "        self.dst_modules = dst_modules\n",
    "        self.input_signals = {}\n",
    "\n",
    "    def send_pulse(self, input_signal, module_name_previous, network):\n",
    "        # Change state of input\n",
    "        self.input_signals[module_name_previous] = input_signal\n",
    "        # Decide output signal based on input states\n",
    "        input_signals = self.input_signals.values()\n",
    "        signal_out = 'low' if (set(input_signals) == {'high'}) else 'high'\n",
    "\n",
    "        next_modules = [(self.name, signal_out, network[module]) for module in self.dst_modules]\n",
    "        return next_modules\n",
    "\n",
    "\n",
    "class Test:\n",
    "    def __init__(self, name):\n",
    "        self.name = name\n",
    "        self.nature = 'test'\n",
    "        self.input_signal = ''\n",
    "\n",
    "    def send_pulse(self, input_signal, module_name_previous, network):\n",
    "        self.input_signal = input_signal\n",
    "        return []\n",
    "\n",
    "\n",
    "def push_button(network, verbose=0):\n",
    "    counts = {'low': 0, 'high': 0}\n",
    "    # Push button\n",
    "    queue = deque([('button', 'low', network['broadcaster'])])\n",
    "    while queue:\n",
    "        module_name_previous, input_signal, module = queue.popleft()\n",
    "        counts[input_signal] += 1\n",
    "        dst_modules_input_signals = module.send_pulse(input_signal=input_signal, \n",
    "                                                      module_name_previous=module_name_previous,\n",
    "                                                      network=network)\n",
    "        queue.extend(dst_modules_input_signals)\n",
    "        if verbose:\n",
    "            print(module_name_previous, input_signal, module.name)\n",
    "            print([(module_name_previous, input_signal, module.name) for module_name_previous, input_signal, module in queue])\n",
    "            print()\n",
    "\n",
    "    return counts"
   ]
  },
  {
   "cell_type": "code",
   "execution_count": null,
   "metadata": {},
   "outputs": [],
   "source": [
    "def repeat_push_button(n, network):\n",
    "    total_counts = {'low': 0, 'high': 0}\n",
    "    for i in range(n):\n",
    "        counts = push_button(network)\n",
    "        total_counts['low'] += counts['low']\n",
    "        total_counts['high'] += counts['high']\n",
    "    return total_counts['low'] * total_counts['high']"
   ]
  },
  {
   "cell_type": "code",
   "execution_count": null,
   "metadata": {},
   "outputs": [],
   "source": [
    "def main1(file):\n",
    "    network = parse_input(file)\n",
    "    return repeat_push_button(n=1000, network=network)"
   ]
  },
  {
   "cell_type": "code",
   "execution_count": null,
   "metadata": {},
   "outputs": [],
   "source": [
    "assert main1('calibration11.txt') == 32000000\n",
    "assert main1('calibration12.txt') == 11687500"
   ]
  },
  {
   "cell_type": "code",
   "execution_count": null,
   "metadata": {},
   "outputs": [],
   "source": [
    "main1('puzzle.txt')"
   ]
  },
  {
   "cell_type": "code",
   "execution_count": null,
   "metadata": {},
   "outputs": [],
   "source": [
    "network = parse_input('puzzle.txt')\n",
    "for i in range(1000):\n",
    "    push_button(network, verbose=1)"
   ]
  },
  {
   "cell_type": "code",
   "execution_count": null,
   "metadata": {},
   "outputs": [],
   "source": [
    "network = parse_input('puzzle.txt')\n",
    "push_button_until(network)"
   ]
  },
  {
   "cell_type": "code",
   "execution_count": null,
   "metadata": {},
   "outputs": [],
   "source": [
    "def push_button_until(network):\n",
    "    count = 0\n",
    "    while network['rx'].input_signal != 'low':\n",
    "        push_button(network)\n",
    "        count += 1\n",
    "    return count"
   ]
  }
 ],
 "metadata": {
  "kernelspec": {
   "display_name": "base",
   "language": "python",
   "name": "python3"
  },
  "language_info": {
   "codemirror_mode": {
    "name": "ipython",
    "version": 3
   },
   "file_extension": ".py",
   "mimetype": "text/x-python",
   "name": "python",
   "nbconvert_exporter": "python",
   "pygments_lexer": "ipython3",
   "version": "3.10.13"
  }
 },
 "nbformat": 4,
 "nbformat_minor": 2
}
