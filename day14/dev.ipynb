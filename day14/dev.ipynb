{
 "cells": [
  {
   "cell_type": "code",
   "execution_count": 1,
   "metadata": {},
   "outputs": [],
   "source": [
    "import functools\n",
    "\n",
    "import numpy as np\n",
    "from tqdm import tqdm"
   ]
  },
  {
   "cell_type": "code",
   "execution_count": 2,
   "metadata": {},
   "outputs": [],
   "source": [
    "def parse_file(file):\n",
    "    with open(file, 'r') as file_in:\n",
    "        rows = [list(row) for row in file_in.read().splitlines()]\n",
    "\n",
    "    return np.array(rows)"
   ]
  },
  {
   "cell_type": "code",
   "execution_count": 3,
   "metadata": {},
   "outputs": [],
   "source": [
    "def get_first_positions(arr):\n",
    "    n_O = len(np.where(arr == 'O')[0])\n",
    "    return [pos for pos in range(n_O)]\n",
    "\n",
    "\n",
    "def get_new_positions_O(col):\n",
    "    hashes = np.where(col == '#')[0]\n",
    "    sub_arrays = [np.array(list(sub)) for sub in ''.join(col).split('#')]\n",
    "\n",
    "    new_pos_O = []\n",
    "    for i, arr in enumerate(sub_arrays):\n",
    "        pos_O_in_sub = get_first_positions(arr)\n",
    "        if i == 0:\n",
    "            new_pos_O.extend(pos_O_in_sub)\n",
    "        else:\n",
    "            new_pos_O.extend([hashes[i-1] + j + 1 for j in pos_O_in_sub])\n",
    "\n",
    "    return new_pos_O\n",
    "\n",
    "\n",
    "def get_new_grid(grid):\n",
    "    new_grid = []\n",
    "    for j in range(grid.shape[1]):\n",
    "        col = grid[:, j]\n",
    "        new_pos_O = get_new_positions_O(col)\n",
    "        new_col = np.array(['.' if elem == 'O' else elem for i, elem in enumerate(col)])\n",
    "        new_col[new_pos_O] = 'O'\n",
    "        new_grid.append(new_col)\n",
    "\n",
    "    return np.column_stack(new_grid)\n",
    "\n",
    "\n",
    "def compute_col_load(col, pos_O):\n",
    "    total_load = sum((len(col) - pos) for pos in pos_O)\n",
    "    return total_load\n",
    "\n",
    "\n",
    "def compute_total_load(grid):\n",
    "    total_load = 0\n",
    "    for j in range(grid.shape[1]):\n",
    "        col = grid[:, j]\n",
    "        pos_O = np.where(col == 'O')[0]\n",
    "        total_load += compute_col_load(col, pos_O)\n",
    "    return total_load\n",
    "\n",
    "\n",
    "def main1(file):\n",
    "    grid = parse_file(file)\n",
    "\n",
    "    total_load = 0\n",
    "    for j in range(grid.shape[1]):\n",
    "        col = grid[:, j]\n",
    "        new_pos_O = get_new_positions_O(col)\n",
    "        total_load += compute_col_load(col, new_pos_O)\n",
    "\n",
    "    return total_load\n",
    "\n",
    "\n",
    "def make_cycle(grid):\n",
    "    grid_n = get_new_grid(grid)\n",
    "    grid_w = np.rot90(get_new_grid(np.rot90(grid_n, axes=(1, 0))), k=-1, axes=(1, 0))\n",
    "    grid_s = np.flip(get_new_grid(np.flip(grid_w, 0)), 0)\n",
    "    grid_e = np.rot90(get_new_grid(np.rot90(grid_s, axes=(1, 0), k=-1)), axes=(1, 0))\n",
    "\n",
    "    return grid_e\n",
    "\n",
    "\n",
    "def main2(file):\n",
    "    grid = parse_file(file)\n",
    "    store_loop = []\n",
    "    start_idx = 800\n",
    "    for i, _ in tqdm(enumerate(range(1200))):\n",
    "        grid = make_cycle(grid)\n",
    "        if i > start_idx:\n",
    "            store_loop.append(compute_total_load(grid))\n",
    "\n",
    "    loop_factor = round(len(store_loop) / store_loop.count(store_loop[0]))  # Find periodicity\n",
    "    \n",
    "    return store_loop[(int(1e9) - start_idx - 2) % loop_factor]"
   ]
  },
  {
   "cell_type": "code",
   "execution_count": 57,
   "metadata": {},
   "outputs": [],
   "source": [
    "assert main1('calibration.txt') == 136"
   ]
  },
  {
   "cell_type": "code",
   "execution_count": 58,
   "metadata": {},
   "outputs": [],
   "source": [
    "assert main1('puzzle.txt') == 108641"
   ]
  },
  {
   "cell_type": "code",
   "execution_count": 4,
   "metadata": {},
   "outputs": [
    {
     "name": "stderr",
     "output_type": "stream",
     "text": [
      "801it [00:01, 485.77it/s]\n"
     ]
    },
    {
     "ename": "TypeError",
     "evalue": "unhashable type: 'numpy.ndarray'",
     "output_type": "error",
     "traceback": [
      "\u001b[0;31m---------------------------------------------------------------------------\u001b[0m",
      "\u001b[0;31mTypeError\u001b[0m                                 Traceback (most recent call last)",
      "\u001b[1;32m/home/onyxia/work/aoc_2023/day14/dev.ipynb Cell 6\u001b[0m line \u001b[0;36m1\n\u001b[0;32m----> <a href='vscode-notebook-cell://user-avouacr-748894-0.user.lab.sspcloud.fr/home/onyxia/work/aoc_2023/day14/dev.ipynb#W5sdnNjb2RlLXJlbW90ZQ%3D%3D?line=0'>1</a>\u001b[0m main2(\u001b[39m\"\u001b[39;49m\u001b[39mcalibration.txt\u001b[39;49m\u001b[39m\"\u001b[39;49m)\n",
      "\u001b[1;32m/home/onyxia/work/aoc_2023/day14/dev.ipynb Cell 6\u001b[0m line \u001b[0;36m7\n\u001b[1;32m     <a href='vscode-notebook-cell://user-avouacr-748894-0.user.lab.sspcloud.fr/home/onyxia/work/aoc_2023/day14/dev.ipynb#W5sdnNjb2RlLXJlbW90ZQ%3D%3D?line=73'>74</a>\u001b[0m     grid \u001b[39m=\u001b[39m make_cycle(grid)\n\u001b[1;32m     <a href='vscode-notebook-cell://user-avouacr-748894-0.user.lab.sspcloud.fr/home/onyxia/work/aoc_2023/day14/dev.ipynb#W5sdnNjb2RlLXJlbW90ZQ%3D%3D?line=74'>75</a>\u001b[0m     \u001b[39mif\u001b[39;00m i \u001b[39m>\u001b[39m start_idx:\n\u001b[0;32m---> <a href='vscode-notebook-cell://user-avouacr-748894-0.user.lab.sspcloud.fr/home/onyxia/work/aoc_2023/day14/dev.ipynb#W5sdnNjb2RlLXJlbW90ZQ%3D%3D?line=75'>76</a>\u001b[0m         store_loop\u001b[39m.\u001b[39mappend(compute_total_load(grid))\n\u001b[1;32m     <a href='vscode-notebook-cell://user-avouacr-748894-0.user.lab.sspcloud.fr/home/onyxia/work/aoc_2023/day14/dev.ipynb#W5sdnNjb2RlLXJlbW90ZQ%3D%3D?line=77'>78</a>\u001b[0m loop_factor \u001b[39m=\u001b[39m \u001b[39mround\u001b[39m(\u001b[39mlen\u001b[39m(store_loop) \u001b[39m/\u001b[39m store_loop\u001b[39m.\u001b[39mcount(store_loop[\u001b[39m0\u001b[39m]))  \u001b[39m# Find periodicity\u001b[39;00m\n\u001b[1;32m     <a href='vscode-notebook-cell://user-avouacr-748894-0.user.lab.sspcloud.fr/home/onyxia/work/aoc_2023/day14/dev.ipynb#W5sdnNjb2RlLXJlbW90ZQ%3D%3D?line=79'>80</a>\u001b[0m \u001b[39mreturn\u001b[39;00m store_loop[(\u001b[39mint\u001b[39m(\u001b[39m1e9\u001b[39m) \u001b[39m-\u001b[39m start_idx \u001b[39m-\u001b[39m \u001b[39m2\u001b[39m) \u001b[39m%\u001b[39m loop_factor]\n",
      "\u001b[0;31mTypeError\u001b[0m: unhashable type: 'numpy.ndarray'"
     ]
    }
   ],
   "source": [
    "main2(\"calibration.txt\")"
   ]
  },
  {
   "cell_type": "code",
   "execution_count": 88,
   "metadata": {},
   "outputs": [
    {
     "name": "stderr",
     "output_type": "stream",
     "text": [
      "0it [00:00, ?it/s]"
     ]
    },
    {
     "name": "stderr",
     "output_type": "stream",
     "text": [
      "1200it [01:21, 14.72it/s]\n"
     ]
    },
    {
     "data": {
      "text/plain": [
       "84332"
      ]
     },
     "execution_count": 88,
     "metadata": {},
     "output_type": "execute_result"
    }
   ],
   "source": [
    "main2(\"puzzle.txt\")"
   ]
  },
  {
   "cell_type": "code",
   "execution_count": null,
   "metadata": {},
   "outputs": [],
   "source": []
  }
 ],
 "metadata": {
  "kernelspec": {
   "display_name": "base",
   "language": "python",
   "name": "python3"
  },
  "language_info": {
   "codemirror_mode": {
    "name": "ipython",
    "version": 3
   },
   "file_extension": ".py",
   "mimetype": "text/x-python",
   "name": "python",
   "nbconvert_exporter": "python",
   "pygments_lexer": "ipython3",
   "version": "3.10.13"
  }
 },
 "nbformat": 4,
 "nbformat_minor": 2
}
