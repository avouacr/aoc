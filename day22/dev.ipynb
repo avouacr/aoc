{
 "cells": [
  {
   "cell_type": "code",
   "execution_count": 1,
   "metadata": {},
   "outputs": [],
   "source": [
    "import string\n",
    "from itertools import product\n",
    "\n",
    "import numpy as np"
   ]
  },
  {
   "cell_type": "code",
   "execution_count": 2,
   "metadata": {},
   "outputs": [],
   "source": [
    "def parse_input(file):\n",
    "    with open(file, 'r') as file_in:\n",
    "        lines = file_in.read().splitlines()\n",
    "\n",
    "    max_x, max_y, max_z = 0, 0, 0\n",
    "\n",
    "    cube_coords = {}\n",
    "    for i, row in enumerate(lines):\n",
    "        letter_cube = string.ascii_uppercase[i]\n",
    "        cube_coords[letter_cube] = []\n",
    "\n",
    "        row = row.split('~')\n",
    "        coord_ranges = [(int(c1), int(c2) + 1) for c1, c2 in zip(row[0].split(','), row[1].split(','))]\n",
    "        coord_ranges = [range(*c) for c in coord_ranges]\n",
    "        coordinates = list(product(*coord_ranges))\n",
    "        for x, y, z in coordinates:\n",
    "            cube_coords[letter_cube].append((z, x, y))\n",
    "            max_x, max_y, max_z = max(x, max_x), max(y, max_y),max(z, max_z)\n",
    "\n",
    "    max_zxy = (max_z, max_x, max_y)\n",
    "\n",
    "    return cube_coords, max_zxy"
   ]
  },
  {
   "cell_type": "code",
   "execution_count": 38,
   "metadata": {},
   "outputs": [],
   "source": [
    "def is_slot_free(letter, z, grid, cube_coords):\n",
    "    if len(set([z for z, _, _ in cube_coords[letter]])) > 1:\n",
    "        # Vertical line\n",
    "        print(letter, z)\n",
    "        pos = [pos for pos in cube_coords[letter] if pos[0] == z]\n",
    "        if pos:\n",
    "            print(pos)\n",
    "            return grid[pos[0]] == '.'\n",
    "    else:\n",
    "        # Horizontal line\n",
    "        return all([grid[(z, x, y)] == '.' for __, x, y in cube_coords[letter]])"
   ]
  },
  {
   "cell_type": "code",
   "execution_count": 39,
   "metadata": {},
   "outputs": [],
   "source": [
    "def build_grid(cube_coords, max_zxy):\n",
    "    max_z, max_x, max_y = max_zxy\n",
    "    grid_shape = (max_z+1, max_x+1, max_y+1)\n",
    "    grid = np.full(grid_shape, fill_value='.')\n",
    "\n",
    "    letters_by_asc_min_depth = sorted(cube_coords.keys(), key=lambda k: min(v[0] for v in cube_coords[k]))\n",
    "    for letter in letters_by_asc_min_depth:\n",
    "        z = grid_shape[0] - 1\n",
    "        while is_slot_free(letter, z, grid, cube_coords) and z >= 1:\n",
    "            z -= 1\n",
    "        for __, x, y in cube_coords[letter]:\n",
    "            grid[(z+1, x, y)] = letter\n",
    "        continue\n",
    "\n",
    "    return grid"
   ]
  },
  {
   "cell_type": "code",
   "execution_count": 40,
   "metadata": {},
   "outputs": [
    {
     "name": "stdout",
     "output_type": "stream",
     "text": [
      "G 9\n",
      "[(9, 1, 1)]\n",
      "G 8\n",
      "[(8, 1, 1)]\n",
      "G 7\n"
     ]
    },
    {
     "data": {
      "text/plain": [
       "array([[['.', '.', '.'],\n",
       "        ['.', '.', '.'],\n",
       "        ['.', '.', '.']],\n",
       "\n",
       "       [['.', '.', '.'],\n",
       "        ['A', 'A', 'A'],\n",
       "        ['.', '.', '.']],\n",
       "\n",
       "       [['B', '.', 'C'],\n",
       "        ['B', '.', 'C'],\n",
       "        ['B', '.', 'C']],\n",
       "\n",
       "       [['D', 'D', 'D'],\n",
       "        ['.', '.', '.'],\n",
       "        ['E', 'E', 'E']],\n",
       "\n",
       "       [['.', 'F', '.'],\n",
       "        ['.', 'F', '.'],\n",
       "        ['.', 'F', '.']],\n",
       "\n",
       "       [['.', '.', '.'],\n",
       "        ['.', '.', '.'],\n",
       "        ['.', '.', '.']],\n",
       "\n",
       "       [['.', '.', '.'],\n",
       "        ['.', '.', '.'],\n",
       "        ['.', '.', '.']],\n",
       "\n",
       "       [['.', '.', '.'],\n",
       "        ['.', '.', '.'],\n",
       "        ['.', '.', '.']],\n",
       "\n",
       "       [['.', '.', '.'],\n",
       "        ['.', 'G', '.'],\n",
       "        ['.', '.', '.']],\n",
       "\n",
       "       [['.', '.', '.'],\n",
       "        ['.', '.', '.'],\n",
       "        ['.', '.', '.']]], dtype='<U1')"
      ]
     },
     "execution_count": 40,
     "metadata": {},
     "output_type": "execute_result"
    }
   ],
   "source": [
    "file = 'calibration.txt'\n",
    "cube_coords, max_xyz = parse_input(file)\n",
    "grid = build_grid(cube_coords, max_xyz)\n",
    "grid"
   ]
  },
  {
   "cell_type": "code",
   "execution_count": 41,
   "metadata": {},
   "outputs": [
    {
     "data": {
      "text/plain": [
       "array([[['.', '.', '.'],\n",
       "        ['.', '.', '.'],\n",
       "        ['.', '.', '.']],\n",
       "\n",
       "       [['.', '.', '.'],\n",
       "        ['A', 'A', 'A'],\n",
       "        ['.', '.', '.']],\n",
       "\n",
       "       [['B', '.', 'C'],\n",
       "        ['B', '.', 'C'],\n",
       "        ['B', '.', 'C']],\n",
       "\n",
       "       [['D', 'D', 'D'],\n",
       "        ['.', '.', '.'],\n",
       "        ['E', 'E', 'E']],\n",
       "\n",
       "       [['.', 'F', '.'],\n",
       "        ['.', 'F', '.'],\n",
       "        ['.', 'F', '.']],\n",
       "\n",
       "       [['.', '.', '.'],\n",
       "        ['.', '.', '.'],\n",
       "        ['.', '.', '.']],\n",
       "\n",
       "       [['.', '.', '.'],\n",
       "        ['.', '.', '.'],\n",
       "        ['.', '.', '.']],\n",
       "\n",
       "       [['.', '.', '.'],\n",
       "        ['.', '.', '.'],\n",
       "        ['.', '.', '.']],\n",
       "\n",
       "       [['.', '.', '.'],\n",
       "        ['.', 'G', '.'],\n",
       "        ['.', '.', '.']],\n",
       "\n",
       "       [['.', '.', '.'],\n",
       "        ['.', '.', '.'],\n",
       "        ['.', '.', '.']]], dtype='<U1')"
      ]
     },
     "execution_count": 41,
     "metadata": {},
     "output_type": "execute_result"
    }
   ],
   "source": [
    "grid"
   ]
  },
  {
   "cell_type": "code",
   "execution_count": null,
   "metadata": {},
   "outputs": [],
   "source": []
  }
 ],
 "metadata": {
  "kernelspec": {
   "display_name": "base",
   "language": "python",
   "name": "python3"
  },
  "language_info": {
   "codemirror_mode": {
    "name": "ipython",
    "version": 3
   },
   "file_extension": ".py",
   "mimetype": "text/x-python",
   "name": "python",
   "nbconvert_exporter": "python",
   "pygments_lexer": "ipython3",
   "version": "3.10.13"
  }
 },
 "nbformat": 4,
 "nbformat_minor": 2
}
