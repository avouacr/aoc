{
 "cells": [
  {
   "cell_type": "code",
   "execution_count": 61,
   "metadata": {},
   "outputs": [],
   "source": [
    "import string\n",
    "from itertools import product\n",
    "\n",
    "import numpy as np"
   ]
  },
  {
   "cell_type": "code",
   "execution_count": 62,
   "metadata": {},
   "outputs": [],
   "source": [
    "def parse_input(file):\n",
    "    with open(file, 'r') as file_in:\n",
    "        lines = file_in.read().splitlines()\n",
    "\n",
    "    max_x, max_y, max_z = 0, 0, 0\n",
    "\n",
    "    cube_coords = {}\n",
    "    for i, row in enumerate(lines):\n",
    "        cube_id = i + 1\n",
    "        cube_coords[cube_id] = []\n",
    "\n",
    "        row = row.split('~')\n",
    "        coord_ranges = [(int(c1), int(c2) + 1) for c1, c2 in zip(row[0].split(','), row[1].split(','))]\n",
    "        coord_ranges = [range(*c) for c in coord_ranges]\n",
    "        coordinates = list(product(*coord_ranges))\n",
    "        for x, y, z in coordinates:\n",
    "            cube_coords[cube_id].append((z, x, y))\n",
    "            max_x, max_y, max_z = max(x, max_x), max(y, max_y),max(z, max_z)\n",
    "            \n",
    "    max_zxy = (max_z, max_x, max_y)\n",
    "\n",
    "    return cube_coords, max_zxy"
   ]
  },
  {
   "cell_type": "code",
   "execution_count": 63,
   "metadata": {},
   "outputs": [],
   "source": [
    "def is_horizontal(cube_id, cube_coords):\n",
    "    return len(set([z for z, _, _ in cube_coords[cube_id]])) == 1"
   ]
  },
  {
   "cell_type": "code",
   "execution_count": 64,
   "metadata": {},
   "outputs": [],
   "source": [
    "def is_slot_free(cube_id, z, grid, cube_coords):\n",
    "    if is_horizontal(cube_id, cube_coords):\n",
    "        return all([grid[(z, x, y)] == 0 for __, x, y in cube_coords[cube_id]])\n",
    "    else:\n",
    "        height = len(cube_coords[cube_id])\n",
    "        __, x, y = cube_coords[cube_id][0]\n",
    "        return all(grid[z:(z+height), x, y] == 0)        "
   ]
  },
  {
   "cell_type": "code",
   "execution_count": 65,
   "metadata": {},
   "outputs": [],
   "source": [
    "def falling(cube_coords, max_zxy):\n",
    "    max_z, max_x, max_y = max_zxy\n",
    "    grid_shape = (max_z+1, max_x+1, max_y+1)\n",
    "    grid = np.full(grid_shape, fill_value=0)\n",
    "\n",
    "    cube_ids_by_asc_min_depth = sorted(cube_coords.keys(), key=lambda k: min(v[0] for v in cube_coords[k]))\n",
    "    new_cube_coords = {cube_id: [] for cube_id in cube_coords}\n",
    "    for cube_id in cube_ids_by_asc_min_depth:\n",
    "        z = grid.shape[0] - 1\n",
    "        while is_slot_free(cube_id, z, grid, cube_coords) and z >= 1:\n",
    "            z -= 1\n",
    "\n",
    "        # Update coordinates after fall\n",
    "        if is_horizontal(cube_id, cube_coords):\n",
    "            for __, x, y in cube_coords[cube_id]:\n",
    "                grid[z+1, x, y] = cube_id\n",
    "                new_cube_coords[cube_id].append((z+1, x, y))\n",
    "        else:\n",
    "            height = len(cube_coords[cube_id])\n",
    "            __, x, y = cube_coords[cube_id][0]\n",
    "            grid[z+1:(z+1+height), x, y] = cube_id\n",
    "            for z_new in range(z+1, z+1+height):\n",
    "                new_cube_coords[cube_id].append((z_new, x, y))\n",
    "        continue  \n",
    "\n",
    "    return new_cube_coords, grid"
   ]
  },
  {
   "cell_type": "code",
   "execution_count": 84,
   "metadata": {},
   "outputs": [],
   "source": [
    "def get_supports(new_cube_coords, grid):\n",
    "    supports = {}\n",
    "    for cube_id in new_cube_coords:\n",
    "        supports[cube_id] = set()\n",
    "        for z, x, y in new_cube_coords[cube_id]:\n",
    "            value = grid[z+1, x, y]\n",
    "            if value != 0 and value != cube_id:\n",
    "                supports[cube_id].add(value)\n",
    "                \n",
    "    is_supported_by = {}\n",
    "    for cube_id, cubes_supported in supports.items():\n",
    "        for cube_sup in cubes_supported:\n",
    "            if cube_sup not in is_supported_by:\n",
    "                is_supported_by[cube_sup] = set()\n",
    "            else:\n",
    "                is_supported_by[cube_sup].add(cube_id)\n",
    "                \n",
    "    return supports, is_supported_by"
   ]
  },
  {
   "cell_type": "code",
   "execution_count": 110,
   "metadata": {},
   "outputs": [],
   "source": [
    "def is_distintegratable(cube_id, supports, is_supported_by):\n",
    "    decision = True\n",
    "    for supported in supports[cube_id]:\n",
    "        if not is_supported_by[supported]:\n",
    "            decision = False\n",
    "    return decision"
   ]
  },
  {
   "cell_type": "code",
   "execution_count": 111,
   "metadata": {},
   "outputs": [],
   "source": [
    "def n_distintegratable(supports, is_supported_by):\n",
    "    counter_distintegratable = 0\n",
    "    for cube_id in supports:\n",
    "        counter_distintegratable += is_distintegratable(cube_id, supports, is_supported_by)\n",
    "    return counter_distintegratable"
   ]
  },
  {
   "cell_type": "code",
   "execution_count": 113,
   "metadata": {},
   "outputs": [
    {
     "data": {
      "text/plain": [
       "459"
      ]
     },
     "execution_count": 113,
     "metadata": {},
     "output_type": "execute_result"
    }
   ],
   "source": [
    "file = 'puzzle.txt'\n",
    "cube_coords, max_zxy = parse_input(file)\n",
    "new_cube_coords, grid = falling(cube_coords, max_zxy)\n",
    "supports, is_supported_by = get_supports(new_cube_coords, grid)\n",
    "n_distintegratable(supports, is_supported_by)"
   ]
  },
  {
   "cell_type": "code",
   "execution_count": null,
   "metadata": {},
   "outputs": [],
   "source": []
  }
 ],
 "metadata": {
  "kernelspec": {
   "display_name": "Python 3 (ipykernel)",
   "language": "python",
   "name": "python3"
  },
  "language_info": {
   "codemirror_mode": {
    "name": "ipython",
    "version": 3
   },
   "file_extension": ".py",
   "mimetype": "text/x-python",
   "name": "python",
   "nbconvert_exporter": "python",
   "pygments_lexer": "ipython3",
   "version": "3.10.9"
  }
 },
 "nbformat": 4,
 "nbformat_minor": 4
}
