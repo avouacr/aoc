{
 "cells": [
  {
   "cell_type": "code",
   "execution_count": 79,
   "metadata": {},
   "outputs": [],
   "source": [
    "import numpy as np"
   ]
  },
  {
   "cell_type": "code",
   "execution_count": 80,
   "metadata": {},
   "outputs": [
    {
     "data": {
      "text/plain": [
       "array([['.', '.', '.', ..., '.', '.', '.'],\n",
       "       ['.', '.', '.', ..., '.', '.', '.'],\n",
       "       ['.', '.', '.', ..., '9', '3', '.'],\n",
       "       ...,\n",
       "       ['9', '3', '8', ..., '3', '8', '.'],\n",
       "       ['.', '.', '.', ..., '.', '.', '.'],\n",
       "       ['.', '3', '4', ..., '9', '.', '.']], dtype='<U1')"
      ]
     },
     "execution_count": 80,
     "metadata": {},
     "output_type": "execute_result"
    }
   ],
   "source": [
    "with open(\"puzzle.txt\", 'r') as file:\n",
    "    matrix = file.read()\n",
    "\n",
    "rows = matrix.strip().split('\\n')\n",
    "matrix_array = np.array([list(row) for row in rows])\n",
    "matrix_array"
   ]
  },
  {
   "cell_type": "code",
   "execution_count": 81,
   "metadata": {},
   "outputs": [],
   "source": [
    "def get_pos_characters(mat):\n",
    "    disallowed = list(range(10)) + [\".\"]\n",
    "    is_char = ~np.isin(mat, disallowed)\n",
    "    char_pos = np.where(is_char)\n",
    "    return [(char_pos[0][i], char_pos[1][i]) for i in range(len(char_pos[0]))]"
   ]
  },
  {
   "cell_type": "code",
   "execution_count": 82,
   "metadata": {},
   "outputs": [],
   "source": [
    "def get_adjacent_coordinates(matrix, x, y):\n",
    "    # Dimensions of the matrix\n",
    "    max_x, max_y = matrix.shape\n",
    "\n",
    "    # List to store adjacent coordinates\n",
    "    adjacent_coords = []\n",
    "\n",
    "    # Looping through adjacent positions\n",
    "    for dx in range(-1, 2):\n",
    "        for dy in range(-1, 2):\n",
    "            # Skip the center position\n",
    "            if dx == 0 and dy == 0:\n",
    "                continue\n",
    "\n",
    "            nx, ny = x + dx, y + dy\n",
    "\n",
    "            # Check if the new position is within the matrix bounds\n",
    "            if 0 <= nx < max_x and 0 <= ny < max_y:\n",
    "                adjacent_coords.append((nx, ny))\n",
    "\n",
    "    return adjacent_coords"
   ]
  },
  {
   "cell_type": "code",
   "execution_count": 83,
   "metadata": {},
   "outputs": [],
   "source": [
    "def get_full_number(matrix, x, y):\n",
    "\n",
    "    # Find the start of the number (move left)\n",
    "    start_y = y\n",
    "    while start_y > 0 and matrix[x, start_y - 1].isdigit():\n",
    "        start_y -= 1\n",
    "\n",
    "    # Find the end of the number (move right)\n",
    "    end_y = y\n",
    "    while end_y < matrix.shape[1] - 1 and matrix[x, end_y + 1].isdigit():\n",
    "        end_y += 1\n",
    "\n",
    "    # Construct the full number\n",
    "    number = ''.join(matrix[x, start_y:(end_y + 1)])\n",
    "\n",
    "    return int(number), (x, start_y)"
   ]
  },
  {
   "cell_type": "code",
   "execution_count": 84,
   "metadata": {},
   "outputs": [],
   "source": [
    "def part1(matrix):\n",
    "    pos_char = get_pos_characters(matrix)\n",
    "    candidates = []\n",
    "\n",
    "    # Find candidate numbers\n",
    "    for x, y in pos_char:\n",
    "        adj_coords = get_adjacent_coordinates(matrix, x, y)\n",
    "        for x_adj, y_adj in adj_coords:\n",
    "            if matrix[x_adj, y_adj].isdigit():\n",
    "                candidates.append(get_full_number(matrix, x_adj, y_adj))\n",
    "\n",
    "    final_numbers = list(set(candidates))\n",
    "    final_numbers = [x[0] for x in final_numbers]\n",
    "\n",
    "    return sum(final_numbers)"
   ]
  },
  {
   "cell_type": "code",
   "execution_count": 85,
   "metadata": {},
   "outputs": [
    {
     "data": {
      "text/plain": [
       "560670"
      ]
     },
     "execution_count": 85,
     "metadata": {},
     "output_type": "execute_result"
    }
   ],
   "source": [
    "part1(matrix_array)"
   ]
  },
  {
   "cell_type": "code",
   "execution_count": 86,
   "metadata": {},
   "outputs": [],
   "source": [
    "def get_pos_stars(matrix):\n",
    "    char_pos = np.where(matrix_array == '*')\n",
    "    return [(char_pos[0][i], char_pos[1][i]) for i in range(len(char_pos[0]))]"
   ]
  },
  {
   "cell_type": "code",
   "execution_count": 87,
   "metadata": {},
   "outputs": [],
   "source": [
    "def part2(matrix):\n",
    "    pos_char = get_pos_stars(matrix)\n",
    "    gear_ratios = []\n",
    "\n",
    "    # Find candidate numbers\n",
    "    for x, y in pos_char:\n",
    "        candidates = []\n",
    "        adj_coords = get_adjacent_coordinates(matrix, x, y)\n",
    "        for x_adj, y_adj in adj_coords:\n",
    "            if matrix[x_adj, y_adj].isdigit():\n",
    "                candidates.append(get_full_number(matrix, x_adj, y_adj))\n",
    "\n",
    "        final_numbers = list(set(candidates))\n",
    "        if len(final_numbers) == 2:\n",
    "            final_numbers = [x[0] for x in final_numbers]\n",
    "            ratio = final_numbers[0] * final_numbers[1]\n",
    "            gear_ratios.append(ratio)\n",
    "\n",
    "    return sum(gear_ratios)"
   ]
  },
  {
   "cell_type": "code",
   "execution_count": 88,
   "metadata": {},
   "outputs": [
    {
     "data": {
      "text/plain": [
       "91622824"
      ]
     },
     "execution_count": 88,
     "metadata": {},
     "output_type": "execute_result"
    }
   ],
   "source": [
    "part2(matrix_array)"
   ]
  },
  {
   "cell_type": "code",
   "execution_count": null,
   "metadata": {},
   "outputs": [],
   "source": []
  }
 ],
 "metadata": {
  "kernelspec": {
   "display_name": "base",
   "language": "python",
   "name": "python3"
  },
  "language_info": {
   "codemirror_mode": {
    "name": "ipython",
    "version": 3
   },
   "file_extension": ".py",
   "mimetype": "text/x-python",
   "name": "python",
   "nbconvert_exporter": "python",
   "pygments_lexer": "ipython3",
   "version": "3.10.13"
  }
 },
 "nbformat": 4,
 "nbformat_minor": 2
}
