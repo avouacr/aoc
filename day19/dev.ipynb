{
 "cells": [
  {
   "cell_type": "code",
   "execution_count": 2,
   "id": "34a25f08-8ee2-4543-91aa-6807b316c036",
   "metadata": {},
   "outputs": [],
   "source": [
    "def parse_input(file):\n",
    "    with open(file, 'r') as file_in:\n",
    "        data = file_in.read().split('\\n\\n')\n",
    "    \n",
    "    workflows = {}\n",
    "    for wf in data[0].splitlines():\n",
    "        wf_name, wf_rules = wf.split('{')\n",
    "        workflows[wf_name] = {}\n",
    "        for rule in wf_rules.replace('}', '').split(','):\n",
    "            rule_split = rule.split(':')\n",
    "            if len(rule_split) == 2:\n",
    "                key, val = rule_split\n",
    "                workflows[wf_name][key] = val\n",
    "            elif len(rule_split) == 1:\n",
    "                final = rule_split[0]\n",
    "                if final in ['A', 'R']:\n",
    "                    workflows[wf_name][final] = None\n",
    "                else:\n",
    "                    workflows[wf_name]['True'] = final\n",
    "                    \n",
    "    ratings = []\n",
    "    for part in data[1].splitlines():\n",
    "        row = part.replace('{', '').replace('}', '').split(',')\n",
    "        ratings.append(tuple(row))\n",
    "        \n",
    "\n",
    "    return workflows, tuple(ratings)"
   ]
  },
  {
   "cell_type": "code",
   "execution_count": 3,
   "id": "b29b166f-9c44-4d04-8186-61f6bdecc547",
   "metadata": {},
   "outputs": [],
   "source": [
    "def validate_part(part_ratings, workflows):\n",
    "\n",
    "    for statement in part_ratings:\n",
    "        exec(statement)\n",
    "\n",
    "    decision = 'in'\n",
    "    while decision not in ['A', 'R']:\n",
    "        for wf_rule in workflows[decision]:\n",
    "            if wf_rule in ['A', 'R']:\n",
    "                decision = wf_rule\n",
    "                break\n",
    "            elif eval(wf_rule):\n",
    "                decision =  workflows[decision][wf_rule]\n",
    "                break\n",
    "            \n",
    "    return decision"
   ]
  },
  {
   "cell_type": "code",
   "execution_count": 4,
   "id": "9ec2fcdc-b55b-4401-8f7f-b7442cebe57f",
   "metadata": {},
   "outputs": [],
   "source": [
    "def sum_ratings_accepted(all_ratings, workflows):\n",
    "    total_ratings = 0\n",
    "    for part_ratings in all_ratings:\n",
    "        if validate_part(part_ratings, workflows) == 'A':\n",
    "            total_ratings += sum([int(rat.split('=')[1]) for rat in part_ratings])\n",
    "            \n",
    "    return total_ratings"
   ]
  },
  {
   "cell_type": "code",
   "execution_count": 5,
   "id": "caf85cf0-ad98-4f76-8979-45259a13d25b",
   "metadata": {},
   "outputs": [
    {
     "data": {
      "text/plain": [
       "['in', 'px', 'qkq', 'A', 'A', 'qqz', 'qs', 'A', 'hdj', 'A']"
      ]
     },
     "execution_count": 5,
     "metadata": {},
     "output_type": "execute_result"
    }
   ],
   "source": [
    "def test(workflows, possible_paths=None):\n",
    "    \n",
    "    if possible_paths is None:\n",
    "        current_paths = []\n",
    "    else:\n",
    "        current_paths = possible_paths\n",
    "    \n",
    "    for k, v in workflows[path[-1]].items():\n",
    "        if k == 'R' or v == 'R':\n",
    "            break\n",
    "        elif k == 'A' or v == 'A':\n",
    "            path.append('A')\n",
    "            return path\n",
    "        else:\n",
    "            path.append(v)\n",
    "            test(workflows, path)\n",
    "    return path\n",
    "\n",
    "workflows, all_ratings = parse_input(\"calibration.txt\")\n",
    "sum_ratings_accepted(all_ratings, workflows)\n",
    "test(workflows, path = ['in'])"
   ]
  },
  {
   "cell_type": "code",
   "execution_count": 7,
   "id": "c4c375ed-fdd1-4d99-b76d-5159e473d143",
   "metadata": {},
   "outputs": [
    {
     "data": {
      "text/plain": [
       "{'px': {'a<2006': 'qkq', 'm>2090': 'A', 'True': 'rfg'},\n",
       " 'pv': {'a>1716': 'R', 'A': None},\n",
       " 'lnx': {'m>1548': 'A', 'A': None},\n",
       " 'rfg': {'s<537': 'gd', 'x>2440': 'R', 'A': None},\n",
       " 'qs': {'s>3448': 'A', 'True': 'lnx'},\n",
       " 'qkq': {'x<1416': 'A', 'True': 'crn'},\n",
       " 'crn': {'x>2662': 'A', 'R': None},\n",
       " 'in': {'s<1351': 'px', 'True': 'qqz'},\n",
       " 'qqz': {'s>2770': 'qs', 'm<1801': 'hdj', 'R': None},\n",
       " 'gd': {'a>3333': 'R', 'R': None},\n",
       " 'hdj': {'m>838': 'A', 'True': 'pv'}}"
      ]
     },
     "execution_count": 7,
     "metadata": {},
     "output_type": "execute_result"
    }
   ],
   "source": [
    "workflows"
   ]
  },
  {
   "cell_type": "code",
   "execution_count": null,
   "id": "67702975-3c68-4669-a48e-8a75c0ca833b",
   "metadata": {},
   "outputs": [],
   "source": []
  },
  {
   "cell_type": "code",
   "execution_count": 8,
   "id": "14041df2-dd0e-41cf-8a2e-94ac44d0dfe2",
   "metadata": {},
   "outputs": [],
   "source": [
    "from collections import deque"
   ]
  },
  {
   "cell_type": "code",
   "execution_count": 27,
   "id": "e0ab656d-b6b8-490e-908e-b894d56b161e",
   "metadata": {},
   "outputs": [
    {
     "data": {
      "text/plain": [
       "[['in', 'px', 'qkq', 'A'],\n",
       " ['in', 'px', 'qkq', 'crn', 'A'],\n",
       " ['in', 'px', 'A'],\n",
       " ['in', 'qqz', 'qs', 'A'],\n",
       " ['in', 'qqz', 'qs', 'lnx', 'A'],\n",
       " ['in', 'qqz', 'hdj', 'A']]"
      ]
     },
     "execution_count": 27,
     "metadata": {},
     "output_type": "execute_result"
    }
   ],
   "source": [
    "def find_all_paths(graph, start, end, path=[]):\n",
    "    path = path + [start]\n",
    "    if start == end:\n",
    "        return [path]\n",
    "    if start not in graph:\n",
    "        return []\n",
    "    paths = []\n",
    "    for node in graph[start]:\n",
    "        if graph[start][node] not in path:\n",
    "            newpaths = find_all_paths(graph, graph[start][node], end, path)\n",
    "            for newpath in newpaths:\n",
    "                paths.append(newpath)\n",
    "    return paths\n",
    "\n",
    "# Search for all paths leading to 'A'\n",
    "find_all_paths(workflows, 'in', 'A')"
   ]
  },
  {
   "cell_type": "code",
   "execution_count": 22,
   "id": "88aecef9-f171-40f4-aba5-cdc66b5b4203",
   "metadata": {},
   "outputs": [
    {
     "data": {
      "text/plain": [
       "{'px': {'a<2006': 'qkq', 'm>2090': 'A', 'True': 'rfg'},\n",
       " 'pv': {'a>1716': 'R', 'A': None},\n",
       " 'lnx': {'m>1548': 'A', 'A': None},\n",
       " 'rfg': {'s<537': 'gd', 'x>2440': 'R', 'A': None},\n",
       " 'qs': {'s>3448': 'A', 'True': 'lnx'},\n",
       " 'qkq': {'x<1416': 'A', 'True': 'crn'},\n",
       " 'crn': {'x>2662': 'A', 'R': None},\n",
       " 'in': {'s<1351': 'px', 'True': 'qqz'},\n",
       " 'qqz': {'s>2770': 'qs', 'm<1801': 'hdj', 'R': None},\n",
       " 'gd': {'a>3333': 'R', 'R': None},\n",
       " 'hdj': {'m>838': 'A', 'True': 'pv'}}"
      ]
     },
     "execution_count": 22,
     "metadata": {},
     "output_type": "execute_result"
    }
   ],
   "source": [
    "def test(workflows, possible_paths=None):\n",
    "    \n",
    "    if possible_paths is None:\n",
    "        current_paths = []\n",
    "    else:\n",
    "        current_paths = possible_paths\n",
    "    \n",
    "    for k, v in workflows[path[-1]].items():\n",
    "        if k == 'R' or v == 'R':\n",
    "            break\n",
    "        elif k == 'A' or v == 'A':\n",
    "            path.append('A')\n",
    "            return path\n",
    "        else:\n",
    "            path.append(v)\n",
    "            test(workflows, path)\n",
    "    return path\n",
    "\n",
    "workflows, all_ratings = parse_input(\"calibration.txt\")\n",
    "sum_ratings_accepted(all_ratings, workflows)\n",
    "test(workflows, path = ['in'])"
   ]
  },
  {
   "cell_type": "code",
   "execution_count": 91,
   "id": "e331a4a9-91a9-4655-baa4-44dd1ad1eedb",
   "metadata": {},
   "outputs": [],
   "source": [
    "def count_combinations_inequality(rule):\n",
    "    match = re.search('[xmas]([<>])(\\d+)', rule)\n",
    "    sign = match.group(1)\n",
    "    value = int(match.group(2))\n",
    "    \n",
    "    if sign == '<':\n",
    "        n_true = value - 1\n",
    "        n_false = 4000 - n_true\n",
    "    else:\n",
    "        n_true = 4000 - value\n",
    "        n_false = 4000 - n_true\n",
    "        \n",
    "    return n_true, n_false"
   ]
  },
  {
   "cell_type": "code",
   "execution_count": 153,
   "id": "045b1b3d-f41c-439e-9e38-d216c30f51ef",
   "metadata": {},
   "outputs": [
    {
     "data": {
      "text/plain": [
       "{'px': {'qkq': 2005, 'A': 3810450, 'rfg': 4169550},\n",
       " 'pv': {'R': 2284, 'A': 1716},\n",
       " 'lnx': {'A': 1},\n",
       " 'rfg': {'gd': 536, 'R': 5403840, 'A': 8452160},\n",
       " 'qs': {'A': 552, 'lnx': 3448},\n",
       " 'qkq': {'A': 1415, 'crn': 2585},\n",
       " 'crn': {'A': 1338, 'R': 2662},\n",
       " 'in': {'px': 1350, 'qqz': 2650},\n",
       " 'qqz': {'qs': 1230, 'hdj': 4986000, 'R': 6094000},\n",
       " 'gd': {'R': 1},\n",
       " 'hdj': {'A': 3162, 'pv': 838}}"
      ]
     },
     "execution_count": 153,
     "metadata": {},
     "output_type": "execute_result"
    }
   ],
   "source": [
    "def workflow_to_combinations(workflows):\n",
    "    all_wf_combinations = {}\n",
    "    for wf_name in workflows:\n",
    "        n_alt_cum = 1\n",
    "        wf_combinations = {}\n",
    "        for key, value in workflows[wf_name].items():\n",
    "            if '<' in key or '>' in key:\n",
    "                n_combi, n_alt = count_combinations_inequality(key)\n",
    "                n_combi *= n_alt_cum\n",
    "                n_alt_cum *= n_alt\n",
    "                wf_combinations[value] = n_combi\n",
    "            elif key == 'True':\n",
    "                wf_combinations[value] = n_alt_cum\n",
    "            elif key == 'A':\n",
    "                wf_combinations['A'] = n_alt_cum\n",
    "            elif key == 'R' and value is None:\n",
    "                wf_combinations['R'] = n_alt_cum\n",
    "\n",
    "        if len(wf_combinations.keys()) == 1 and ('A' in wf_combinations.keys() or 'R' in wf_combinations.keys()):\n",
    "            letter = list(wf_combinations.keys())[0]\n",
    "            wf_combinations[letter] = 1\n",
    "\n",
    "        all_wf_combinations[wf_name] = wf_combinations\n",
    "        \n",
    "    return all_wf_combinations\n",
    "\n",
    "wf_to_combinations = workflow_to_combinations(workflows)\n",
    "wf_to_combinations"
   ]
  }
 ],
 "metadata": {
  "kernelspec": {
   "display_name": "Python 3 (ipykernel)",
   "language": "python",
   "name": "python3"
  },
  "language_info": {
   "codemirror_mode": {
    "name": "ipython",
    "version": 3
   },
   "file_extension": ".py",
   "mimetype": "text/x-python",
   "name": "python",
   "nbconvert_exporter": "python",
   "pygments_lexer": "ipython3",
   "version": "3.10.9"
  }
 },
 "nbformat": 4,
 "nbformat_minor": 5
}
