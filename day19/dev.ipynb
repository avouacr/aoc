{
 "cells": [
  {
   "cell_type": "code",
   "execution_count": 1,
   "id": "34a25f08-8ee2-4543-91aa-6807b316c036",
   "metadata": {},
   "outputs": [],
   "source": [
    "def parse_input(file):\n",
    "    with open(file, 'r') as file_in:\n",
    "        data = file_in.read().split('\\n\\n')\n",
    "    \n",
    "    workflows = {}\n",
    "    for wf in data[0].splitlines():\n",
    "        wf_name, wf_rules = wf.split('{')\n",
    "        workflows[wf_name] = {}\n",
    "        for rule in wf_rules.replace('}', '').split(','):\n",
    "            rule_split = rule.split(':')\n",
    "            if len(rule_split) == 2:\n",
    "                key, val = rule_split\n",
    "                workflows[wf_name][key] = val\n",
    "            elif len(rule_split) == 1:\n",
    "                final = rule_split[0]\n",
    "                if final in ['A', 'R']:\n",
    "                    workflows[wf_name][final] = None\n",
    "                else:\n",
    "                    workflows[wf_name]['True'] = final\n",
    "                    \n",
    "    ratings = []\n",
    "    for part in data[1].splitlines():\n",
    "        row = part.replace('{', '').replace('}', '').split(',')\n",
    "        ratings.append(tuple(row))\n",
    "        \n",
    "\n",
    "    return workflows, tuple(ratings)"
   ]
  },
  {
   "cell_type": "code",
   "execution_count": 8,
   "id": "b29b166f-9c44-4d04-8186-61f6bdecc547",
   "metadata": {},
   "outputs": [],
   "source": [
    "def validate_part(part_ratings, workflows):\n",
    "\n",
    "    for statement in part_ratings:\n",
    "        exec(statement)\n",
    "\n",
    "    decision = 'in'\n",
    "    while decision not in ['A', 'R']:\n",
    "        for wf_rule in workflows[decision]:\n",
    "            if wf_rule in ['A', 'R']:\n",
    "                decision = wf_rule\n",
    "                break\n",
    "            elif eval(wf_rule):\n",
    "                decision =  workflows[decision][wf_rule]\n",
    "                break\n",
    "            \n",
    "    return decision"
   ]
  },
  {
   "cell_type": "code",
   "execution_count": 9,
   "id": "9ec2fcdc-b55b-4401-8f7f-b7442cebe57f",
   "metadata": {},
   "outputs": [],
   "source": [
    "def sum_ratings_accepted(all_ratings, workflows):\n",
    "    total_ratings = 0\n",
    "    for part_ratings in all_ratings:\n",
    "        if validate_part(part_ratings, workflows) == 'A':\n",
    "            total_ratings += sum([int(rat.split('=')[1]) for rat in part_ratings])\n",
    "            \n",
    "    return total_ratings"
   ]
  },
  {
   "cell_type": "code",
   "execution_count": 11,
   "id": "b8206766-7adb-4f1e-b0eb-fc34859aecc5",
   "metadata": {},
   "outputs": [
    {
     "data": {
      "text/plain": [
       "19114"
      ]
     },
     "execution_count": 11,
     "metadata": {},
     "output_type": "execute_result"
    }
   ],
   "source": [
    "workflows, all_ratings = parse_input(\"puzzle.txt\")\n",
    "sum_ratings_accepted(all_ratings, workflows)"
   ]
  },
  {
   "cell_type": "code",
   "execution_count": null,
   "id": "eba2d10e-fbf4-4a69-af42-f682d4bb4982",
   "metadata": {},
   "outputs": [],
   "source": []
  }
 ],
 "metadata": {
  "kernelspec": {
   "display_name": "Python 3 (ipykernel)",
   "language": "python",
   "name": "python3"
  },
  "language_info": {
   "codemirror_mode": {
    "name": "ipython",
    "version": 3
   },
   "file_extension": ".py",
   "mimetype": "text/x-python",
   "name": "python",
   "nbconvert_exporter": "python",
   "pygments_lexer": "ipython3",
   "version": "3.10.9"
  }
 },
 "nbformat": 4,
 "nbformat_minor": 5
}
