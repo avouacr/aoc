{
 "cells": [
  {
   "cell_type": "code",
   "execution_count": 94,
   "metadata": {},
   "outputs": [],
   "source": [
    "from collections import deque\n",
    "\n",
    "from solution import *"
   ]
  },
  {
   "cell_type": "code",
   "execution_count": 95,
   "metadata": {},
   "outputs": [],
   "source": [
    "file = 'calibration.txt'\n",
    "cube_coords, max_zxy = parse_input(file)\n",
    "new_cube_coords, grid = falling(cube_coords, max_zxy)\n",
    "supports, is_supported_by = get_supports(new_cube_coords, grid)"
   ]
  },
  {
   "cell_type": "code",
   "execution_count": 113,
   "metadata": {},
   "outputs": [],
   "source": [
    "def count_chain_reaction(cube_id, supports, is_supported_by):\n",
    "    fallen = {cube_id}\n",
    "    queue = deque(supports[cube_id])\n",
    "    while queue:\n",
    "        nxt = queue.popleft()\n",
    "        if is_supported_by[nxt].issubset(fallen):\n",
    "            fallen.add(nxt)\n",
    "            queue.extend(supports[nxt])\n",
    "\n",
    "    return max(0, len(fallen) - 1)"
   ]
  },
  {
   "cell_type": "code",
   "execution_count": 114,
   "metadata": {},
   "outputs": [],
   "source": [
    "def main2(file):\n",
    "    cube_coords, max_zxy = parse_input(file)\n",
    "    new_cube_coords, grid = falling(cube_coords, max_zxy)\n",
    "    supports, is_supported_by = get_supports(new_cube_coords, grid)\n",
    "\n",
    "    sum_chain_reaction = 0\n",
    "    for cube_id in supports:\n",
    "        sum_chain_reaction += count_chain_reaction(cube_id, supports, is_supported_by)\n",
    "    return sum_chain_reaction"
   ]
  },
  {
   "cell_type": "code",
   "execution_count": 115,
   "metadata": {},
   "outputs": [
    {
     "data": {
      "text/plain": [
       "75784"
      ]
     },
     "execution_count": 115,
     "metadata": {},
     "output_type": "execute_result"
    }
   ],
   "source": [
    "main2('puzzle.txt')"
   ]
  }
 ],
 "metadata": {
  "kernelspec": {
   "display_name": "Python 3 (ipykernel)",
   "language": "python",
   "name": "python3"
  },
  "language_info": {
   "codemirror_mode": {
    "name": "ipython",
    "version": 3
   },
   "file_extension": ".py",
   "mimetype": "text/x-python",
   "name": "python",
   "nbconvert_exporter": "python",
   "pygments_lexer": "ipython3",
   "version": "3.10.13"
  }
 },
 "nbformat": 4,
 "nbformat_minor": 4
}
