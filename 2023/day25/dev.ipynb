{
 "cells": [
  {
   "cell_type": "code",
   "execution_count": 33,
   "id": "d8700d49",
   "metadata": {},
   "outputs": [],
   "source": [
    "import networkx as nx"
   ]
  },
  {
   "cell_type": "code",
   "execution_count": 34,
   "id": "a859c3f0-999f-47a2-b1d5-45a21e400aad",
   "metadata": {},
   "outputs": [],
   "source": [
    "def parse_input(file):\n",
    "    with open(file) as file_in:\n",
    "        data = file_in.read().splitlines()\n",
    "\n",
    "    G = nx.Graph()\n",
    "\n",
    "    for row in data:\n",
    "        src, edges_dst = row.split(': ')\n",
    "        for dst in edges_dst.split(' '):\n",
    "            G.add_edge(src, dst)\n",
    "            \n",
    "    return G"
   ]
  },
  {
   "cell_type": "code",
   "execution_count": 35,
   "id": "d583cdab-ec26-4a1b-a0da-460d2cd4075f",
   "metadata": {},
   "outputs": [],
   "source": [
    "def get_sizes_connected_components(G):\n",
    "    # Find edges with maximum centrality and remove them\n",
    "    edges_centralities = nx.centrality.edge_betweenness_centrality(G).items()\n",
    "    edges_to_remove = sorted(edges_centralities, key=lambda x: x[1], reverse=True)[:3]\n",
    "    for (src, dst), __ in edges_to_remove:\n",
    "        G.remove_edge(src, dst)\n",
    "        \n",
    "    # Compute the sizes of the remaining (hopefully) two connected components\n",
    "    sizes_cc = [len(cc) for cc in nx.connected_components(G)]\n",
    "    if len(sizes_cc) == 2:\n",
    "        return sizes_cc[0] * sizes_cc[1]\n",
    "    else:\n",
    "        raise(ValueError)"
   ]
  },
  {
   "cell_type": "code",
   "execution_count": 37,
   "id": "36b98484-bcfa-4b32-bb8b-d7c89d210601",
   "metadata": {},
   "outputs": [],
   "source": [
    "def main1(file):\n",
    "    G = parse_input(file)\n",
    "    return get_sizes_connected_components(G)"
   ]
  },
  {
   "cell_type": "code",
   "execution_count": 38,
   "id": "7bbcc727-be34-4351-85af-6ee220f1931d",
   "metadata": {},
   "outputs": [],
   "source": [
    "assert main1('calibration.txt') == 54"
   ]
  },
  {
   "cell_type": "code",
   "execution_count": 39,
   "id": "950abbc5-b6f1-4706-85cd-fa7b90433e41",
   "metadata": {},
   "outputs": [
    {
     "data": {
      "text/plain": [
       "555702"
      ]
     },
     "execution_count": 39,
     "metadata": {},
     "output_type": "execute_result"
    }
   ],
   "source": [
    "main1('puzzle.txt')"
   ]
  },
  {
   "cell_type": "code",
   "execution_count": null,
   "id": "b6e57b1a-33ac-40a2-96d4-c319c021ed6f",
   "metadata": {},
   "outputs": [],
   "source": []
  }
 ],
 "metadata": {
  "kernelspec": {
   "display_name": "Python 3 (ipykernel)",
   "language": "python",
   "name": "python3"
  },
  "language_info": {
   "codemirror_mode": {
    "name": "ipython",
    "version": 3
   },
   "file_extension": ".py",
   "mimetype": "text/x-python",
   "name": "python",
   "nbconvert_exporter": "python",
   "pygments_lexer": "ipython3",
   "version": "3.10.9"
  }
 },
 "nbformat": 4,
 "nbformat_minor": 5
}
