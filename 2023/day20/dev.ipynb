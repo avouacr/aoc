{
 "cells": [
  {
   "cell_type": "code",
   "execution_count": 5,
   "metadata": {},
   "outputs": [],
   "source": [
    "import copy\n",
    "import math\n",
    "\n",
    "import networkx as nx\n",
    "\n",
    "from solution import *"
   ]
  },
  {
   "cell_type": "code",
   "execution_count": 6,
   "metadata": {},
   "outputs": [],
   "source": [
    "def build_subgraphs(network):\n",
    "\n",
    "    # Build full networkx graph\n",
    "    G = nx.DiGraph()\n",
    "    for src in network:\n",
    "        if hasattr(network[src], 'dst_modules'):\n",
    "            for dst in network[src].dst_modules:\n",
    "                G.add_edge(src, dst)\n",
    "\n",
    "    # Compute subgraphs\n",
    "    last_conjunction_inputs = list(network['gh'].input_signals.keys())\n",
    "    subgraphs = []\n",
    "    for lci in last_conjunction_inputs:\n",
    "        asp = nx.all_simple_paths(G, 'broadcaster', lci)\n",
    "        subgraph_nodes = set(n for path in asp for n in path)\n",
    "        subgraph_nodes.add('gh')\n",
    "        subgraph = {name: module for name, module in network.items() if name in subgraph_nodes}\n",
    "        subgraph = copy.deepcopy(subgraph)\n",
    "        for module in subgraph.values():\n",
    "            if hasattr(module, 'dst_modules'):\n",
    "                module.dst_modules = tuple([dst for dst in module.dst_modules if dst in subgraph_nodes])\n",
    "            if hasattr(module, 'input_signals'):\n",
    "                module.input_signals = {k: v for k, v in module.input_signals.items() if k in subgraph_nodes}\n",
    "\n",
    "        subgraphs.append(subgraph)\n",
    "\n",
    "    return subgraphs"
   ]
  },
  {
   "cell_type": "code",
   "execution_count": 7,
   "metadata": {},
   "outputs": [],
   "source": [
    "def get_loop_size_subgraph(subgraph, n_press_button, verbose=0):\n",
    "    indxs = []\n",
    "    for n in range(n_press_button):\n",
    "        queue = deque([('button', 'low', subgraph['broadcaster'])])\n",
    "        while queue:\n",
    "            module_name_previous, input_signal, module = queue.popleft()\n",
    "            if module.name == 'gh' and input_signal == 'high':\n",
    "                indxs.append(n)\n",
    "            dst_modules_input_signals = module.send_pulse(input_signal=input_signal, \n",
    "                                                          module_name_previous=module_name_previous,\n",
    "                                                          network=subgraph)\n",
    "            queue.extend(dst_modules_input_signals)\n",
    "\n",
    "    loop_size = indxs[1] - indxs[0]  # Cycle starts at 0\n",
    "    return loop_size"
   ]
  },
  {
   "cell_type": "code",
   "execution_count": 10,
   "metadata": {},
   "outputs": [
    {
     "data": {
      "text/plain": [
       "226732077152351"
      ]
     },
     "execution_count": 10,
     "metadata": {},
     "output_type": "execute_result"
    }
   ],
   "source": [
    "network = parse_input('puzzle.txt')\n",
    "subgraphs = build_subgraphs(network)\n",
    "\n",
    "subgraph_loop_sizes = []\n",
    "for subgraph in subgraphs:\n",
    "    subgraph_loop_sizes.append(get_loop_size_subgraph(subgraph, n_press_button=10000, verbose=0))\n",
    "\n",
    "math.lcm(*subgraph_loop_sizes)"
   ]
  },
  {
   "cell_type": "code",
   "execution_count": 165,
   "metadata": {},
   "outputs": [
    {
     "data": {
      "text/plain": [
       "3733"
      ]
     },
     "execution_count": 165,
     "metadata": {},
     "output_type": "execute_result"
    }
   ],
   "source": [
    "85858 - 82125"
   ]
  },
  {
   "cell_type": "code",
   "execution_count": null,
   "metadata": {},
   "outputs": [],
   "source": []
  }
 ],
 "metadata": {
  "kernelspec": {
   "display_name": "base",
   "language": "python",
   "name": "python3"
  },
  "language_info": {
   "codemirror_mode": {
    "name": "ipython",
    "version": 3
   },
   "file_extension": ".py",
   "mimetype": "text/x-python",
   "name": "python",
   "nbconvert_exporter": "python",
   "pygments_lexer": "ipython3",
   "version": "3.10.13"
  }
 },
 "nbformat": 4,
 "nbformat_minor": 2
}
