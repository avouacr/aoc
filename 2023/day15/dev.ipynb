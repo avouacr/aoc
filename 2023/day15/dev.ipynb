{
 "cells": [
  {
   "cell_type": "code",
   "execution_count": 34,
   "metadata": {},
   "outputs": [],
   "source": [
    "from collections import OrderedDict"
   ]
  },
  {
   "cell_type": "code",
   "execution_count": 16,
   "metadata": {},
   "outputs": [],
   "source": [
    "def parse_file(file):\n",
    "    with open(file, 'r') as file_in:\n",
    "        steps = file_in.read().split(',')\n",
    "\n",
    "    return steps"
   ]
  },
  {
   "cell_type": "code",
   "execution_count": 20,
   "metadata": {},
   "outputs": [],
   "source": [
    "def hash(input_str):\n",
    "    current_value = 0\n",
    "    for char in input_str:\n",
    "        current_value += ord(char)\n",
    "        current_value *= 17\n",
    "        current_value %= 256\n",
    "    return current_value"
   ]
  },
  {
   "cell_type": "code",
   "execution_count": 25,
   "metadata": {},
   "outputs": [],
   "source": [
    "def main1(file):\n",
    "    steps = parse_file(file)\n",
    "    sum_hashes = sum([hash(step) for step in steps])\n",
    "    return sum_hashes"
   ]
  },
  {
   "cell_type": "code",
   "execution_count": 26,
   "metadata": {},
   "outputs": [],
   "source": [
    "assert main1('calibration.txt') == 1320"
   ]
  },
  {
   "cell_type": "code",
   "execution_count": 27,
   "metadata": {},
   "outputs": [
    {
     "data": {
      "text/plain": [
       "511215"
      ]
     },
     "execution_count": 27,
     "metadata": {},
     "output_type": "execute_result"
    }
   ],
   "source": [
    "main1('puzzle.txt')"
   ]
  },
  {
   "cell_type": "code",
   "execution_count": 47,
   "metadata": {},
   "outputs": [],
   "source": [
    "def fill_boxes(steps):\n",
    "    boxes = {i: OrderedDict() for i in range(256)}\n",
    "\n",
    "    for step in steps:\n",
    "        if '-' in step:\n",
    "            lens_label = step.split('-')[0]\n",
    "            box_number = hash(lens_label)\n",
    "            if lens_label in boxes[box_number]:\n",
    "                del boxes[box_number][lens_label]\n",
    "        elif '=' in step:\n",
    "            lens_label, focal_length = step.split('=')\n",
    "            box_number = hash(lens_label)\n",
    "            boxes[box_number][lens_label] = int(focal_length)\n",
    "\n",
    "    boxes = {box: content for box, content in boxes.items() if content}\n",
    "\n",
    "    return boxes"
   ]
  },
  {
   "cell_type": "code",
   "execution_count": 65,
   "metadata": {},
   "outputs": [],
   "source": [
    "def compute_focusing_power(boxes):\n",
    "    focusing_power = 0\n",
    "    for box_number in boxes:\n",
    "        box = boxes[box_number]\n",
    "        for lens_label in box:\n",
    "            focusing_power += (1 + box_number) * (list(box.keys()).index(lens_label) + 1) * box[lens_label]\n",
    "\n",
    "    return focusing_power"
   ]
  },
  {
   "cell_type": "code",
   "execution_count": 66,
   "metadata": {},
   "outputs": [],
   "source": [
    "def main2(file):\n",
    "    steps = parse_file(file)\n",
    "    boxes = fill_boxes(steps)\n",
    "    return compute_focusing_power(boxes)"
   ]
  },
  {
   "cell_type": "code",
   "execution_count": 67,
   "metadata": {},
   "outputs": [],
   "source": [
    "assert main2('calibration.txt') == 145"
   ]
  },
  {
   "cell_type": "code",
   "execution_count": 68,
   "metadata": {},
   "outputs": [
    {
     "data": {
      "text/plain": [
       "236057"
      ]
     },
     "execution_count": 68,
     "metadata": {},
     "output_type": "execute_result"
    }
   ],
   "source": [
    "main2('puzzle.txt')"
   ]
  },
  {
   "cell_type": "code",
   "execution_count": null,
   "metadata": {},
   "outputs": [],
   "source": []
  }
 ],
 "metadata": {
  "kernelspec": {
   "display_name": "base",
   "language": "python",
   "name": "python3"
  },
  "language_info": {
   "codemirror_mode": {
    "name": "ipython",
    "version": 3
   },
   "file_extension": ".py",
   "mimetype": "text/x-python",
   "name": "python",
   "nbconvert_exporter": "python",
   "pygments_lexer": "ipython3",
   "version": "3.10.13"
  }
 },
 "nbformat": 4,
 "nbformat_minor": 2
}
