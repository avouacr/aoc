{
 "cells": [
  {
   "cell_type": "code",
   "execution_count": 1,
   "metadata": {},
   "outputs": [],
   "source": [
    "from functools import cache\n",
    "\n",
    "from solution import *"
   ]
  },
  {
   "cell_type": "code",
   "execution_count": 2,
   "metadata": {},
   "outputs": [],
   "source": [
    "@cache\n",
    "def count_valid_patterns(pattern, rules):\n",
    "\n",
    "    # print(pattern, rules)\n",
    "\n",
    "    if not rules and '#' not in pattern:\n",
    "        return 1\n",
    "    elif not rules and '#' in pattern:\n",
    "        return 0\n",
    "    elif not pattern and rules:\n",
    "        return 0\n",
    "\n",
    "    if pattern[0] == '.':\n",
    "        return count_valid_patterns(pattern[1:], rules)\n",
    "    elif pattern[0] == '#':\n",
    "        rule = rules[0]\n",
    "        fits = pattern[:rule].replace('?', '#') == ('#' * rule)\n",
    "        if len(pattern) > rule:\n",
    "            next_is_free = pattern[rule] in '.?'\n",
    "        else:\n",
    "            next_is_free = True\n",
    "        if fits and next_is_free:\n",
    "            return count_valid_patterns(pattern[rule+1:], rules[1:])\n",
    "        else:\n",
    "            return 0\n",
    "    else:\n",
    "        return count_valid_patterns('.' + pattern[1:], rules) + count_valid_patterns('#' + pattern[1:], rules)"
   ]
  },
  {
   "cell_type": "code",
   "execution_count": 3,
   "metadata": {},
   "outputs": [],
   "source": [
    "def main(file, expand_rows=False):\n",
    "\n",
    "    n_combi = 0\n",
    "    for row in parse_file(file, expand_rows):\n",
    "        pattern, rules = parse_row(row)\n",
    "        n_combi += count_valid_patterns(pattern, rules)\n",
    "\n",
    "    return n_combi"
   ]
  },
  {
   "cell_type": "code",
   "execution_count": 7,
   "metadata": {},
   "outputs": [
    {
     "data": {
      "text/plain": [
       "6512849198636"
      ]
     },
     "execution_count": 7,
     "metadata": {},
     "output_type": "execute_result"
    }
   ],
   "source": [
    "main('puzzle.txt', expand_rows=True)"
   ]
  },
  {
   "cell_type": "code",
   "execution_count": null,
   "metadata": {},
   "outputs": [],
   "source": []
  }
 ],
 "metadata": {
  "kernelspec": {
   "display_name": "base",
   "language": "python",
   "name": "python3"
  },
  "language_info": {
   "codemirror_mode": {
    "name": "ipython",
    "version": 3
   },
   "file_extension": ".py",
   "mimetype": "text/x-python",
   "name": "python",
   "nbconvert_exporter": "python",
   "pygments_lexer": "ipython3",
   "version": "3.11.6"
  }
 },
 "nbformat": 4,
 "nbformat_minor": 2
}
